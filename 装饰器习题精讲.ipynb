{
 "cells": [
  {
   "cell_type": "code",
   "execution_count": null,
   "metadata": {},
   "outputs": [],
   "source": [
    "#写一个命令分发器\n",
    "    #程序员可以方便的注册函数刀某一个命令，用户输入命令时，路由到注册的函数\n",
    "    #如果此命令没有对应的注册函数、执行默认函数\n",
    "    #用户输入input('>>>')"
   ]
  },
  {
   "cell_type": "code",
   "execution_count": 2,
   "metadata": {},
   "outputs": [
    {
     "name": "stdout",
     "output_type": "stream",
     "text": [
      ">>python\n",
      "I’m python\n",
      ">>ls\n",
      "I'm ls\n",
      ">>a\n",
      "未知命令\n",
      ">>b\n",
      "未知命令\n",
      ">>quit\n"
     ]
    }
   ],
   "source": [
    "cmds={}\n",
    "def reg(c):\n",
    "    def _reg(fn):\n",
    "        cmds[c]=fn\n",
    "        return fn\n",
    "    return _reg\n",
    "\n",
    "def dispatcher():\n",
    "    def default_func():\n",
    "        print('未知命令')\n",
    "    while True:\n",
    "        cmd= input('>>').strip()\n",
    "        if cmd=='quit':\n",
    "            break\n",
    "        cmds.get(cmd,default_func)()\n",
    "        \n",
    "@reg('ls') #ls=reg('ls')(ls)\n",
    "def ls():\n",
    "    print(\"I'm ls\")\n",
    "     \n",
    "@reg('python')\n",
    "def python():\n",
    "    print('I’m python')\n",
    "    \n",
    "dispatcher()"
   ]
  },
  {
   "cell_type": "code",
   "execution_count": 3,
   "metadata": {},
   "outputs": [
    {
     "name": "stdout",
     "output_type": "stream",
     "text": [
      ">>ls\n",
      "I'm ls\n",
      ">>quit\n"
     ]
    }
   ],
   "source": [
    "def cmd_dispatcher():\n",
    "    cmds={}\n",
    "    def reg(c):\n",
    "        def _reg(fn):\n",
    "            cmds[c]=fn\n",
    "            return fn\n",
    "        return _reg\n",
    "\n",
    "    def disp():\n",
    "        def default_func():\n",
    "            print('未知命令')\n",
    "        while True:\n",
    "            cmd= input('>>').strip()\n",
    "            if cmd=='quit':\n",
    "                break\n",
    "            cmds.get(cmd,default_func)()\n",
    "    return reg,disp\n",
    "\n",
    "reg,dispatcher=cmd_dispatcher()\n",
    "\n",
    "@reg('ls') #ls=reg('ls')(ls)\n",
    "def ls():\n",
    "    print(\"I'm ls\")\n",
    "     \n",
    "@reg('python')\n",
    "def python():\n",
    "    print('I’m python')\n",
    "    \n",
    "dispatcher()"
   ]
  },
  {
   "cell_type": "code",
   "execution_count": null,
   "metadata": {},
   "outputs": [],
   "source": []
  },
  {
   "cell_type": "code",
   "execution_count": null,
   "metadata": {},
   "outputs": [],
   "source": [
    "#实现一个cache装饰器，实现可过期被清除的功能\n",
    "    #简化设计，函数的形参定义不包括可变位置参数、可变关键词参数和keyword-only参数\n",
    "    #可以不考虑缓存满了之后的换出问题"
   ]
  },
  {
   "cell_type": "code",
   "execution_count": null,
   "metadata": {},
   "outputs": [],
   "source": [
    "def cache(fn):\n",
    "    local_cache={}\n",
    "    def warpper(*args,**kwargs):\n",
    "        \n",
    "        ret=fn(*args,**kwargs)\n",
    "        return ret\n",
    "    return warpper\n",
    "\n",
    "def add(x,y,z):\n",
    "    return (sum(x,y,z))\n",
    "\n"
   ]
  },
  {
   "cell_type": "code",
   "execution_count": 21,
   "metadata": {},
   "outputs": [
    {
     "name": "stdout",
     "output_type": "stream",
     "text": [
      "{(('x', 4), ('y', 5), ('z', 6)): 15}\n",
      "warpper 3.003807\n",
      "15\n",
      "warpper 9.6e-05\n",
      "15\n",
      "warpper 5.7e-05\n",
      "15\n",
      "warpper 5.4e-05\n",
      "15\n",
      "warpper 0.000265\n",
      "15\n"
     ]
    }
   ],
   "source": [
    "import inspect\n",
    "import datetime, time\n",
    "\n",
    "\n",
    "def cache(fn):\n",
    "    local_cache = {}\n",
    "\n",
    "    def warpper(*args, **kwargs):\n",
    "\n",
    "        def make_key(fn):\n",
    "            params_dict = {}\n",
    "\n",
    "            sig = inspect.signature(fn)\n",
    "            params = sig.parameters\n",
    "            keys = list(params.keys())\n",
    "\n",
    "            values = params.values()\n",
    "\n",
    "            # add(4,5,z=6)\n",
    "            # 关键字参数\n",
    "            for i, val in enumerate(args):\n",
    "                k = keys[i]\n",
    "                params_dict[k] = val\n",
    "\n",
    "            # (x,4,y,5,z,6)\n",
    "            # 位置参数\n",
    "            for item in sorted(kwargs.items()):\n",
    "                k, v = item\n",
    "                params_dict[k] = v\n",
    "\n",
    "            # params_dict.update(kwargs)\n",
    "            # 缺省值参数\n",
    "            for k, param in params.items():\n",
    "                if k not in params_dict.keys():\n",
    "                    params_dict[k] = param.default\n",
    "            #print(params_dict)\n",
    "\n",
    "            #print(tuple(params_dict.items()))\n",
    "\n",
    "\n",
    "            return tuple(params_dict.items())\n",
    "\n",
    "        key = make_key(fn)\n",
    "        # 查询和缓存\n",
    "        if key not in local_cache:\n",
    "            local_cache[key] = fn(*args, **kwargs)\n",
    "            print(local_cache)\n",
    "        return local_cache[key]\n",
    "\n",
    "    return warpper\n",
    "\n",
    "\n",
    "def logger(fn):\n",
    "    def wapper(*args, **kwargs):\n",
    "        start = datetime.datetime.now()\n",
    "        ret = fn(*args, **kwargs)\n",
    "        delta = (datetime.datetime.now() - start).total_seconds()\n",
    "        print(fn.__name__, delta)\n",
    "\n",
    "        return ret\n",
    "\n",
    "    return wapper\n",
    "\n",
    "\n",
    "@logger\n",
    "@cache\n",
    "def add(x, y, z):\n",
    "    time.sleep(3)\n",
    "    return x + y + z\n",
    "\n",
    "\n",
    "for i in range(5):\n",
    "    print(add(4, 5, 6))\n"
   ]
  },
  {
   "cell_type": "code",
   "execution_count": 20,
   "metadata": {},
   "outputs": [
    {
     "name": "stdout",
     "output_type": "stream",
     "text": [
      "warpper 3.003955\n",
      "15\n",
      "warpper 0.000109\n",
      "15\n",
      "warpper 4.8e-05\n",
      "15\n",
      "warpper 4.3e-05\n",
      "15\n",
      "warpper 4.1e-05\n",
      "15\n"
     ]
    }
   ],
   "source": [
    "0"
   ]
  },
  {
   "cell_type": "code",
   "execution_count": 4,
   "metadata": {},
   "outputs": [],
   "source": [
    "#生成一个字典\n",
    "d=dict(zip('abcde',range(5)))"
   ]
  },
  {
   "cell_type": "code",
   "execution_count": 5,
   "metadata": {},
   "outputs": [
    {
     "data": {
      "text/plain": [
       "{'a': 0, 'b': 1, 'c': 2, 'd': 3, 'e': 4}"
      ]
     },
     "execution_count": 5,
     "metadata": {},
     "output_type": "execute_result"
    }
   ],
   "source": [
    "d"
   ]
  },
  {
   "cell_type": "code",
   "execution_count": 6,
   "metadata": {},
   "outputs": [
    {
     "name": "stdout",
     "output_type": "stream",
     "text": [
      "('a', 0)\n",
      "('a', 0, 'b', 1)\n",
      "('a', 0, 'b', 1, 'c', 2)\n",
      "('a', 0, 'b', 1, 'c', 2, 'd', 3)\n",
      "('a', 0, 'b', 1, 'c', 2, 'd', 3, 'e', 4)\n"
     ]
    }
   ],
   "source": [
    "key=tuple()\n",
    "for item in d.items():\n",
    "    key +=item\n",
    "    print(key)"
   ]
  },
  {
   "cell_type": "code",
   "execution_count": 8,
   "metadata": {},
   "outputs": [],
   "source": [
    "key=tuple(d.items())"
   ]
  },
  {
   "cell_type": "code",
   "execution_count": 9,
   "metadata": {},
   "outputs": [
    {
     "data": {
      "text/plain": [
       "(('a', 0), ('b', 1), ('c', 2), ('d', 3), ('e', 4))"
      ]
     },
     "execution_count": 9,
     "metadata": {},
     "output_type": "execute_result"
    }
   ],
   "source": [
    "key"
   ]
  },
  {
   "cell_type": "code",
   "execution_count": null,
   "metadata": {},
   "outputs": [],
   "source": []
  },
  {
   "cell_type": "code",
   "execution_count": null,
   "metadata": {},
   "outputs": [],
   "source": []
  }
 ],
 "metadata": {
  "kernelspec": {
   "display_name": "Python 3",
   "language": "python",
   "name": "python3"
  },
  "language_info": {
   "codemirror_mode": {
    "name": "ipython",
    "version": 3
   },
   "file_extension": ".py",
   "mimetype": "text/x-python",
   "name": "python",
   "nbconvert_exporter": "python",
   "pygments_lexer": "ipython3",
   "version": "3.7.1"
  }
 },
 "nbformat": 4,
 "nbformat_minor": 2
}
