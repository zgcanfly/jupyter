{
 "cells": [
  {
   "cell_type": "code",
   "execution_count": 1,
   "metadata": {},
   "outputs": [],
   "source": [
    "d={'a':1,'b':[],'c':200}"
   ]
  },
  {
   "cell_type": "code",
   "execution_count": 2,
   "metadata": {},
   "outputs": [
    {
     "name": "stdout",
     "output_type": "stream",
     "text": [
      "a\n",
      "b\n",
      "c\n"
     ]
    }
   ],
   "source": [
    "for i in d:\n",
    "    print(i)"
   ]
  },
  {
   "cell_type": "code",
   "execution_count": 3,
   "metadata": {},
   "outputs": [
    {
     "name": "stdout",
     "output_type": "stream",
     "text": [
      "a\n",
      "b\n",
      "c\n"
     ]
    }
   ],
   "source": [
    "for i in d.keys():  #遍历取keys\n",
    "    print(i)"
   ]
  },
  {
   "cell_type": "code",
   "execution_count": null,
   "metadata": {},
   "outputs": [],
   "source": []
  },
  {
   "cell_type": "code",
   "execution_count": 10,
   "metadata": {},
   "outputs": [
    {
     "name": "stdout",
     "output_type": "stream",
     "text": [
      "1\n",
      "[]\n",
      "200\n"
     ]
    }
   ],
   "source": [
    "for val in d.values(): #遍历去values\n",
    "    print(val)"
   ]
  },
  {
   "cell_type": "code",
   "execution_count": 9,
   "metadata": {},
   "outputs": [
    {
     "data": {
      "text/plain": [
       "{'a': 1, 'b': [], 'c': 200}"
      ]
     },
     "execution_count": 9,
     "metadata": {},
     "output_type": "execute_result"
    }
   ],
   "source": [
    "d"
   ]
  },
  {
   "cell_type": "code",
   "execution_count": 12,
   "metadata": {},
   "outputs": [
    {
     "name": "stdout",
     "output_type": "stream",
     "text": [
      "a 1\n",
      "b []\n",
      "c 200\n"
     ]
    }
   ],
   "source": [
    "for k,v in d.items():  #遍历取values and keys\n",
    "    print(k,v) "
   ]
  },
  {
   "cell_type": "code",
   "execution_count": 13,
   "metadata": {},
   "outputs": [
    {
     "name": "stdout",
     "output_type": "stream",
     "text": [
      "1\n",
      "[]\n",
      "200\n"
     ]
    }
   ],
   "source": [
    "for key in d.keys():\n",
    "    print(d[key])"
   ]
  },
  {
   "cell_type": "code",
   "execution_count": 14,
   "metadata": {},
   "outputs": [
    {
     "name": "stdout",
     "output_type": "stream",
     "text": [
      "1\n",
      "[]\n",
      "200\n"
     ]
    }
   ],
   "source": [
    "for key in d.keys():\n",
    "    print(d.get(key))"
   ]
  },
  {
   "cell_type": "code",
   "execution_count": 15,
   "metadata": {},
   "outputs": [
    {
     "name": "stdout",
     "output_type": "stream",
     "text": [
      "('a', 1)\n",
      "('b', [])\n",
      "('c', 200)\n"
     ]
    }
   ],
   "source": [
    "for kv in d.items():  #遍历取values and keys\n",
    "    print(kv) "
   ]
  },
  {
   "cell_type": "code",
   "execution_count": null,
   "metadata": {},
   "outputs": [],
   "source": [
    " #字典遍历\n",
    "        #总结\n",
    "            #在python3中，keys，values，items方法返回一个类似一个生成器的可迭代对象，不会把函数的返回结果复制到内存中\n",
    "                #dictionary view对象\n",
    "                #字典的entry的动态的视图，字典变化，视图将反映出这些变化\n",
    "            #在python2中，上面的方法会返回一个新的列表，占据新的内存空间。所以0Python2建议使用iterkeys、\n",
    "                #itervalues、iteritems版本，返回一个迭代器，而不是一个copy"
   ]
  },
  {
   "cell_type": "code",
   "execution_count": 20,
   "metadata": {},
   "outputs": [
    {
     "name": "stdout",
     "output_type": "stream",
     "text": [
      "{'a': [0, 1, 2, 3, 4], 'b': [0], 'c': [0], 'd': [0], 'e': [0, 1]}\n"
     ]
    }
   ],
   "source": [
    "import random\n",
    "d={}\n",
    "for c in 'abcde':\n",
    "    for i in range(random.randint(1,5)):\n",
    "        if c not in d.keys():\n",
    "            d[c] = []\n",
    "        d[c].append(i)\n",
    "print(d)"
   ]
  },
  {
   "cell_type": "code",
   "execution_count": 17,
   "metadata": {},
   "outputs": [
    {
     "name": "stdout",
     "output_type": "stream",
     "text": [
      "defaultdict(<class 'list'>, {'a': [0, 1, 2, 3, 4], 'b': [0, 1, 2, 3], 'c': [0, 1, 2, 3, 4], 'd': [0, 1, 2, 3, 4], 'e': [0, 1, 2, 3, 4]})\n"
     ]
    }
   ],
   "source": [
    "import random\n",
    "from collections import defaultdict\n",
    "#d={}\n",
    "d=defaultdict(list)\n",
    "for c in 'abcde':\n",
    "    for i in range(random.randint(1,5)):\n",
    "#        if c not in d.keys():\n",
    "#            d[c] = []\n",
    "        d[c].append(i)\n",
    "print(d)"
   ]
  },
  {
   "cell_type": "code",
   "execution_count": 18,
   "metadata": {},
   "outputs": [],
   "source": [
    "defaultdict?"
   ]
  },
  {
   "cell_type": "code",
   "execution_count": null,
   "metadata": {},
   "outputs": [],
   "source": [
    "#defaultdict\n",
    "    #clooections.defaultdict([default_factory[,...]])\n",
    "        #第一个参数是default_factory,缺省是None,它提供一个初始化函数.当key不存在的时候，\n",
    "            #这个工程函数来生成key对应的value\n",
    "        "
   ]
  },
  {
   "cell_type": "code",
   "execution_count": null,
   "metadata": {},
   "outputs": [],
   "source": []
  },
  {
   "cell_type": "code",
   "execution_count": null,
   "metadata": {},
   "outputs": [],
   "source": [
    "#pyenv versions 查看版本号\n",
    "#pyenv local 3.6.3 切换版本\n",
    "\n",
    "#python3.6 下字典插入顺序是有序的，但3.5不是  建议当作无序使用"
   ]
  },
  {
   "cell_type": "code",
   "execution_count": 21,
   "metadata": {},
   "outputs": [],
   "source": [
    "from collections import  OrderedDict #可以使用它来记录元素的插入顺序 ，同样的输出顺序\n",
    "OrderedDict?"
   ]
  },
  {
   "cell_type": "code",
   "execution_count": 22,
   "metadata": {},
   "outputs": [
    {
     "data": {
      "text/plain": [
       "'Init signature: OrderedDict(self, /, *args, **kwargs)\\nDocstring:      Dictionary that remembers insertion order\\nFile:           /usr/local/lib/python3.7/collections/__init__.py\\nType:           type'"
      ]
     },
     "execution_count": 22,
     "metadata": {},
     "output_type": "execute_result"
    }
   ],
   "source": [
    "'''Init signature: OrderedDict(self, /, *args, **kwargs)\n",
    "Docstring:      Dictionary that remembers insertion order\n",
    "File:           /usr/local/lib/python3.7/collections/__init__.py\n",
    "Type:           type'''"
   ]
  },
  {
   "cell_type": "code",
   "execution_count": 23,
   "metadata": {},
   "outputs": [],
   "source": [
    "od=OrderedDict(a=1,b=2,c=3)"
   ]
  },
  {
   "cell_type": "code",
   "execution_count": 24,
   "metadata": {},
   "outputs": [],
   "source": [
    "od[10]=100\n",
    "od[0]=100"
   ]
  },
  {
   "cell_type": "code",
   "execution_count": 26,
   "metadata": {},
   "outputs": [
    {
     "data": {
      "text/plain": [
       "OrderedDict([('a', 1), ('b', 2), ('c', 3), (10, 100), (0, 100)])"
      ]
     },
     "execution_count": 26,
     "metadata": {},
     "output_type": "execute_result"
    }
   ],
   "source": [
    "od"
   ]
  },
  {
   "cell_type": "code",
   "execution_count": 27,
   "metadata": {},
   "outputs": [
    {
     "data": {
      "text/plain": [
       "{'a': 1, 'b': 2, 'c': 3, 10: 100, 0: 100}"
      ]
     },
     "execution_count": 27,
     "metadata": {},
     "output_type": "execute_result"
    }
   ],
   "source": [
    "o=dict(od)\n",
    "o"
   ]
  },
  {
   "cell_type": "code",
   "execution_count": 28,
   "metadata": {},
   "outputs": [
    {
     "data": {
      "text/plain": [
       "collections.OrderedDict"
      ]
     },
     "execution_count": 28,
     "metadata": {},
     "output_type": "execute_result"
    }
   ],
   "source": [
    "type(od)"
   ]
  },
  {
   "cell_type": "code",
   "execution_count": 29,
   "metadata": {},
   "outputs": [
    {
     "data": {
      "text/plain": [
       "dict"
      ]
     },
     "execution_count": 29,
     "metadata": {},
     "output_type": "execute_result"
    }
   ],
   "source": [
    "type(o)"
   ]
  },
  {
   "cell_type": "code",
   "execution_count": null,
   "metadata": {},
   "outputs": [],
   "source": [
    "\n",
    "#用户输入一个数字\n",
    "    #打印每一个数字及其重复的次数\n",
    "    \n",
    "#数字重复统计\n",
    "    #随机产生100个整数\n",
    "    #数字的范围[-1000,1000]\n",
    "    #升序输出所有不同的数字及其重复次数"
   ]
  },
  {
   "cell_type": "code",
   "execution_count": 3,
   "metadata": {},
   "outputs": [
    {
     "name": "stdout",
     "output_type": "stream",
     "text": [
      ">>>1122333\n",
      "{'1': 2, '2': 2, '3': 3}\n"
     ]
    }
   ],
   "source": [
    "num=input('>>>') #1122333\\\n",
    "d={}\n",
    "for c in num:\n",
    "    if c not in d.keys():\n",
    "        d[c] = 0\n",
    "    d[c] +=1\n",
    "print(d)"
   ]
  },
  {
   "cell_type": "code",
   "execution_count": 5,
   "metadata": {},
   "outputs": [
    {
     "name": "stdout",
     "output_type": "stream",
     "text": [
      ">>>11435325\n",
      "defaultdict(<class 'int'>, {'1': 2, '4': 1, '3': 2, '5': 2, '2': 1})\n"
     ]
    }
   ],
   "source": [
    "from collections import  defaultdict\n",
    "num=input('>>>')\n",
    "d=defaultdict(int)\n",
    "for c in num:\n",
    "    d[c] +=1\n",
    "print(d)"
   ]
  },
  {
   "cell_type": "code",
   "execution_count": 10,
   "metadata": {},
   "outputs": [
    {
     "data": {
      "text/plain": [
       "1"
      ]
     },
     "execution_count": 10,
     "metadata": {},
     "output_type": "execute_result"
    }
   ],
   "source": [
    "import random\n",
    "random.randint(1,5)"
   ]
  },
  {
   "cell_type": "code",
   "execution_count": 11,
   "metadata": {},
   "outputs": [
    {
     "name": "stdout",
     "output_type": "stream",
     "text": [
      ">>>1213\n",
      "{'1': 2, '2': 1, '3': 1}\n"
     ]
    }
   ],
   "source": [
    "num=input('>>>') #1122333\\\n",
    "d={}\n",
    "for c in num:\n",
    "    d[c]=d.get(c,0)+1\n",
    "\n",
    "print(d)"
   ]
  },
  {
   "cell_type": "code",
   "execution_count": 23,
   "metadata": {},
   "outputs": [
    {
     "name": "stdout",
     "output_type": "stream",
     "text": [
      "{309: 1, -521: 1, 28: 1, 298: 1, 283: 1, 703: 1, -215: 1, -431: 1, -437: 2, -357: 1, 935: 1, -173: 1, -502: 1, 33: 1, 562: 1, 513: 1, 508: 2, -573: 1, -250: 1, -356: 1, -667: 1, 276: 1, -760: 2, 568: 1, -912: 1, 496: 1, 493: 1, -259: 1, 649: 1, 49: 1, -522: 1, -242: 1, -564: 1, -717: 1, -90: 1, -5: 1, -879: 1, -705: 1, 409: 1, 378: 1, 106: 1, 534: 1, 711: 1, 655: 1, -439: 1, 136: 1, 715: 1, 540: 1, -472: 1, 314: 1, 405: 1, -928: 1, 435: 1, -376: 1, -370: 1, -523: 1, 146: 1, -685: 1, 993: 1, -870: 1, 461: 1, 188: 1, 320: 1, -904: 1, -546: 1, 865: 1, 585: 1, -992: 1, 670: 1, 575: 1, 767: 1, -755: 1, 259: 1, 332: 1, -683: 1, 531: 1, -13: 1, -334: 1, -60: 1, -918: 1, 264: 1, -368: 1, 138: 1, 634: 1, 635: 1, -869: 1, -78: 1, -894: 1, -79: 1, 80: 1, 537: 1, 169: 1, 225: 1, 215: 1, -750: 1, 284: 1, 153: 1}\n"
     ]
    }
   ],
   "source": [
    "import random\n",
    "numlist=[random.randint(-1000,1000) for i in range(100)]\n",
    "dic={}\n",
    "for i in numlist:\n",
    "    if  not dic.get(i):\n",
    "        dic[i] = 1\n",
    "    else:\n",
    "        dic[i] += 1\n",
    "print(dic)"
   ]
  },
  {
   "cell_type": "code",
   "execution_count": null,
   "metadata": {},
   "outputs": [],
   "source": [
    " "
   ]
  },
  {
   "cell_type": "code",
   "execution_count": null,
   "metadata": {},
   "outputs": [],
   "source": []
  },
  {
   "cell_type": "code",
   "execution_count": null,
   "metadata": {},
   "outputs": [],
   "source": []
  },
  {
   "cell_type": "code",
   "execution_count": null,
   "metadata": {},
   "outputs": [],
   "source": []
  },
  {
   "cell_type": "code",
   "execution_count": null,
   "metadata": {},
   "outputs": [],
   "source": []
  },
  {
   "cell_type": "code",
   "execution_count": null,
   "metadata": {},
   "outputs": [],
   "source": []
  },
  {
   "cell_type": "code",
   "execution_count": null,
   "metadata": {},
   "outputs": [],
   "source": []
  }
 ],
 "metadata": {
  "kernelspec": {
   "display_name": "Python 3",
   "language": "python",
   "name": "python3"
  },
  "language_info": {
   "codemirror_mode": {
    "name": "ipython",
    "version": 3
   },
   "file_extension": ".py",
   "mimetype": "text/x-python",
   "name": "python",
   "nbconvert_exporter": "python",
   "pygments_lexer": "ipython3",
   "version": "3.7.1"
  }
 },
 "nbformat": 4,
 "nbformat_minor": 2
}
