{
 "cells": [
  {
   "cell_type": "code",
   "execution_count": 1,
   "metadata": {},
   "outputs": [
    {
     "data": {
      "text/plain": [
       "b'a/b/c'"
      ]
     },
     "execution_count": 1,
     "metadata": {},
     "output_type": "execute_result"
    }
   ],
   "source": [
    "from pathlib import Path\n",
    "\n",
    "p=Path('a/b/c')\n",
    "\n",
    "bytes(p) #返回bytes类型"
   ]
  },
  {
   "cell_type": "code",
   "execution_count": 2,
   "metadata": {},
   "outputs": [
    {
     "data": {
      "text/plain": [
       "'a/b/c'"
      ]
     },
     "execution_count": 2,
     "metadata": {},
     "output_type": "execute_result"
    }
   ],
   "source": [
    "str(p)  #返回str类型"
   ]
  },
  {
   "cell_type": "code",
   "execution_count": 3,
   "metadata": {},
   "outputs": [
    {
     "data": {
      "text/plain": [
       "b'a/b/c'"
      ]
     },
     "execution_count": 3,
     "metadata": {},
     "output_type": "execute_result"
    }
   ],
   "source": [
    "str(p).encode()  #"
   ]
  },
  {
   "cell_type": "code",
   "execution_count": 4,
   "metadata": {},
   "outputs": [
    {
     "data": {
      "text/plain": [
       "PosixPath('a/b')"
      ]
     },
     "execution_count": 4,
     "metadata": {},
     "output_type": "execute_result"
    }
   ],
   "source": [
    "p.parent  #父目录"
   ]
  },
  {
   "cell_type": "code",
   "execution_count": 5,
   "metadata": {},
   "outputs": [
    {
     "data": {
      "text/plain": [
       "PosixPath('a')"
      ]
     },
     "execution_count": 5,
     "metadata": {},
     "output_type": "execute_result"
    }
   ],
   "source": [
    "p.parent.parent"
   ]
  },
  {
   "cell_type": "code",
   "execution_count": 6,
   "metadata": {},
   "outputs": [
    {
     "data": {
      "text/plain": [
       "PosixPath('.')"
      ]
     },
     "execution_count": 6,
     "metadata": {},
     "output_type": "execute_result"
    }
   ],
   "source": [
    "p.parent.parent.parent"
   ]
  },
  {
   "cell_type": "code",
   "execution_count": 7,
   "metadata": {},
   "outputs": [
    {
     "data": {
      "text/plain": [
       "PosixPath('.')"
      ]
     },
     "execution_count": 7,
     "metadata": {},
     "output_type": "execute_result"
    }
   ],
   "source": [
    "p.parent.parent.parent"
   ]
  },
  {
   "cell_type": "code",
   "execution_count": 9,
   "metadata": {},
   "outputs": [
    {
     "data": {
      "text/plain": [
       "PosixPath('/data/jupyter/a/b/c')"
      ]
     },
     "execution_count": 9,
     "metadata": {},
     "output_type": "execute_result"
    }
   ],
   "source": [
    "p.absolute()"
   ]
  },
  {
   "cell_type": "code",
   "execution_count": 10,
   "metadata": {},
   "outputs": [
    {
     "data": {
      "text/plain": [
       "PosixPath('/data/jupyter')"
      ]
     },
     "execution_count": 10,
     "metadata": {},
     "output_type": "execute_result"
    }
   ],
   "source": [
    "p.absolute().parent.parent.parent"
   ]
  },
  {
   "cell_type": "code",
   "execution_count": 12,
   "metadata": {},
   "outputs": [
    {
     "data": {
      "text/plain": [
       "PosixPath('/')"
      ]
     },
     "execution_count": 12,
     "metadata": {},
     "output_type": "execute_result"
    }
   ],
   "source": [
    "p.absolute().parent.parent.parent.parent.parent"
   ]
  },
  {
   "cell_type": "code",
   "execution_count": 18,
   "metadata": {},
   "outputs": [
    {
     "data": {
      "text/plain": [
       "PosixPath('a/b')"
      ]
     },
     "execution_count": 18,
     "metadata": {},
     "output_type": "execute_result"
    }
   ],
   "source": [
    "p.parents[0]  #父目录"
   ]
  },
  {
   "cell_type": "code",
   "execution_count": 15,
   "metadata": {},
   "outputs": [
    {
     "data": {
      "text/plain": [
       "PosixPath('a')"
      ]
     },
     "execution_count": 15,
     "metadata": {},
     "output_type": "execute_result"
    }
   ],
   "source": [
    "p.parents[1] #父父目录"
   ]
  },
  {
   "cell_type": "code",
   "execution_count": 19,
   "metadata": {},
   "outputs": [
    {
     "data": {
      "text/plain": [
       "PosixPath('.')"
      ]
     },
     "execution_count": 19,
     "metadata": {},
     "output_type": "execute_result"
    }
   ],
   "source": [
    "p.parents[2]"
   ]
  },
  {
   "cell_type": "code",
   "execution_count": 16,
   "metadata": {},
   "outputs": [
    {
     "name": "stdout",
     "output_type": "stream",
     "text": [
      "a/b\n",
      "a\n",
      ".\n"
     ]
    }
   ],
   "source": [
    "for i in p.parents:\n",
    "    print(i)"
   ]
  },
  {
   "cell_type": "code",
   "execution_count": 21,
   "metadata": {},
   "outputs": [
    {
     "data": {
      "text/plain": [
       "PosixPath('.')"
      ]
     },
     "execution_count": 21,
     "metadata": {},
     "output_type": "execute_result"
    }
   ],
   "source": [
    "p.parents[len(p.parents) -1] #直接取祖目录"
   ]
  },
  {
   "cell_type": "code",
   "execution_count": 22,
   "metadata": {},
   "outputs": [
    {
     "data": {
      "text/plain": [
       "PosixPath('/')"
      ]
     },
     "execution_count": 22,
     "metadata": {},
     "output_type": "execute_result"
    }
   ],
   "source": [
    "p.absolute().parents[len(p.absolute().parents) -1] #直接取祖目录"
   ]
  },
  {
   "cell_type": "code",
   "execution_count": 23,
   "metadata": {},
   "outputs": [
    {
     "data": {
      "text/plain": [
       "PosixPath('/')"
      ]
     },
     "execution_count": 23,
     "metadata": {},
     "output_type": "execute_result"
    }
   ],
   "source": [
    "x=p.absolute().parents\n",
    "x[len(x)-1]"
   ]
  },
  {
   "cell_type": "code",
   "execution_count": 24,
   "metadata": {},
   "outputs": [],
   "source": [
    "p2=Path('a/b/c/d/e/f/nginx.conf')"
   ]
  },
  {
   "cell_type": "code",
   "execution_count": 25,
   "metadata": {},
   "outputs": [
    {
     "data": {
      "text/plain": [
       "'nginx.conf'"
      ]
     },
     "execution_count": 25,
     "metadata": {},
     "output_type": "execute_result"
    }
   ],
   "source": [
    "p2.name  #直接获得split的最后部分   相当于 path.basename(p2)"
   ]
  },
  {
   "cell_type": "code",
   "execution_count": 28,
   "metadata": {},
   "outputs": [
    {
     "data": {
      "text/plain": [
       "PosixPath('/root')"
      ]
     },
     "execution_count": 28,
     "metadata": {},
     "output_type": "execute_result"
    }
   ],
   "source": [
    "p2.home()     #直接获取家目录"
   ]
  },
  {
   "cell_type": "code",
   "execution_count": 29,
   "metadata": {},
   "outputs": [
    {
     "data": {
      "text/plain": [
       "'.conf'"
      ]
     },
     "execution_count": 29,
     "metadata": {},
     "output_type": "execute_result"
    }
   ],
   "source": [
    "p2.suffix  #获取扩展名 即后缀"
   ]
  },
  {
   "cell_type": "code",
   "execution_count": 42,
   "metadata": {},
   "outputs": [
    {
     "data": {
      "text/plain": [
       "'nginx'"
      ]
     },
     "execution_count": 42,
     "metadata": {},
     "output_type": "execute_result"
    }
   ],
   "source": [
    "p2.stem  #返回最后不包括扩展名部分"
   ]
  },
  {
   "cell_type": "code",
   "execution_count": null,
   "metadata": {},
   "outputs": [],
   "source": []
  },
  {
   "cell_type": "code",
   "execution_count": 30,
   "metadata": {},
   "outputs": [],
   "source": [
    "p3=Path('a/b/c')"
   ]
  },
  {
   "cell_type": "code",
   "execution_count": 31,
   "metadata": {},
   "outputs": [
    {
     "data": {
      "text/plain": [
       "''"
      ]
     },
     "execution_count": 31,
     "metadata": {},
     "output_type": "execute_result"
    }
   ],
   "source": [
    "p3.suffix"
   ]
  },
  {
   "cell_type": "code",
   "execution_count": 41,
   "metadata": {},
   "outputs": [
    {
     "data": {
      "text/plain": [
       "[]"
      ]
     },
     "execution_count": 41,
     "metadata": {},
     "output_type": "execute_result"
    }
   ],
   "source": [
    "p3.suffixes #获取多级扩展名"
   ]
  },
  {
   "cell_type": "code",
   "execution_count": 32,
   "metadata": {},
   "outputs": [
    {
     "data": {
      "text/plain": [
       "'c'"
      ]
     },
     "execution_count": 32,
     "metadata": {},
     "output_type": "execute_result"
    }
   ],
   "source": [
    "p3.name"
   ]
  },
  {
   "cell_type": "code",
   "execution_count": null,
   "metadata": {},
   "outputs": [],
   "source": [
    "p3.name"
   ]
  },
  {
   "cell_type": "code",
   "execution_count": 35,
   "metadata": {},
   "outputs": [
    {
     "data": {
      "text/plain": [
       "PosixPath('a/b/tomcat')"
      ]
     },
     "execution_count": 35,
     "metadata": {},
     "output_type": "execute_result"
    }
   ],
   "source": [
    "p3.with_name('tomcat')  #相当于结尾换成tomcat"
   ]
  },
  {
   "cell_type": "code",
   "execution_count": 39,
   "metadata": {},
   "outputs": [
    {
     "data": {
      "text/plain": [
       "PosixPath('a/b/c.xml')"
      ]
     },
     "execution_count": 39,
     "metadata": {},
     "output_type": "execute_result"
    }
   ],
   "source": [
    "p3.with_suffix('.xml')  #加上扩展"
   ]
  },
  {
   "cell_type": "code",
   "execution_count": 43,
   "metadata": {},
   "outputs": [
    {
     "data": {
      "text/plain": [
       "PosixPath('/data/jupyter')"
      ]
     },
     "execution_count": 43,
     "metadata": {},
     "output_type": "execute_result"
    }
   ],
   "source": [
    "p2.cwd()   #返回当前工作路径"
   ]
  },
  {
   "cell_type": "code",
   "execution_count": 44,
   "metadata": {},
   "outputs": [
    {
     "data": {
      "text/plain": [
       "PosixPath('/data/jupyter')"
      ]
     },
     "execution_count": 44,
     "metadata": {},
     "output_type": "execute_result"
    }
   ],
   "source": [
    "p3.cwd()   #返回当前工作路径"
   ]
  },
  {
   "cell_type": "code",
   "execution_count": 45,
   "metadata": {},
   "outputs": [
    {
     "data": {
      "text/plain": [
       "PosixPath('/root')"
      ]
     },
     "execution_count": 45,
     "metadata": {},
     "output_type": "execute_result"
    }
   ],
   "source": [
    "p3.home()"
   ]
  },
  {
   "cell_type": "code",
   "execution_count": 46,
   "metadata": {},
   "outputs": [],
   "source": [
    "p4=Path('/dev')"
   ]
  },
  {
   "cell_type": "code",
   "execution_count": 47,
   "metadata": {},
   "outputs": [
    {
     "data": {
      "text/plain": [
       "PosixPath('/dev')"
      ]
     },
     "execution_count": 47,
     "metadata": {},
     "output_type": "execute_result"
    }
   ],
   "source": [
    "p4"
   ]
  },
  {
   "cell_type": "code",
   "execution_count": 49,
   "metadata": {},
   "outputs": [
    {
     "data": {
      "text/plain": [
       "False"
      ]
     },
     "execution_count": 49,
     "metadata": {},
     "output_type": "execute_result"
    }
   ],
   "source": [
    "(p4/'tty').is_dir()  #是否是目录"
   ]
  },
  {
   "cell_type": "code",
   "execution_count": 50,
   "metadata": {},
   "outputs": [
    {
     "data": {
      "text/plain": [
       "False"
      ]
     },
     "execution_count": 50,
     "metadata": {},
     "output_type": "execute_result"
    }
   ],
   "source": [
    "(p4/'tty').is_block_device() #是否是块设备"
   ]
  },
  {
   "cell_type": "code",
   "execution_count": 51,
   "metadata": {},
   "outputs": [
    {
     "data": {
      "text/plain": [
       "False"
      ]
     },
     "execution_count": 51,
     "metadata": {},
     "output_type": "execute_result"
    }
   ],
   "source": [
    "(p4/'tty').is_file()  #是否是普通文件"
   ]
  },
  {
   "cell_type": "code",
   "execution_count": 52,
   "metadata": {},
   "outputs": [
    {
     "data": {
      "text/plain": [
       "True"
      ]
     },
     "execution_count": 52,
     "metadata": {},
     "output_type": "execute_result"
    }
   ],
   "source": [
    "p4.is_dir()"
   ]
  },
  {
   "cell_type": "code",
   "execution_count": 53,
   "metadata": {},
   "outputs": [
    {
     "data": {
      "text/plain": [
       "False"
      ]
     },
     "execution_count": 53,
     "metadata": {},
     "output_type": "execute_result"
    }
   ],
   "source": [
    "p4.is_file()"
   ]
  },
  {
   "cell_type": "code",
   "execution_count": 54,
   "metadata": {},
   "outputs": [
    {
     "data": {
      "text/plain": [
       "True"
      ]
     },
     "execution_count": 54,
     "metadata": {},
     "output_type": "execute_result"
    }
   ],
   "source": [
    "p4.is_absolute()  #是否是绝对路径"
   ]
  },
  {
   "cell_type": "code",
   "execution_count": 55,
   "metadata": {},
   "outputs": [],
   "source": [
    "p5=Path('/etc/rc.local')"
   ]
  },
  {
   "cell_type": "code",
   "execution_count": 56,
   "metadata": {},
   "outputs": [
    {
     "data": {
      "text/plain": [
       "PosixPath('/etc/rc.local')"
      ]
     },
     "execution_count": 56,
     "metadata": {},
     "output_type": "execute_result"
    }
   ],
   "source": [
    "p5.resolve()"
   ]
  },
  {
   "cell_type": "code",
   "execution_count": 57,
   "metadata": {},
   "outputs": [
    {
     "data": {
      "text/plain": [
       "PosixPath('/etc/rc.local')"
      ]
     },
     "execution_count": 57,
     "metadata": {},
     "output_type": "execute_result"
    }
   ],
   "source": [
    "p5.absolute()"
   ]
  },
  {
   "cell_type": "code",
   "execution_count": 59,
   "metadata": {},
   "outputs": [
    {
     "name": "stdout",
     "output_type": "stream",
     "text": [
      "ls: cannot access '/etc/rc.local': No such file or directory\r\n"
     ]
    }
   ],
   "source": [
    "!ls -l /etc/rc.local"
   ]
  },
  {
   "cell_type": "code",
   "execution_count": 60,
   "metadata": {},
   "outputs": [
    {
     "data": {
      "text/plain": [
       "False"
      ]
     },
     "execution_count": 60,
     "metadata": {},
     "output_type": "execute_result"
    }
   ],
   "source": [
    "p5.exists()"
   ]
  },
  {
   "cell_type": "code",
   "execution_count": 61,
   "metadata": {},
   "outputs": [],
   "source": [
    "p6=Path('')"
   ]
  },
  {
   "cell_type": "code",
   "execution_count": 62,
   "metadata": {},
   "outputs": [
    {
     "data": {
      "text/plain": [
       "PosixPath('/data/jupyter')"
      ]
     },
     "execution_count": 62,
     "metadata": {},
     "output_type": "execute_result"
    }
   ],
   "source": [
    "p6.absolute()"
   ]
  },
  {
   "cell_type": "code",
   "execution_count": 67,
   "metadata": {},
   "outputs": [],
   "source": [
    "p7=Path(str(p6.absolute()),'c')"
   ]
  },
  {
   "cell_type": "code",
   "execution_count": 68,
   "metadata": {},
   "outputs": [
    {
     "data": {
      "text/plain": [
       "PosixPath('/data/jupyter/c')"
      ]
     },
     "execution_count": 68,
     "metadata": {},
     "output_type": "execute_result"
    }
   ],
   "source": [
    "p7"
   ]
  },
  {
   "cell_type": "code",
   "execution_count": 69,
   "metadata": {},
   "outputs": [
    {
     "ename": "FileNotFoundError",
     "evalue": "[Errno 2] No such file or directory: '/data/jupyter/c'",
     "output_type": "error",
     "traceback": [
      "\u001b[0;31m---------------------------------------------------------------------------\u001b[0m",
      "\u001b[0;31mFileNotFoundError\u001b[0m                         Traceback (most recent call last)",
      "\u001b[0;32m<ipython-input-69-02b89de6a8cb>\u001b[0m in \u001b[0;36m<module>\u001b[0;34m\u001b[0m\n\u001b[0;32m----> 1\u001b[0;31m \u001b[0mp7\u001b[0m\u001b[0;34m.\u001b[0m\u001b[0mrmdir\u001b[0m\u001b[0;34m(\u001b[0m\u001b[0;34m)\u001b[0m\u001b[0;34m\u001b[0m\u001b[0;34m\u001b[0m\u001b[0m\n\u001b[0m",
      "\u001b[0;32m/usr/local/lib/python3.7/pathlib.py\u001b[0m in \u001b[0;36mrmdir\u001b[0;34m(self)\u001b[0m\n\u001b[1;32m   1283\u001b[0m         \u001b[0;32mif\u001b[0m \u001b[0mself\u001b[0m\u001b[0;34m.\u001b[0m\u001b[0m_closed\u001b[0m\u001b[0;34m:\u001b[0m\u001b[0;34m\u001b[0m\u001b[0;34m\u001b[0m\u001b[0m\n\u001b[1;32m   1284\u001b[0m             \u001b[0mself\u001b[0m\u001b[0;34m.\u001b[0m\u001b[0m_raise_closed\u001b[0m\u001b[0;34m(\u001b[0m\u001b[0;34m)\u001b[0m\u001b[0;34m\u001b[0m\u001b[0;34m\u001b[0m\u001b[0m\n\u001b[0;32m-> 1285\u001b[0;31m         \u001b[0mself\u001b[0m\u001b[0;34m.\u001b[0m\u001b[0m_accessor\u001b[0m\u001b[0;34m.\u001b[0m\u001b[0mrmdir\u001b[0m\u001b[0;34m(\u001b[0m\u001b[0mself\u001b[0m\u001b[0;34m)\u001b[0m\u001b[0;34m\u001b[0m\u001b[0;34m\u001b[0m\u001b[0m\n\u001b[0m\u001b[1;32m   1286\u001b[0m \u001b[0;34m\u001b[0m\u001b[0m\n\u001b[1;32m   1287\u001b[0m     \u001b[0;32mdef\u001b[0m \u001b[0mlstat\u001b[0m\u001b[0;34m(\u001b[0m\u001b[0mself\u001b[0m\u001b[0;34m)\u001b[0m\u001b[0;34m:\u001b[0m\u001b[0;34m\u001b[0m\u001b[0;34m\u001b[0m\u001b[0m\n",
      "\u001b[0;31mFileNotFoundError\u001b[0m: [Errno 2] No such file or directory: '/data/jupyter/c'"
     ]
    }
   ],
   "source": [
    "p7.rmdir()  #删除目录 ， 没有提供目录为空的方法"
   ]
  },
  {
   "cell_type": "code",
   "execution_count": 97,
   "metadata": {},
   "outputs": [
    {
     "name": "stdout",
     "output_type": "stream",
     "text": [
      "mkdir: cannot create directory ‘/data/jupyter/c/’: File exists\r\n"
     ]
    }
   ],
   "source": [
    "mkdir  /data/jupyter/c/"
   ]
  },
  {
   "cell_type": "code",
   "execution_count": 101,
   "metadata": {},
   "outputs": [],
   "source": [
    "rm -rf /data/jupyter/c"
   ]
  },
  {
   "cell_type": "code",
   "execution_count": 99,
   "metadata": {},
   "outputs": [
    {
     "name": "stdout",
     "output_type": "stream",
     "text": [
      "ls: cannot access '/data/jupyter/c/': Not a directory\r\n"
     ]
    }
   ],
   "source": [
    "ls  -lh /data/jupyter/c/"
   ]
  },
  {
   "cell_type": "code",
   "execution_count": 96,
   "metadata": {},
   "outputs": [
    {
     "ename": "NotADirectoryError",
     "evalue": "[Errno 20] Not a directory: '/data/jupyter/c'",
     "output_type": "error",
     "traceback": [
      "\u001b[0;31m---------------------------------------------------------------------------\u001b[0m",
      "\u001b[0;31mNotADirectoryError\u001b[0m                        Traceback (most recent call last)",
      "\u001b[0;32m<ipython-input-96-02b89de6a8cb>\u001b[0m in \u001b[0;36m<module>\u001b[0;34m\u001b[0m\n\u001b[0;32m----> 1\u001b[0;31m \u001b[0mp7\u001b[0m\u001b[0;34m.\u001b[0m\u001b[0mrmdir\u001b[0m\u001b[0;34m(\u001b[0m\u001b[0;34m)\u001b[0m\u001b[0;34m\u001b[0m\u001b[0;34m\u001b[0m\u001b[0m\n\u001b[0m",
      "\u001b[0;32m/usr/local/lib/python3.7/pathlib.py\u001b[0m in \u001b[0;36mrmdir\u001b[0;34m(self)\u001b[0m\n\u001b[1;32m   1283\u001b[0m         \u001b[0;32mif\u001b[0m \u001b[0mself\u001b[0m\u001b[0;34m.\u001b[0m\u001b[0m_closed\u001b[0m\u001b[0;34m:\u001b[0m\u001b[0;34m\u001b[0m\u001b[0;34m\u001b[0m\u001b[0m\n\u001b[1;32m   1284\u001b[0m             \u001b[0mself\u001b[0m\u001b[0;34m.\u001b[0m\u001b[0m_raise_closed\u001b[0m\u001b[0;34m(\u001b[0m\u001b[0;34m)\u001b[0m\u001b[0;34m\u001b[0m\u001b[0;34m\u001b[0m\u001b[0m\n\u001b[0;32m-> 1285\u001b[0;31m         \u001b[0mself\u001b[0m\u001b[0;34m.\u001b[0m\u001b[0m_accessor\u001b[0m\u001b[0;34m.\u001b[0m\u001b[0mrmdir\u001b[0m\u001b[0;34m(\u001b[0m\u001b[0mself\u001b[0m\u001b[0;34m)\u001b[0m\u001b[0;34m\u001b[0m\u001b[0;34m\u001b[0m\u001b[0m\n\u001b[0m\u001b[1;32m   1286\u001b[0m \u001b[0;34m\u001b[0m\u001b[0m\n\u001b[1;32m   1287\u001b[0m     \u001b[0;32mdef\u001b[0m \u001b[0mlstat\u001b[0m\u001b[0;34m(\u001b[0m\u001b[0mself\u001b[0m\u001b[0;34m)\u001b[0m\u001b[0;34m:\u001b[0m\u001b[0;34m\u001b[0m\u001b[0;34m\u001b[0m\u001b[0m\n",
      "\u001b[0;31mNotADirectoryError\u001b[0m: [Errno 20] Not a directory: '/data/jupyter/c'"
     ]
    }
   ],
   "source": [
    "p7.rmdir()"
   ]
  },
  {
   "cell_type": "code",
   "execution_count": 103,
   "metadata": {},
   "outputs": [
    {
     "name": "stdout",
     "output_type": "stream",
     "text": [
      "total 0\r\n"
     ]
    }
   ],
   "source": [
    "ls  -lh /data/jupyter/c/"
   ]
  },
  {
   "cell_type": "code",
   "execution_count": 104,
   "metadata": {},
   "outputs": [],
   "source": [
    "p7.touch()  #创建文件"
   ]
  },
  {
   "cell_type": "code",
   "execution_count": 105,
   "metadata": {},
   "outputs": [
    {
     "name": "stdout",
     "output_type": "stream",
     "text": [
      "total 0\r\n"
     ]
    }
   ],
   "source": [
    "ls  -lh /data/jupyter/c"
   ]
  },
  {
   "cell_type": "code",
   "execution_count": 102,
   "metadata": {},
   "outputs": [],
   "source": [
    "p7.mkdir(parents=True,exist_ok=True)  #创建目录  递归创建  静默创建"
   ]
  },
  {
   "cell_type": "code",
   "execution_count": 110,
   "metadata": {},
   "outputs": [
    {
     "name": "stdout",
     "output_type": "stream",
     "text": [
      "total 0\r\n"
     ]
    }
   ],
   "source": [
    "!ls -lh /data/jupyter/c/"
   ]
  },
  {
   "cell_type": "code",
   "execution_count": 111,
   "metadata": {},
   "outputs": [],
   "source": [
    "p8=Path(str(p7),'a/b/c')"
   ]
  },
  {
   "cell_type": "code",
   "execution_count": null,
   "metadata": {},
   "outputs": [],
   "source": [
    "p8"
   ]
  },
  {
   "cell_type": "code",
   "execution_count": 124,
   "metadata": {},
   "outputs": [
    {
     "data": {
      "text/plain": [
       "<generator object Path.iterdir at 0x7f5a68553e58>"
      ]
     },
     "execution_count": 124,
     "metadata": {},
     "output_type": "execute_result"
    }
   ],
   "source": [
    "#路径迭代\n",
    "p8.iterdir()  #只遍历子目录下的所有文件或目录"
   ]
  },
  {
   "cell_type": "code",
   "execution_count": 127,
   "metadata": {},
   "outputs": [
    {
     "name": "stdout",
     "output_type": "stream",
     "text": [
      "for if.ipynb\n",
      "Path对象的操作.ipynb\n",
      "字典扁平化和Base64实现.ipynb\n",
      ".gitignore\n",
      "函数的作用域.ipynb\n",
      "字符串格式化.ipynb\n",
      "test.txt\n",
      "c\n",
      "树和二叉树原理.ipynb\n",
      "test3\n",
      "字符串原理.ipynb\n",
      "生成器yield.ipynb\n",
      "编码描述符及读写方法.ipynb\n",
      "open方法和模式.ipynb\n",
      "内建函数.ipynb\n",
      "字符串练习.ipynb\n",
      "函数递归原理.ipynb\n",
      ".git\n",
      "列表1.ipynb\n",
      "python封装和解构.ipynb\n",
      "nonlocal和缺省值.ipynb\n",
      "参数回顾，及参数解构.ipynb\n",
      "递归习题.ipynb\n",
      "test5\n",
      "选择排序及二元选择排序优化.ipynb\n",
      "README.md\n",
      "functools之parial和lru_cache.ipynb\n",
      "默认值及可变参数.ipynb\n",
      "参数检查的装饰器实现.ipynb\n",
      "os.path和Path初识.ipynb\n",
      "九九乘法表2.ipynb\n",
      "插入排序.ipynb\n",
      "bytes、bytearray.ipynb\n",
      "缓冲区原理.ipynb\n",
      "匿名函数lambda.ipynb\n",
      "Ipython(求质数算法).ipynb\n",
      "装饰器习题精讲.ipynb\n",
      "习题 copy 和wordcount精讲.ipynb\n",
      "生成器表达试.ipynb\n",
      "可变参数.ipynb\n",
      "字典遍历、缺省字典、有序字典.ipynb\n",
      "切片.ipynb\n",
      "函数的销毁.ipynb\n",
      "字典的增删查改.ipynb\n",
      "排序和冒泡.ipynb\n",
      "函数.ipynb\n",
      "set常用方法及高性能原理.ipynb\n",
      "高阶函数、柯里化、装饰器.ipynb\n",
      "global和闭包.ipynb\n",
      "随机数和元祖.ipynb\n",
      "类文件对象  StringIO和BytesIO.ipynb\n",
      "sample\n",
      "test\n",
      "LEGB函数执行过程.ipynb\n",
      "带参装饰器.ipynb\n",
      "九九乘法表.ipynb\n",
      "函数的返回值.ipynb\n",
      ".ipynb_checkpoints\n",
      "random.ipynb\n",
      "for.ipynb\n",
      "functools模块.ipynb\n",
      "时间和列表解析式.ipynb\n",
      "列表作业讲解.ipynb\n",
      ".idea\n",
      "类型注解.ipynb\n",
      "公共子串解法.ipynb\n"
     ]
    }
   ],
   "source": [
    "for i in Path().iterdir():\n",
    "    print(i)"
   ]
  },
  {
   "cell_type": "code",
   "execution_count": 129,
   "metadata": {},
   "outputs": [
    {
     "name": "stdout",
     "output_type": "stream",
     "text": [
      "for if.ipynb\tfile\n",
      "Path对象的操作.ipynb\tfile\n",
      "字典扁平化和Base64实现.ipynb\tfile\n",
      ".gitignore\tfile\n",
      "函数的作用域.ipynb\tfile\n",
      "字符串格式化.ipynb\tfile\n",
      "test.txt\tfile\n",
      "c\tdir\tNot Empty\n",
      "树和二叉树原理.ipynb\tfile\n",
      "test3\tfile\n",
      "字符串原理.ipynb\tfile\n",
      "生成器yield.ipynb\tfile\n",
      "编码描述符及读写方法.ipynb\tfile\n",
      "open方法和模式.ipynb\tfile\n",
      "内建函数.ipynb\tfile\n",
      "字符串练习.ipynb\tfile\n",
      "函数递归原理.ipynb\tfile\n",
      ".git\tdir\tNot Empty\n",
      "列表1.ipynb\tfile\n",
      "python封装和解构.ipynb\tfile\n",
      "nonlocal和缺省值.ipynb\tfile\n",
      "参数回顾，及参数解构.ipynb\tfile\n",
      "递归习题.ipynb\tfile\n",
      "test5\tfile\n",
      "选择排序及二元选择排序优化.ipynb\tfile\n",
      "README.md\tfile\n",
      "functools之parial和lru_cache.ipynb\tfile\n",
      "默认值及可变参数.ipynb\tfile\n",
      "参数检查的装饰器实现.ipynb\tfile\n",
      "os.path和Path初识.ipynb\tfile\n",
      "九九乘法表2.ipynb\tfile\n",
      "插入排序.ipynb\tfile\n",
      "bytes、bytearray.ipynb\tfile\n",
      "缓冲区原理.ipynb\tfile\n",
      "匿名函数lambda.ipynb\tfile\n",
      "Ipython(求质数算法).ipynb\tfile\n",
      "装饰器习题精讲.ipynb\tfile\n",
      "习题 copy 和wordcount精讲.ipynb\tfile\n",
      "生成器表达试.ipynb\tfile\n",
      "可变参数.ipynb\tfile\n",
      "字典遍历、缺省字典、有序字典.ipynb\tfile\n",
      "切片.ipynb\tfile\n",
      "函数的销毁.ipynb\tfile\n",
      "字典的增删查改.ipynb\tfile\n",
      "排序和冒泡.ipynb\tfile\n",
      "函数.ipynb\tfile\n",
      "set常用方法及高性能原理.ipynb\tfile\n",
      "高阶函数、柯里化、装饰器.ipynb\tfile\n",
      "global和闭包.ipynb\tfile\n",
      "随机数和元祖.ipynb\tfile\n",
      "类文件对象  StringIO和BytesIO.ipynb\tfile\n",
      "sample\tfile\n",
      "test\tfile\n",
      "LEGB函数执行过程.ipynb\tfile\n",
      "带参装饰器.ipynb\tfile\n",
      "九九乘法表.ipynb\tfile\n",
      "函数的返回值.ipynb\tfile\n",
      ".ipynb_checkpoints\tdir\tNot Empty\n",
      "random.ipynb\tfile\n",
      "for.ipynb\tfile\n",
      "functools模块.ipynb\tfile\n",
      "时间和列表解析式.ipynb\tfile\n",
      "列表作业讲解.ipynb\tfile\n",
      ".idea\tdir\tNot Empty\n",
      "类型注解.ipynb\tfile\n",
      "公共子串解法.ipynb\tfile\n"
     ]
    }
   ],
   "source": [
    "#遍历 并判断文件类型 如果是目录是否可以判断其是否为空？\n",
    "\n",
    "for x in p.parents[len(p.parents)-1].iterdir():\n",
    "    print(x,end='\\t')\n",
    "    if x.is_dir():\n",
    "        flag = False\n",
    "        for _ in x.iterdir():\n",
    "            flag = True\n",
    "            break\n",
    "        # for 循环是否可以使用else子句\n",
    "        print('dir','Not Empty' if flag else 'Empyt',sep='\\t')\n",
    "    elif x.is_file():\n",
    "        print('file')\n",
    "    else:\n",
    "        print('other file')"
   ]
  },
  {
   "cell_type": "code",
   "execution_count": 132,
   "metadata": {},
   "outputs": [],
   "source": [
    "p1=Path().glob  #glob(pattern) 通配符 通配给定的模式\n",
    "                #rglob(pattern)通配给定的模式\n",
    "                    #返回一个生成器"
   ]
  },
  {
   "cell_type": "code",
   "execution_count": 145,
   "metadata": {},
   "outputs": [],
   "source": [
    "p1=Path().rglob"
   ]
  },
  {
   "cell_type": "code",
   "execution_count": 146,
   "metadata": {},
   "outputs": [
    {
     "data": {
      "text/plain": [
       "<bound method Path.rglob of PosixPath('.')>"
      ]
     },
     "execution_count": 146,
     "metadata": {},
     "output_type": "execute_result"
    }
   ],
   "source": [
    "p1"
   ]
  },
  {
   "cell_type": "code",
   "execution_count": 135,
   "metadata": {},
   "outputs": [
    {
     "data": {
      "text/plain": [
       "[PosixPath('for if.ipynb'),\n",
       " PosixPath('Path对象的操作.ipynb'),\n",
       " PosixPath('字典扁平化和Base64实现.ipynb'),\n",
       " PosixPath('.gitignore'),\n",
       " PosixPath('函数的作用域.ipynb'),\n",
       " PosixPath('字符串格式化.ipynb'),\n",
       " PosixPath('test.txt'),\n",
       " PosixPath('c'),\n",
       " PosixPath('树和二叉树原理.ipynb'),\n",
       " PosixPath('test3'),\n",
       " PosixPath('字符串原理.ipynb'),\n",
       " PosixPath('生成器yield.ipynb'),\n",
       " PosixPath('编码描述符及读写方法.ipynb'),\n",
       " PosixPath('open方法和模式.ipynb'),\n",
       " PosixPath('内建函数.ipynb'),\n",
       " PosixPath('字符串练习.ipynb'),\n",
       " PosixPath('函数递归原理.ipynb'),\n",
       " PosixPath('.git'),\n",
       " PosixPath('列表1.ipynb'),\n",
       " PosixPath('python封装和解构.ipynb'),\n",
       " PosixPath('nonlocal和缺省值.ipynb'),\n",
       " PosixPath('参数回顾，及参数解构.ipynb'),\n",
       " PosixPath('递归习题.ipynb'),\n",
       " PosixPath('test5'),\n",
       " PosixPath('选择排序及二元选择排序优化.ipynb'),\n",
       " PosixPath('README.md'),\n",
       " PosixPath('functools之parial和lru_cache.ipynb'),\n",
       " PosixPath('默认值及可变参数.ipynb'),\n",
       " PosixPath('参数检查的装饰器实现.ipynb'),\n",
       " PosixPath('os.path和Path初识.ipynb'),\n",
       " PosixPath('九九乘法表2.ipynb'),\n",
       " PosixPath('插入排序.ipynb'),\n",
       " PosixPath('bytes、bytearray.ipynb'),\n",
       " PosixPath('缓冲区原理.ipynb'),\n",
       " PosixPath('匿名函数lambda.ipynb'),\n",
       " PosixPath('Ipython(求质数算法).ipynb'),\n",
       " PosixPath('装饰器习题精讲.ipynb'),\n",
       " PosixPath('习题 copy 和wordcount精讲.ipynb'),\n",
       " PosixPath('生成器表达试.ipynb'),\n",
       " PosixPath('可变参数.ipynb'),\n",
       " PosixPath('字典遍历、缺省字典、有序字典.ipynb'),\n",
       " PosixPath('切片.ipynb'),\n",
       " PosixPath('函数的销毁.ipynb'),\n",
       " PosixPath('字典的增删查改.ipynb'),\n",
       " PosixPath('排序和冒泡.ipynb'),\n",
       " PosixPath('函数.ipynb'),\n",
       " PosixPath('set常用方法及高性能原理.ipynb'),\n",
       " PosixPath('高阶函数、柯里化、装饰器.ipynb'),\n",
       " PosixPath('global和闭包.ipynb'),\n",
       " PosixPath('随机数和元祖.ipynb'),\n",
       " PosixPath('类文件对象  StringIO和BytesIO.ipynb'),\n",
       " PosixPath('sample'),\n",
       " PosixPath('test'),\n",
       " PosixPath('LEGB函数执行过程.ipynb'),\n",
       " PosixPath('带参装饰器.ipynb'),\n",
       " PosixPath('九九乘法表.ipynb'),\n",
       " PosixPath('函数的返回值.ipynb'),\n",
       " PosixPath('.ipynb_checkpoints'),\n",
       " PosixPath('random.ipynb'),\n",
       " PosixPath('for.ipynb'),\n",
       " PosixPath('functools模块.ipynb'),\n",
       " PosixPath('时间和列表解析式.ipynb'),\n",
       " PosixPath('列表作业讲解.ipynb'),\n",
       " PosixPath('.idea'),\n",
       " PosixPath('类型注解.ipynb'),\n",
       " PosixPath('公共子串解法.ipynb')]"
      ]
     },
     "execution_count": 135,
     "metadata": {},
     "output_type": "execute_result"
    }
   ],
   "source": [
    "list(p1('*'))"
   ]
  },
  {
   "cell_type": "code",
   "execution_count": null,
   "metadata": {},
   "outputs": [],
   "source": [
    "#匹配\n",
    "#match(pattern)\n",
    "#匹配成功 返回True\n"
   ]
  },
  {
   "cell_type": "code",
   "execution_count": 139,
   "metadata": {},
   "outputs": [],
   "source": [
    "p5=Path('/tmp/a/b/c.txt')"
   ]
  },
  {
   "cell_type": "code",
   "execution_count": 140,
   "metadata": {},
   "outputs": [
    {
     "data": {
      "text/plain": [
       "False"
      ]
     },
     "execution_count": 140,
     "metadata": {},
     "output_type": "execute_result"
    }
   ],
   "source": [
    "p5.match('/')"
   ]
  },
  {
   "cell_type": "code",
   "execution_count": 141,
   "metadata": {},
   "outputs": [
    {
     "data": {
      "text/plain": [
       "False"
      ]
     },
     "execution_count": 141,
     "metadata": {},
     "output_type": "execute_result"
    }
   ],
   "source": [
    "p5.match('/*')"
   ]
  },
  {
   "cell_type": "code",
   "execution_count": 142,
   "metadata": {},
   "outputs": [
    {
     "data": {
      "text/plain": [
       "True"
      ]
     },
     "execution_count": 142,
     "metadata": {},
     "output_type": "execute_result"
    }
   ],
   "source": [
    "p5.match('*/c.txt')"
   ]
  },
  {
   "cell_type": "code",
   "execution_count": 147,
   "metadata": {},
   "outputs": [],
   "source": [
    "#stat() 相当于stat 命令\n",
    "#lstat() 同stat() 但如果是符号连接，则显示连接本身文件"
   ]
  },
  {
   "cell_type": "code",
   "execution_count": null,
   "metadata": {},
   "outputs": [],
   "source": [
    "#文件操作\n",
    "open() #使用方法类似内置函数open"
   ]
  },
  {
   "cell_type": "code",
   "execution_count": 180,
   "metadata": {},
   "outputs": [],
   "source": [
    "p6=Path('test')"
   ]
  },
  {
   "cell_type": "code",
   "execution_count": 181,
   "metadata": {},
   "outputs": [],
   "source": [
    "f=p6.open()"
   ]
  },
  {
   "cell_type": "code",
   "execution_count": 182,
   "metadata": {},
   "outputs": [
    {
     "data": {
      "text/plain": [
       "'asfasfg'"
      ]
     },
     "execution_count": 182,
     "metadata": {},
     "output_type": "execute_result"
    }
   ],
   "source": [
    "f.read()"
   ]
  },
  {
   "cell_type": "code",
   "execution_count": 183,
   "metadata": {},
   "outputs": [],
   "source": [
    "f.close()"
   ]
  },
  {
   "cell_type": "code",
   "execution_count": 184,
   "metadata": {},
   "outputs": [
    {
     "data": {
      "text/plain": [
       "True"
      ]
     },
     "execution_count": 184,
     "metadata": {},
     "output_type": "execute_result"
    }
   ],
   "source": [
    "f.closed"
   ]
  },
  {
   "cell_type": "code",
   "execution_count": 185,
   "metadata": {},
   "outputs": [
    {
     "name": "stdout",
     "output_type": "stream",
     "text": [
      "asfasfg\n"
     ]
    }
   ],
   "source": [
    "with p6.open() as f:\n",
    "    print(f.read())"
   ]
  },
  {
   "cell_type": "code",
   "execution_count": 171,
   "metadata": {},
   "outputs": [],
   "source": [
    "#3.5增加的新函数\n"
   ]
  },
  {
   "cell_type": "code",
   "execution_count": 177,
   "metadata": {},
   "outputs": [
    {
     "data": {
      "text/plain": [
       "b'asfasfg'"
      ]
     },
     "execution_count": 177,
     "metadata": {},
     "output_type": "execute_result"
    }
   ],
   "source": [
    "Path('test').read_bytes()"
   ]
  },
  {
   "cell_type": "code",
   "execution_count": 176,
   "metadata": {},
   "outputs": [
    {
     "data": {
      "text/plain": [
       "'asfasfg'"
      ]
     },
     "execution_count": 176,
     "metadata": {},
     "output_type": "execute_result"
    }
   ],
   "source": [
    "Path('test').read_text()\n"
   ]
  },
  {
   "cell_type": "code",
   "execution_count": null,
   "metadata": {},
   "outputs": [],
   "source": []
  }
 ],
 "metadata": {
  "kernelspec": {
   "display_name": "Python 3",
   "language": "python",
   "name": "python3"
  },
  "language_info": {
   "codemirror_mode": {
    "name": "ipython",
    "version": 3
   },
   "file_extension": ".py",
   "mimetype": "text/x-python",
   "name": "python",
   "nbconvert_exporter": "python",
   "pygments_lexer": "ipython3",
   "version": "3.7.1"
  }
 },
 "nbformat": 4,
 "nbformat_minor": 2
}
