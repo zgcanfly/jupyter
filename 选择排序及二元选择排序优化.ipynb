{
 "cells": [
  {
   "cell_type": "code",
   "execution_count": null,
   "metadata": {},
   "outputs": [],
   "source": [
    "#简单选择排序\n",
    "    #属于选择排序\n",
    "    #两两比较大小，找出极值(极大值或极小值)被放置在固定的位置，这个固定位置一般指的是某一端\n",
    "    #结果分为升序和降序排列\n",
    "#降序\n",
    "    #个数从左至右，索引从0开始到n-1,两两依次比较，记录大值索引，\n",
    "        #此轮所有数比较完毕，将大数和索引0数交换，如果大数就是索引1，\n",
    "            #不交换。第二轮，从1开始比较 ，找到最大值，将它和索引1位置交换，如果它就在索引1位置则不交换\n",
    "                #以此类推，每次左边都会固定下一个大数\n",
    "#升序\n",
    "    #和降序相反"
   ]
  },
  {
   "cell_type": "code",
   "execution_count": 2,
   "metadata": {},
   "outputs": [
    {
     "name": "stdout",
     "output_type": "stream",
     "text": [
      "[9, 1, 8, 5, 6, 7, 4, 3, 2]\n",
      "[9, 8, 1, 5, 6, 7, 4, 3, 2]\n",
      "[9, 8, 7, 5, 6, 1, 4, 3, 2]\n",
      "[9, 8, 7, 6, 5, 1, 4, 3, 2]\n",
      "[9, 8, 7, 6, 5, 1, 4, 3, 2]\n",
      "[9, 8, 7, 6, 5, 4, 1, 3, 2]\n",
      "[9, 8, 7, 6, 5, 4, 3, 1, 2]\n",
      "[9, 8, 7, 6, 5, 4, 3, 2, 1]\n",
      "[9, 8, 7, 6, 5, 4, 3, 2, 1]\n",
      "lasted result:[9, 8, 7, 6, 5, 4, 3, 2, 1]\n"
     ]
    }
   ],
   "source": [
    "lst=[1,9,8,5,6,7,4,3,2]\n",
    "length=len(lst)\n",
    "\n",
    "\n",
    "for i in range(length):\n",
    "    x = lst[i]\n",
    "    maxindex=i\n",
    "    for j in range(i+1,length):\n",
    "        if lst[j] > lst[maxindex]:\n",
    "            maxindex=j\n",
    "    if i != maxindex:\n",
    "        lst[i],lst[maxindex] = lst[maxindex],lst[i]\n",
    "    print(lst)\n",
    "print(\"lasted result:{}\".format(lst))"
   ]
  },
  {
   "cell_type": "code",
   "execution_count": null,
   "metadata": {},
   "outputs": [],
   "source": []
  },
  {
   "cell_type": "code",
   "execution_count": null,
   "metadata": {},
   "outputs": [],
   "source": []
  },
  {
   "cell_type": "code",
   "execution_count": null,
   "metadata": {},
   "outputs": [],
   "source": []
  },
  {
   "cell_type": "code",
   "execution_count": null,
   "metadata": {},
   "outputs": [],
   "source": []
  },
  {
   "cell_type": "code",
   "execution_count": null,
   "metadata": {},
   "outputs": [],
   "source": []
  },
  {
   "cell_type": "code",
   "execution_count": null,
   "metadata": {},
   "outputs": [],
   "source": []
  }
 ],
 "metadata": {
  "kernelspec": {
   "display_name": "Python 3",
   "language": "python",
   "name": "python3"
  },
  "language_info": {
   "codemirror_mode": {
    "name": "ipython",
    "version": 3
   },
   "file_extension": ".py",
   "mimetype": "text/x-python",
   "name": "python",
   "nbconvert_exporter": "python",
   "pygments_lexer": "ipython3",
   "version": "3.7.1"
  }
 },
 "nbformat": 4,
 "nbformat_minor": 2
}
