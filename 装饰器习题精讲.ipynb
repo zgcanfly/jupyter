{
 "cells": [
  {
   "cell_type": "code",
   "execution_count": null,
   "metadata": {},
   "outputs": [],
   "source": []
  },
  {
   "cell_type": "code",
   "execution_count": null,
   "metadata": {},
   "outputs": [],
   "source": [
    "cmds={}\n",
    "def reg(c):\n",
    "    def _reg():\n",
    "        cmds[c]=fn\n",
    "        return fn\n",
    "    return _reg\n",
    "\n",
    "def dispatcher():\n",
    "    def default_func():\n",
    "        print('未知命令')\n",
    "    while True:\n",
    "        cmd= input('>>').strip()\n",
    "        if cmd=='quit':\n",
    "            break\n",
    "        cmds.get(cmd,default_func)()\n",
    "        \n",
    "@reg('ls')\n",
    "def ls():\n",
    "    print(\"I'm ls\")\n",
    "    \n",
    "@reg('python')\n",
    "def python():\n",
    "    print('I’m python')"
   ]
  },
  {
   "cell_type": "code",
   "execution_count": null,
   "metadata": {},
   "outputs": [],
   "source": []
  },
  {
   "cell_type": "code",
   "execution_count": null,
   "metadata": {},
   "outputs": [],
   "source": []
  },
  {
   "cell_type": "code",
   "execution_count": null,
   "metadata": {},
   "outputs": [],
   "source": []
  },
  {
   "cell_type": "code",
   "execution_count": null,
   "metadata": {},
   "outputs": [],
   "source": []
  },
  {
   "cell_type": "code",
   "execution_count": null,
   "metadata": {},
   "outputs": [],
   "source": []
  },
  {
   "cell_type": "code",
   "execution_count": null,
   "metadata": {},
   "outputs": [],
   "source": []
  }
 ],
 "metadata": {
  "kernelspec": {
   "display_name": "Python 3",
   "language": "python",
   "name": "python3"
  },
  "language_info": {
   "codemirror_mode": {
    "name": "ipython",
    "version": 3
   },
   "file_extension": ".py",
   "mimetype": "text/x-python",
   "name": "python",
   "nbconvert_exporter": "python",
   "pygments_lexer": "ipython3",
   "version": "3.7.1"
  }
 },
 "nbformat": 4,
 "nbformat_minor": 2
}
