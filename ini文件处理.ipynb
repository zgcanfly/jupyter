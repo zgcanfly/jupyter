{
 "cells": [
  {
   "cell_type": "code",
   "execution_count": null,
   "metadata": {},
   "outputs": [],
   "source": [
    "#configpaser模块的Configparser类就是用来操作的\n",
    "#可以将section 当作key,section存储着键值对组成的字典，\n",
    "    #可以把ini配置文件当作一个嵌套的字典\n",
    "        #默认使用的是有序字典"
   ]
  },
  {
   "cell_type": "code",
   "execution_count": 6,
   "metadata": {},
   "outputs": [],
   "source": [
    "import configparser\n",
    "filenames='app.ini'\n",
    "cfg=configparser.ConfigParser()\n",
    "\n",
    "#读取ini文件 可以是单个文件 也可以是文件列表 可以指定文件编码"
   ]
  },
  {
   "cell_type": "code",
   "execution_count": 13,
   "metadata": {},
   "outputs": [
    {
     "name": "stdout",
     "output_type": "stream",
     "text": [
      "server <class 'str'>\n",
      "['http_addr', 'http_port', 'app_name', 'run_user', 'run_mode'] <class 'list'>\n"
     ]
    }
   ],
   "source": [
    "\n",
    "cfg.read(filenames)\n",
    "sections=cfg.sections()   #str list\n",
    "for sect in sections:\n",
    "    print(sect,type(sect))\n",
    "    options=cfg.options(sect)  \n",
    "    print(options,type(options))\n",
    "    break"
   ]
  },
  {
   "cell_type": "code",
   "execution_count": 21,
   "metadata": {},
   "outputs": [
    {
     "name": "stdout",
     "output_type": "stream",
     "text": [
      "server <class 'str'>\n",
      "http_addr = 0.0.0.0\n",
      "http_port = 3000\n",
      "app_name = magedu\n",
      "run_user = git\n",
      "run_mode = dev\n",
      "database <class 'str'>\n",
      "db_type = mysql\n",
      "host = 127.0.0.1:3306\n",
      "name = gogs\n",
      "user = gogs\n",
      "passwd = gogs\n",
      "app_name = magedu\n",
      "run_user = git\n",
      "run_mode = dev\n",
      "security <class 'str'>\n",
      "install_lock = false\n",
      "secret_key = www.magedu.com.(python).GIT:gogs\n",
      "app_name = magedu\n",
      "run_user = git\n",
      "run_mode = dev\n"
     ]
    }
   ],
   "source": [
    "\n",
    "cfg.read(filenames)\n",
    "sections=cfg.sections()   #str list\n",
    "for sect in sections:\n",
    "    print(sect,type(sect))\n",
    "    options=cfg.options(sect)  \n",
    "    for option in options:\n",
    "        val=cfg.get(sect,option)\n",
    "        print(option,'=',val)"
   ]
  },
  {
   "cell_type": "code",
   "execution_count": null,
   "metadata": {},
   "outputs": [],
   "source": []
  },
  {
   "cell_type": "code",
   "execution_count": null,
   "metadata": {},
   "outputs": [],
   "source": [
    "#read(filenames,encoding=None)\n",
    "    #读取ini文件，可以是单个文件，也可以是文件列表。可以指定文件编码\n",
    "#sections() 返回section列表.缺省section不包括在内\n",
    "#add_section(section_name) 增加一个section\n",
    "#has_section(section_name)判断section是否存在\n",
    "\n",
    "#options(section) 返回section的所有option,会追加缺省section的option"
   ]
  },
  {
   "cell_type": "code",
   "execution_count": null,
   "metadata": {},
   "outputs": [],
   "source": [
    "#get(section,option,*,raw=False,vars=None[,fallback])\n",
    "#从指定section上取值，如果找到返回,如果没有就去DEFAULT找\n",
    "#getint(section,option)\n",
    "#getfloat(section,option)\n",
    "#getboolean(section,option)\n",
    "#上面3个方法和get一样，返回指定类型数据\n",
    "port=cfg.getint('mysql','port')"
   ]
  },
  {
   "cell_type": "code",
   "execution_count": 22,
   "metadata": {},
   "outputs": [
    {
     "name": "stdout",
     "output_type": "stream",
     "text": [
      "('DEFAULT', <Section: DEFAULT>)\n",
      "('server', <Section: server>)\n",
      "('database', <Section: database>)\n",
      "('security', <Section: security>)\n"
     ]
    }
   ],
   "source": [
    "for item in cfg.items():\n",
    "    print(item)"
   ]
  },
  {
   "cell_type": "code",
   "execution_count": 26,
   "metadata": {},
   "outputs": [
    {
     "name": "stdout",
     "output_type": "stream",
     "text": [
      "('DEFAULT', <Section: DEFAULT>) [('app_name', 'magedu'), ('run_user', 'git'), ('run_mode', 'dev')]\n"
     ]
    }
   ],
   "source": [
    "for item in cfg.items():\n",
    "    print(item,cfg.items(item[0]))\n",
    "    break"
   ]
  },
  {
   "cell_type": "code",
   "execution_count": 27,
   "metadata": {},
   "outputs": [
    {
     "name": "stdout",
     "output_type": "stream",
     "text": [
      "OrderedDict([('server', OrderedDict([('http_addr', '0.0.0.0'), ('http_port', '3000')])), ('database', OrderedDict([('db_type', 'mysql'), ('host', '127.0.0.1:3306'), ('name', 'gogs'), ('user', 'gogs'), ('passwd', 'gogs')])), ('security', OrderedDict([('install_lock', 'false'), ('secret_key', 'www.magedu.com.(python).GIT:gogs')]))])\n"
     ]
    }
   ],
   "source": [
    "print(cfg._sections)"
   ]
  },
  {
   "cell_type": "code",
   "execution_count": 30,
   "metadata": {},
   "outputs": [],
   "source": [
    "cfg['server']['a']=str([(1,3,5)])\n",
    "\n",
    "with open('app.ini','w') as f:\n",
    "   cfg.write(f) "
   ]
  },
  {
   "cell_type": "code",
   "execution_count": 32,
   "metadata": {},
   "outputs": [
    {
     "ename": "DuplicateSectionError",
     "evalue": "Section 'mytest' already exists",
     "output_type": "error",
     "traceback": [
      "\u001b[0;31m---------------------------------------------------------------------------\u001b[0m",
      "\u001b[0;31mDuplicateSectionError\u001b[0m                     Traceback (most recent call last)",
      "\u001b[0;32m<ipython-input-32-e7eb8715c98a>\u001b[0m in \u001b[0;36m<module>\u001b[0;34m\u001b[0m\n\u001b[0;32m----> 1\u001b[0;31m \u001b[0mcfg\u001b[0m\u001b[0;34m.\u001b[0m\u001b[0madd_section\u001b[0m\u001b[0;34m(\u001b[0m\u001b[0;34m'mytest'\u001b[0m\u001b[0;34m)\u001b[0m\u001b[0;34m\u001b[0m\u001b[0;34m\u001b[0m\u001b[0m\n\u001b[0m\u001b[1;32m      2\u001b[0m \u001b[0mcfg\u001b[0m\u001b[0;34m[\u001b[0m\u001b[0;34m'mytest'\u001b[0m\u001b[0;34m]\u001b[0m\u001b[0;34m[\u001b[0m\u001b[0;34m'yuangg'\u001b[0m\u001b[0;34m]\u001b[0m\u001b[0;34m=\u001b[0m\u001b[0;34m'com'\u001b[0m\u001b[0;34m\u001b[0m\u001b[0;34m\u001b[0m\u001b[0m\n\u001b[1;32m      3\u001b[0m \u001b[0;32mwith\u001b[0m \u001b[0mopen\u001b[0m\u001b[0;34m(\u001b[0m\u001b[0;34m'mysql.ini'\u001b[0m\u001b[0;34m,\u001b[0m\u001b[0;34m'w'\u001b[0m\u001b[0;34m)\u001b[0m \u001b[0;32mas\u001b[0m \u001b[0mf\u001b[0m\u001b[0;34m:\u001b[0m\u001b[0;34m\u001b[0m\u001b[0;34m\u001b[0m\u001b[0m\n\u001b[1;32m      4\u001b[0m     \u001b[0mcfg\u001b[0m\u001b[0;34m.\u001b[0m\u001b[0mwrite\u001b[0m\u001b[0;34m(\u001b[0m\u001b[0mf\u001b[0m\u001b[0;34m)\u001b[0m\u001b[0;34m\u001b[0m\u001b[0;34m\u001b[0m\u001b[0m\n",
      "\u001b[0;32m/usr/local/lib/python3.7/configparser.py\u001b[0m in \u001b[0;36madd_section\u001b[0;34m(self, section)\u001b[0m\n\u001b[1;32m   1203\u001b[0m         a string.\"\"\"\n\u001b[1;32m   1204\u001b[0m         \u001b[0mself\u001b[0m\u001b[0;34m.\u001b[0m\u001b[0m_validate_value_types\u001b[0m\u001b[0;34m(\u001b[0m\u001b[0msection\u001b[0m\u001b[0;34m=\u001b[0m\u001b[0msection\u001b[0m\u001b[0;34m)\u001b[0m\u001b[0;34m\u001b[0m\u001b[0;34m\u001b[0m\u001b[0m\n\u001b[0;32m-> 1205\u001b[0;31m         \u001b[0msuper\u001b[0m\u001b[0;34m(\u001b[0m\u001b[0;34m)\u001b[0m\u001b[0;34m.\u001b[0m\u001b[0madd_section\u001b[0m\u001b[0;34m(\u001b[0m\u001b[0msection\u001b[0m\u001b[0;34m)\u001b[0m\u001b[0;34m\u001b[0m\u001b[0;34m\u001b[0m\u001b[0m\n\u001b[0m\u001b[1;32m   1206\u001b[0m \u001b[0;34m\u001b[0m\u001b[0m\n\u001b[1;32m   1207\u001b[0m     \u001b[0;32mdef\u001b[0m \u001b[0m_read_defaults\u001b[0m\u001b[0;34m(\u001b[0m\u001b[0mself\u001b[0m\u001b[0;34m,\u001b[0m \u001b[0mdefaults\u001b[0m\u001b[0;34m)\u001b[0m\u001b[0;34m:\u001b[0m\u001b[0;34m\u001b[0m\u001b[0;34m\u001b[0m\u001b[0m\n",
      "\u001b[0;32m/usr/local/lib/python3.7/configparser.py\u001b[0m in \u001b[0;36madd_section\u001b[0;34m(self, section)\u001b[0m\n\u001b[1;32m    656\u001b[0m \u001b[0;34m\u001b[0m\u001b[0m\n\u001b[1;32m    657\u001b[0m         \u001b[0;32mif\u001b[0m \u001b[0msection\u001b[0m \u001b[0;32min\u001b[0m \u001b[0mself\u001b[0m\u001b[0;34m.\u001b[0m\u001b[0m_sections\u001b[0m\u001b[0;34m:\u001b[0m\u001b[0;34m\u001b[0m\u001b[0;34m\u001b[0m\u001b[0m\n\u001b[0;32m--> 658\u001b[0;31m             \u001b[0;32mraise\u001b[0m \u001b[0mDuplicateSectionError\u001b[0m\u001b[0;34m(\u001b[0m\u001b[0msection\u001b[0m\u001b[0;34m)\u001b[0m\u001b[0;34m\u001b[0m\u001b[0;34m\u001b[0m\u001b[0m\n\u001b[0m\u001b[1;32m    659\u001b[0m         \u001b[0mself\u001b[0m\u001b[0;34m.\u001b[0m\u001b[0m_sections\u001b[0m\u001b[0;34m[\u001b[0m\u001b[0msection\u001b[0m\u001b[0;34m]\u001b[0m \u001b[0;34m=\u001b[0m \u001b[0mself\u001b[0m\u001b[0;34m.\u001b[0m\u001b[0m_dict\u001b[0m\u001b[0;34m(\u001b[0m\u001b[0;34m)\u001b[0m\u001b[0;34m\u001b[0m\u001b[0;34m\u001b[0m\u001b[0m\n\u001b[1;32m    660\u001b[0m         \u001b[0mself\u001b[0m\u001b[0;34m.\u001b[0m\u001b[0m_proxies\u001b[0m\u001b[0;34m[\u001b[0m\u001b[0msection\u001b[0m\u001b[0;34m]\u001b[0m \u001b[0;34m=\u001b[0m \u001b[0mSectionProxy\u001b[0m\u001b[0;34m(\u001b[0m\u001b[0mself\u001b[0m\u001b[0;34m,\u001b[0m \u001b[0msection\u001b[0m\u001b[0;34m)\u001b[0m\u001b[0;34m\u001b[0m\u001b[0;34m\u001b[0m\u001b[0m\n",
      "\u001b[0;31mDuplicateSectionError\u001b[0m: Section 'mytest' already exists"
     ]
    }
   ],
   "source": [
    "cfg.add_section('mytest1')\n",
    "cfg['mytest']['yuangg']='com'\n",
    "with open('mysql.ini','w') as f:\n",
    "    cfg.write(f)"
   ]
  },
  {
   "cell_type": "code",
   "execution_count": null,
   "metadata": {},
   "outputs": [],
   "source": []
  }
 ],
 "metadata": {
  "kernelspec": {
   "display_name": "Python 3",
   "language": "python",
   "name": "python3"
  },
  "language_info": {
   "codemirror_mode": {
    "name": "ipython",
    "version": 3
   },
   "file_extension": ".py",
   "mimetype": "text/x-python",
   "name": "python",
   "nbconvert_exporter": "python",
   "pygments_lexer": "ipython3",
   "version": "3.7.1"
  }
 },
 "nbformat": 4,
 "nbformat_minor": 2
}
