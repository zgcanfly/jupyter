{
 "cells": [
  {
   "cell_type": "code",
   "execution_count": null,
   "metadata": {},
   "outputs": [],
   "source": [
    "#写一个命令分发器\n",
    "    #程序员可以方便的注册函数刀某一个命令，用户输入命令时，路由到注册的函数\n",
    "    #如果此命令没有对应的注册函数、执行默认函数\n",
    "    #用户输入input('>>>')"
   ]
  },
  {
   "cell_type": "code",
   "execution_count": 2,
   "metadata": {},
   "outputs": [
    {
     "name": "stdout",
     "output_type": "stream",
     "text": [
      ">>python\n",
      "I’m python\n",
      ">>ls\n",
      "I'm ls\n",
      ">>a\n",
      "未知命令\n",
      ">>b\n",
      "未知命令\n",
      ">>quit\n"
     ]
    }
   ],
   "source": [
    "cmds={}\n",
    "def reg(c):\n",
    "    def _reg(fn):\n",
    "        cmds[c]=fn\n",
    "        return fn\n",
    "    return _reg\n",
    "\n",
    "def dispatcher():\n",
    "    def default_func():\n",
    "        print('未知命令')\n",
    "    while True:\n",
    "        cmd= input('>>').strip()\n",
    "        if cmd=='quit':\n",
    "            break\n",
    "        cmds.get(cmd,default_func)()\n",
    "        \n",
    "@reg('ls') #ls=reg('ls')(ls)\n",
    "def ls():\n",
    "    print(\"I'm ls\")\n",
    "     \n",
    "@reg('python')\n",
    "def python():\n",
    "    print('I’m python')\n",
    "    \n",
    "dispatcher()"
   ]
  },
  {
   "cell_type": "code",
   "execution_count": 3,
   "metadata": {},
   "outputs": [
    {
     "name": "stdout",
     "output_type": "stream",
     "text": [
      ">>ls\n",
      "I'm ls\n",
      ">>quit\n"
     ]
    }
   ],
   "source": [
    "def cmd_dispatcher():\n",
    "    cmds={}\n",
    "    def reg(c):\n",
    "        def _reg(fn):\n",
    "            cmds[c]=fn\n",
    "            return fn\n",
    "        return _reg\n",
    "\n",
    "    def disp():\n",
    "        def default_func():\n",
    "            print('未知命令')\n",
    "        while True:\n",
    "            cmd= input('>>').strip()\n",
    "            if cmd=='quit':\n",
    "                break\n",
    "            cmds.get(cmd,default_func)()\n",
    "    return reg,disp\n",
    "\n",
    "reg,dispatcher=cmd_dispatcher()\n",
    "\n",
    "@reg('ls') #ls=reg('ls')(ls)\n",
    "def ls():\n",
    "    print(\"I'm ls\")\n",
    "     \n",
    "@reg('python')\n",
    "def python():\n",
    "    print('I’m python')\n",
    "    \n",
    "dispatcher()"
   ]
  },
  {
   "cell_type": "code",
   "execution_count": null,
   "metadata": {},
   "outputs": [],
   "source": []
  },
  {
   "cell_type": "code",
   "execution_count": null,
   "metadata": {},
   "outputs": [],
   "source": [
    "#实现一个cache装饰器，实现可过期被清除的功能\n",
    "    #简化设计，函数的形参定义不包括可变位置参数、可变关键词参数和keyword-only参数\n",
    "    #可以不考虑缓存满了之后的换出问题"
   ]
  },
  {
   "cell_type": "code",
   "execution_count": null,
   "metadata": {},
   "outputs": [],
   "source": [
    "def cache(fn):\n",
    "    local_cache={}\n",
    "    def warpper(*args,**kwargs):\n",
    "        \n",
    "        ret=fn(*args,**kwargs)\n",
    "        return ret\n",
    "    return warpper\n",
    "\n",
    "def add(x,y,z):\n",
    "    return (sum(x,y,z))\n",
    "\n"
   ]
  },
  {
   "cell_type": "code",
   "execution_count": null,
   "metadata": {},
   "outputs": [],
   "source": [
    "import inspect\n",
    "\n",
    "def cache(fn):\n",
    "    local_cache={}\n",
    "    def warpper(*args,**kwargs):\n",
    "        \n",
    "        key=args\n",
    "        \n",
    "        sig=inspect.signature(fn)\n",
    "        params=sig.parameters\n",
    "        keys=params.keys()\n",
    "        values=params.values()\n",
    "        #add(4,5,z=6)\n",
    "        for i,val in enumerate(key):\n",
    "            key +=(keys[i],val) #(x,4,y,5,)\n",
    "        \n",
    "        for item in sorted(kwargs.items()):\n",
    "            key +=item          #(x,4,y,5,z,6)\n",
    "        \n",
    "        \n",
    "        if key not in local_cache:\n",
    "            local_cache[key]=fn(*args,**kwargs)\n",
    "        return local_cache[key]\n",
    "    return warpper\n",
    "\n",
    "def add(x,y,z):\n",
    "    return sum(x,y,z)\n",
    "\n"
   ]
  },
  {
   "cell_type": "code",
   "execution_count": null,
   "metadata": {},
   "outputs": [],
   "source": [
    "import inspect\n",
    "\n",
    "def cache(fn):\n",
    "    local_cache={}\n",
    "    def warpper(*args,**kwargs):\n",
    "        \n",
    "        params_dict={}\n",
    "        \n",
    "        sig=inspect.signature(fn)\n",
    "        params=sig.parameters\n",
    "        keys=params.keys()\n",
    "        values=params.values()\n",
    "        \n",
    "        #add(4,5,z=6)\n",
    "        #关键字参数\n",
    "        for i,val in enumerate(key):\n",
    "            k=keys[i]\n",
    "            params_dict[k]=val\n",
    "        \n",
    "        #(x,4,y,5,z,6)\n",
    "        #位置参数\n",
    "        for item in sorted(kwargs.items):\n",
    "            k,v=item\n",
    "            params_dict[k]=v\n",
    "            \n",
    "        #params_dict.update(kwargs)\n",
    "        #缺省值参数\n",
    "        for k,param in params.items():\n",
    "            if k not in params_dict.keys():\n",
    "                params_dict[k]=param.default\n",
    "        \n",
    "        #查询和缓存\n",
    "        if key not in local_cache:\n",
    "            local_cache[key]=fn(*args,**kwargs)\n",
    "        return local_cache[key]\n",
    "    return warpper\n",
    "\n",
    "def add(x,y,z):\n",
    "    return sum(x,y,z)\n",
    "\n"
   ]
  },
  {
   "cell_type": "code",
   "execution_count": null,
   "metadata": {},
   "outputs": [],
   "source": []
  },
  {
   "cell_type": "code",
   "execution_count": null,
   "metadata": {},
   "outputs": [],
   "source": []
  },
  {
   "cell_type": "code",
   "execution_count": null,
   "metadata": {},
   "outputs": [],
   "source": []
  },
  {
   "cell_type": "code",
   "execution_count": null,
   "metadata": {},
   "outputs": [],
   "source": []
  },
  {
   "cell_type": "code",
   "execution_count": null,
   "metadata": {},
   "outputs": [],
   "source": []
  },
  {
   "cell_type": "code",
   "execution_count": null,
   "metadata": {},
   "outputs": [],
   "source": []
  },
  {
   "cell_type": "code",
   "execution_count": null,
   "metadata": {},
   "outputs": [],
   "source": []
  }
 ],
 "metadata": {
  "kernelspec": {
   "display_name": "Python 3",
   "language": "python",
   "name": "python3"
  },
  "language_info": {
   "codemirror_mode": {
    "name": "ipython",
    "version": 3
   },
   "file_extension": ".py",
   "mimetype": "text/x-python",
   "name": "python",
   "nbconvert_exporter": "python",
   "pygments_lexer": "ipython3",
   "version": "3.7.1"
  }
 },
 "nbformat": 4,
 "nbformat_minor": 2
}
