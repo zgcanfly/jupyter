{
 "cells": [
  {
   "cell_type": "code",
   "execution_count": null,
   "metadata": {},
   "outputs": [],
   "source": [
    "# python3 引入两个新类型\n",
    "    #bytes\n",
    "        #不可变字节序列\n",
    "    #bytearray\n",
    "        #字节数组\n",
    "        #可变"
   ]
  },
  {
   "cell_type": "code",
   "execution_count": null,
   "metadata": {},
   "outputs": [],
   "source": [
    "#字符串与bytes\n",
    "    #字符串是字符组成的有序序列 ，字符可以使用编码来理解\n",
    "    #bytes是字节组成的有序的不可变序列\n",
    "    #bytearray是字节组成的有序的可变序列\n",
    "#编码与解码\n",
    "    #字符串按照不同的字符集编码encode返回字节序列bytes\n",
    "        #encode(encoding='utf-8'.errors='strict')->bytes\n",
    "    #字节序列按照不同的2字符集解码decode返回字符串\n",
    "        #bytes.decode(encode='utf-8',errors='strict') -> str\n",
    "        #bytearray.decode(encoding='utf-8',errors=\"strict\")->str"
   ]
  },
  {
   "cell_type": "code",
   "execution_count": 1,
   "metadata": {},
   "outputs": [
    {
     "data": {
      "text/plain": [
       "b'\\xe4\\xb8\\xad'"
      ]
     },
     "execution_count": 1,
     "metadata": {},
     "output_type": "execute_result"
    }
   ],
   "source": [
    "'中'.encode()"
   ]
  },
  {
   "cell_type": "code",
   "execution_count": 2,
   "metadata": {},
   "outputs": [
    {
     "data": {
      "text/plain": [
       "'中'"
      ]
     },
     "execution_count": 2,
     "metadata": {},
     "output_type": "execute_result"
    }
   ],
   "source": [
    "b'\\xe4\\xb8\\xad'.decode()"
   ]
  },
  {
   "cell_type": "code",
   "execution_count": 3,
   "metadata": {},
   "outputs": [
    {
     "data": {
      "text/plain": [
       "b'a'"
      ]
     },
     "execution_count": 3,
     "metadata": {},
     "output_type": "execute_result"
    }
   ],
   "source": [
    "'a'.encode()"
   ]
  },
  {
   "cell_type": "code",
   "execution_count": 4,
   "metadata": {},
   "outputs": [
    {
     "data": {
      "text/plain": [
       "'x97'"
      ]
     },
     "execution_count": 4,
     "metadata": {},
     "output_type": "execute_result"
    }
   ],
   "source": [
    "b'x97'.decode()"
   ]
  },
  {
   "cell_type": "code",
   "execution_count": null,
   "metadata": {},
   "outputs": [],
   "source": [
    "#bytes定义\n",
    "    #bytes() 空bytes\n",
    "    #bytes(int) 指定字节的bytes,被0填充\n",
    "    #bytes(iterable_of_ints) -> bytes[0,255] 的int组成的可迭代对象\n",
    "    #bytes(string,encoding[,errors])->bytes等价于string.encode()\n",
    "    #bytes(bytes_or_buffer) ->immutable copy of bytes_or_buffer 从一个字节序列或者buffer\n",
    "    #复制出一个新的不可变的bytes对象\n",
    "    \n",
    "    #使用b前缀定义\n",
    "        #只允许基本ASCII使用字符形式b'abc9'\n",
    "        #使用16进制表示b'\\x41\\x61'"
   ]
  },
  {
   "cell_type": "code",
   "execution_count": 5,
   "metadata": {},
   "outputs": [
    {
     "data": {
      "text/plain": [
       "b'\\x00\\x00\\x00\\x00\\x00\\x00'"
      ]
     },
     "execution_count": 5,
     "metadata": {},
     "output_type": "execute_result"
    }
   ],
   "source": [
    "bytes(6)"
   ]
  },
  {
   "cell_type": "code",
   "execution_count": null,
   "metadata": {},
   "outputs": [],
   "source": [
    "#bytes操作\n",
    "    #和str类型类似,都是不可变类型，所以方法很多都一样。只不过bnytes的方法，输入是bytes\n",
    "    #输出也是bytes\n",
    "    \n",
    "        #b'abcfe'.replace(b'f',b'k')\n",
    "        #b'abc'.find(b'b')\n",
    "#类方法 bytes.fromhex(string)\n",
    "    #string必须是2个字符的16进制的形式,'6162 6a 6b',空格将被忽略\n",
    "    #bytes.fromhex(6162 09 6a 6b00)\n",
    "#hex()\n",
    "    #返回16进制表示的"
   ]
  },
  {
   "cell_type": "code",
   "execution_count": null,
   "metadata": {},
   "outputs": [],
   "source": [
    "\n"
   ]
  },
  {
   "cell_type": "code",
   "execution_count": null,
   "metadata": {},
   "outputs": [],
   "source": []
  },
  {
   "cell_type": "code",
   "execution_count": null,
   "metadata": {},
   "outputs": [],
   "source": []
  },
  {
   "cell_type": "code",
   "execution_count": null,
   "metadata": {},
   "outputs": [],
   "source": []
  },
  {
   "cell_type": "code",
   "execution_count": null,
   "metadata": {},
   "outputs": [],
   "source": []
  },
  {
   "cell_type": "code",
   "execution_count": null,
   "metadata": {},
   "outputs": [],
   "source": []
  },
  {
   "cell_type": "code",
   "execution_count": null,
   "metadata": {},
   "outputs": [],
   "source": []
  }
 ],
 "metadata": {
  "kernelspec": {
   "display_name": "Python 3",
   "language": "python",
   "name": "python3"
  },
  "language_info": {
   "codemirror_mode": {
    "name": "ipython",
    "version": 3
   },
   "file_extension": ".py",
   "mimetype": "text/x-python",
   "name": "python",
   "nbconvert_exporter": "python",
   "pygments_lexer": "ipython3",
   "version": "3.7.1"
  }
 },
 "nbformat": 4,
 "nbformat_minor": 2
}
