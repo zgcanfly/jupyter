{
 "cells": [
  {
   "cell_type": "code",
   "execution_count": null,
   "metadata": {},
   "outputs": [],
   "source": [
    " #字符串 \n",
    "    #一个个字符组成的有序的序列，是字符的集合\n",
    "    #使用单引号、双引号、三引号引注的字符序列\n",
    "    \n",
    "#字符串是不可变对象\n",
    "\n",
    "#python3起，字符串就是Unicode类型\n",
    "\n",
    "#空字符串==False\n",
    "\n"
   ]
  },
  {
   "cell_type": "code",
   "execution_count": 2,
   "metadata": {},
   "outputs": [],
   "source": [
    "#举例\n",
    "\n",
    "s1 = 'string'\n",
    "s2=\"string\"\n",
    "s3= '''this's a \"string\"'''\n",
    "s4='hello \\n magedu.com'\n",
    "s5=r\"hello \\n magedu.com\" #前面带R代表\\不做特殊转义\n",
    "s6 = 'c:\\windows\\nt'\n",
    "s7=R\"c:\\windows\\nt\"  #前面带R代表\\不做特殊转义\n",
    "s8='c:\\windows\\\\nt'\n",
    "sql=\"\"\"select * from user where name='tom'\"\"\"  #三个\"引号代表里面的任何符号都不做转义"
   ]
  },
  {
   "cell_type": "code",
   "execution_count": null,
   "metadata": {},
   "outputs": [],
   "source": []
  },
  {
   "cell_type": "code",
   "execution_count": null,
   "metadata": {},
   "outputs": [],
   "source": []
  },
  {
   "cell_type": "code",
   "execution_count": null,
   "metadata": {},
   "outputs": [],
   "source": []
  },
  {
   "cell_type": "code",
   "execution_count": null,
   "metadata": {},
   "outputs": [],
   "source": []
  }
 ],
 "metadata": {
  "kernelspec": {
   "display_name": "Python 3",
   "language": "python",
   "name": "python3"
  },
  "language_info": {
   "codemirror_mode": {
    "name": "ipython",
    "version": 3
   },
   "file_extension": ".py",
   "mimetype": "text/x-python",
   "name": "python",
   "nbconvert_exporter": "python",
   "pygments_lexer": "ipython3",
   "version": "3.7.1"
  }
 },
 "nbformat": 4,
 "nbformat_minor": 2
}
