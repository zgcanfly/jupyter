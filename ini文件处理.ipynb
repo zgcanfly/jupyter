{
 "cells": [
  {
   "cell_type": "code",
   "execution_count": null,
   "metadata": {},
   "outputs": [],
   "source": [
    "#configpaser模块的Configparser类就是用来操作的\n",
    "#可以将section 当作key,section存储着键值对组成的字典，\n",
    "    #可以把ini配置文件当作一个嵌套的字典\n",
    "        #默认使用的是有序字典"
   ]
  },
  {
   "cell_type": "code",
   "execution_count": 6,
   "metadata": {},
   "outputs": [],
   "source": [
    "import configparser\n",
    "filenames='app.ini'\n",
    "cfg=configparser.ConfigParser()\n",
    "\n",
    "#读取ini文件 可以是单个文件 也可以是文件列表 可以指定文件编码"
   ]
  },
  {
   "cell_type": "code",
   "execution_count": 13,
   "metadata": {},
   "outputs": [
    {
     "name": "stdout",
     "output_type": "stream",
     "text": [
      "server <class 'str'>\n",
      "['http_addr', 'http_port', 'app_name', 'run_user', 'run_mode'] <class 'list'>\n"
     ]
    }
   ],
   "source": [
    "\n",
    "cfg.read(filenames)\n",
    "sections=cfg.sections()   #str list\n",
    "for sect in sections:\n",
    "    print(sect,type(sect))\n",
    "    options=cfg.options(sect)  \n",
    "    print(options,type(options))\n",
    "    break"
   ]
  },
  {
   "cell_type": "code",
   "execution_count": 21,
   "metadata": {},
   "outputs": [
    {
     "name": "stdout",
     "output_type": "stream",
     "text": [
      "server <class 'str'>\n",
      "http_addr = 0.0.0.0\n",
      "http_port = 3000\n",
      "app_name = magedu\n",
      "run_user = git\n",
      "run_mode = dev\n",
      "database <class 'str'>\n",
      "db_type = mysql\n",
      "host = 127.0.0.1:3306\n",
      "name = gogs\n",
      "user = gogs\n",
      "passwd = gogs\n",
      "app_name = magedu\n",
      "run_user = git\n",
      "run_mode = dev\n",
      "security <class 'str'>\n",
      "install_lock = false\n",
      "secret_key = www.magedu.com.(python).GIT:gogs\n",
      "app_name = magedu\n",
      "run_user = git\n",
      "run_mode = dev\n"
     ]
    }
   ],
   "source": [
    "\n",
    "cfg.read(filenames)\n",
    "sections=cfg.sections()   #str list\n",
    "for sect in sections:\n",
    "    print(sect,type(sect))\n",
    "    options=cfg.options(sect)  \n",
    "    for option in options:\n",
    "        val=cfg.get(sect,option)\n",
    "        print(option,'=',val)"
   ]
  },
  {
   "cell_type": "code",
   "execution_count": null,
   "metadata": {},
   "outputs": [],
   "source": []
  },
  {
   "cell_type": "code",
   "execution_count": null,
   "metadata": {},
   "outputs": [],
   "source": []
  },
  {
   "cell_type": "code",
   "execution_count": null,
   "metadata": {},
   "outputs": [],
   "source": []
  },
  {
   "cell_type": "code",
   "execution_count": null,
   "metadata": {},
   "outputs": [],
   "source": []
  },
  {
   "cell_type": "code",
   "execution_count": null,
   "metadata": {},
   "outputs": [],
   "source": []
  },
  {
   "cell_type": "code",
   "execution_count": null,
   "metadata": {},
   "outputs": [],
   "source": []
  },
  {
   "cell_type": "code",
   "execution_count": null,
   "metadata": {},
   "outputs": [],
   "source": []
  },
  {
   "cell_type": "code",
   "execution_count": null,
   "metadata": {},
   "outputs": [],
   "source": [
    "\n"
   ]
  }
 ],
 "metadata": {
  "kernelspec": {
   "display_name": "Python 3",
   "language": "python",
   "name": "python3"
  },
  "language_info": {
   "codemirror_mode": {
    "name": "ipython",
    "version": 3
   },
   "file_extension": ".py",
   "mimetype": "text/x-python",
   "name": "python",
   "nbconvert_exporter": "python",
   "pygments_lexer": "ipython3",
   "version": "3.7.1"
  }
 },
 "nbformat": 4,
 "nbformat_minor": 2
}
