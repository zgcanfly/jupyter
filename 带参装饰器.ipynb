{
 "cells": [
  {
   "cell_type": "code",
   "execution_count": 4,
   "metadata": {
    "scrolled": true
   },
   "outputs": [
    {
     "name": "stdout",
     "output_type": "stream",
     "text": [
      "args=(4, 5) ,kwargs={}\n",
      "======call add =======\n",
      "functionadd took 2.006005s\n",
      "9\n"
     ]
    }
   ],
   "source": [
    "import datetime\n",
    "import time\n",
    "\n",
    "def logger(fn):\n",
    "    def wrap(*args,**kwargs):\n",
    "        #before\n",
    "        print(\"args={} ,kwargs={}\".format(args,kwargs))\n",
    "        start=datetime.datetime.now()\n",
    "        ret = fn(*args,**kwargs)\n",
    "        \n",
    "        #after\n",
    "        duration=datetime.datetime.now() - start\n",
    "        print(\"function{} took {}s\".format(fn.__name__,duration.total_seconds()))\n",
    "        return ret\n",
    "    return wrap\n",
    "    \n",
    "@logger\n",
    "def add(x,y):\n",
    "    print(\"======call add =======\")\n",
    "    time.sleep(2)\n",
    "    return x+y\n",
    "\n",
    "print(add(4,5))"
   ]
  },
  {
   "cell_type": "code",
   "execution_count": 9,
   "metadata": {},
   "outputs": [
    {
     "name": "stdout",
     "output_type": "stream",
     "text": [
      "name:add\n",
      "doc: This is a function of addition\n",
      "    example:\n",
      "        add(4,5)\n",
      "    \n",
      "\n",
      "-----\n",
      "Help on function add in module __main__:\n",
      "\n",
      "add(x, y)\n",
      "    This is a function of addition\n",
      "    example:\n",
      "        add(4,5)\n",
      "\n",
      "None\n"
     ]
    }
   ],
   "source": [
    "\n",
    "#python文档书写\n",
    "def add(x,y):\n",
    "    \"\"\" This is a function of addition #必须写在第一行\n",
    "    example:\n",
    "        add(4,5)\n",
    "    \"\"\"\n",
    "    return x+y\n",
    "print(\"name:{}\\ndoc:{}\".format(add.__name__,add.__doc__))\n",
    "print('\\n-----')\n",
    "print(help(add))"
   ]
  },
  {
   "cell_type": "code",
   "execution_count": 14,
   "metadata": {},
   "outputs": [
    {
     "name": "stdout",
     "output_type": "stream",
     "text": [
      "args=(4, 5) ,kwargs={}\n",
      "======call add =======\n",
      "functionadd took 2.002545s\n",
      "9 add  I'm add\n"
     ]
    }
   ],
   "source": [
    "import datetime\n",
    "import time\n",
    "\n",
    "def logger(fn):\n",
    "    \"\"\" I'm wrap\"\"\"\n",
    "    def wrap(*args,**kwargs):\n",
    "        #before\n",
    "        print(\"args={} ,kwargs={}\".format(args,kwargs))\n",
    "        start=datetime.datetime.now()\n",
    "        ret = fn(*args,**kwargs)\n",
    "        \n",
    "        #after\n",
    "        duration=datetime.datetime.now() - start\n",
    "        print(\"function{} took {}s\".format(fn.__name__,duration.total_seconds()))\n",
    "        return ret\n",
    "    wrap.__name__=fn.__name__\n",
    "    wrap.__doc__=fn.__doc__\n",
    "    return wrap\n",
    "    \n",
    "@logger\n",
    "def add(x,y):\n",
    "    \"\"\" I'm add\"\"\"\n",
    "    print(\"======call add =======\")\n",
    "    time.sleep(2)\n",
    "    return x+y\n",
    "\n",
    "print(add(4,5),add.__name__,add.__doc__)"
   ]
  },
  {
   "cell_type": "code",
   "execution_count": 18,
   "metadata": {},
   "outputs": [
    {
     "name": "stdout",
     "output_type": "stream",
     "text": [
      "args=(4, 5) ,kwargs={}\n",
      "======call add =======\n",
      "functionadd took 2.002349s\n",
      "9 add  I'm add\n"
     ]
    }
   ],
   "source": [
    "import datetime\n",
    "import time\n",
    "\n",
    "\n",
    "def copy_properties(src,dest):\n",
    "    dest.__name__=src.__name__\n",
    "    dest.__doc__=src.__doc__\n",
    "    #还有很多属性\n",
    "    \n",
    "    \n",
    "def logger(fn):\n",
    "    def wrap(*args,**kwargs):\n",
    "        \"\"\" I'm wrap\"\"\"\n",
    "        #before\n",
    "        print(\"args={} ,kwargs={}\".format(args,kwargs))\n",
    "        start=datetime.datetime.now()\n",
    "        ret = fn(*args,**kwargs)\n",
    "        \n",
    "        #after\n",
    "        duration=datetime.datetime.now() - start\n",
    "        print(\"function{} took {}s\".format(fn.__name__,duration.total_seconds()))\n",
    "        return ret\n",
    "    copy_properties(fn,wrap)\n",
    "    return wrap\n",
    "    \n",
    "@logger\n",
    "def add(x,y):\n",
    "    \"\"\" I'm add\"\"\"\n",
    "    print(\"======call add =======\")\n",
    "    time.sleep(2)\n",
    "    return x+y\n",
    "\n",
    "print(add(4,5),add.__name__,add.__doc__)"
   ]
  },
  {
   "cell_type": "code",
   "execution_count": 22,
   "metadata": {},
   "outputs": [
    {
     "ename": "TypeError",
     "evalue": "copy_properties() takes 1 positional argument but 2 were given",
     "output_type": "error",
     "traceback": [
      "\u001b[0;31m---------------------------------------------------------------------------\u001b[0m",
      "\u001b[0;31mTypeError\u001b[0m                                 Traceback (most recent call last)",
      "\u001b[0;32m<ipython-input-22-4b570a2b58cc>\u001b[0m in \u001b[0;36m<module>\u001b[0;34m\u001b[0m\n\u001b[1;32m     29\u001b[0m     \u001b[0;32mreturn\u001b[0m \u001b[0mwrap\u001b[0m\u001b[0;34m\u001b[0m\u001b[0;34m\u001b[0m\u001b[0m\n\u001b[1;32m     30\u001b[0m \u001b[0;34m\u001b[0m\u001b[0m\n\u001b[0;32m---> 31\u001b[0;31m \u001b[0;34m@\u001b[0m\u001b[0mlogger\u001b[0m\u001b[0;34m\u001b[0m\u001b[0;34m\u001b[0m\u001b[0m\n\u001b[0m\u001b[1;32m     32\u001b[0m \u001b[0;32mdef\u001b[0m \u001b[0madd\u001b[0m\u001b[0;34m(\u001b[0m\u001b[0mx\u001b[0m\u001b[0;34m,\u001b[0m\u001b[0my\u001b[0m\u001b[0;34m)\u001b[0m\u001b[0;34m:\u001b[0m\u001b[0;34m\u001b[0m\u001b[0;34m\u001b[0m\u001b[0m\n\u001b[1;32m     33\u001b[0m     \u001b[0;34m\"\"\" I'm add\"\"\"\u001b[0m\u001b[0;34m\u001b[0m\u001b[0;34m\u001b[0m\u001b[0m\n",
      "\u001b[0;32m<ipython-input-22-4b570a2b58cc>\u001b[0m in \u001b[0;36mlogger\u001b[0;34m(fn)\u001b[0m\n\u001b[1;32m     26\u001b[0m         \u001b[0mprint\u001b[0m\u001b[0;34m(\u001b[0m\u001b[0;34m\"function{} took {}s\"\u001b[0m\u001b[0;34m.\u001b[0m\u001b[0mformat\u001b[0m\u001b[0;34m(\u001b[0m\u001b[0mfn\u001b[0m\u001b[0;34m.\u001b[0m\u001b[0m__name__\u001b[0m\u001b[0;34m,\u001b[0m\u001b[0mduration\u001b[0m\u001b[0;34m.\u001b[0m\u001b[0mtotal_seconds\u001b[0m\u001b[0;34m(\u001b[0m\u001b[0;34m)\u001b[0m\u001b[0;34m)\u001b[0m\u001b[0;34m)\u001b[0m\u001b[0;34m\u001b[0m\u001b[0;34m\u001b[0m\u001b[0m\n\u001b[1;32m     27\u001b[0m         \u001b[0;32mreturn\u001b[0m \u001b[0mret\u001b[0m\u001b[0;34m\u001b[0m\u001b[0;34m\u001b[0m\u001b[0m\n\u001b[0;32m---> 28\u001b[0;31m     \u001b[0mcopy_properties\u001b[0m\u001b[0;34m(\u001b[0m\u001b[0mfn\u001b[0m\u001b[0;34m,\u001b[0m\u001b[0mwrap\u001b[0m\u001b[0;34m)\u001b[0m\u001b[0;34m\u001b[0m\u001b[0;34m\u001b[0m\u001b[0m\n\u001b[0m\u001b[1;32m     29\u001b[0m     \u001b[0;32mreturn\u001b[0m \u001b[0mwrap\u001b[0m\u001b[0;34m\u001b[0m\u001b[0;34m\u001b[0m\u001b[0m\n\u001b[1;32m     30\u001b[0m \u001b[0;34m\u001b[0m\u001b[0m\n",
      "\u001b[0;31mTypeError\u001b[0m: copy_properties() takes 1 positional argument but 2 were given"
     ]
    }
   ],
   "source": [
    "import datetime\n",
    "import time\n",
    "\n",
    "\n",
    "def copy_properties(src):\n",
    "    def _inner(dest):\n",
    "        dest.__name__=src.__name__\n",
    "        dest.__doc__=src.__doc__\n",
    "        return dest\n",
    "    return _inner\n",
    "    #还有很多属性\n",
    "    \n",
    "    \n",
    "def logger(fn):\n",
    "    @copy_properties(fn)  # _inner wrapper =wraper copy_properties(fn)(wrapper)\n",
    "    # @_inner ==>wrapper = _inner(wrapper)\n",
    "    def wrap(*args,**kwargs):\n",
    "        \"\"\" I'm wrap\"\"\"\n",
    "        #before\n",
    "        print(\"args={} ,kwargs={}\".format(args,kwargs))\n",
    "        start=datetime.datetime.now()\n",
    "        ret = fn(*args,**kwargs)\n",
    "        \n",
    "        #after\n",
    "        duration=datetime.datetime.now() - start\n",
    "        print(\"function{} took {}s\".format(fn.__name__,duration.total_seconds()))\n",
    "        return ret\n",
    "    copy_properties(fn,wrap)\n",
    "    return wrap\n",
    "    \n",
    "@logger\n",
    "def add(x,y):\n",
    "    \"\"\" I'm add\"\"\"\n",
    "    print(\"======call add =======\")\n",
    "    time.sleep(2)\n",
    "    return x+y\n",
    "\n",
    "print(add(4,5),add.__name__,add.__doc__)"
   ]
  },
  {
   "cell_type": "code",
   "execution_count": null,
   "metadata": {},
   "outputs": [],
   "source": []
  },
  {
   "cell_type": "code",
   "execution_count": null,
   "metadata": {},
   "outputs": [],
   "source": []
  },
  {
   "cell_type": "code",
   "execution_count": null,
   "metadata": {},
   "outputs": [],
   "source": []
  },
  {
   "cell_type": "code",
   "execution_count": null,
   "metadata": {},
   "outputs": [],
   "source": []
  },
  {
   "cell_type": "code",
   "execution_count": null,
   "metadata": {},
   "outputs": [],
   "source": []
  }
 ],
 "metadata": {
  "kernelspec": {
   "display_name": "Python 3",
   "language": "python",
   "name": "python3"
  },
  "language_info": {
   "codemirror_mode": {
    "name": "ipython",
    "version": 3
   },
   "file_extension": ".py",
   "mimetype": "text/x-python",
   "name": "python",
   "nbconvert_exporter": "python",
   "pygments_lexer": "ipython3",
   "version": "3.7.1"
  }
 },
 "nbformat": 4,
 "nbformat_minor": 2
}
