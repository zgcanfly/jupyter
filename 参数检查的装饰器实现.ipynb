{
 "cells": [
  {
   "cell_type": "code",
   "execution_count": null,
   "metadata": {},
   "outputs": [],
   "source": [
    "#上节回顾\n",
    "    #inspect模块\n",
    "        #功能\n",
    "            #inspect.isfunction(add) 是否是函数\n",
    "            #inspect.ismethod(add) 是否是类的方法\n",
    "            #inspect.isgenerator(add)  是否是生成器对象\n",
    "            #inspect.isgeneratorfunction(add) 是否是生成器函数\n",
    "            #inspect.ismodule(inspect) 是否是模块\n",
    "            #inspect.isbuiltin(print) 是否是内建模块\n",
    "            #还有很多is函数自己需要去看"
   ]
  },
  {
   "cell_type": "code",
   "execution_count": null,
   "metadata": {},
   "outputs": [],
   "source": [
    "#signature(callable)获取签名(可以拿到函数参数 类型 等)"
   ]
  },
  {
   "cell_type": "code",
   "execution_count": 2,
   "metadata": {},
   "outputs": [
    {
     "name": "stdout",
     "output_type": "stream",
     "text": [
      "(x, y: int = 7, *args, **kargs)\n",
      "OrderedDict([('x', <Parameter \"x\">), ('y', <Parameter \"y: int = 7\">), ('args', <Parameter \"*args\">), ('kargs', <Parameter \"**kargs\">)])\n",
      "<class 'inspect._empty'>\n"
     ]
    }
   ],
   "source": [
    "import inspect\n",
    "def add(x,y:int=7,*args,**kargs):\n",
    "    return x+y\n",
    "\n",
    "sig=inspect.signature(add)\n",
    "print(sig)\n",
    "print(sig.parameters)\n",
    "\n",
    "print(sig.return_annotation)"
   ]
  },
  {
   "cell_type": "code",
   "execution_count": 3,
   "metadata": {},
   "outputs": [
    {
     "name": "stdout",
     "output_type": "stream",
     "text": [
      "1 x <class 'inspect._empty'> POSITIONAL_OR_KEYWORD <class 'inspect._empty'>\n",
      "2 y <class 'int'> POSITIONAL_OR_KEYWORD 7\n",
      "3 args <class 'inspect._empty'> VAR_POSITIONAL <class 'inspect._empty'>\n",
      "4 kargs <class 'inspect._empty'> VAR_KEYWORD <class 'inspect._empty'>\n"
     ]
    }
   ],
   "source": [
    "for i,item in enumerate(sig.parameters.items()):\n",
    "    name,param = item\n",
    "    print(i+1,name,param.annotation,param.kind,param.default)"
   ]
  },
  {
   "cell_type": "code",
   "execution_count": null,
   "metadata": {},
   "outputs": [],
   "source": []
  },
  {
   "cell_type": "code",
   "execution_count": 4,
   "metadata": {},
   "outputs": [],
   "source": [
    "#业务应用\n",
    "#有函数如下\n",
    "\n",
    "def add(x,y:int=7)->int:\n",
    "    return x+y\n",
    "#请检查用户输入是否符合参数注解的要求？\n",
    "\n"
   ]
  },
  {
   "cell_type": "code",
   "execution_count": 9,
   "metadata": {},
   "outputs": [
    {
     "name": "stdout",
     "output_type": "stream",
     "text": [
      "x == 4\n",
      "y == 10\n"
     ]
    },
    {
     "data": {
      "text/plain": [
       "14"
      ]
     },
     "execution_count": 9,
     "metadata": {},
     "output_type": "execute_result"
    }
   ],
   "source": [
    "import inspect\n",
    "import functools\n",
    "\n",
    "def check(fn):\n",
    "    @functools.wraps(fn)\n",
    "    def wrapper(*args,**kwargs):\n",
    "        #检查\n",
    "        sig=inspect.signature(fn)\n",
    "        params=sig.parameters #拿到有序的字典\n",
    "        #(4,'abc')  args\n",
    "        #keys=[x for x in param.keys()]     out: ['x',y]\n",
    "        keys=list(params.keys())\n",
    "        values = list(params.values())\n",
    "            \n",
    "        #[int,int]\n",
    "        #搞定位置传参\n",
    "        for i,val in enumerate(args):\n",
    "            if isinstance(val,values[i].annotation):\n",
    "                print(keys[i],'==',val)\n",
    "                \n",
    "                \n",
    "                \n",
    "        ret=fn(*args,**kwargs)\n",
    "        return ret\n",
    "    return wrapper\n",
    "        \n",
    "@check\n",
    "def add(x:int,y:int=7)->int:  #add = @check(add)\n",
    "    return x+y\n",
    "\n",
    "\n",
    "#add(4,'abc')\n",
    "add(4,10)"
   ]
  },
  {
   "cell_type": "code",
   "execution_count": null,
   "metadata": {},
   "outputs": [],
   "source": [
    "import inspect\n",
    "import functools\n",
    "\n",
    "def check(fn):\n",
    "    @functools.wraps(fn)\n",
    "    def wrapper(*args,**kwargs):\n",
    "        #检查\n",
    "        sig=inspect.signature(fn)\n",
    "        params=sig.parameters #拿到有序的字典\n",
    "        #(4,'abc')  args\n",
    "        #keys=[x for x in param.keys()]     out: ['x',y]\n",
    "        keys=list(params.keys())\n",
    "        values = list(params.values())\n",
    "            \n",
    "        #[int,int]  \n",
    "        #如何搞定关键字传参\n",
    "        for i,val in enumerate(args):\n",
    "            if isinstance(val,values[i].annotation):\n",
    "                print(keys[i],'==',val)\n",
    "                \n",
    "                \n",
    "                \n",
    "        ret=fn(*args,**kwargs)\n",
    "        return ret\n",
    "    return wrapper\n",
    "        \n",
    "@check\n",
    "def add(x:int,y:int=7)->int:  #add = @check(add)\n",
    "    return x+y\n",
    "\n",
    "\n",
    "#add(4,'abc')\n",
    "add(x=4,y=10)"
   ]
  },
  {
   "cell_type": "code",
   "execution_count": 14,
   "metadata": {},
   "outputs": [
    {
     "name": "stdout",
     "output_type": "stream",
     "text": [
      "(x: int, y: int = 7, *args, **kargs)\n",
      "odict_keys(['x', 'y', 'args', 'kargs'])\n",
      "[<Parameter \"x: int\">, <Parameter \"y: int = 7\">, <Parameter \"*args\">, <Parameter \"**kargs\">]\n"
     ]
    }
   ],
   "source": [
    "import inspect\n",
    "def add(x:int,y:int=7,*args,**kargs):\n",
    "    return x+y\n",
    "\n",
    "sig=inspect.signature(add)\n",
    "print(sig)\n",
    "print(sig.parameters.keys())\n",
    "print(list(sig.parameters.values()))"
   ]
  },
  {
   "cell_type": "code",
   "execution_count": null,
   "metadata": {},
   "outputs": [],
   "source": []
  },
  {
   "cell_type": "code",
   "execution_count": null,
   "metadata": {},
   "outputs": [],
   "source": []
  },
  {
   "cell_type": "code",
   "execution_count": null,
   "metadata": {},
   "outputs": [],
   "source": []
  },
  {
   "cell_type": "code",
   "execution_count": null,
   "metadata": {},
   "outputs": [],
   "source": []
  },
  {
   "cell_type": "code",
   "execution_count": null,
   "metadata": {},
   "outputs": [],
   "source": []
  },
  {
   "cell_type": "code",
   "execution_count": null,
   "metadata": {},
   "outputs": [],
   "source": []
  }
 ],
 "metadata": {
  "kernelspec": {
   "display_name": "Python 3",
   "language": "python",
   "name": "python3"
  },
  "language_info": {
   "codemirror_mode": {
    "name": "ipython",
    "version": 3
   },
   "file_extension": ".py",
   "mimetype": "text/x-python",
   "name": "python",
   "nbconvert_exporter": "python",
   "pygments_lexer": "ipython3",
   "version": "3.7.1"
  }
 },
 "nbformat": 4,
 "nbformat_minor": 2
}
