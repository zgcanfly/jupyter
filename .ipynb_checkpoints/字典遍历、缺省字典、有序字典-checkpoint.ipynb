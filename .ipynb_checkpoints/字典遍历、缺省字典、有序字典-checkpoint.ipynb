{
 "cells": [
  {
   "cell_type": "code",
   "execution_count": 1,
   "metadata": {},
   "outputs": [],
   "source": [
    "d={'a':1,'b':[],'c':200}"
   ]
  },
  {
   "cell_type": "code",
   "execution_count": 2,
   "metadata": {},
   "outputs": [
    {
     "name": "stdout",
     "output_type": "stream",
     "text": [
      "a\n",
      "b\n",
      "c\n"
     ]
    }
   ],
   "source": [
    "for i in d:\n",
    "    print(i)"
   ]
  },
  {
   "cell_type": "code",
   "execution_count": 3,
   "metadata": {},
   "outputs": [
    {
     "name": "stdout",
     "output_type": "stream",
     "text": [
      "a\n",
      "b\n",
      "c\n"
     ]
    }
   ],
   "source": [
    "for i in d.keys():  #遍历取keys\n",
    "    print(i)"
   ]
  },
  {
   "cell_type": "code",
   "execution_count": null,
   "metadata": {},
   "outputs": [],
   "source": []
  },
  {
   "cell_type": "code",
   "execution_count": 10,
   "metadata": {},
   "outputs": [
    {
     "name": "stdout",
     "output_type": "stream",
     "text": [
      "1\n",
      "[]\n",
      "200\n"
     ]
    }
   ],
   "source": [
    "for val in d.values(): #遍历去values\n",
    "    print(val)"
   ]
  },
  {
   "cell_type": "code",
   "execution_count": 9,
   "metadata": {},
   "outputs": [
    {
     "data": {
      "text/plain": [
       "{'a': 1, 'b': [], 'c': 200}"
      ]
     },
     "execution_count": 9,
     "metadata": {},
     "output_type": "execute_result"
    }
   ],
   "source": [
    "d"
   ]
  },
  {
   "cell_type": "code",
   "execution_count": 12,
   "metadata": {},
   "outputs": [
    {
     "name": "stdout",
     "output_type": "stream",
     "text": [
      "a 1\n",
      "b []\n",
      "c 200\n"
     ]
    }
   ],
   "source": [
    "for k,v in d.items():  #遍历取values and keys\n",
    "    print(k,v) "
   ]
  },
  {
   "cell_type": "code",
   "execution_count": 13,
   "metadata": {},
   "outputs": [
    {
     "name": "stdout",
     "output_type": "stream",
     "text": [
      "1\n",
      "[]\n",
      "200\n"
     ]
    }
   ],
   "source": [
    "for key in d.keys():\n",
    "    print(d[key])"
   ]
  },
  {
   "cell_type": "code",
   "execution_count": 14,
   "metadata": {},
   "outputs": [
    {
     "name": "stdout",
     "output_type": "stream",
     "text": [
      "1\n",
      "[]\n",
      "200\n"
     ]
    }
   ],
   "source": [
    "for key in d.keys():\n",
    "    print(d.get(key))"
   ]
  },
  {
   "cell_type": "code",
   "execution_count": 15,
   "metadata": {},
   "outputs": [
    {
     "name": "stdout",
     "output_type": "stream",
     "text": [
      "('a', 1)\n",
      "('b', [])\n",
      "('c', 200)\n"
     ]
    }
   ],
   "source": [
    "for kv in d.items():  #遍历取values and keys\n",
    "    print(kv) "
   ]
  },
  {
   "cell_type": "code",
   "execution_count": null,
   "metadata": {},
   "outputs": [],
   "source": [
    " #字典遍历\n",
    "        #总结\n",
    "            #在python3中，keys，values，items方法返回一个类似一个生成器的可迭代对象，不会把函数的返回结果复制到内存中\n",
    "                #dictionary view对象\n",
    "                #字典的entry的动态的视图，字典变化，视图将反映出这些变化\n",
    "            #在python2中，上面的方法会返回一个新的列表，占据新的内存空间。所以0Python2建议使用iterkeys、\n",
    "                #itervalues、iteritems版本，返回一个迭代器，而不是一个copy"
   ]
  },
  {
   "cell_type": "code",
   "execution_count": 20,
   "metadata": {},
   "outputs": [
    {
     "name": "stdout",
     "output_type": "stream",
     "text": [
      "{'a': [0, 1, 2, 3, 4], 'b': [0], 'c': [0], 'd': [0], 'e': [0, 1]}\n"
     ]
    }
   ],
   "source": [
    "import random\n",
    "d={}\n",
    "for c in 'abcde':\n",
    "    for i in range(random.randint(1,5)):\n",
    "        if c not in d.keys():\n",
    "            d[c] = []\n",
    "        d[c].append(i)\n",
    "print(d)"
   ]
  },
  {
   "cell_type": "code",
   "execution_count": 17,
   "metadata": {},
   "outputs": [
    {
     "name": "stdout",
     "output_type": "stream",
     "text": [
      "defaultdict(<class 'list'>, {'a': [0, 1, 2, 3, 4], 'b': [0, 1, 2, 3], 'c': [0, 1, 2, 3, 4], 'd': [0, 1, 2, 3, 4], 'e': [0, 1, 2, 3, 4]})\n"
     ]
    }
   ],
   "source": [
    "import random\n",
    "from collections import defaultdict\n",
    "#d={}\n",
    "d=defaultdict(list)\n",
    "for c in 'abcde':\n",
    "    for i in range(random.randint(1,5)):\n",
    "#        if c not in d.keys():\n",
    "#            d[c] = []\n",
    "        d[c].append(i)\n",
    "print(d)"
   ]
  },
  {
   "cell_type": "code",
   "execution_count": 18,
   "metadata": {},
   "outputs": [],
   "source": [
    "defaultdict?"
   ]
  },
  {
   "cell_type": "code",
   "execution_count": null,
   "metadata": {},
   "outputs": [],
   "source": [
    "#defaultdict\n",
    "    #clooections.defaultdict([default_factory[,...]])\n",
    "        #第一个参数是default_factory,缺省是None,它提供一个初始化函数.当key不存在的时候，\n",
    "            #这个工程函数来生成key对应的value\n",
    "        "
   ]
  },
  {
   "cell_type": "code",
   "execution_count": null,
   "metadata": {},
   "outputs": [],
   "source": []
  },
  {
   "cell_type": "code",
   "execution_count": null,
   "metadata": {},
   "outputs": [],
   "source": [
    "#pyenv versions 查看版本号\n",
    "#pyenv local 3.6.3 切换版本\n",
    "\n",
    "#python3.6 下字典插入顺序是有序的，但3.5不是  建议当作无序使用"
   ]
  },
  {
   "cell_type": "code",
   "execution_count": 21,
   "metadata": {},
   "outputs": [],
   "source": [
    "from collections import  OrderedDict #可以使用它来记录元素的插入顺序 ，同样的输出顺序\n",
    "OrderedDict?"
   ]
  },
  {
   "cell_type": "code",
   "execution_count": 22,
   "metadata": {},
   "outputs": [
    {
     "data": {
      "text/plain": [
       "'Init signature: OrderedDict(self, /, *args, **kwargs)\\nDocstring:      Dictionary that remembers insertion order\\nFile:           /usr/local/lib/python3.7/collections/__init__.py\\nType:           type'"
      ]
     },
     "execution_count": 22,
     "metadata": {},
     "output_type": "execute_result"
    }
   ],
   "source": [
    "'''Init signature: OrderedDict(self, /, *args, **kwargs)\n",
    "Docstring:      Dictionary that remembers insertion order\n",
    "File:           /usr/local/lib/python3.7/collections/__init__.py\n",
    "Type:           type'''"
   ]
  },
  {
   "cell_type": "code",
   "execution_count": 23,
   "metadata": {},
   "outputs": [],
   "source": [
    "od=OrderedDict(a=1,b=2,c=3)"
   ]
  },
  {
   "cell_type": "code",
   "execution_count": 24,
   "metadata": {},
   "outputs": [],
   "source": [
    "od[10]=100\n",
    "od[0]=100"
   ]
  },
  {
   "cell_type": "code",
   "execution_count": 26,
   "metadata": {},
   "outputs": [
    {
     "data": {
      "text/plain": [
       "OrderedDict([('a', 1), ('b', 2), ('c', 3), (10, 100), (0, 100)])"
      ]
     },
     "execution_count": 26,
     "metadata": {},
     "output_type": "execute_result"
    }
   ],
   "source": [
    "od"
   ]
  },
  {
   "cell_type": "code",
   "execution_count": 27,
   "metadata": {},
   "outputs": [
    {
     "data": {
      "text/plain": [
       "{'a': 1, 'b': 2, 'c': 3, 10: 100, 0: 100}"
      ]
     },
     "execution_count": 27,
     "metadata": {},
     "output_type": "execute_result"
    }
   ],
   "source": [
    "o=dict(od)\n",
    "o"
   ]
  },
  {
   "cell_type": "code",
   "execution_count": 28,
   "metadata": {},
   "outputs": [
    {
     "data": {
      "text/plain": [
       "collections.OrderedDict"
      ]
     },
     "execution_count": 28,
     "metadata": {},
     "output_type": "execute_result"
    }
   ],
   "source": [
    "type(od)"
   ]
  },
  {
   "cell_type": "code",
   "execution_count": 29,
   "metadata": {},
   "outputs": [
    {
     "data": {
      "text/plain": [
       "dict"
      ]
     },
     "execution_count": 29,
     "metadata": {},
     "output_type": "execute_result"
    }
   ],
   "source": [
    "type(o)"
   ]
  },
  {
   "cell_type": "code",
   "execution_count": null,
   "metadata": {},
   "outputs": [],
   "source": [
    "\n",
    "#用户输入一个数字\n",
    "    #打印每一个数字及其重复的次数\n",
    "    \n",
    "#数字重复统计\n",
    "    #随机产生100个整数\n",
    "    #数字的范围[-1000,1000]\n",
    "    #升序输出所有不同的数字及其重复次数"
   ]
  },
  {
   "cell_type": "code",
   "execution_count": 3,
   "metadata": {},
   "outputs": [
    {
     "name": "stdout",
     "output_type": "stream",
     "text": [
      ">>>1122333\n",
      "{'1': 2, '2': 2, '3': 3}\n"
     ]
    }
   ],
   "source": [
    "num=input('>>>') #1122333\\\n",
    "d={}\n",
    "for c in num:\n",
    "    if c not in d.keys():\n",
    "        d[c] = 0\n",
    "    d[c] +=1\n",
    "print(d)"
   ]
  },
  {
   "cell_type": "code",
   "execution_count": 5,
   "metadata": {},
   "outputs": [
    {
     "name": "stdout",
     "output_type": "stream",
     "text": [
      ">>>11435325\n",
      "defaultdict(<class 'int'>, {'1': 2, '4': 1, '3': 2, '5': 2, '2': 1})\n"
     ]
    }
   ],
   "source": [
    "from collections import  defaultdict\n",
    "num=input('>>>')\n",
    "d=defaultdict(int)\n",
    "for c in num:\n",
    "    d[c] +=1\n",
    "print(d)"
   ]
  },
  {
   "cell_type": "code",
   "execution_count": 10,
   "metadata": {},
   "outputs": [
    {
     "data": {
      "text/plain": [
       "1"
      ]
     },
     "execution_count": 10,
     "metadata": {},
     "output_type": "execute_result"
    }
   ],
   "source": [
    "import random\n",
    "random.randint(1,5)"
   ]
  },
  {
   "cell_type": "code",
   "execution_count": 11,
   "metadata": {},
   "outputs": [
    {
     "name": "stdout",
     "output_type": "stream",
     "text": [
      ">>>1213\n",
      "{'1': 2, '2': 1, '3': 1}\n"
     ]
    }
   ],
   "source": [
    "num=input('>>>') #1122333\\\n",
    "d={}\n",
    "for c in num:\n",
    "    d[c]=d.get(c,0)+1\n",
    "\n",
    "print(d)"
   ]
  },
  {
   "cell_type": "code",
   "execution_count": 24,
   "metadata": {},
   "outputs": [
    {
     "name": "stdout",
     "output_type": "stream",
     "text": [
      "{-68: 1, 896: 1, 888: 1, 392: 1, -237: 1, 983: 1, -588: 1, 153: 1, 581: 1, -251: 1, 67: 1, 467: 1, 840: 2, -985: 1, 734: 1, -1000: 1, -512: 1, -778: 1, -354: 1, -815: 1, -31: 1, 897: 1, 470: 1, -236: 1, 665: 1, 907: 1, -477: 1, -276: 1, -597: 1, 249: 1, -709: 1, 354: 1, -911: 2, -170: 1, 398: 1, 352: 1, -121: 1, 784: 1, 181: 1, -173: 1, -605: 1, 782: 1, -34: 1, -296: 1, -547: 1, 388: 1, 242: 1, -346: 1, 110: 1, 528: 1, 373: 1, 952: 1, -247: 1, -381: 2, 970: 1, 611: 1, 534: 1, 416: 1, -960: 1, 830: 1, -813: 1, 194: 1, 906: 1, -913: 1, 859: 1, 604: 1, 885: 1, 170: 1, -675: 1, -902: 1, -231: 1, -538: 1, -918: 1, 191: 1, -564: 1, 264: 1, -822: 1, -44: 1, -67: 1, -145: 1, 224: 1, 666: 1, 47: 1, 650: 1, -89: 1, 521: 1, 36: 1, 773: 1, -326: 1, -618: 1, -232: 1, -414: 1, -46: 1, -708: 1, 273: 1, -160: 1, 988: 1} \n",
      "\n",
      "[-1000, -985, -960, -918, -913, -911, -902, -822, -815, -813, -778, -709, -708, -675, -618, -605, -597, -588, -564, -547, -538, -512, -477, -414, -381, -354, -346, -326, -296, -276, -251, -247, -237, -236, -232, -231, -173, -170, -160, -145, -121, -89, -68, -67, -46, -44, -34, -31, 36, 47, 67, 110, 153, 170, 181, 191, 194, 224, 242, 249, 264, 273, 352, 354, 373, 388, 392, 398, 416, 467, 470, 521, 528, 534, 581, 604, 611, 650, 665, 666, 734, 773, 782, 784, 830, 840, 859, 885, 888, 896, 897, 906, 907, 952, 970, 983, 988]\n"
     ]
    }
   ],
   "source": [
    "import random\n",
    "numlist=[random.randint(-1000,1000) for i in range(100)]\n",
    "dic={}\n",
    "for i in numlist:\n",
    "    if  not dic.get(i):\n",
    "        dic[i] = 1\n",
    "    else:\n",
    "        dic[i] += 1\n",
    "print(dic,\"\\n\")\n",
    "print(sorted(dic))"
   ]
  },
  {
   "cell_type": "code",
   "execution_count": null,
   "metadata": {},
   "outputs": [],
   "source": []
  },
  {
   "cell_type": "code",
   "execution_count": null,
   "metadata": {},
   "outputs": [],
   "source": []
  },
  {
   "cell_type": "code",
   "execution_count": null,
   "metadata": {},
   "outputs": [],
   "source": []
  },
  {
   "cell_type": "code",
   "execution_count": null,
   "metadata": {},
   "outputs": [],
   "source": []
  },
  {
   "cell_type": "code",
   "execution_count": null,
   "metadata": {},
   "outputs": [],
   "source": []
  },
  {
   "cell_type": "code",
   "execution_count": null,
   "metadata": {},
   "outputs": [],
   "source": []
  },
  {
   "cell_type": "code",
   "execution_count": null,
   "metadata": {},
   "outputs": [],
   "source": []
  }
 ],
 "metadata": {
  "kernelspec": {
   "display_name": "Python 3",
   "language": "python",
   "name": "python3"
  },
  "language_info": {
   "codemirror_mode": {
    "name": "ipython",
    "version": 3
   },
   "file_extension": ".py",
   "mimetype": "text/x-python",
   "name": "python",
   "nbconvert_exporter": "python",
   "pygments_lexer": "ipython3",
   "version": "3.7.1"
  }
 },
 "nbformat": 4,
 "nbformat_minor": 2
}
