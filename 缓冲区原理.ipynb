{
 "cells": [
  {
   "cell_type": "code",
   "execution_count": null,
   "metadata": {},
   "outputs": [],
   "source": [
    "buffering #缓冲区"
   ]
  },
  {
   "cell_type": "code",
   "execution_count": null,
   "metadata": {},
   "outputs": [],
   "source": [
    "# -1表示使用缺省大小的buffer 如果是二进制模式 使用io.DEFAULT_BUFFER_SIZE值\n",
    "    #默认是4096或者8192 如果是文本模式 ， 如果是终端设备 是行缓存方式，如果不是则使用二进制模式的策略"
   ]
  },
  {
   "cell_type": "code",
   "execution_count": null,
   "metadata": {},
   "outputs": [],
   "source": [
    "    - 0 只在二进制模式使用，表示关闭buffer\n",
    "    - 1 只在文本模式使用目标是使用行缓冲 意识就是见到换行符就flush\n",
    "    - 大于1用于指定buffer的大小\n",
    "    \n",
    "#buffer 缓冲区\n",
    "    #缓冲区一个内存空间，一般来说就是一个fifo队列，到了缓冲区满了或者达到阈值，数据才会flush到磁盘\n",
    "    #flush() 将缓冲区数据写入磁盘\n",
    "    #close() 关闭前会调用flush()"
   ]
  },
  {
   "cell_type": "code",
   "execution_count": null,
   "metadata": {},
   "outputs": [],
   "source": []
  },
  {
   "cell_type": "code",
   "execution_count": null,
   "metadata": {},
   "outputs": [],
   "source": []
  },
  {
   "cell_type": "code",
   "execution_count": null,
   "metadata": {},
   "outputs": [],
   "source": []
  },
  {
   "cell_type": "code",
   "execution_count": null,
   "metadata": {},
   "outputs": [],
   "source": []
  },
  {
   "cell_type": "code",
   "execution_count": null,
   "metadata": {},
   "outputs": [],
   "source": []
  },
  {
   "cell_type": "code",
   "execution_count": null,
   "metadata": {},
   "outputs": [],
   "source": []
  }
 ],
 "metadata": {
  "kernelspec": {
   "display_name": "Python 3",
   "language": "python",
   "name": "python3"
  },
  "language_info": {
   "codemirror_mode": {
    "name": "ipython",
    "version": 3
   },
   "file_extension": ".py",
   "mimetype": "text/x-python",
   "name": "python",
   "nbconvert_exporter": "python",
   "pygments_lexer": "ipython3",
   "version": "3.7.1"
  }
 },
 "nbformat": 4,
 "nbformat_minor": 2
}
