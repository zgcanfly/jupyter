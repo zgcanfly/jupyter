{
 "cells": [
  {
   "cell_type": "code",
   "execution_count": 1,
   "metadata": {},
   "outputs": [],
   "source": [
    "a=4"
   ]
  },
  {
   "cell_type": "code",
   "execution_count": 2,
   "metadata": {},
   "outputs": [],
   "source": [
    "b=5;c=6;d=7"
   ]
  },
  {
   "cell_type": "code",
   "execution_count": 3,
   "metadata": {},
   "outputs": [
    {
     "data": {
      "text/plain": [
       "''"
      ]
     },
     "execution_count": 3,
     "metadata": {},
     "output_type": "execute_result"
    }
   ],
   "source": [
    "_"
   ]
  },
  {
   "cell_type": "code",
   "execution_count": 4,
   "metadata": {},
   "outputs": [
    {
     "data": {
      "text/plain": [
       "4"
      ]
     },
     "execution_count": 4,
     "metadata": {},
     "output_type": "execute_result"
    }
   ],
   "source": [
    "a"
   ]
  },
  {
   "cell_type": "code",
   "execution_count": 5,
   "metadata": {},
   "outputs": [
    {
     "data": {
      "text/plain": [
       "5"
      ]
     },
     "execution_count": 5,
     "metadata": {},
     "output_type": "execute_result"
    }
   ],
   "source": [
    "b"
   ]
  },
  {
   "cell_type": "code",
   "execution_count": 6,
   "metadata": {},
   "outputs": [
    {
     "data": {
      "text/plain": [
       "6"
      ]
     },
     "execution_count": 6,
     "metadata": {},
     "output_type": "execute_result"
    }
   ],
   "source": [
    "c"
   ]
  },
  {
   "cell_type": "code",
   "execution_count": 7,
   "metadata": {},
   "outputs": [
    {
     "data": {
      "text/plain": [
       "4"
      ]
     },
     "execution_count": 7,
     "metadata": {},
     "output_type": "execute_result"
    }
   ],
   "source": [
    "___"
   ]
  },
  {
   "cell_type": "code",
   "execution_count": 8,
   "metadata": {},
   "outputs": [
    {
     "data": {
      "text/plain": [
       "6"
      ]
     },
     "execution_count": 8,
     "metadata": {},
     "output_type": "execute_result"
    }
   ],
   "source": [
    "__"
   ]
  },
  {
   "cell_type": "code",
   "execution_count": 9,
   "metadata": {},
   "outputs": [
    {
     "data": {
      "text/plain": [
       "6"
      ]
     },
     "execution_count": 9,
     "metadata": {},
     "output_type": "execute_result"
    }
   ],
   "source": [
    "_"
   ]
  },
  {
   "cell_type": "code",
   "execution_count": 10,
   "metadata": {},
   "outputs": [
    {
     "name": "stdout",
     "output_type": "stream",
     "text": [
      "ac\n"
     ]
    }
   ],
   "source": [
    "print('ac')"
   ]
  },
  {
   "cell_type": "code",
   "execution_count": 11,
   "metadata": {},
   "outputs": [
    {
     "data": {
      "text/plain": [
       "6"
      ]
     },
     "execution_count": 11,
     "metadata": {},
     "output_type": "execute_result"
    }
   ],
   "source": [
    "_ #只看out"
   ]
  },
  {
   "cell_type": "code",
   "execution_count": 12,
   "metadata": {},
   "outputs": [
    {
     "data": {
      "text/plain": [
       "{3: '', 4: 4, 5: 5, 6: 6, 7: 4, 8: 6, 9: 6, 11: 6}"
      ]
     },
     "execution_count": 12,
     "metadata": {},
     "output_type": "execute_result"
    }
   ],
   "source": [
    "_oh"
   ]
  },
  {
   "cell_type": "code",
   "execution_count": 13,
   "metadata": {},
   "outputs": [
    {
     "data": {
      "text/plain": [
       "['/data/jupyter']"
      ]
     },
     "execution_count": 13,
     "metadata": {},
     "output_type": "execute_result"
    }
   ],
   "source": [
    "_dh #目录历史"
   ]
  },
  {
   "cell_type": "code",
   "execution_count": 15,
   "metadata": {},
   "outputs": [
    {
     "data": {
      "text/plain": [
       "{3: '', 4: 4, 5: 5, 6: 6, 7: 4, 8: 6, 9: 6, 11: 6, 13: ['/data/jupyter']}"
      ]
     },
     "execution_count": 15,
     "metadata": {},
     "output_type": "execute_result"
    }
   ],
   "source": [
    "_oh #输出历史"
   ]
  },
  {
   "cell_type": "code",
   "execution_count": 16,
   "metadata": {},
   "outputs": [
    {
     "data": {
      "text/plain": [
       "['/data/jupyter']"
      ]
     },
     "execution_count": 16,
     "metadata": {},
     "output_type": "execute_result"
    }
   ],
   "source": [
    "_dh"
   ]
  },
  {
   "cell_type": "code",
   "execution_count": null,
   "metadata": {},
   "outputs": [],
   "source": [
    "#特殊变量\n",
    "    # _表示前一次输出\n",
    "    # _表示前两次输出\n",
    "    # ___表示前三次输出\n",
    "    \n",
    "    #_dh 目录历史\n",
    "    #_oh 输出历史"
   ]
  },
  {
   "cell_type": "code",
   "execution_count": 17,
   "metadata": {},
   "outputs": [],
   "source": [
    "# shell命令\n",
    "\n",
    "# !command\n",
    "    # !ls -l\n",
    "    # !touch test.txt\n",
    "    # file = !ls -l |grep py"
   ]
  },
  {
   "cell_type": "code",
   "execution_count": 18,
   "metadata": {},
   "outputs": [
    {
     "name": "stdout",
     "output_type": "stream",
     "text": [
      "total 212\r\n",
      "-rw-r--r-- 1 root root  5735 Jan  9 08:32 Ipython.ipynb\r\n",
      "-rw-r--r-- 1 root root    66 Jan  4 09:18 README.md\r\n",
      "-rw-r--r-- 1 root root 14736 Jan  8 13:27 bytes、bytearray.ipynb\r\n",
      "-rw-r--r-- 1 root root 11563 Nov 27 13:08 for if.ipynb\r\n",
      "-rw-r--r-- 1 root root 21317 Nov  8 04:58 for.ipynb\r\n",
      "-rw-r--r-- 1 root root  5537 Nov 14 06:49 九九乘法表.ipynb\r\n",
      "-rw-r--r-- 1 root root 10867 Nov 14 06:06 九九乘法表2.ipynb\r\n",
      "-rw-r--r-- 1 root root  9445 Jan  9 08:24 切片.ipynb\r\n",
      "-rw-r--r-- 1 root root 23717 Jan  4 09:18 列表1.ipynb\r\n",
      "-rw-r--r-- 1 root root 40262 Jan  5 15:31 字符串原理.ipynb\r\n",
      "-rw-r--r-- 1 root root 21516 Jan  7 07:53 字符串格式化.ipynb\r\n",
      "-rw-r--r-- 1 root root  2315 Jan  7 11:07 字符串练习.ipynb\r\n",
      "-rw-r--r-- 1 root root  4841 Jan  4 13:44 排序和冒泡.ipynb\r\n",
      "-rw-r--r-- 1 root root 15681 Jan  4 10:40 随机数和元祖.ipynb\r\n"
     ]
    }
   ],
   "source": [
    "!ls -l"
   ]
  },
  {
   "cell_type": "code",
   "execution_count": 19,
   "metadata": {},
   "outputs": [
    {
     "name": "stdout",
     "output_type": "stream",
     "text": [
      "PING www.a.shifen.com (14.215.177.38) 56(84) bytes of data.\n",
      "64 bytes from 14.215.177.38 (14.215.177.38): icmp_seq=1 ttl=54 time=30.8 ms\n",
      "64 bytes from 14.215.177.38 (14.215.177.38): icmp_seq=2 ttl=54 time=27.8 ms\n",
      "64 bytes from 14.215.177.38 (14.215.177.38): icmp_seq=3 ttl=54 time=29.5 ms\n",
      "64 bytes from 14.215.177.38 (14.215.177.38): icmp_seq=4 ttl=54 time=27.8 ms\n",
      "64 bytes from 14.215.177.38 (14.215.177.38): icmp_seq=5 ttl=54 time=27.9 ms\n",
      "64 bytes from 14.215.177.38 (14.215.177.38): icmp_seq=6 ttl=54 time=27.6 ms\n",
      "^C\n",
      "\n",
      "--- www.a.shifen.com ping statistics ---\n",
      "6 packets transmitted, 6 received, 0% packet loss, time 5008ms\n",
      "rtt min/avg/max/mdev = 27.679/28.627/30.849/1.185 ms\n"
     ]
    }
   ],
   "source": [
    "!ping www.baidu.com"
   ]
  },
  {
   "cell_type": "code",
   "execution_count": null,
   "metadata": {},
   "outputs": [],
   "source": [
    "\n",
    "\n",
    "#魔术方法\n",
    "\n",
    "    #使用%百分号开头的，Ipython内置的2"
   ]
  },
  {
   "cell_type": "code",
   "execution_count": null,
   "metadata": {},
   "outputs": [],
   "source": []
  },
  {
   "cell_type": "code",
   "execution_count": null,
   "metadata": {},
   "outputs": [],
   "source": []
  },
  {
   "cell_type": "code",
   "execution_count": null,
   "metadata": {},
   "outputs": [],
   "source": []
  },
  {
   "cell_type": "code",
   "execution_count": null,
   "metadata": {},
   "outputs": [],
   "source": []
  },
  {
   "cell_type": "code",
   "execution_count": null,
   "metadata": {},
   "outputs": [],
   "source": []
  },
  {
   "cell_type": "code",
   "execution_count": null,
   "metadata": {},
   "outputs": [],
   "source": []
  },
  {
   "cell_type": "code",
   "execution_count": null,
   "metadata": {},
   "outputs": [],
   "source": []
  },
  {
   "cell_type": "code",
   "execution_count": null,
   "metadata": {},
   "outputs": [],
   "source": []
  },
  {
   "cell_type": "code",
   "execution_count": null,
   "metadata": {},
   "outputs": [],
   "source": []
  }
 ],
 "metadata": {
  "kernelspec": {
   "display_name": "Python 3",
   "language": "python",
   "name": "python3"
  },
  "language_info": {
   "codemirror_mode": {
    "name": "ipython",
    "version": 3
   },
   "file_extension": ".py",
   "mimetype": "text/x-python",
   "name": "python",
   "nbconvert_exporter": "python",
   "pygments_lexer": "ipython3",
   "version": "3.7.1"
  }
 },
 "nbformat": 4,
 "nbformat_minor": 2
}
