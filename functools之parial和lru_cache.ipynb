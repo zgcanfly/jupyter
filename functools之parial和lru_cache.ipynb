{
 "cells": [
  {
   "cell_type": "code",
   "execution_count": 1,
   "metadata": {},
   "outputs": [],
   "source": [
    "#partial方法\n",
    "    #偏函数，把函数部分的参数固定下来，相当于为部分的参数添加了一个固定的默认值，\n",
    "        #形成一个新的函数并返回\n",
    "    #从partial生成的新函数，是对原函数的封装"
   ]
  },
  {
   "cell_type": "code",
   "execution_count": 22,
   "metadata": {},
   "outputs": [
    {
     "name": "stdout",
     "output_type": "stream",
     "text": [
      "54\n"
     ]
    }
   ],
   "source": [
    "from functools import partial\n",
    "def add(x,y):\n",
    "    return x+y\n",
    "\n",
    "\n",
    "newadd = partial(add,y=4)  #return new function\n",
    "print(newadd(50))"
   ]
  },
  {
   "cell_type": "code",
   "execution_count": 23,
   "metadata": {},
   "outputs": [
    {
     "name": "stdout",
     "output_type": "stream",
     "text": [
      "55\n"
     ]
    }
   ],
   "source": [
    "from functools import partial\n",
    "import inspect\n",
    "def add(x,y):\n",
    "    return x+y\n",
    "\n",
    "\n",
    "newadd = partial(add,x=4)  #return new function\n",
    "print(newadd(x=50,y=5))\n"
   ]
  },
  {
   "cell_type": "code",
   "execution_count": 13,
   "metadata": {},
   "outputs": [
    {
     "name": "stdout",
     "output_type": "stream",
     "text": [
      "(*, x=4, y)\n"
     ]
    }
   ],
   "source": [
    "print(inspect.signature(newadd))  #关键字位置传参"
   ]
  },
  {
   "cell_type": "code",
   "execution_count": 14,
   "metadata": {},
   "outputs": [
    {
     "data": {
      "text/plain": [
       "(1, 2, 3, 4, 5, 6)"
      ]
     },
     "execution_count": 14,
     "metadata": {},
     "output_type": "execute_result"
    }
   ],
   "source": [
    "#元组加元祖\n",
    "(1,2,3)+(4,5,6)"
   ]
  },
  {
   "cell_type": "code",
   "execution_count": 16,
   "metadata": {},
   "outputs": [
    {
     "data": {
      "text/plain": [
       "[1, 2, 3, 4, 5, 6]"
      ]
     },
     "execution_count": 16,
     "metadata": {},
     "output_type": "execute_result"
    }
   ],
   "source": [
    "#列表相加\n",
    "[1,2,3]+[4,5,6]"
   ]
  },
  {
   "cell_type": "code",
   "execution_count": null,
   "metadata": {},
   "outputs": [],
   "source": [
    "#partial 所谓的固定值 只不过就是先添加好一个参数值而已  "
   ]
  },
  {
   "cell_type": "code",
   "execution_count": null,
   "metadata": {},
   "outputs": [],
   "source": [
    "# @functools.lru_cache(maxsize=128,typed=False)\n",
    "    #Least-recently-user装饰器,lru 最近最少使用。cache缓存\n",
    "    #如果maxsize设置为None,则禁用LRU功能，并且缓存可以无限制增长。当maxsize是二的幂时,LRU功能执行得最好\n",
    "    #如果typed设置为True,则不同类型的函数参数将单独缓存。列如,f(3)和f(3.0)将被视为具有不同结果的不同调用\n",
    "    "
   ]
  },
  {
   "cell_type": "code",
   "execution_count": 20,
   "metadata": {},
   "outputs": [],
   "source": [
    "import functools\n",
    "import time\n",
    "@functools.lru_cache()  #带参装饰器 要写()  不写带表参数\n",
    "def add(x,y,z=3):\n",
    "    time.sleep(z)\n",
    "    return x+y"
   ]
  },
  {
   "cell_type": "code",
   "execution_count": 21,
   "metadata": {},
   "outputs": [
    {
     "name": "stdout",
     "output_type": "stream",
     "text": [
      "---\n",
      "---\n",
      "---\n"
     ]
    }
   ],
   "source": [
    "add(4,5)\n",
    "print('---') #需要等待打印\n",
    "add(4.0,5)\n",
    "print('---') #直接打印\n",
    "add(4,6)\n",
    "print('---') #需要等待打印"
   ]
  },
  {
   "cell_type": "raw",
   "metadata": {},
   "source": []
  },
  {
   "cell_type": "code",
   "execution_count": 36,
   "metadata": {},
   "outputs": [],
   "source": [
    "def fib(n):\n",
    "    if n<3:\n",
    "        return n\n",
    "    return fib(n-1)+fib(n-2)"
   ]
  },
  {
   "cell_type": "code",
   "execution_count": 37,
   "metadata": {},
   "outputs": [
    {
     "name": "stdout",
     "output_type": "stream",
     "text": [
      "14930352\n"
     ]
    }
   ],
   "source": [
    "print(fib(35))"
   ]
  },
  {
   "cell_type": "code",
   "execution_count": null,
   "metadata": {},
   "outputs": [],
   "source": [
    "#斐波那契数列递归改造\n",
    "    #lru_cache"
   ]
  },
  {
   "cell_type": "code",
   "execution_count": 38,
   "metadata": {},
   "outputs": [
    {
     "name": "stdout",
     "output_type": "stream",
     "text": [
      "14930352\n"
     ]
    }
   ],
   "source": [
    "@functools.lru_cache()\n",
    "def fib(n):\n",
    "    if n<3:\n",
    "        return n\n",
    "    return fib(n-1)+fib(n-2)\n",
    "print(fib(35))"
   ]
  },
  {
   "cell_type": "code",
   "execution_count": null,
   "metadata": {},
   "outputs": [],
   "source": []
  },
  {
   "cell_type": "code",
   "execution_count": null,
   "metadata": {},
   "outputs": [],
   "source": [
    "#lru_cache 装饰器应用\n",
    "    #使用前提\n",
    "        #同样的函数参数一定得到同样的结果\n",
    "        #函数执行时间很长，且要多次执行\n",
    "    #本质是函数调用的参数=>返回值\n",
    "    #缺点\n",
    "        #不支持缓存过期，key无法过期、失效\n",
    "        #不支持清除操作\n",
    "        #不支持分布式,是一个单机的缓存\n",
    "    #适应场景、单机上需要空间换时间的地方、可以用缓存来将计算编程"
   ]
  },
  {
   "cell_type": "code",
   "execution_count": null,
   "metadata": {},
   "outputs": [],
   "source": []
  },
  {
   "cell_type": "code",
   "execution_count": null,
   "metadata": {},
   "outputs": [],
   "source": []
  }
 ],
 "metadata": {
  "kernelspec": {
   "display_name": "Python 3",
   "language": "python",
   "name": "python3"
  },
  "language_info": {
   "codemirror_mode": {
    "name": "ipython",
    "version": 3
   },
   "file_extension": ".py",
   "mimetype": "text/x-python",
   "name": "python",
   "nbconvert_exporter": "python",
   "pygments_lexer": "ipython3",
   "version": "3.7.1"
  }
 },
 "nbformat": 4,
 "nbformat_minor": 2
}
