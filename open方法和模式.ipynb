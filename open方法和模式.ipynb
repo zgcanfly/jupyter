{
 "cells": [
  {
   "cell_type": "code",
   "execution_count": null,
   "metadata": {},
   "outputs": [],
   "source": [
    "#打开操作\n",
    "#open(file,mode='r',buffering=-1,encoding=None,errors=None,newline=None,closefd=True,opener=None)\n",
    "    #打开"
   ]
  },
  {
   "cell_type": "code",
   "execution_count": 3,
   "metadata": {},
   "outputs": [
    {
     "name": "stdout",
     "output_type": "stream",
     "text": [
      "abcd\n",
      "\n"
     ]
    }
   ],
   "source": [
    "f=open('test')\n",
    "print(f.read())\n",
    "f.close()"
   ]
  },
  {
   "cell_type": "code",
   "execution_count": 2,
   "metadata": {},
   "outputs": [],
   "source": [
    "!echo \"abcd\" >test"
   ]
  },
  {
   "cell_type": "code",
   "execution_count": 5,
   "metadata": {},
   "outputs": [
    {
     "name": "stdout",
     "output_type": "stream",
     "text": [
      "<_io.TextIOWrapper name='test' mode='r' encoding='UTF-8'>\n",
      "abcd\n",
      "\n"
     ]
    }
   ],
   "source": [
    "f=open('test')\n",
    "print(f)\n",
    "print(f.read())\n",
    "f.close()"
   ]
  },
  {
   "cell_type": "code",
   "execution_count": null,
   "metadata": {},
   "outputs": [],
   "source": [
    "r#缺省值，表示只读打开\n",
    "w#只写打开\n",
    "x#创建并写入一个新文件\n",
    "a#写入打开，如果文件存在，则追加\n",
    "b#二进制模式\n",
    "t#缺省的，文本模式\n",
    "+#读写打开一个文件，给原来只读，只写方式打开提供缺失的读或者写能力"
   ]
  },
  {
   "cell_type": "code",
   "execution_count": null,
   "metadata": {},
   "outputs": [],
   "source": []
  },
  {
   "cell_type": "code",
   "execution_count": null,
   "metadata": {},
   "outputs": [],
   "source": []
  }
 ],
 "metadata": {
  "kernelspec": {
   "display_name": "Python 3",
   "language": "python",
   "name": "python3"
  },
  "language_info": {
   "codemirror_mode": {
    "name": "ipython",
    "version": 3
   },
   "file_extension": ".py",
   "mimetype": "text/x-python",
   "name": "python",
   "nbconvert_exporter": "python",
   "pygments_lexer": "ipython3",
   "version": "3.7.1"
  }
 },
 "nbformat": 4,
 "nbformat_minor": 2
}
