{
 "cells": [
  {
   "cell_type": "code",
   "execution_count": null,
   "metadata": {},
   "outputs": [],
   "source": [
    "#csv文件\n",
    "    #CSV是一个被行分隔符、列分隔符划分成行和列的文本文件\n",
    "    #CSV不指定字符编码\n",
    "        #行分隔符为 \\r\\n、最后一行可以没有换行符\n",
    "        #列分隔符常为逗号或者制表符\n",
    "        #每一行称为一条记录\n",
    "        \n",
    "        #字段可以使用双引号括起来，也可以不使用 如果字段中出现了双引号、逗号、\n",
    "            #换行符必须使用双引号括起来。如果字段的值是双引号 使用两个双引号表示一个转义\n",
    "            \n",
    "        #表头可选 和 字段列对齐就行了\n",
    "        \n",
    "        \n",
    "    #手动生成csv文件"
   ]
  },
  {
   "cell_type": "code",
   "execution_count": null,
   "metadata": {},
   "outputs": [],
   "source": [
    "csv_body='''\\\n",
    "id,name,age.comment\n",
    "1,zs,18,\"I'm 18\"\n",
    "2,ls,20,\"this a \"\"test\"\"string. \"\n",
    "3,ww,23,\"你好\n",
    "\n",
    "计算机\"\n",
    "\n",
    "'''"
   ]
  },
  {
   "cell_type": "code",
   "execution_count": null,
   "metadata": {},
   "outputs": [],
   "source": []
  },
  {
   "cell_type": "code",
   "execution_count": null,
   "metadata": {},
   "outputs": [],
   "source": []
  },
  {
   "cell_type": "code",
   "execution_count": null,
   "metadata": {},
   "outputs": [],
   "source": []
  },
  {
   "cell_type": "code",
   "execution_count": null,
   "metadata": {},
   "outputs": [],
   "source": []
  },
  {
   "cell_type": "code",
   "execution_count": null,
   "metadata": {},
   "outputs": [],
   "source": []
  },
  {
   "cell_type": "code",
   "execution_count": null,
   "metadata": {},
   "outputs": [],
   "source": []
  },
  {
   "cell_type": "code",
   "execution_count": null,
   "metadata": {},
   "outputs": [],
   "source": []
  },
  {
   "cell_type": "code",
   "execution_count": null,
   "metadata": {},
   "outputs": [],
   "source": []
  },
  {
   "cell_type": "code",
   "execution_count": null,
   "metadata": {},
   "outputs": [],
   "source": []
  },
  {
   "cell_type": "code",
   "execution_count": null,
   "metadata": {},
   "outputs": [],
   "source": [
    "\n"
   ]
  }
 ],
 "metadata": {
  "kernelspec": {
   "display_name": "Python 3",
   "language": "python",
   "name": "python3"
  },
  "language_info": {
   "codemirror_mode": {
    "name": "ipython",
    "version": 3
   },
   "file_extension": ".py",
   "mimetype": "text/x-python",
   "name": "python",
   "nbconvert_exporter": "python",
   "pygments_lexer": "ipython3",
   "version": "3.7.1"
  }
 },
 "nbformat": 4,
 "nbformat_minor": 2
}
