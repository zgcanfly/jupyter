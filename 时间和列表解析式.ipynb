{
 "cells": [
  {
   "cell_type": "code",
   "execution_count": null,
   "metadata": {},
   "outputs": [],
   "source": [
    "# 标准库datetime\n",
    "\n",
    "#datetime模块\n",
    "    #对日期、时间、时间戳的处理\n",
    "    #datetime类\n",
    "        #类方法\n",
    "            #today()返回本地时区当前时间的datetime对象\n",
    "            #now（tz=None）返回当前时间的datetime对象，时间到微秒，如果tz为None，返回和today（）一样\n",
    "            #utcnow（）没有时区的当前时间\n",
    "            #fromtimestamp(timestamp,tz=None)从一个时间戳返回一个datetime对象\n",
    "        #datetime对象\n",
    "            #timestamp（）返回一个到微秒的时间戳。\n",
    "                #时间戳：格林威治时间1970年1月1日0点到现在的秒数"
   ]
  },
  {
   "cell_type": "code",
   "execution_count": 1,
   "metadata": {},
   "outputs": [
    {
     "data": {
      "text/plain": [
       "datetime.datetime(2019, 1, 20, 5, 53, 42, 673533)"
      ]
     },
     "execution_count": 1,
     "metadata": {},
     "output_type": "execute_result"
    }
   ],
   "source": [
    "import datetime\n",
    "\n",
    "datetime.datetime.now()"
   ]
  },
  {
   "cell_type": "code",
   "execution_count": 3,
   "metadata": {},
   "outputs": [
    {
     "data": {
      "text/plain": [
       "datetime.datetime(2019, 1, 20, 5, 54, 14, 814999)"
      ]
     },
     "execution_count": 3,
     "metadata": {},
     "output_type": "execute_result"
    }
   ],
   "source": [
    "datetime.datetime.today()"
   ]
  },
  {
   "cell_type": "code",
   "execution_count": null,
   "metadata": {},
   "outputs": [],
   "source": [
    "#datetime对象\n",
    "    #构造方法 datetime.datetime(2019, 1, 20, 5, 54, 14, 814999)\n",
    "    #year,month,day,hour,minute,second,microsecond,取datetime对象的年月日分秒及微妙\n",
    "    #weekday()返回星期天的天，周一0，周日6\n",
    "    #isoweekday()返回星期的天，周一1,周日7\n",
    "    #date()返回日期date对象\n",
    "    #time()返回时间time对象\n",
    "    #replace() 修改并返回新的时间\n",
    "    #isocalendar()返回一个三元组(年，周数，周的天)"
   ]
  },
  {
   "cell_type": "code",
   "execution_count": 4,
   "metadata": {},
   "outputs": [
    {
     "data": {
      "text/plain": [
       "'2019-01-20'"
      ]
     },
     "execution_count": 4,
     "metadata": {},
     "output_type": "execute_result"
    }
   ],
   "source": [
    "import time\n",
    "time.strftime(\"%F\", time.localtime())"
   ]
  },
  {
   "cell_type": "code",
   "execution_count": 5,
   "metadata": {},
   "outputs": [
    {
     "data": {
      "text/plain": [
       "datetime.datetime(2019, 1, 20, 6, 6, 39, 725307)"
      ]
     },
     "execution_count": 5,
     "metadata": {},
     "output_type": "execute_result"
    }
   ],
   "source": [
    "datetime.datetime.now()"
   ]
  },
  {
   "cell_type": "code",
   "execution_count": 12,
   "metadata": {},
   "outputs": [
    {
     "data": {
      "text/plain": [
       "datetime.datetime"
      ]
     },
     "execution_count": 12,
     "metadata": {},
     "output_type": "execute_result"
    }
   ],
   "source": [
    "type(datetime.datetime.fromtimestamp(1))"
   ]
  },
  {
   "cell_type": "code",
   "execution_count": 19,
   "metadata": {},
   "outputs": [
    {
     "data": {
      "text/plain": [
       "4"
      ]
     },
     "execution_count": 19,
     "metadata": {},
     "output_type": "execute_result"
    }
   ],
   "source": [
    "datetime.datetime.fromtimestamp(1).isoweekday()"
   ]
  },
  {
   "cell_type": "code",
   "execution_count": 16,
   "metadata": {},
   "outputs": [
    {
     "name": "stdout",
     "output_type": "stream",
     "text": [
      "Ipython(求质数算法).ipynb      列表作业讲解.ipynb\r\n",
      "README.md\t\t       字典的增删查改.ipynb\r\n",
      "bytes、bytearray.ipynb\t       字典遍历、缺省字典、有序字典.ipynb\r\n",
      "for if.ipynb\t\t       字符串原理.ipynb\r\n",
      "for.ipynb\t\t       字符串格式化.ipynb\r\n",
      "python封装和解构.ipynb\t       字符串练习.ipynb\r\n",
      "set常用方法及高性能原理.ipynb  排序和冒泡.ipynb\r\n",
      "九九乘法表.ipynb\t       时间和列表解析式.ipynb\r\n",
      "九九乘法表2.ipynb\t       选择排序及二元选择排序优化.ipynb\r\n",
      "切片.ipynb\t\t       随机数和元祖.ipynb\r\n",
      "列表1.ipynb\r\n"
     ]
    }
   ],
   "source": [
    "! ls"
   ]
  },
  {
   "cell_type": "code",
   "execution_count": 17,
   "metadata": {},
   "outputs": [
    {
     "name": "stdout",
     "output_type": "stream",
     "text": [
      "Ipython(求质数算法).ipynb      列表作业讲解.ipynb\r\n",
      "README.md                      字典的增删查改.ipynb\r\n",
      "bytes、bytearray.ipynb         字典遍历、缺省字典、有序字典.ipynb\r\n",
      "for if.ipynb                   字符串原理.ipynb\r\n",
      "for.ipynb                      字符串格式化.ipynb\r\n",
      "python封装和解构.ipynb         字符串练习.ipynb\r\n",
      "set常用方法及高性能原理.ipynb  排序和冒泡.ipynb\r\n",
      "九九乘法表.ipynb               时间和列表解析式.ipynb\r\n",
      "九九乘法表2.ipynb              选择排序及二元选择排序优化.ipynb\r\n",
      "切片.ipynb                     随机数和元祖.ipynb\r\n",
      "列表1.ipynb\r\n"
     ]
    }
   ],
   "source": [
    "ls"
   ]
  },
  {
   "cell_type": "code",
   "execution_count": 20,
   "metadata": {},
   "outputs": [
    {
     "data": {
      "text/plain": [
       "datetime.time(0, 0, 1)"
      ]
     },
     "execution_count": 20,
     "metadata": {},
     "output_type": "execute_result"
    }
   ],
   "source": [
    "datetime.datetime.fromtimestamp(1).time()"
   ]
  },
  {
   "cell_type": "code",
   "execution_count": 22,
   "metadata": {},
   "outputs": [
    {
     "data": {
      "text/plain": [
       "datetime.date(1970, 1, 1)"
      ]
     },
     "execution_count": 22,
     "metadata": {},
     "output_type": "execute_result"
    }
   ],
   "source": [
    "datetime.datetime.fromtimestamp(1).date()"
   ]
  },
  {
   "cell_type": "code",
   "execution_count": 23,
   "metadata": {},
   "outputs": [
    {
     "data": {
      "text/plain": [
       "(1970, 1, 4)"
      ]
     },
     "execution_count": 23,
     "metadata": {},
     "output_type": "execute_result"
    }
   ],
   "source": [
    "datetime.datetime.fromtimestamp(1).isocalendar()"
   ]
  },
  {
   "cell_type": "code",
   "execution_count": 26,
   "metadata": {},
   "outputs": [
    {
     "name": "stdout",
     "output_type": "stream",
     "text": [
      "2006-11-21 16:30:00\n",
      "2006/11/2116::3000\n"
     ]
    }
   ],
   "source": [
    "#日期格式化\n",
    "    #类方法strptime(date_string,fromat),返回datetime对象\n",
    "    #对象方法strftime(format),返回字符串\n",
    "    #字符串fromat函数格式化\n",
    "    \n",
    "import datetime\n",
    "dt=datetime.datetime.strptime(\"21/11/06 16:30\",\"%d/%m/%y %H:%M\") #由时间格式到时间对象\n",
    "print(dt.strftime(\"%Y-%m-%d %H:%M:%S\")) #由时间对象到时间格式\n",
    "print(\"{0:%Y}/{0:%m}/{0:%d}{0:%H}::{0:%M}{0:%S}\".format(dt))"
   ]
  },
  {
   "cell_type": "code",
   "execution_count": 31,
   "metadata": {},
   "outputs": [
    {
     "data": {
      "text/plain": [
       "'2019-01-20'"
      ]
     },
     "execution_count": 31,
     "metadata": {},
     "output_type": "execute_result"
    }
   ],
   "source": [
    "datetime.datetime.now().strftime(\"%Y-%m-%d\")"
   ]
  },
  {
   "cell_type": "code",
   "execution_count": null,
   "metadata": {},
   "outputs": [],
   "source": [
    "\n",
    "#timedelta对象\n",
    "    #datetime2=datetime1 + timedelta\n",
    "    #datetime2=datetime1 - timedelta\n",
    "    #datetime=datetime1 - timedelta2\n",
    "    #构造方法\n",
    "        #datetime.timedelta(days=0,seconds=0,microseconds=0,milliseconds=0,minutes=0,hours=0,weeks=0)\n",
    "        #year=datetime.timedelta(days=365)\n",
    "    #total_seconds()返回时间差的总秒数"
   ]
  },
  {
   "cell_type": "code",
   "execution_count": 32,
   "metadata": {},
   "outputs": [
    {
     "data": {
      "text/plain": [
       "datetime.datetime(1970, 1, 1, 0, 0, 1)"
      ]
     },
     "execution_count": 32,
     "metadata": {},
     "output_type": "execute_result"
    }
   ],
   "source": [
    "datetime.datetime.fromtimestamp(1)"
   ]
  },
  {
   "cell_type": "code",
   "execution_count": 33,
   "metadata": {},
   "outputs": [
    {
     "data": {
      "text/plain": [
       "datetime.datetime(1970, 1, 5, 0, 0, 1)"
      ]
     },
     "execution_count": 33,
     "metadata": {},
     "output_type": "execute_result"
    }
   ],
   "source": [
    "datetime.datetime.fromtimestamp(1)+ datetime.timedelta(4) #加天"
   ]
  },
  {
   "cell_type": "code",
   "execution_count": 35,
   "metadata": {},
   "outputs": [
    {
     "data": {
      "text/plain": [
       "datetime.datetime(1970, 1, 1, 0, 0, 4)"
      ]
     },
     "execution_count": 35,
     "metadata": {},
     "output_type": "execute_result"
    }
   ],
   "source": [
    "datetime.datetime.fromtimestamp(1)+ datetime.timedelta(0,3) #加秒"
   ]
  },
  {
   "cell_type": "code",
   "execution_count": 38,
   "metadata": {},
   "outputs": [
    {
     "data": {
      "text/plain": [
       "datetime.datetime(1970, 1, 4, 2, 9, 1)"
      ]
     },
     "execution_count": 38,
     "metadata": {},
     "output_type": "execute_result"
    }
   ],
   "source": [
    "datetime.datetime.fromtimestamp(1)+ datetime.timedelta(days=3,hours=2,minutes=9) "
   ]
  },
  {
   "cell_type": "code",
   "execution_count": null,
   "metadata": {},
   "outputs": [],
   "source": [
    "\n",
    "#标准库\n",
    "    #time  #时间的操作不建议使用这个库 建议使用datetime\n",
    "        #time.sleep(secs) 将调用线程挂起指定的秒数"
   ]
  },
  {
   "cell_type": "code",
   "execution_count": null,
   "metadata": {},
   "outputs": [],
   "source": [
    "#列表解析\n",
    "    #生成一个列表，元素0-9，返回每个元素自增1并求平方的列表"
   ]
  },
  {
   "cell_type": "code",
   "execution_count": 39,
   "metadata": {},
   "outputs": [
    {
     "name": "stdout",
     "output_type": "stream",
     "text": [
      "[1, 4, 9, 16, 25, 36, 49, 64, 81, 100]\n"
     ]
    }
   ],
   "source": [
    "nums=[]\n",
    "for i in range(10):\n",
    "    nums.append((i+1)**2)\n",
    "print(nums)"
   ]
  },
  {
   "cell_type": "code",
   "execution_count": 42,
   "metadata": {},
   "outputs": [
    {
     "name": "stdout",
     "output_type": "stream",
     "text": [
      "[1, 4, 9, 16, 25, 36, 49, 64, 81, 100]\n"
     ]
    }
   ],
   "source": [
    "nums=[ ((i+1)**2) for i in range(10)]\n",
    "print(nums)"
   ]
  },
  {
   "cell_type": "code",
   "execution_count": null,
   "metadata": {},
   "outputs": [],
   "source": [
    "\n",
    "#语法\n",
    "    #返回值 for元素 in 可迭代对象if条件\n",
    "    #使用中括号[],内部是for循环，if条件语句可选\n",
    "    #返回一个新的列表\n",
    "    \n",
    "#列表解析式是一种语法糖\n",
    "    #编译器优化，不会因为简写而影响效率，反而因优化提高了效率\n",
    "    #减少程序工作量，减少出错\n",
    "    #简化了代码，但可读性增强"
   ]
  },
  {
   "cell_type": "code",
   "execution_count": 49,
   "metadata": {},
   "outputs": [
    {
     "name": "stdout",
     "output_type": "stream",
     "text": [
      "979 ns ± 18.1 ns per loop (mean ± std. dev. of 7 runs, 1000000 loops each)\n"
     ]
    }
   ],
   "source": [
    "%timeit [ i for i in range(10) if (i % 2==0) ]  "
   ]
  },
  {
   "cell_type": "code",
   "execution_count": 48,
   "metadata": {},
   "outputs": [
    {
     "name": "stdout",
     "output_type": "stream",
     "text": [
      "1.08 µs ± 10.9 ns per loop (mean ± std. dev. of 7 runs, 1000000 loops each)\n"
     ]
    }
   ],
   "source": [
    "%%timeit\n",
    "even=[]\n",
    "for x in range(10):\n",
    "    if x %2==0:\n",
    "        even.append(x)"
   ]
  },
  {
   "cell_type": "code",
   "execution_count": 50,
   "metadata": {},
   "outputs": [
    {
     "name": "stdout",
     "output_type": "stream",
     "text": [
      "0\n",
      "1\n",
      "2\n",
      "3\n",
      "4\n",
      "5\n",
      "6\n",
      "7\n",
      "8\n",
      "9\n"
     ]
    }
   ],
   "source": [
    "\n",
    "newlist=[print(i) for i in range(10)]"
   ]
  },
  {
   "cell_type": "code",
   "execution_count": 51,
   "metadata": {},
   "outputs": [
    {
     "data": {
      "text/plain": [
       "[None, None, None, None, None, None, None, None, None, None]"
      ]
     },
     "execution_count": 51,
     "metadata": {},
     "output_type": "execute_result"
    }
   ],
   "source": [
    "newlist"
   ]
  },
  {
   "cell_type": "code",
   "execution_count": 52,
   "metadata": {},
   "outputs": [
    {
     "data": {
      "text/plain": [
       "[0, 2, 3, 4, 6, 8, 9, 10, 12, 14, 15, 16, 18]"
      ]
     },
     "execution_count": 52,
     "metadata": {},
     "output_type": "execute_result"
    }
   ],
   "source": [
    "[ i for i in range(20) if i%2==0 or i%3==0 ] "
   ]
  },
  {
   "cell_type": "code",
   "execution_count": 53,
   "metadata": {},
   "outputs": [
    {
     "data": {
      "text/plain": [
       "[('a', 0),\n",
       " ('a', 1),\n",
       " ('a', 2),\n",
       " ('b', 0),\n",
       " ('b', 1),\n",
       " ('b', 2),\n",
       " ('c', 0),\n",
       " ('c', 1),\n",
       " ('c', 2),\n",
       " ('d', 0),\n",
       " ('d', 1),\n",
       " ('d', 2),\n",
       " ('e', 0),\n",
       " ('e', 1),\n",
       " ('e', 2)]"
      ]
     },
     "execution_count": 53,
     "metadata": {},
     "output_type": "execute_result"
    }
   ],
   "source": [
    "[(x,y) for x in 'abcde' for y in range(3)]"
   ]
  },
  {
   "cell_type": "code",
   "execution_count": 54,
   "metadata": {},
   "outputs": [
    {
     "data": {
      "text/plain": [
       "[['a', 0],\n",
       " ['a', 1],\n",
       " ['a', 2],\n",
       " ['b', 0],\n",
       " ['b', 1],\n",
       " ['b', 2],\n",
       " ['c', 0],\n",
       " ['c', 1],\n",
       " ['c', 2],\n",
       " ['d', 0],\n",
       " ['d', 1],\n",
       " ['d', 2],\n",
       " ['e', 0],\n",
       " ['e', 1],\n",
       " ['e', 2]]"
      ]
     },
     "execution_count": 54,
     "metadata": {},
     "output_type": "execute_result"
    }
   ],
   "source": [
    "[[x,y] for x in 'abcde' for y in range(3)]"
   ]
  },
  {
   "cell_type": "code",
   "execution_count": 56,
   "metadata": {},
   "outputs": [
    {
     "data": {
      "text/plain": [
       "[{'a': 0},\n",
       " {'a': 1},\n",
       " {'a': 2},\n",
       " {'b': 0},\n",
       " {'b': 1},\n",
       " {'b': 2},\n",
       " {'c': 0},\n",
       " {'c': 1},\n",
       " {'c': 2},\n",
       " {'d': 0},\n",
       " {'d': 1},\n",
       " {'d': 2},\n",
       " {'e': 0},\n",
       " {'e': 1},\n",
       " {'e': 2}]"
      ]
     },
     "execution_count": 56,
     "metadata": {},
     "output_type": "execute_result"
    }
   ],
   "source": [
    "[{x:y} for x in 'abcde' for y in range(3)] #这不是同一个字典，所以没有去重"
   ]
  },
  {
   "cell_type": "code",
   "execution_count": 58,
   "metadata": {},
   "outputs": [
    {
     "data": {
      "text/plain": [
       "[(5, 24), (6, 24)]"
      ]
     },
     "execution_count": 58,
     "metadata": {},
     "output_type": "execute_result"
    }
   ],
   "source": [
    "[(i,j) for i in range(7) if i>4 for j in range(20,25) if j > 23]"
   ]
  },
  {
   "cell_type": "code",
   "execution_count": 59,
   "metadata": {},
   "outputs": [
    {
     "data": {
      "text/plain": [
       "[(5, 24), (6, 24)]"
      ]
     },
     "execution_count": 59,
     "metadata": {},
     "output_type": "execute_result"
    }
   ],
   "source": [
    "[(i,j) for i in range(7) for j in range(20,25) if i>4  if j > 23]"
   ]
  },
  {
   "cell_type": "code",
   "execution_count": 61,
   "metadata": {},
   "outputs": [
    {
     "data": {
      "text/plain": [
       "[1, 4, 9, 16, 25, 36, 49, 64, 81, 100]"
      ]
     },
     "execution_count": 61,
     "metadata": {},
     "output_type": "execute_result"
    }
   ],
   "source": [
    "#习题1\n",
    "#返回1-10平方的列表\n",
    "[ i*i for i in range(1,11)]"
   ]
  },
  {
   "cell_type": "code",
   "execution_count": 62,
   "metadata": {},
   "outputs": [
    {
     "data": {
      "text/plain": [
       "[1, 4, 9, 16, 25, 36, 49, 64, 81, 100]"
      ]
     },
     "execution_count": 62,
     "metadata": {},
     "output_type": "execute_result"
    }
   ],
   "source": [
    "[ i**2 for i in range(1,11)]"
   ]
  },
  {
   "cell_type": "code",
   "execution_count": 66,
   "metadata": {},
   "outputs": [
    {
     "data": {
      "text/plain": [
       "[5, 13, 25, 18, 7, 15, 25]"
      ]
     },
     "execution_count": 66,
     "metadata": {},
     "output_type": "execute_result"
    }
   ],
   "source": [
    "#习题1\n",
    "#有一个列表lst=[1,4,9,16,2,5,10,15],生成一个新列表，要求新列表元素是ｌｓｔ相邻２项的和\n",
    "lst=[1,4,9,16,2,5,10,15]\n",
    "[ (lst[i]+lst[i+1]) for i in range(len(lst)) if lst[i]!=lst[-1] ]"
   ]
  },
  {
   "cell_type": "code",
   "execution_count": 67,
   "metadata": {},
   "outputs": [
    {
     "data": {
      "text/plain": [
       "[5, 13, 25, 18, 7, 15, 25]"
      ]
     },
     "execution_count": 67,
     "metadata": {},
     "output_type": "execute_result"
    }
   ],
   "source": [
    "lst=[1,4,9,16,2,5,10,15]\n",
    "[ (lst[i]+lst[i+1]) for i in range(len(lst)-1) ]"
   ]
  },
  {
   "cell_type": "code",
   "execution_count": 87,
   "metadata": {},
   "outputs": [
    {
     "name": "stdout",
     "output_type": "stream",
     "text": [
      "1x1=1   \n",
      "1x2=2    2x2=4   \n",
      "1x3=3    2x3=6    3x3=9   \n",
      "1x4=4    2x4=8    3x4=12   4x4=16  \n",
      "1x5=5    2x5=10   3x5=15   4x5=20   5x5=25  \n",
      "1x6=6    2x6=12   3x6=18   4x6=24   5x6=30   6x6=36  \n",
      "1x7=7    2x7=14   3x7=21   4x7=28   5x7=35   6x7=42   7x7=49  \n",
      "1x8=8    2x8=16   3x8=24   4x8=32   5x8=40   6x8=48   7x8=56   8x8=64  \n",
      "1x9=9    2x9=18   3x9=27   4x9=36   5x9=45   6x9=54   7x9=63   8x9=72   9x9=81  \n"
     ]
    },
    {
     "data": {
      "text/plain": [
       "[None,\n",
       " None,\n",
       " None,\n",
       " None,\n",
       " None,\n",
       " None,\n",
       " None,\n",
       " None,\n",
       " None,\n",
       " None,\n",
       " None,\n",
       " None,\n",
       " None,\n",
       " None,\n",
       " None,\n",
       " None,\n",
       " None,\n",
       " None,\n",
       " None,\n",
       " None,\n",
       " None,\n",
       " None,\n",
       " None,\n",
       " None,\n",
       " None,\n",
       " None,\n",
       " None,\n",
       " None,\n",
       " None,\n",
       " None,\n",
       " None,\n",
       " None,\n",
       " None,\n",
       " None,\n",
       " None,\n",
       " None,\n",
       " None,\n",
       " None,\n",
       " None,\n",
       " None,\n",
       " None,\n",
       " None,\n",
       " None,\n",
       " None,\n",
       " None]"
      ]
     },
     "execution_count": 87,
     "metadata": {},
     "output_type": "execute_result"
    }
   ],
   "source": [
    "[print(\"{}x{}={:<3} {}\".format(j,i,i*j,'\\n' if i ==j else  ' '),end=\"\") for i in range(1,10) for j in range(1,i+1 )]"
   ]
  },
  {
   "cell_type": "code",
   "execution_count": 90,
   "metadata": {},
   "outputs": [
    {
     "data": {
      "text/plain": [
       "'0'"
      ]
     },
     "execution_count": 90,
     "metadata": {},
     "output_type": "execute_result"
    }
   ],
   "source": [
    "'0'*1"
   ]
  },
  {
   "cell_type": "code",
   "execution_count": null,
   "metadata": {},
   "outputs": [],
   "source": [
    "#习题\n",
    "    #生成ＩＤ\n",
    "        #０００１.ａｓｆｈｂｋｆｇｂｚ　是ＩＤ格式，要求ＩＤ格式是以点号分割，左边是４为从１开始的整数，\n",
    "            #右边是１０为随机小写英文字母，请依次生成１００ＩＤ的列表"
   ]
  },
  {
   "cell_type": "code",
   "execution_count": 114,
   "metadata": {},
   "outputs": [
    {
     "data": {
      "text/plain": [
       "['0001.cmfishoqil',\n",
       " '0002.lvovceuugk',\n",
       " '0003.sfsefqsinl',\n",
       " '0004.rbjoyblubz',\n",
       " '0005.itmgjfkatx',\n",
       " '0006.ezdqeiufvo',\n",
       " '0007.rpaskezpjm',\n",
       " '0008.psgaqdoics',\n",
       " '0009.uiviawdscv',\n",
       " '0010.gpzbfvdzgn',\n",
       " '0011.yxmiecprjt',\n",
       " '0012.pyznorrlyz',\n",
       " '0013.roupsqouhl',\n",
       " '0014.ohvfabopkk',\n",
       " '0015.msoohlgwir',\n",
       " '0016.plojhidkls',\n",
       " '0017.hvqdzlxiuj',\n",
       " '0018.bqwxxsprft',\n",
       " '0019.jqaccfcgtx',\n",
       " '0020.dsbkwrldgm',\n",
       " '0021.omslxlfasc',\n",
       " '0022.beedijdywm',\n",
       " '0023.yhmvtrmofm',\n",
       " '0024.fjxzpfwagi',\n",
       " '0025.ztxsuabnis',\n",
       " '0026.uhthoszzto',\n",
       " '0027.zvpqmgpzuo',\n",
       " '0028.pbyawlgksb',\n",
       " '0029.jlfysufmgf',\n",
       " '0030.yjghxluwyo',\n",
       " '0031.dbuowvfkpx',\n",
       " '0032.hlvbmvrqae',\n",
       " '0033.ktiusapjrq',\n",
       " '0034.luuagctjoj',\n",
       " '0035.dahdyeijlz',\n",
       " '0036.psztrlspaf',\n",
       " '0037.oacyharojd',\n",
       " '0038.zszrlkutfg',\n",
       " '0039.pzgpcylbul',\n",
       " '0040.ntgkezpgnz',\n",
       " '0041.sdarhoqbek',\n",
       " '0042.ryyuoagoaj',\n",
       " '0043.ghrsdibrtw',\n",
       " '0044.aohmslwcxj',\n",
       " '0045.abbrebuvre',\n",
       " '0046.sujbwnhohh',\n",
       " '0047.ghsgtryaux',\n",
       " '0048.lxvipaelhv',\n",
       " '0049.jxyfbfqqti',\n",
       " '0050.qvndrmsgfp',\n",
       " '0051.qcvazduajc',\n",
       " '0052.lncpzbyitp',\n",
       " '0053.ieeeihleun',\n",
       " '0054.bqbzfjxdej',\n",
       " '0055.aqlybfmulk',\n",
       " '0056.lndlzwduzc',\n",
       " '0057.uiwhdczify',\n",
       " '0058.oearhshksp',\n",
       " '0059.qvxhgyrxom',\n",
       " '0060.luksbgbsei',\n",
       " '0061.uiyexuxopl',\n",
       " '0062.qzfqhydmli',\n",
       " '0063.adltdnpofq',\n",
       " '0064.fzqxuurzuz',\n",
       " '0065.vrkctakwum',\n",
       " '0066.qsowjyjbnj',\n",
       " '0067.hrmmoygejz',\n",
       " '0068.wijczqynsh',\n",
       " '0069.gzwvasyohw',\n",
       " '0070.iajvnpvroc',\n",
       " '0071.ddenzqkcau',\n",
       " '0072.pfcfrpjfau',\n",
       " '0073.uhosnzmuol',\n",
       " '0074.gpivxguqeq',\n",
       " '0075.jsikgswjlg',\n",
       " '0076.ijoaxrqssm',\n",
       " '0077.kizwtlltam',\n",
       " '0078.ltsawmgqly',\n",
       " '0079.skhlyfpztq',\n",
       " '0080.lbvqqwlzii',\n",
       " '0081.izqwvfcydq',\n",
       " '0082.arujrymkgv',\n",
       " '0083.wnianljefv',\n",
       " '0084.vefzemddoi',\n",
       " '0085.lbglllgioc',\n",
       " '0086.cbpnlbcttg',\n",
       " '0087.wetcuaignb',\n",
       " '0088.vikhudvrru',\n",
       " '0089.mtyykhfrmc',\n",
       " '0090.mabosscygp',\n",
       " '0091.cnorifbjpz',\n",
       " '0092.xyxqrvnlcc',\n",
       " '0093.uqqtlqsfmz',\n",
       " '0094.hthqicbptn',\n",
       " '0095.whlyvwpczx',\n",
       " '0096.xfzdsmayvl',\n",
       " '0097.mwazmvixos',\n",
       " '0098.wtmrgcrzda',\n",
       " '0099.josultpokj',\n",
       " '0100.pzstxspbxf']"
      ]
     },
     "execution_count": 114,
     "metadata": {},
     "output_type": "execute_result"
    }
   ],
   "source": [
    "import random\n",
    "[\"{:04}.{}\".format(i,''.join(['asdfghjklzxcvbnmqwertyuiop'[random.randint(0,25)] for _ in range(10)]))  for i in range(1,101)]"
   ]
  },
  {
   "cell_type": "code",
   "execution_count": 113,
   "metadata": {},
   "outputs": [
    {
     "data": {
      "text/plain": [
       "['0001.wzipysakgu',\n",
       " '0002.zjuyinhexs',\n",
       " '0003.lzunvqjyid',\n",
       " '0004.gvswqjbprx',\n",
       " '0005.vgmrfdjsop',\n",
       " '0006.nfersdcjul',\n",
       " '0007.bcwufxhrtv',\n",
       " '0008.xwopjykmhg',\n",
       " '0009.tnrgdimfao',\n",
       " '0010.ovqargywci',\n",
       " '0011.hfjcoxueka',\n",
       " '0012.xqkzdmifya',\n",
       " '0013.ltmwikqsnp',\n",
       " '0014.iwnpkbsvgm',\n",
       " '0015.ojuignrqmx',\n",
       " '0016.huzvfrqjso',\n",
       " '0017.pvadbrnmes',\n",
       " '0018.rlxdgqkbji',\n",
       " '0019.berajvumzd',\n",
       " '0020.wmalojrdzb',\n",
       " '0021.fzuvwpejix',\n",
       " '0022.ailnjychdk',\n",
       " '0023.nsalhougvt',\n",
       " '0024.qguelhkfjy',\n",
       " '0025.htewjqmzop',\n",
       " '0026.yvauwxhpzs',\n",
       " '0027.cifphtykla',\n",
       " '0028.ydqxwingkl',\n",
       " '0029.zelptgbjkq',\n",
       " '0030.nvmxefyzok',\n",
       " '0031.zvjumspnlx',\n",
       " '0032.eujwfastcv',\n",
       " '0033.reytuxvijc',\n",
       " '0034.weqvpbjxdm',\n",
       " '0035.urxfgqpvym',\n",
       " '0036.rnplxytqbc',\n",
       " '0037.uwpdnyktmc',\n",
       " '0038.pnymxcuqho',\n",
       " '0039.cmrbzyqsvw',\n",
       " '0040.pclsdbrwty',\n",
       " '0041.tcwgieopdn',\n",
       " '0042.wlgjqzuxdc',\n",
       " '0043.uropcszxgn',\n",
       " '0044.dyjrvkuocf',\n",
       " '0045.yftlpwdqox',\n",
       " '0046.mpzfwbgtdy',\n",
       " '0047.yfhjkltinq',\n",
       " '0048.flnevdaqwx',\n",
       " '0049.tmylhxgwqk',\n",
       " '0050.szmlkarxbe',\n",
       " '0051.vhzdtxpiru',\n",
       " '0052.pamwexgvrk',\n",
       " '0053.fqndbxhwuz',\n",
       " '0054.jympnahkcf',\n",
       " '0055.dfmzklcyph',\n",
       " '0056.zqbsrpawjl',\n",
       " '0057.ohqfijbmwv',\n",
       " '0058.intswofcpa',\n",
       " '0059.diloytzmkb',\n",
       " '0060.mqagsuchke',\n",
       " '0061.wngmofdrcq',\n",
       " '0062.ckuafgdjoq',\n",
       " '0063.fxawcqhsrn',\n",
       " '0064.mvwtfucxky',\n",
       " '0065.wxjhydfpml',\n",
       " '0066.qcwpbnlsai',\n",
       " '0067.ybhlkaxurs',\n",
       " '0068.vhuapdsiem',\n",
       " '0069.kwgheuvsaf',\n",
       " '0070.qauyrzfxci',\n",
       " '0071.kmtbvegyqf',\n",
       " '0072.kdjczthyfv',\n",
       " '0073.hcokgtbrvf',\n",
       " '0074.uhcpvmyeif',\n",
       " '0075.lngqfwvthk',\n",
       " '0076.wrljnsyqoz',\n",
       " '0077.tgcijdqzpy',\n",
       " '0078.dpesbhiwxa',\n",
       " '0079.efblnmxwpa',\n",
       " '0080.yupjkgrhsx',\n",
       " '0081.cvhgeimqfx',\n",
       " '0082.sxlgquacjm',\n",
       " '0083.surgtmkvnw',\n",
       " '0084.wlobyrcqed',\n",
       " '0085.afsrokgvmt',\n",
       " '0086.xhpocnqtka',\n",
       " '0087.nptdqfshkm',\n",
       " '0088.bzplwjftak',\n",
       " '0089.pfcrgamlvi',\n",
       " '0090.idkxgmhlyv',\n",
       " '0091.dmlsejtuxi',\n",
       " '0092.dklewgfyoj',\n",
       " '0093.yiuvtqrgbx',\n",
       " '0094.okqjnwuhxt',\n",
       " '0095.aqforpmxkt',\n",
       " '0096.gkhlwbcpfv',\n",
       " '0097.rakewduozg',\n",
       " '0098.tqhjurdgbn',\n",
       " '0099.zwcaflxpng',\n",
       " '0100.jorbcyzaie']"
      ]
     },
     "execution_count": 113,
     "metadata": {},
     "output_type": "execute_result"
    }
   ],
   "source": [
    "['{:04}.{}'.format(i,''.join(random.sample([chr(j) for j in range(97,123)],10))) for i in range(1,101)]  #这种方式生成的字母里面没有重复的字母"
   ]
  },
  {
   "cell_type": "code",
   "execution_count": null,
   "metadata": {},
   "outputs": [],
   "source": []
  },
  {
   "cell_type": "code",
   "execution_count": null,
   "metadata": {},
   "outputs": [],
   "source": []
  },
  {
   "cell_type": "code",
   "execution_count": null,
   "metadata": {},
   "outputs": [],
   "source": []
  }
 ],
 "metadata": {
  "kernelspec": {
   "display_name": "Python 3",
   "language": "python",
   "name": "python3"
  },
  "language_info": {
   "codemirror_mode": {
    "name": "ipython",
    "version": 3
   },
   "file_extension": ".py",
   "mimetype": "text/x-python",
   "name": "python",
   "nbconvert_exporter": "python",
   "pygments_lexer": "ipython3",
   "version": "3.7.1"
  }
 },
 "nbformat": 4,
 "nbformat_minor": 2
}
