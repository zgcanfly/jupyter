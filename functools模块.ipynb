{
 "cells": [
  {
   "cell_type": "code",
   "execution_count": null,
   "metadata": {},
   "outputs": [],
   "source": []
  },
  {
   "cell_type": "code",
   "execution_count": 6,
   "metadata": {},
   "outputs": [
    {
     "name": "stdout",
     "output_type": "stream",
     "text": [
      "args=(4, 5) ,kwargs={}\n",
      "======call add =======\n",
      "add so slow took 2\n",
      "9 add  I'm add\n"
     ]
    }
   ],
   "source": [
    "import datetime\n",
    "import time\n",
    "import functools\n",
    "\n",
    "#def copy_properties(src):\n",
    "#    def _inner(dest):\n",
    "#        dest.__name__=src.__name__\n",
    "#        dest.__doc__=src.__doc__\n",
    "#        return dest\n",
    "#    return _inner\n",
    "    #还有很多属性\n",
    "    \n",
    "def logger(duration,key=lambda name,duration:print(name,'so slow took',duration)):\n",
    "    def _logger(fn):\n",
    "        #@copy_properties(fn)  # _inner wrapper =wraper copy_properties(fn)(wrapper)\n",
    "        # @_inner ==>wrapper = _inner(wrapper)\n",
    "        def wrapper(*args,**kwargs):\n",
    "            \"\"\" I'm wrapper\"\"\"\n",
    "            #before\n",
    "            print(\"args={} ,kwargs={}\".format(args,kwargs))\n",
    "            start=datetime.datetime.now()\n",
    "            ret = fn(*args,**kwargs)\n",
    "\n",
    "            #after\n",
    "            delta=(datetime.datetime.now() - start).total_seconds()\n",
    "            if delta > duration:\n",
    "                key(fn.__name__,duration)  #打印信息\n",
    "            return ret\n",
    "        #copy_properties(fn,wrap)\n",
    "        functools.update_wrapper(wrapper,fn)\n",
    "        return wrapper\n",
    "    return _logger\n",
    "    \n",
    "@logger(2)  #超过5秒打印时间   #相当于 @logger(5) =>    add=_logger(add)\n",
    "def add(x,y):\n",
    "    \"\"\" I'm add\"\"\"\n",
    "    print(\"======call add =======\")\n",
    "    time.sleep(2)\n",
    "    return x+y\n",
    "\n",
    "print(add(4,5),add.__name__,add.__doc__)"
   ]
  },
  {
   "cell_type": "code",
   "execution_count": 7,
   "metadata": {},
   "outputs": [
    {
     "name": "stdout",
     "output_type": "stream",
     "text": [
      "args=(4, 5) ,kwargs={}\n",
      "======call add =======\n",
      "add so slow took 2\n",
      "9 add  I'm add\n"
     ]
    }
   ],
   "source": [
    "import datetime\n",
    "import time\n",
    "import functools\n",
    "\n",
    "#def copy_properties(src):\n",
    "#    def _inner(dest):\n",
    "#        dest.__name__=src.__name__\n",
    "#        dest.__doc__=src.__doc__\n",
    "#        return dest\n",
    "#    return _inner\n",
    "    #还有很多属性\n",
    "    \n",
    "def logger(duration,key=lambda name,duration:print(name,'so slow took',duration)):\n",
    "    def _logger(fn):\n",
    "        #@copy_properties(fn)  # _inner wrapper =wraper copy_properties(fn)(wrapper)\n",
    "        # @_inner ==>wrapper = _inner(wrapper)\n",
    "        @functools.wraps(fn)   #直接使用functools提供的装饰器\n",
    "        def wrapper(*args,**kwargs):\n",
    "            \"\"\" I'm wrapper\"\"\"\n",
    "            #before\n",
    "            print(\"args={} ,kwargs={}\".format(args,kwargs))\n",
    "            start=datetime.datetime.now()\n",
    "            ret = fn(*args,**kwargs)\n",
    "\n",
    "            #after\n",
    "            delta=(datetime.datetime.now() - start).total_seconds()\n",
    "            if delta > duration:\n",
    "                key(fn.__name__,duration)  #打印信息\n",
    "            return ret\n",
    "        #copy_properties(fn,wrap)\n",
    "        #functools.update_wrapper(wrapper,fn)\n",
    "        return wrapper\n",
    "    return _logger\n",
    "    \n",
    "@logger(2)  #超过5秒打印时间   #相当于 @logger(5) =>    add=_logger(add)\n",
    "def add(x,y):\n",
    "    \"\"\" I'm add\"\"\"\n",
    "    print(\"======call add =======\")\n",
    "    time.sleep(2)\n",
    "    return x+y\n",
    "\n",
    "print(add(4,5),add.__name__,add.__doc__)"
   ]
  },
  {
   "cell_type": "code",
   "execution_count": null,
   "metadata": {},
   "outputs": [],
   "source": [
    "#装饰器的副作用就是函数的属性 被改变   可以使用functool.waps 装饰器 改变回来"
   ]
  },
  {
   "cell_type": "code",
   "execution_count": null,
   "metadata": {},
   "outputs": [],
   "source": []
  },
  {
   "cell_type": "code",
   "execution_count": null,
   "metadata": {},
   "outputs": [],
   "source": []
  },
  {
   "cell_type": "code",
   "execution_count": null,
   "metadata": {},
   "outputs": [],
   "source": []
  },
  {
   "cell_type": "code",
   "execution_count": null,
   "metadata": {},
   "outputs": [],
   "source": []
  },
  {
   "cell_type": "code",
   "execution_count": null,
   "metadata": {},
   "outputs": [],
   "source": []
  }
 ],
 "metadata": {
  "kernelspec": {
   "display_name": "Python 3",
   "language": "python",
   "name": "python3"
  },
  "language_info": {
   "codemirror_mode": {
    "name": "ipython",
    "version": 3
   },
   "file_extension": ".py",
   "mimetype": "text/x-python",
   "name": "python",
   "nbconvert_exporter": "python",
   "pygments_lexer": "ipython3",
   "version": "3.7.1"
  }
 },
 "nbformat": 4,
 "nbformat_minor": 2
}
