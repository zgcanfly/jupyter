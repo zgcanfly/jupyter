{
 "cells": [
  {
   "cell_type": "code",
   "execution_count": 3,
   "metadata": {},
   "outputs": [
    {
     "name": "stdout",
     "output_type": "stream",
     "text": [
      "1 \n",
      "2 hello python\n"
     ]
    }
   ],
   "source": [
    "from io import StringIO,BytesIO\n",
    "\n",
    "sio = StringIO()  #类文件对象 类似于文件对象\n",
    "sio.write('hello python')\n",
    "print(1,sio.read())\n",
    "sio.seek(0)\n",
    "print(2,sio.read())\n",
    "sio.close()"
   ]
  },
  {
   "cell_type": "code",
   "execution_count": 12,
   "metadata": {},
   "outputs": [
    {
     "name": "stdout",
     "output_type": "stream",
     "text": [
      "6\n",
      "0\n",
      "magedu\n"
     ]
    }
   ],
   "source": [
    "sio = StringIO()\n",
    "with sio:\n",
    "    print(sio.write('magedu'))\n",
    "    print(sio.seek(0))\n",
    "    print(sio.read())"
   ]
  },
  {
   "cell_type": "code",
   "execution_count": 9,
   "metadata": {},
   "outputs": [
    {
     "name": "stdout",
     "output_type": "stream",
     "text": [
      "6\n",
      "0\n",
      "magedu\n"
     ]
    }
   ],
   "source": [
    "\n",
    "with StringIO() as sio:\n",
    "    print(sio.write('magedu'))\n",
    "    print(sio.seek(0))\n",
    "    print(sio.read())"
   ]
  },
  {
   "cell_type": "code",
   "execution_count": null,
   "metadata": {},
   "outputs": [],
   "source": [
    "#StringIO\n",
    "    #io模块中的类\n",
    "        #from io import StringIO\n",
    "    #内存中，开辟的一个文本模式的buffer,可以向文件对象一样操作它\n",
    "    #当close方法被调用的时候,这个buffer会被释放"
   ]
  },
  {
   "cell_type": "code",
   "execution_count": null,
   "metadata": {},
   "outputs": [],
   "source": [
    "\n",
    "with StringIO() as sio:\n",
    "    print(sio.write('magedu'))\n",
    "#     print(sio.seek(0))\n",
    "#     print(sio.read())\n",
    "    print(sio.getva)"
   ]
  },
  {
   "cell_type": "code",
   "execution_count": null,
   "metadata": {},
   "outputs": [],
   "source": []
  },
  {
   "cell_type": "code",
   "execution_count": null,
   "metadata": {},
   "outputs": [],
   "source": []
  },
  {
   "cell_type": "code",
   "execution_count": null,
   "metadata": {},
   "outputs": [],
   "source": []
  },
  {
   "cell_type": "code",
   "execution_count": null,
   "metadata": {},
   "outputs": [],
   "source": []
  },
  {
   "cell_type": "code",
   "execution_count": null,
   "metadata": {},
   "outputs": [],
   "source": [
    "\n"
   ]
  }
 ],
 "metadata": {
  "kernelspec": {
   "display_name": "Python 3",
   "language": "python",
   "name": "python3"
  },
  "language_info": {
   "codemirror_mode": {
    "name": "ipython",
    "version": 3
   },
   "file_extension": ".py",
   "mimetype": "text/x-python",
   "name": "python",
   "nbconvert_exporter": "python",
   "pygments_lexer": "ipython3",
   "version": "3.7.1"
  }
 },
 "nbformat": 4,
 "nbformat_minor": 2
}
