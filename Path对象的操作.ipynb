{
 "cells": [
  {
   "cell_type": "code",
   "execution_count": 1,
   "metadata": {},
   "outputs": [
    {
     "data": {
      "text/plain": [
       "b'a/b/c'"
      ]
     },
     "execution_count": 1,
     "metadata": {},
     "output_type": "execute_result"
    }
   ],
   "source": [
    "from pathlib import Path\n",
    "\n",
    "p=Path('a/b/c')\n",
    "\n",
    "bytes(p) #返回bytes类型"
   ]
  },
  {
   "cell_type": "code",
   "execution_count": 2,
   "metadata": {},
   "outputs": [
    {
     "data": {
      "text/plain": [
       "'a/b/c'"
      ]
     },
     "execution_count": 2,
     "metadata": {},
     "output_type": "execute_result"
    }
   ],
   "source": [
    "str(p)  #返回str类型"
   ]
  },
  {
   "cell_type": "code",
   "execution_count": 3,
   "metadata": {},
   "outputs": [
    {
     "data": {
      "text/plain": [
       "b'a/b/c'"
      ]
     },
     "execution_count": 3,
     "metadata": {},
     "output_type": "execute_result"
    }
   ],
   "source": [
    "str(p).encode()  #"
   ]
  },
  {
   "cell_type": "code",
   "execution_count": 4,
   "metadata": {},
   "outputs": [
    {
     "data": {
      "text/plain": [
       "PosixPath('a/b')"
      ]
     },
     "execution_count": 4,
     "metadata": {},
     "output_type": "execute_result"
    }
   ],
   "source": [
    "p.parent  #父目录"
   ]
  },
  {
   "cell_type": "code",
   "execution_count": 5,
   "metadata": {},
   "outputs": [
    {
     "data": {
      "text/plain": [
       "PosixPath('a')"
      ]
     },
     "execution_count": 5,
     "metadata": {},
     "output_type": "execute_result"
    }
   ],
   "source": [
    "p.parent.parent"
   ]
  },
  {
   "cell_type": "code",
   "execution_count": 6,
   "metadata": {},
   "outputs": [
    {
     "data": {
      "text/plain": [
       "PosixPath('.')"
      ]
     },
     "execution_count": 6,
     "metadata": {},
     "output_type": "execute_result"
    }
   ],
   "source": [
    "p.parent.parent.parent"
   ]
  },
  {
   "cell_type": "code",
   "execution_count": 7,
   "metadata": {},
   "outputs": [
    {
     "data": {
      "text/plain": [
       "PosixPath('.')"
      ]
     },
     "execution_count": 7,
     "metadata": {},
     "output_type": "execute_result"
    }
   ],
   "source": [
    "p.parent.parent.parent"
   ]
  },
  {
   "cell_type": "code",
   "execution_count": 9,
   "metadata": {},
   "outputs": [
    {
     "data": {
      "text/plain": [
       "PosixPath('/data/jupyter/a/b/c')"
      ]
     },
     "execution_count": 9,
     "metadata": {},
     "output_type": "execute_result"
    }
   ],
   "source": [
    "p.absolute()"
   ]
  },
  {
   "cell_type": "code",
   "execution_count": 10,
   "metadata": {},
   "outputs": [
    {
     "data": {
      "text/plain": [
       "PosixPath('/data/jupyter')"
      ]
     },
     "execution_count": 10,
     "metadata": {},
     "output_type": "execute_result"
    }
   ],
   "source": [
    "p.absolute().parent.parent.parent"
   ]
  },
  {
   "cell_type": "code",
   "execution_count": 12,
   "metadata": {},
   "outputs": [
    {
     "data": {
      "text/plain": [
       "PosixPath('/')"
      ]
     },
     "execution_count": 12,
     "metadata": {},
     "output_type": "execute_result"
    }
   ],
   "source": [
    "p.absolute().parent.parent.parent.parent.parent"
   ]
  },
  {
   "cell_type": "code",
   "execution_count": 18,
   "metadata": {},
   "outputs": [
    {
     "data": {
      "text/plain": [
       "PosixPath('a/b')"
      ]
     },
     "execution_count": 18,
     "metadata": {},
     "output_type": "execute_result"
    }
   ],
   "source": [
    "p.parents[0]  #父目录"
   ]
  },
  {
   "cell_type": "code",
   "execution_count": 15,
   "metadata": {},
   "outputs": [
    {
     "data": {
      "text/plain": [
       "PosixPath('a')"
      ]
     },
     "execution_count": 15,
     "metadata": {},
     "output_type": "execute_result"
    }
   ],
   "source": [
    "p.parents[1] #父父目录"
   ]
  },
  {
   "cell_type": "code",
   "execution_count": 19,
   "metadata": {},
   "outputs": [
    {
     "data": {
      "text/plain": [
       "PosixPath('.')"
      ]
     },
     "execution_count": 19,
     "metadata": {},
     "output_type": "execute_result"
    }
   ],
   "source": [
    "p.parents[2]"
   ]
  },
  {
   "cell_type": "code",
   "execution_count": 16,
   "metadata": {},
   "outputs": [
    {
     "name": "stdout",
     "output_type": "stream",
     "text": [
      "a/b\n",
      "a\n",
      ".\n"
     ]
    }
   ],
   "source": [
    "for i in p.parents:\n",
    "    print(i)"
   ]
  },
  {
   "cell_type": "code",
   "execution_count": 21,
   "metadata": {},
   "outputs": [
    {
     "data": {
      "text/plain": [
       "PosixPath('.')"
      ]
     },
     "execution_count": 21,
     "metadata": {},
     "output_type": "execute_result"
    }
   ],
   "source": [
    "p.parents[len(p.parents) -1] #直接取祖目录"
   ]
  },
  {
   "cell_type": "code",
   "execution_count": 22,
   "metadata": {},
   "outputs": [
    {
     "data": {
      "text/plain": [
       "PosixPath('/')"
      ]
     },
     "execution_count": 22,
     "metadata": {},
     "output_type": "execute_result"
    }
   ],
   "source": [
    "p.absolute().parents[len(p.absolute().parents) -1] #直接取祖目录"
   ]
  },
  {
   "cell_type": "code",
   "execution_count": 23,
   "metadata": {},
   "outputs": [
    {
     "data": {
      "text/plain": [
       "PosixPath('/')"
      ]
     },
     "execution_count": 23,
     "metadata": {},
     "output_type": "execute_result"
    }
   ],
   "source": [
    "x=p.absolute().parents\n",
    "x[len(x)-1]"
   ]
  },
  {
   "cell_type": "code",
   "execution_count": 24,
   "metadata": {},
   "outputs": [],
   "source": [
    "p2=Path('a/b/c/d/e/f/nginx.conf')"
   ]
  },
  {
   "cell_type": "code",
   "execution_count": 25,
   "metadata": {},
   "outputs": [
    {
     "data": {
      "text/plain": [
       "'nginx.conf'"
      ]
     },
     "execution_count": 25,
     "metadata": {},
     "output_type": "execute_result"
    }
   ],
   "source": [
    "p2.name  #直接获得split的最后部分   相当于 path.basename(p2)"
   ]
  },
  {
   "cell_type": "code",
   "execution_count": 28,
   "metadata": {},
   "outputs": [
    {
     "data": {
      "text/plain": [
       "PosixPath('/root')"
      ]
     },
     "execution_count": 28,
     "metadata": {},
     "output_type": "execute_result"
    }
   ],
   "source": [
    "p2.home()     #直接获取家目录"
   ]
  },
  {
   "cell_type": "code",
   "execution_count": 29,
   "metadata": {},
   "outputs": [
    {
     "data": {
      "text/plain": [
       "'.conf'"
      ]
     },
     "execution_count": 29,
     "metadata": {},
     "output_type": "execute_result"
    }
   ],
   "source": [
    "p2.suffix  #获取扩展名 即后缀"
   ]
  },
  {
   "cell_type": "code",
   "execution_count": 42,
   "metadata": {},
   "outputs": [
    {
     "data": {
      "text/plain": [
       "'nginx'"
      ]
     },
     "execution_count": 42,
     "metadata": {},
     "output_type": "execute_result"
    }
   ],
   "source": [
    "p2.stem  #返回最后不包括扩展名部分"
   ]
  },
  {
   "cell_type": "code",
   "execution_count": null,
   "metadata": {},
   "outputs": [],
   "source": []
  },
  {
   "cell_type": "code",
   "execution_count": 30,
   "metadata": {},
   "outputs": [],
   "source": [
    "p3=Path('a/b/c')"
   ]
  },
  {
   "cell_type": "code",
   "execution_count": 31,
   "metadata": {},
   "outputs": [
    {
     "data": {
      "text/plain": [
       "''"
      ]
     },
     "execution_count": 31,
     "metadata": {},
     "output_type": "execute_result"
    }
   ],
   "source": [
    "p3.suffix"
   ]
  },
  {
   "cell_type": "code",
   "execution_count": 41,
   "metadata": {},
   "outputs": [
    {
     "data": {
      "text/plain": [
       "[]"
      ]
     },
     "execution_count": 41,
     "metadata": {},
     "output_type": "execute_result"
    }
   ],
   "source": [
    "p3.suffixes #获取多级扩展名"
   ]
  },
  {
   "cell_type": "code",
   "execution_count": 32,
   "metadata": {},
   "outputs": [
    {
     "data": {
      "text/plain": [
       "'c'"
      ]
     },
     "execution_count": 32,
     "metadata": {},
     "output_type": "execute_result"
    }
   ],
   "source": [
    "p3.name"
   ]
  },
  {
   "cell_type": "code",
   "execution_count": null,
   "metadata": {},
   "outputs": [],
   "source": [
    "p3.name"
   ]
  },
  {
   "cell_type": "code",
   "execution_count": 35,
   "metadata": {},
   "outputs": [
    {
     "data": {
      "text/plain": [
       "PosixPath('a/b/tomcat')"
      ]
     },
     "execution_count": 35,
     "metadata": {},
     "output_type": "execute_result"
    }
   ],
   "source": [
    "p3.with_name('tomcat')  #相当于结尾换成tomcat"
   ]
  },
  {
   "cell_type": "code",
   "execution_count": 39,
   "metadata": {},
   "outputs": [
    {
     "data": {
      "text/plain": [
       "PosixPath('a/b/c.xml')"
      ]
     },
     "execution_count": 39,
     "metadata": {},
     "output_type": "execute_result"
    }
   ],
   "source": [
    "p3.with_suffix('.xml')  #加上扩展"
   ]
  },
  {
   "cell_type": "code",
   "execution_count": 43,
   "metadata": {},
   "outputs": [
    {
     "data": {
      "text/plain": [
       "PosixPath('/data/jupyter')"
      ]
     },
     "execution_count": 43,
     "metadata": {},
     "output_type": "execute_result"
    }
   ],
   "source": [
    "p2.cwd()   #返回当前工作路径"
   ]
  },
  {
   "cell_type": "code",
   "execution_count": 44,
   "metadata": {},
   "outputs": [
    {
     "data": {
      "text/plain": [
       "PosixPath('/data/jupyter')"
      ]
     },
     "execution_count": 44,
     "metadata": {},
     "output_type": "execute_result"
    }
   ],
   "source": [
    "p3.cwd()   #返回当前工作路径"
   ]
  },
  {
   "cell_type": "code",
   "execution_count": 45,
   "metadata": {},
   "outputs": [
    {
     "data": {
      "text/plain": [
       "PosixPath('/root')"
      ]
     },
     "execution_count": 45,
     "metadata": {},
     "output_type": "execute_result"
    }
   ],
   "source": [
    "p3.home()"
   ]
  },
  {
   "cell_type": "code",
   "execution_count": 46,
   "metadata": {},
   "outputs": [],
   "source": [
    "p4=Path('/dev')"
   ]
  },
  {
   "cell_type": "code",
   "execution_count": 47,
   "metadata": {},
   "outputs": [
    {
     "data": {
      "text/plain": [
       "PosixPath('/dev')"
      ]
     },
     "execution_count": 47,
     "metadata": {},
     "output_type": "execute_result"
    }
   ],
   "source": [
    "p4"
   ]
  },
  {
   "cell_type": "code",
   "execution_count": 49,
   "metadata": {},
   "outputs": [
    {
     "data": {
      "text/plain": [
       "False"
      ]
     },
     "execution_count": 49,
     "metadata": {},
     "output_type": "execute_result"
    }
   ],
   "source": [
    "(p4/'tty').is_dir()  #是否是目录"
   ]
  },
  {
   "cell_type": "code",
   "execution_count": 50,
   "metadata": {},
   "outputs": [
    {
     "data": {
      "text/plain": [
       "False"
      ]
     },
     "execution_count": 50,
     "metadata": {},
     "output_type": "execute_result"
    }
   ],
   "source": [
    "(p4/'tty').is_block_device() #是否是块设备"
   ]
  },
  {
   "cell_type": "code",
   "execution_count": 51,
   "metadata": {},
   "outputs": [
    {
     "data": {
      "text/plain": [
       "False"
      ]
     },
     "execution_count": 51,
     "metadata": {},
     "output_type": "execute_result"
    }
   ],
   "source": [
    "(p4/'tty').is_file()  #是否是普通文件"
   ]
  },
  {
   "cell_type": "code",
   "execution_count": 52,
   "metadata": {},
   "outputs": [
    {
     "data": {
      "text/plain": [
       "True"
      ]
     },
     "execution_count": 52,
     "metadata": {},
     "output_type": "execute_result"
    }
   ],
   "source": [
    "p4.is_dir()"
   ]
  },
  {
   "cell_type": "code",
   "execution_count": 53,
   "metadata": {},
   "outputs": [
    {
     "data": {
      "text/plain": [
       "False"
      ]
     },
     "execution_count": 53,
     "metadata": {},
     "output_type": "execute_result"
    }
   ],
   "source": [
    "p4.is_file()"
   ]
  },
  {
   "cell_type": "code",
   "execution_count": 54,
   "metadata": {},
   "outputs": [
    {
     "data": {
      "text/plain": [
       "True"
      ]
     },
     "execution_count": 54,
     "metadata": {},
     "output_type": "execute_result"
    }
   ],
   "source": [
    "p4.is_absolute()  #是否是绝对路径"
   ]
  },
  {
   "cell_type": "code",
   "execution_count": 55,
   "metadata": {},
   "outputs": [],
   "source": [
    "p5=Path('/etc/rc.local')"
   ]
  },
  {
   "cell_type": "code",
   "execution_count": 56,
   "metadata": {},
   "outputs": [
    {
     "data": {
      "text/plain": [
       "PosixPath('/etc/rc.local')"
      ]
     },
     "execution_count": 56,
     "metadata": {},
     "output_type": "execute_result"
    }
   ],
   "source": [
    "p5.resolve()"
   ]
  },
  {
   "cell_type": "code",
   "execution_count": 57,
   "metadata": {},
   "outputs": [
    {
     "data": {
      "text/plain": [
       "PosixPath('/etc/rc.local')"
      ]
     },
     "execution_count": 57,
     "metadata": {},
     "output_type": "execute_result"
    }
   ],
   "source": [
    "p5.absolute()"
   ]
  },
  {
   "cell_type": "code",
   "execution_count": 59,
   "metadata": {},
   "outputs": [
    {
     "name": "stdout",
     "output_type": "stream",
     "text": [
      "ls: cannot access '/etc/rc.local': No such file or directory\r\n"
     ]
    }
   ],
   "source": [
    "!ls -l /etc/rc.local"
   ]
  },
  {
   "cell_type": "code",
   "execution_count": 60,
   "metadata": {},
   "outputs": [
    {
     "data": {
      "text/plain": [
       "False"
      ]
     },
     "execution_count": 60,
     "metadata": {},
     "output_type": "execute_result"
    }
   ],
   "source": [
    "p5.exists()"
   ]
  },
  {
   "cell_type": "code",
   "execution_count": 61,
   "metadata": {},
   "outputs": [],
   "source": [
    "p6=Path('')"
   ]
  },
  {
   "cell_type": "code",
   "execution_count": 62,
   "metadata": {},
   "outputs": [
    {
     "data": {
      "text/plain": [
       "PosixPath('/data/jupyter')"
      ]
     },
     "execution_count": 62,
     "metadata": {},
     "output_type": "execute_result"
    }
   ],
   "source": [
    "p6.absolute()"
   ]
  },
  {
   "cell_type": "code",
   "execution_count": 67,
   "metadata": {},
   "outputs": [],
   "source": [
    "p7=Path(str(p6.absolute()),'c')"
   ]
  },
  {
   "cell_type": "code",
   "execution_count": 68,
   "metadata": {},
   "outputs": [
    {
     "data": {
      "text/plain": [
       "PosixPath('/data/jupyter/c')"
      ]
     },
     "execution_count": 68,
     "metadata": {},
     "output_type": "execute_result"
    }
   ],
   "source": [
    "p7"
   ]
  },
  {
   "cell_type": "code",
   "execution_count": 69,
   "metadata": {},
   "outputs": [
    {
     "ename": "FileNotFoundError",
     "evalue": "[Errno 2] No such file or directory: '/data/jupyter/c'",
     "output_type": "error",
     "traceback": [
      "\u001b[0;31m---------------------------------------------------------------------------\u001b[0m",
      "\u001b[0;31mFileNotFoundError\u001b[0m                         Traceback (most recent call last)",
      "\u001b[0;32m<ipython-input-69-02b89de6a8cb>\u001b[0m in \u001b[0;36m<module>\u001b[0;34m\u001b[0m\n\u001b[0;32m----> 1\u001b[0;31m \u001b[0mp7\u001b[0m\u001b[0;34m.\u001b[0m\u001b[0mrmdir\u001b[0m\u001b[0;34m(\u001b[0m\u001b[0;34m)\u001b[0m\u001b[0;34m\u001b[0m\u001b[0;34m\u001b[0m\u001b[0m\n\u001b[0m",
      "\u001b[0;32m/usr/local/lib/python3.7/pathlib.py\u001b[0m in \u001b[0;36mrmdir\u001b[0;34m(self)\u001b[0m\n\u001b[1;32m   1283\u001b[0m         \u001b[0;32mif\u001b[0m \u001b[0mself\u001b[0m\u001b[0;34m.\u001b[0m\u001b[0m_closed\u001b[0m\u001b[0;34m:\u001b[0m\u001b[0;34m\u001b[0m\u001b[0;34m\u001b[0m\u001b[0m\n\u001b[1;32m   1284\u001b[0m             \u001b[0mself\u001b[0m\u001b[0;34m.\u001b[0m\u001b[0m_raise_closed\u001b[0m\u001b[0;34m(\u001b[0m\u001b[0;34m)\u001b[0m\u001b[0;34m\u001b[0m\u001b[0;34m\u001b[0m\u001b[0m\n\u001b[0;32m-> 1285\u001b[0;31m         \u001b[0mself\u001b[0m\u001b[0;34m.\u001b[0m\u001b[0m_accessor\u001b[0m\u001b[0;34m.\u001b[0m\u001b[0mrmdir\u001b[0m\u001b[0;34m(\u001b[0m\u001b[0mself\u001b[0m\u001b[0;34m)\u001b[0m\u001b[0;34m\u001b[0m\u001b[0;34m\u001b[0m\u001b[0m\n\u001b[0m\u001b[1;32m   1286\u001b[0m \u001b[0;34m\u001b[0m\u001b[0m\n\u001b[1;32m   1287\u001b[0m     \u001b[0;32mdef\u001b[0m \u001b[0mlstat\u001b[0m\u001b[0;34m(\u001b[0m\u001b[0mself\u001b[0m\u001b[0;34m)\u001b[0m\u001b[0;34m:\u001b[0m\u001b[0;34m\u001b[0m\u001b[0;34m\u001b[0m\u001b[0m\n",
      "\u001b[0;31mFileNotFoundError\u001b[0m: [Errno 2] No such file or directory: '/data/jupyter/c'"
     ]
    }
   ],
   "source": [
    "p7.rmdir()  #删除目录 ， 没有提供目录为空的方法"
   ]
  },
  {
   "cell_type": "code",
   "execution_count": 97,
   "metadata": {},
   "outputs": [
    {
     "name": "stdout",
     "output_type": "stream",
     "text": [
      "mkdir: cannot create directory ‘/data/jupyter/c/’: File exists\r\n"
     ]
    }
   ],
   "source": [
    "mkdir  /data/jupyter/c/"
   ]
  },
  {
   "cell_type": "code",
   "execution_count": 101,
   "metadata": {},
   "outputs": [],
   "source": [
    "rm -rf /data/jupyter/c"
   ]
  },
  {
   "cell_type": "code",
   "execution_count": 99,
   "metadata": {},
   "outputs": [
    {
     "name": "stdout",
     "output_type": "stream",
     "text": [
      "ls: cannot access '/data/jupyter/c/': Not a directory\r\n"
     ]
    }
   ],
   "source": [
    "ls  -lh /data/jupyter/c/"
   ]
  },
  {
   "cell_type": "code",
   "execution_count": 96,
   "metadata": {},
   "outputs": [
    {
     "ename": "NotADirectoryError",
     "evalue": "[Errno 20] Not a directory: '/data/jupyter/c'",
     "output_type": "error",
     "traceback": [
      "\u001b[0;31m---------------------------------------------------------------------------\u001b[0m",
      "\u001b[0;31mNotADirectoryError\u001b[0m                        Traceback (most recent call last)",
      "\u001b[0;32m<ipython-input-96-02b89de6a8cb>\u001b[0m in \u001b[0;36m<module>\u001b[0;34m\u001b[0m\n\u001b[0;32m----> 1\u001b[0;31m \u001b[0mp7\u001b[0m\u001b[0;34m.\u001b[0m\u001b[0mrmdir\u001b[0m\u001b[0;34m(\u001b[0m\u001b[0;34m)\u001b[0m\u001b[0;34m\u001b[0m\u001b[0;34m\u001b[0m\u001b[0m\n\u001b[0m",
      "\u001b[0;32m/usr/local/lib/python3.7/pathlib.py\u001b[0m in \u001b[0;36mrmdir\u001b[0;34m(self)\u001b[0m\n\u001b[1;32m   1283\u001b[0m         \u001b[0;32mif\u001b[0m \u001b[0mself\u001b[0m\u001b[0;34m.\u001b[0m\u001b[0m_closed\u001b[0m\u001b[0;34m:\u001b[0m\u001b[0;34m\u001b[0m\u001b[0;34m\u001b[0m\u001b[0m\n\u001b[1;32m   1284\u001b[0m             \u001b[0mself\u001b[0m\u001b[0;34m.\u001b[0m\u001b[0m_raise_closed\u001b[0m\u001b[0;34m(\u001b[0m\u001b[0;34m)\u001b[0m\u001b[0;34m\u001b[0m\u001b[0;34m\u001b[0m\u001b[0m\n\u001b[0;32m-> 1285\u001b[0;31m         \u001b[0mself\u001b[0m\u001b[0;34m.\u001b[0m\u001b[0m_accessor\u001b[0m\u001b[0;34m.\u001b[0m\u001b[0mrmdir\u001b[0m\u001b[0;34m(\u001b[0m\u001b[0mself\u001b[0m\u001b[0;34m)\u001b[0m\u001b[0;34m\u001b[0m\u001b[0;34m\u001b[0m\u001b[0m\n\u001b[0m\u001b[1;32m   1286\u001b[0m \u001b[0;34m\u001b[0m\u001b[0m\n\u001b[1;32m   1287\u001b[0m     \u001b[0;32mdef\u001b[0m \u001b[0mlstat\u001b[0m\u001b[0;34m(\u001b[0m\u001b[0mself\u001b[0m\u001b[0;34m)\u001b[0m\u001b[0;34m:\u001b[0m\u001b[0;34m\u001b[0m\u001b[0;34m\u001b[0m\u001b[0m\n",
      "\u001b[0;31mNotADirectoryError\u001b[0m: [Errno 20] Not a directory: '/data/jupyter/c'"
     ]
    }
   ],
   "source": [
    "p7.rmdir()"
   ]
  },
  {
   "cell_type": "code",
   "execution_count": 103,
   "metadata": {},
   "outputs": [
    {
     "name": "stdout",
     "output_type": "stream",
     "text": [
      "total 0\r\n"
     ]
    }
   ],
   "source": [
    "ls  -lh /data/jupyter/c/"
   ]
  },
  {
   "cell_type": "code",
   "execution_count": 104,
   "metadata": {},
   "outputs": [],
   "source": [
    "p7.touch()  #创建文件"
   ]
  },
  {
   "cell_type": "code",
   "execution_count": 105,
   "metadata": {},
   "outputs": [
    {
     "name": "stdout",
     "output_type": "stream",
     "text": [
      "total 0\r\n"
     ]
    }
   ],
   "source": [
    "ls  -lh /data/jupyter/c"
   ]
  },
  {
   "cell_type": "code",
   "execution_count": 102,
   "metadata": {},
   "outputs": [],
   "source": [
    "p7.mkdir()  #创建目录"
   ]
  },
  {
   "cell_type": "code",
   "execution_count": 110,
   "metadata": {},
   "outputs": [
    {
     "name": "stdout",
     "output_type": "stream",
     "text": [
      "total 0\r\n"
     ]
    }
   ],
   "source": [
    "!ls -lh /data/jupyter/c/"
   ]
  },
  {
   "cell_type": "code",
   "execution_count": 111,
   "metadata": {},
   "outputs": [],
   "source": [
    "p8=Path(str(p7),'a/b/c')"
   ]
  },
  {
   "cell_type": "code",
   "execution_count": null,
   "metadata": {},
   "outputs": [],
   "source": [
    "p8"
   ]
  },
  {
   "cell_type": "code",
   "execution_count": 124,
   "metadata": {},
   "outputs": [
    {
     "data": {
      "text/plain": [
       "<generator object Path.iterdir at 0x7f5a68553e58>"
      ]
     },
     "execution_count": 124,
     "metadata": {},
     "output_type": "execute_result"
    }
   ],
   "source": [
    "#路径迭代\n",
    "p8.iterdir()  #只遍历子目录下的所有文件或目录"
   ]
  },
  {
   "cell_type": "code",
   "execution_count": 127,
   "metadata": {},
   "outputs": [
    {
     "name": "stdout",
     "output_type": "stream",
     "text": [
      "for if.ipynb\n",
      "Path对象的操作.ipynb\n",
      "字典扁平化和Base64实现.ipynb\n",
      ".gitignore\n",
      "函数的作用域.ipynb\n",
      "字符串格式化.ipynb\n",
      "test.txt\n",
      "c\n",
      "树和二叉树原理.ipynb\n",
      "test3\n",
      "字符串原理.ipynb\n",
      "生成器yield.ipynb\n",
      "编码描述符及读写方法.ipynb\n",
      "open方法和模式.ipynb\n",
      "内建函数.ipynb\n",
      "字符串练习.ipynb\n",
      "函数递归原理.ipynb\n",
      ".git\n",
      "列表1.ipynb\n",
      "python封装和解构.ipynb\n",
      "nonlocal和缺省值.ipynb\n",
      "参数回顾，及参数解构.ipynb\n",
      "递归习题.ipynb\n",
      "test5\n",
      "选择排序及二元选择排序优化.ipynb\n",
      "README.md\n",
      "functools之parial和lru_cache.ipynb\n",
      "默认值及可变参数.ipynb\n",
      "参数检查的装饰器实现.ipynb\n",
      "os.path和Path初识.ipynb\n",
      "九九乘法表2.ipynb\n",
      "插入排序.ipynb\n",
      "bytes、bytearray.ipynb\n",
      "缓冲区原理.ipynb\n",
      "匿名函数lambda.ipynb\n",
      "Ipython(求质数算法).ipynb\n",
      "装饰器习题精讲.ipynb\n",
      "习题 copy 和wordcount精讲.ipynb\n",
      "生成器表达试.ipynb\n",
      "可变参数.ipynb\n",
      "字典遍历、缺省字典、有序字典.ipynb\n",
      "切片.ipynb\n",
      "函数的销毁.ipynb\n",
      "字典的增删查改.ipynb\n",
      "排序和冒泡.ipynb\n",
      "函数.ipynb\n",
      "set常用方法及高性能原理.ipynb\n",
      "高阶函数、柯里化、装饰器.ipynb\n",
      "global和闭包.ipynb\n",
      "随机数和元祖.ipynb\n",
      "类文件对象  StringIO和BytesIO.ipynb\n",
      "sample\n",
      "test\n",
      "LEGB函数执行过程.ipynb\n",
      "带参装饰器.ipynb\n",
      "九九乘法表.ipynb\n",
      "函数的返回值.ipynb\n",
      ".ipynb_checkpoints\n",
      "random.ipynb\n",
      "for.ipynb\n",
      "functools模块.ipynb\n",
      "时间和列表解析式.ipynb\n",
      "列表作业讲解.ipynb\n",
      ".idea\n",
      "类型注解.ipynb\n",
      "公共子串解法.ipynb\n"
     ]
    }
   ],
   "source": [
    "for i in Path().iterdir():\n",
    "    print(i)"
   ]
  },
  {
   "cell_type": "code",
   "execution_count": 129,
   "metadata": {},
   "outputs": [
    {
     "name": "stdout",
     "output_type": "stream",
     "text": [
      "for if.ipynb\tfile\n",
      "Path对象的操作.ipynb\tfile\n",
      "字典扁平化和Base64实现.ipynb\tfile\n",
      ".gitignore\tfile\n",
      "函数的作用域.ipynb\tfile\n",
      "字符串格式化.ipynb\tfile\n",
      "test.txt\tfile\n",
      "c\tdir\tNot Empty\n",
      "树和二叉树原理.ipynb\tfile\n",
      "test3\tfile\n",
      "字符串原理.ipynb\tfile\n",
      "生成器yield.ipynb\tfile\n",
      "编码描述符及读写方法.ipynb\tfile\n",
      "open方法和模式.ipynb\tfile\n",
      "内建函数.ipynb\tfile\n",
      "字符串练习.ipynb\tfile\n",
      "函数递归原理.ipynb\tfile\n",
      ".git\tdir\tNot Empty\n",
      "列表1.ipynb\tfile\n",
      "python封装和解构.ipynb\tfile\n",
      "nonlocal和缺省值.ipynb\tfile\n",
      "参数回顾，及参数解构.ipynb\tfile\n",
      "递归习题.ipynb\tfile\n",
      "test5\tfile\n",
      "选择排序及二元选择排序优化.ipynb\tfile\n",
      "README.md\tfile\n",
      "functools之parial和lru_cache.ipynb\tfile\n",
      "默认值及可变参数.ipynb\tfile\n",
      "参数检查的装饰器实现.ipynb\tfile\n",
      "os.path和Path初识.ipynb\tfile\n",
      "九九乘法表2.ipynb\tfile\n",
      "插入排序.ipynb\tfile\n",
      "bytes、bytearray.ipynb\tfile\n",
      "缓冲区原理.ipynb\tfile\n",
      "匿名函数lambda.ipynb\tfile\n",
      "Ipython(求质数算法).ipynb\tfile\n",
      "装饰器习题精讲.ipynb\tfile\n",
      "习题 copy 和wordcount精讲.ipynb\tfile\n",
      "生成器表达试.ipynb\tfile\n",
      "可变参数.ipynb\tfile\n",
      "字典遍历、缺省字典、有序字典.ipynb\tfile\n",
      "切片.ipynb\tfile\n",
      "函数的销毁.ipynb\tfile\n",
      "字典的增删查改.ipynb\tfile\n",
      "排序和冒泡.ipynb\tfile\n",
      "函数.ipynb\tfile\n",
      "set常用方法及高性能原理.ipynb\tfile\n",
      "高阶函数、柯里化、装饰器.ipynb\tfile\n",
      "global和闭包.ipynb\tfile\n",
      "随机数和元祖.ipynb\tfile\n",
      "类文件对象  StringIO和BytesIO.ipynb\tfile\n",
      "sample\tfile\n",
      "test\tfile\n",
      "LEGB函数执行过程.ipynb\tfile\n",
      "带参装饰器.ipynb\tfile\n",
      "九九乘法表.ipynb\tfile\n",
      "函数的返回值.ipynb\tfile\n",
      ".ipynb_checkpoints\tdir\tNot Empty\n",
      "random.ipynb\tfile\n",
      "for.ipynb\tfile\n",
      "functools模块.ipynb\tfile\n",
      "时间和列表解析式.ipynb\tfile\n",
      "列表作业讲解.ipynb\tfile\n",
      ".idea\tdir\tNot Empty\n",
      "类型注解.ipynb\tfile\n",
      "公共子串解法.ipynb\tfile\n"
     ]
    }
   ],
   "source": [
    "#遍历 并判断文件类型 如果是目录是否可以判断其是否为空？\n",
    "\n",
    "for x in p.parents[len(p.parents)-1].iterdir():\n",
    "    print(x,end='\\t')\n",
    "    if x.is_dir():\n",
    "        flag = False\n",
    "        for _ in x.iterdir():\n",
    "            flag = True\n",
    "            break\n",
    "        # for 循环是否可以使用else子句\n",
    "        print('dir','Not Empty' if flag else 'Empyt',sep='\\t')\n",
    "    elif x.is_file():\n",
    "        print('file')\n",
    "    else:\n",
    "        print('other file')"
   ]
  },
  {
   "cell_type": "code",
   "execution_count": 132,
   "metadata": {},
   "outputs": [],
   "source": [
    "p1=Path().glob  #glob(pattern) 通配符 通配给定的模式\n",
    "                #rglob(pattern)通配给定的模式\n",
    "                    #返回一个生成器"
   ]
  },
  {
   "cell_type": "code",
   "execution_count": 145,
   "metadata": {},
   "outputs": [],
   "source": [
    "p1=Path().rglob"
   ]
  },
  {
   "cell_type": "code",
   "execution_count": 146,
   "metadata": {},
   "outputs": [
    {
     "data": {
      "text/plain": [
       "<bound method Path.rglob of PosixPath('.')>"
      ]
     },
     "execution_count": 146,
     "metadata": {},
     "output_type": "execute_result"
    }
   ],
   "source": [
    "p1"
   ]
  },
  {
   "cell_type": "code",
   "execution_count": 135,
   "metadata": {},
   "outputs": [
    {
     "data": {
      "text/plain": [
       "[PosixPath('for if.ipynb'),\n",
       " PosixPath('Path对象的操作.ipynb'),\n",
       " PosixPath('字典扁平化和Base64实现.ipynb'),\n",
       " PosixPath('.gitignore'),\n",
       " PosixPath('函数的作用域.ipynb'),\n",
       " PosixPath('字符串格式化.ipynb'),\n",
       " PosixPath('test.txt'),\n",
       " PosixPath('c'),\n",
       " PosixPath('树和二叉树原理.ipynb'),\n",
       " PosixPath('test3'),\n",
       " PosixPath('字符串原理.ipynb'),\n",
       " PosixPath('生成器yield.ipynb'),\n",
       " PosixPath('编码描述符及读写方法.ipynb'),\n",
       " PosixPath('open方法和模式.ipynb'),\n",
       " PosixPath('内建函数.ipynb'),\n",
       " PosixPath('字符串练习.ipynb'),\n",
       " PosixPath('函数递归原理.ipynb'),\n",
       " PosixPath('.git'),\n",
       " PosixPath('列表1.ipynb'),\n",
       " PosixPath('python封装和解构.ipynb'),\n",
       " PosixPath('nonlocal和缺省值.ipynb'),\n",
       " PosixPath('参数回顾，及参数解构.ipynb'),\n",
       " PosixPath('递归习题.ipynb'),\n",
       " PosixPath('test5'),\n",
       " PosixPath('选择排序及二元选择排序优化.ipynb'),\n",
       " PosixPath('README.md'),\n",
       " PosixPath('functools之parial和lru_cache.ipynb'),\n",
       " PosixPath('默认值及可变参数.ipynb'),\n",
       " PosixPath('参数检查的装饰器实现.ipynb'),\n",
       " PosixPath('os.path和Path初识.ipynb'),\n",
       " PosixPath('九九乘法表2.ipynb'),\n",
       " PosixPath('插入排序.ipynb'),\n",
       " PosixPath('bytes、bytearray.ipynb'),\n",
       " PosixPath('缓冲区原理.ipynb'),\n",
       " PosixPath('匿名函数lambda.ipynb'),\n",
       " PosixPath('Ipython(求质数算法).ipynb'),\n",
       " PosixPath('装饰器习题精讲.ipynb'),\n",
       " PosixPath('习题 copy 和wordcount精讲.ipynb'),\n",
       " PosixPath('生成器表达试.ipynb'),\n",
       " PosixPath('可变参数.ipynb'),\n",
       " PosixPath('字典遍历、缺省字典、有序字典.ipynb'),\n",
       " PosixPath('切片.ipynb'),\n",
       " PosixPath('函数的销毁.ipynb'),\n",
       " PosixPath('字典的增删查改.ipynb'),\n",
       " PosixPath('排序和冒泡.ipynb'),\n",
       " PosixPath('函数.ipynb'),\n",
       " PosixPath('set常用方法及高性能原理.ipynb'),\n",
       " PosixPath('高阶函数、柯里化、装饰器.ipynb'),\n",
       " PosixPath('global和闭包.ipynb'),\n",
       " PosixPath('随机数和元祖.ipynb'),\n",
       " PosixPath('类文件对象  StringIO和BytesIO.ipynb'),\n",
       " PosixPath('sample'),\n",
       " PosixPath('test'),\n",
       " PosixPath('LEGB函数执行过程.ipynb'),\n",
       " PosixPath('带参装饰器.ipynb'),\n",
       " PosixPath('九九乘法表.ipynb'),\n",
       " PosixPath('函数的返回值.ipynb'),\n",
       " PosixPath('.ipynb_checkpoints'),\n",
       " PosixPath('random.ipynb'),\n",
       " PosixPath('for.ipynb'),\n",
       " PosixPath('functools模块.ipynb'),\n",
       " PosixPath('时间和列表解析式.ipynb'),\n",
       " PosixPath('列表作业讲解.ipynb'),\n",
       " PosixPath('.idea'),\n",
       " PosixPath('类型注解.ipynb'),\n",
       " PosixPath('公共子串解法.ipynb')]"
      ]
     },
     "execution_count": 135,
     "metadata": {},
     "output_type": "execute_result"
    }
   ],
   "source": [
    "list(p1('*'))"
   ]
  },
  {
   "cell_type": "code",
   "execution_count": null,
   "metadata": {},
   "outputs": [],
   "source": [
    "#匹配\n",
    "#match(pattern)\n",
    "#匹配成功 返回True\n"
   ]
  },
  {
   "cell_type": "code",
   "execution_count": 139,
   "metadata": {},
   "outputs": [],
   "source": [
    "p5=Path('/tmp/a/b/c.txt')"
   ]
  },
  {
   "cell_type": "code",
   "execution_count": 140,
   "metadata": {},
   "outputs": [
    {
     "data": {
      "text/plain": [
       "False"
      ]
     },
     "execution_count": 140,
     "metadata": {},
     "output_type": "execute_result"
    }
   ],
   "source": [
    "p5.match('/')"
   ]
  },
  {
   "cell_type": "code",
   "execution_count": 141,
   "metadata": {},
   "outputs": [
    {
     "data": {
      "text/plain": [
       "False"
      ]
     },
     "execution_count": 141,
     "metadata": {},
     "output_type": "execute_result"
    }
   ],
   "source": [
    "p5.match('/*')"
   ]
  },
  {
   "cell_type": "code",
   "execution_count": 142,
   "metadata": {},
   "outputs": [
    {
     "data": {
      "text/plain": [
       "True"
      ]
     },
     "execution_count": 142,
     "metadata": {},
     "output_type": "execute_result"
    }
   ],
   "source": [
    "p5.match('*/c.txt')"
   ]
  },
  {
   "cell_type": "code",
   "execution_count": 147,
   "metadata": {},
   "outputs": [],
   "source": [
    "#stat() 相当于stat 命令\n",
    "#lstat() 同stat() 但如果是符号连接，则显示连接本身文件"
   ]
  },
  {
   "cell_type": "code",
   "execution_count": null,
   "metadata": {},
   "outputs": [],
   "source": [
    "#文件操作\n",
    "open() #使用方法类似内置函数open"
   ]
  },
  {
   "cell_type": "code",
   "execution_count": 162,
   "metadata": {},
   "outputs": [],
   "source": [
    "p6=Path('sample')"
   ]
  },
  {
   "cell_type": "code",
   "execution_count": 163,
   "metadata": {},
   "outputs": [],
   "source": [
    "f=p6.open()"
   ]
  },
  {
   "cell_type": "code",
   "execution_count": 165,
   "metadata": {},
   "outputs": [
    {
     "data": {
      "text/plain": [
       "''"
      ]
     },
     "execution_count": 165,
     "metadata": {},
     "output_type": "execute_result"
    }
   ],
   "source": [
    "f.readline()"
   ]
  },
  {
   "cell_type": "code",
   "execution_count": 166,
   "metadata": {},
   "outputs": [],
   "source": [
    "f.close()"
   ]
  },
  {
   "cell_type": "code",
   "execution_count": 167,
   "metadata": {},
   "outputs": [
    {
     "data": {
      "text/plain": [
       "True"
      ]
     },
     "execution_count": 167,
     "metadata": {},
     "output_type": "execute_result"
    }
   ],
   "source": [
    "f.closed"
   ]
  },
  {
   "cell_type": "code",
   "execution_count": 170,
   "metadata": {},
   "outputs": [
    {
     "name": "stdout",
     "output_type": "stream",
     "text": [
      "Navigation\n",
      "index modules | next | previous |  Python » 3.5.3 Documentation » The Python Standard Library » 11. File and Directory Access » \n",
      "11.2. os.path — Common pathname manipulations\n",
      "Source code: Lib/posixpath.py (for POSIX), Lib/ntpath.py (for Windows NT), and Lib/macpath.py (for Macintosh)\n",
      "\n",
      "\n",
      "--------------------------------------------------------------------------------\n",
      "\n",
      "This module implements some useful functions on pathnames. To read or write files see open(), and for accessing the filesystem see the os module. The path parameters can be passed as either strings, or bytes. Applications are encouraged to represent file names as (Unicode) character strings. Unfortunately, some file names may not be representable as strings on Unix, so applications that need to support arbitrary file names on Unix should use bytes objects to represent path names. Vice versa, using bytes objects cannot represent all file names on Windows (in the standard mbcs encoding), hence Windows applications should use string objects to access all files.\n",
      "\n",
      "Unlike a unix shell, Python does not do any automatic path expansions. Functions such as expanduser() and expandvars() can be invoked explicitly when an application desires shell-like path expansion. (See also the glob module.)\n",
      "\n",
      "See also\n",
      "The pathlib module offers high-level path objects.\n",
      "\n",
      "Note\n",
      "All of these functions accept either only bytes or only string objects as their parameters. The result is an object of the same type, if a path or file name is returned.\n",
      "\n",
      "Note\n",
      "Since different operating systems have different path name conventions, there are several versions of this module in the standard library. The os.path module is always the path module suitable for the operating system Python is running on, and therefore usable for local paths. However, you can also import and use the individual modules if you want to manipulate a path that is always in one of the different formats. They all have the same interface:\n",
      "\n",
      "posixpath for UNIX-style paths \n",
      "ntpath for Windows paths \n",
      "macpath for old-style MacOS paths \n",
      "os.path.abspath(path) \n",
      "Return a normalized absolutized version of the pathname path. On most platforms, this is equivalent to calling the function normpath() as follows: normpath(join(os.getcwd(), path)).\n",
      "\n",
      "os.path.basename(path) \n",
      "Return the base name of pathname path. This is the second element of the pair returned by passing path to the function split(). Note that the result of this function is different from the Unix basename program; where basename for '/foo/bar/' returns 'bar', the basename() function returns an empty string ('').\n",
      "\n",
      "os.path.commonpath(paths) \n",
      "Return the longest common sub-path of each pathname in the sequence paths. Raise ValueError if paths contains both absolute and relative pathnames, or if paths is empty. Unlike commonprefix(), this returns a valid path.\n",
      "\n",
      "Availability: Unix, Windows\n",
      "\n",
      "New in version 3.5.\n",
      "\n",
      "os.path.commonprefix(list) \n",
      "Return the longest path prefix (taken character-by-character) that is a prefix of all paths in list. If list is empty, return the empty string ('').\n",
      "\n",
      "Note\n",
      "This function may return invalid paths because it works a character at a time. To obtain a valid path, see commonpath().\n",
      "\n",
      ">>> os.path.commonprefix(['/usr/lib', '/usr/local/lib'])\n",
      "'/usr/l'\n",
      "\n",
      ">>> os.path.commonpath(['/usr/lib', '/usr/local/lib'])\n",
      "'/usr'\n",
      "os.path.dirname(path) \n",
      "Return the directory name of pathname path. This is the first element of the pair returned by passing path to the function split().\n",
      "\n",
      "os.path.exists(path) \n",
      "Return True if path refers to an existing path or an open file descriptor. Returns False for broken symbolic links. On some platforms, this function may return False if permission is not granted to execute os.stat() on the requested file, even if the path physically exists.\n",
      "\n",
      "Changed in version 3.3: path can now be an integer: True is returned if it is an open file descriptor, False otherwise.\n",
      "\n",
      "os.path.lexists(path) \n",
      "Return True if path refers to an existing path. Returns True for broken symbolic links. Equivalent to exists() on platforms lacking os.lstat().\n",
      "\n",
      "os.path.expanduser(path) \n",
      "On Unix and Windows, return the argument with an initial component of ~ or ~user replaced by that user‘s home directory.\n",
      "\n",
      "On Unix, an initial ~ is replaced by the environment variable HOME if it is set; otherwise the current user’s home directory is looked up in the password directory through the built-in module pwd. An initial ~user is looked up directly in the password directory.\n",
      "\n",
      "On Windows, HOME and USERPROFILE will be used if set, otherwise a combination of HOMEPATH and HOMEDRIVE will be used. An initial ~user is handled by stripping the last directory component from the created user path derived above.\n",
      "\n",
      "If the expansion fails or if the path does not begin with a tilde, the path is returned unchanged.\n",
      "\n",
      "os.path.expandvars(path) \n",
      "Return the argument with environment variables expanded. Substrings of the form $name or ${name} are replaced by the value of environment variable name. Malformed variable names and references to non-existing variables are left unchanged.\n",
      "\n",
      "On Windows, %name% expansions are supported in addition to $name and ${name}.\n",
      "\n",
      "os.path.getatime(path) \n",
      "Return the time of last access of path. The return value is a number giving the number of seconds since the epoch (see the time module). Raise OSError if the file does not exist or is inaccessible.\n",
      "\n",
      "If os.stat_float_times() returns True, the result is a floating point number.\n",
      "\n",
      "os.path.getmtime(path) \n",
      "Return the time of last modification of path. The return value is a number giving the number of seconds since the epoch (see the time module). Raise OSError if the file does not exist or is inaccessible.\n",
      "\n",
      "If os.stat_float_times() returns True, the result is a floating point number.\n",
      "\n",
      "os.path.getctime(path) \n",
      "Return the system’s ctime which, on some systems (like Unix) is the time of the last metadata change, and, on others (like Windows), is the creation time for path. The return value is a number giving the number of seconds since the epoch (see the time module). Raise OSError if the file does not exist or is inaccessible.\n",
      "\n",
      "os.path.getsize(path) \n",
      "Return the size, in bytes, of path. Raise OSError if the file does not exist or is inaccessible.\n",
      "\n",
      "os.path.isabs(path) \n",
      "Return True if path is an absolute pathname. On Unix, that means it begins with a slash, on Windows that it begins with a (back)slash after chopping off a potential drive letter.\n",
      "\n",
      "os.path.isfile(path) \n",
      "Return True if path is an existing regular file. This follows symbolic links, so both islink() and isfile() can be true for the same path.\n",
      "\n",
      "os.path.isdir(path) \n",
      "Return True if path is an existing directory. This follows symbolic links, so both islink() and isdir() can be true for the same path.\n",
      "\n",
      "os.path.islink(path) \n",
      "Return True if path refers to a directory entry that is a symbolic link. Always False if symbolic links are not supported by the Python runtime.\n",
      "\n",
      "os.path.ismount(path) \n",
      "Return True if pathname path is a mount point: a point in a file system where a different file system has been mounted. On POSIX, the function checks whether path‘s parent, path/.., is on a different device than path, or whether path/.. and path point to the same i-node on the same device — this should detect mount points for all Unix and POSIX variants. On Windows, a drive letter root and a share UNC are always mount points, and for any other path GetVolumePathName is called to see if it is different from the input path.\n",
      "\n",
      "New in version 3.4: Support for detecting non-root mount points on Windows.\n",
      "\n",
      "os.path.join(path, *paths) \n",
      "Join one or more path components intelligently. The return value is the concatenation of path and any members of *paths with exactly one directory separator (os.sep) following each non-empty part except the last, meaning that the result will only end in a separator if the last part is empty. If a component is an absolute path, all previous components are thrown away and joining continues from the absolute path component.\n",
      "\n",
      "On Windows, the drive letter is not reset when an absolute path component (e.g., r'\\foo') is encountered. If a component contains a drive letter, all previous components are thrown away and the drive letter is reset. Note that since there is a current directory for each drive, os.path.join(\"c:\", \"foo\") represents a path relative to the current directory on drive C: (c:foo), not c:\\foo.\n",
      "\n",
      "os.path.normcase(path) \n",
      "Normalize the case of a pathname. On Unix and Mac OS X, this returns the path unchanged; on case-insensitive filesystems, it converts the path to lowercase. On Windows, it also converts forward slashes to backward slashes. Raise a TypeError if the type of path is not str or bytes.\n",
      "\n",
      "os.path.normpath(path) \n",
      "Normalize a pathname by collapsing redundant separators and up-level references so that A//B, A/B/, A/./B and A/foo/../B all become A/B. This string manipulation may change the meaning of a path that contains symbolic links. On Windows, it converts forward slashes to backward slashes. To normalize case, use normcase().\n",
      "\n",
      "os.path.realpath(path) \n",
      "Return the canonical path of the specified filename, eliminating any symbolic links encountered in the path (if they are supported by the operating system).\n",
      "\n",
      "os.path.relpath(path, start=os.curdir) \n",
      "Return a relative filepath to path either from the current directory or from an optional start directory. This is a path computation: the filesystem is not accessed to confirm the existence or nature of path or start.\n",
      "\n",
      "start defaults to os.curdir.\n",
      "\n",
      "Availability: Unix, Windows.\n",
      "\n",
      "os.path.samefile(path1, path2) \n",
      "Return True if both pathname arguments refer to the same file or directory. This is determined by the device number and i-node number and raises an exception if an os.stat() call on either pathname fails.\n",
      "\n",
      "Availability: Unix, Windows.\n",
      "\n",
      "Changed in version 3.2: Added Windows support.\n",
      "\n",
      "Changed in version 3.4: Windows now uses the same implementation as all other platforms.\n",
      "\n",
      "os.path.sameopenfile(fp1, fp2) \n",
      "Return True if the file descriptors fp1 and fp2 refer to the same file.\n",
      "\n",
      "Availability: Unix, Windows.\n",
      "\n",
      "Changed in version 3.2: Added Windows support.\n",
      "\n",
      "os.path.samestat(stat1, stat2) \n",
      "Return True if the stat tuples stat1 and stat2 refer to the same file. These structures may have been returned by os.fstat(), os.lstat(), or os.stat(). This function implements the underlying comparison used by samefile() and sameopenfile().\n",
      "\n",
      "Availability: Unix, Windows.\n",
      "\n",
      "Changed in version 3.4: Added Windows support.\n",
      "\n",
      "os.path.split(path) \n",
      "Split the pathname path into a pair, (head, tail) where tail is the last pathname component and head is everything leading up to that. The tail part will never contain a slash; if path ends in a slash, tail will be empty. If there is no slash in path, head will be empty. If path is empty, both head and tail are empty. Trailing slashes are stripped from head unless it is the root (one or more slashes only). In all cases, join(head, tail) returns a path to the same location as path (but the strings may differ). Also see the functions dirname() and basename().\n",
      "\n",
      "os.path.splitdrive(path) \n",
      "Split the pathname path into a pair (drive, tail) where drive is either a mount point or the empty string. On systems which do not use drive specifications, drive will always be the empty string. In all cases, drive + tail will be the same as path.\n",
      "\n",
      "On Windows, splits a pathname into drive/UNC sharepoint and relative path.\n",
      "\n",
      "If the path contains a drive letter, drive will contain everything up to and including the colon. e.g. splitdrive(\"c:/dir\") returns (\"c:\", \"/dir\")\n",
      "\n",
      "If the path contains a UNC path, drive will contain the host name and share, up to but not including the fourth separator. e.g. splitdrive(\"//host/computer/dir\") returns (\"//host/computer\", \"/dir\")\n",
      "\n",
      "os.path.splitext(path) \n",
      "Split the pathname path into a pair (root, ext) such that root + ext == path, and ext is empty or begins with a period and contains at most one period. Leading periods on the basename are ignored; splitext('.cshrc') returns ('.cshrc', '').\n",
      "\n",
      "os.path.splitunc(path) \n",
      "Deprecated since version 3.1: Use splitdrive instead.\n",
      "\n",
      "Split the pathname path into a pair (unc, rest) so that unc is the UNC mount point (such as r'\\\\host\\mount'), if present, and rest the rest of the path (such as r'\\path\\file.ext'). For paths containing drive letters, unc will always be the empty string.\n",
      "\n",
      "Availability: Windows.\n",
      "\n",
      "os.path.supports_unicode_filenames \n",
      "True if arbitrary Unicode strings can be used as file names (within limitations imposed by the file system).\n",
      "Navigation\n",
      "index modules | next | previous |  Python » 3.5.3 Documentation » The Python Standard Library » 11. File and Directory Access » \n",
      "© Copyright 2001-2017, Python Software Foundation. \n",
      "The Python Software Foundation is a non-profit corporation. Please donate. \n",
      "Last updated on Jan 16, 2017. Found a bug? \n",
      "Created using Sphinx 1.3.1. \n"
     ]
    }
   ],
   "source": [
    "with p6.open() as f:\n",
    "    print(f.read())"
   ]
  },
  {
   "cell_type": "code",
   "execution_count": 171,
   "metadata": {},
   "outputs": [],
   "source": [
    "#3.5增加的新函数\n"
   ]
  },
  {
   "cell_type": "code",
   "execution_count": 175,
   "metadata": {},
   "outputs": [
    {
     "data": {
      "text/plain": [
       "b'Navigation\\r\\nindex modules | next | previous |  Python \\xc2\\xbb 3.5.3 Documentation \\xc2\\xbb The Python Standard Library \\xc2\\xbb 11. File and Directory Access \\xc2\\xbb \\r\\n11.2. os.path \\xe2\\x80\\x94 Common pathname manipulations\\r\\nSource code: Lib/posixpath.py (for POSIX), Lib/ntpath.py (for Windows NT), and Lib/macpath.py (for Macintosh)\\r\\n\\r\\n\\r\\n--------------------------------------------------------------------------------\\r\\n\\r\\nThis module implements some useful functions on pathnames. To read or write files see open(), and for accessing the filesystem see the os module. The path parameters can be passed as either strings, or bytes. Applications are encouraged to represent file names as (Unicode) character strings. Unfortunately, some file names may not be representable as strings on Unix, so applications that need to support arbitrary file names on Unix should use bytes objects to represent path names. Vice versa, using bytes objects cannot represent all file names on Windows (in the standard mbcs encoding), hence Windows applications should use string objects to access all files.\\r\\n\\r\\nUnlike a unix shell, Python does not do any automatic path expansions. Functions such as expanduser() and expandvars() can be invoked explicitly when an application desires shell-like path expansion. (See also the glob module.)\\r\\n\\r\\nSee also\\r\\nThe pathlib module offers high-level path objects.\\r\\n\\r\\nNote\\r\\nAll of these functions accept either only bytes or only string objects as their parameters. The result is an object of the same type, if a path or file name is returned.\\r\\n\\r\\nNote\\r\\nSince different operating systems have different path name conventions, there are several versions of this module in the standard library. The os.path module is always the path module suitable for the operating system Python is running on, and therefore usable for local paths. However, you can also import and use the individual modules if you want to manipulate a path that is always in one of the different formats. They all have the same interface:\\r\\n\\r\\nposixpath for UNIX-style paths \\r\\nntpath for Windows paths \\r\\nmacpath for old-style MacOS paths \\r\\nos.path.abspath(path) \\r\\nReturn a normalized absolutized version of the pathname path. On most platforms, this is equivalent to calling the function normpath() as follows: normpath(join(os.getcwd(), path)).\\r\\n\\r\\nos.path.basename(path) \\r\\nReturn the base name of pathname path. This is the second element of the pair returned by passing path to the function split(). Note that the result of this function is different from the Unix basename program; where basename for \\'/foo/bar/\\' returns \\'bar\\', the basename() function returns an empty string (\\'\\').\\r\\n\\r\\nos.path.commonpath(paths) \\r\\nReturn the longest common sub-path of each pathname in the sequence paths. Raise ValueError if paths contains both absolute and relative pathnames, or if paths is empty. Unlike commonprefix(), this returns a valid path.\\r\\n\\r\\nAvailability: Unix, Windows\\r\\n\\r\\nNew in version 3.5.\\r\\n\\r\\nos.path.commonprefix(list) \\r\\nReturn the longest path prefix (taken character-by-character) that is a prefix of all paths in list. If list is empty, return the empty string (\\'\\').\\r\\n\\r\\nNote\\r\\nThis function may return invalid paths because it works a character at a time. To obtain a valid path, see commonpath().\\r\\n\\r\\n>>> os.path.commonprefix([\\'/usr/lib\\', \\'/usr/local/lib\\'])\\r\\n\\'/usr/l\\'\\r\\n\\r\\n>>> os.path.commonpath([\\'/usr/lib\\', \\'/usr/local/lib\\'])\\r\\n\\'/usr\\'\\r\\nos.path.dirname(path) \\r\\nReturn the directory name of pathname path. This is the first element of the pair returned by passing path to the function split().\\r\\n\\r\\nos.path.exists(path) \\r\\nReturn True if path refers to an existing path or an open file descriptor. Returns False for broken symbolic links. On some platforms, this function may return False if permission is not granted to execute os.stat() on the requested file, even if the path physically exists.\\r\\n\\r\\nChanged in version 3.3: path can now be an integer: True is returned if it is an open file descriptor, False otherwise.\\r\\n\\r\\nos.path.lexists(path) \\r\\nReturn True if path refers to an existing path. Returns True for broken symbolic links. Equivalent to exists() on platforms lacking os.lstat().\\r\\n\\r\\nos.path.expanduser(path) \\r\\nOn Unix and Windows, return the argument with an initial component of ~ or ~user replaced by that user\\xe2\\x80\\x98s home directory.\\r\\n\\r\\nOn Unix, an initial ~ is replaced by the environment variable HOME if it is set; otherwise the current user\\xe2\\x80\\x99s home directory is looked up in the password directory through the built-in module pwd. An initial ~user is looked up directly in the password directory.\\r\\n\\r\\nOn Windows, HOME and USERPROFILE will be used if set, otherwise a combination of HOMEPATH and HOMEDRIVE will be used. An initial ~user is handled by stripping the last directory component from the created user path derived above.\\r\\n\\r\\nIf the expansion fails or if the path does not begin with a tilde, the path is returned unchanged.\\r\\n\\r\\nos.path.expandvars(path) \\r\\nReturn the argument with environment variables expanded. Substrings of the form $name or ${name} are replaced by the value of environment variable name. Malformed variable names and references to non-existing variables are left unchanged.\\r\\n\\r\\nOn Windows, %name% expansions are supported in addition to $name and ${name}.\\r\\n\\r\\nos.path.getatime(path) \\r\\nReturn the time of last access of path. The return value is a number giving the number of seconds since the epoch (see the time module). Raise OSError if the file does not exist or is inaccessible.\\r\\n\\r\\nIf os.stat_float_times() returns True, the result is a floating point number.\\r\\n\\r\\nos.path.getmtime(path) \\r\\nReturn the time of last modification of path. The return value is a number giving the number of seconds since the epoch (see the time module). Raise OSError if the file does not exist or is inaccessible.\\r\\n\\r\\nIf os.stat_float_times() returns True, the result is a floating point number.\\r\\n\\r\\nos.path.getctime(path) \\r\\nReturn the system\\xe2\\x80\\x99s ctime which, on some systems (like Unix) is the time of the last metadata change, and, on others (like Windows), is the creation time for path. The return value is a number giving the number of seconds since the epoch (see the time module). Raise OSError if the file does not exist or is inaccessible.\\r\\n\\r\\nos.path.getsize(path) \\r\\nReturn the size, in bytes, of path. Raise OSError if the file does not exist or is inaccessible.\\r\\n\\r\\nos.path.isabs(path) \\r\\nReturn True if path is an absolute pathname. On Unix, that means it begins with a slash, on Windows that it begins with a (back)slash after chopping off a potential drive letter.\\r\\n\\r\\nos.path.isfile(path) \\r\\nReturn True if path is an existing regular file. This follows symbolic links, so both islink() and isfile() can be true for the same path.\\r\\n\\r\\nos.path.isdir(path) \\r\\nReturn True if path is an existing directory. This follows symbolic links, so both islink() and isdir() can be true for the same path.\\r\\n\\r\\nos.path.islink(path) \\r\\nReturn True if path refers to a directory entry that is a symbolic link. Always False if symbolic links are not supported by the Python runtime.\\r\\n\\r\\nos.path.ismount(path) \\r\\nReturn True if pathname path is a mount point: a point in a file system where a different file system has been mounted. On POSIX, the function checks whether path\\xe2\\x80\\x98s parent, path/.., is on a different device than path, or whether path/.. and path point to the same i-node on the same device \\xe2\\x80\\x94 this should detect mount points for all Unix and POSIX variants. On Windows, a drive letter root and a share UNC are always mount points, and for any other path GetVolumePathName is called to see if it is different from the input path.\\r\\n\\r\\nNew in version 3.4: Support for detecting non-root mount points on Windows.\\r\\n\\r\\nos.path.join(path, *paths) \\r\\nJoin one or more path components intelligently. The return value is the concatenation of path and any members of *paths with exactly one directory separator (os.sep) following each non-empty part except the last, meaning that the result will only end in a separator if the last part is empty. If a component is an absolute path, all previous components are thrown away and joining continues from the absolute path component.\\r\\n\\r\\nOn Windows, the drive letter is not reset when an absolute path component (e.g., r\\'\\\\foo\\') is encountered. If a component contains a drive letter, all previous components are thrown away and the drive letter is reset. Note that since there is a current directory for each drive, os.path.join(\"c:\", \"foo\") represents a path relative to the current directory on drive C: (c:foo), not c:\\\\foo.\\r\\n\\r\\nos.path.normcase(path) \\r\\nNormalize the case of a pathname. On Unix and Mac OS X, this returns the path unchanged; on case-insensitive filesystems, it converts the path to lowercase. On Windows, it also converts forward slashes to backward slashes. Raise a TypeError if the type of path is not str or bytes.\\r\\n\\r\\nos.path.normpath(path) \\r\\nNormalize a pathname by collapsing redundant separators and up-level references so that A//B, A/B/, A/./B and A/foo/../B all become A/B. This string manipulation may change the meaning of a path that contains symbolic links. On Windows, it converts forward slashes to backward slashes. To normalize case, use normcase().\\r\\n\\r\\nos.path.realpath(path) \\r\\nReturn the canonical path of the specified filename, eliminating any symbolic links encountered in the path (if they are supported by the operating system).\\r\\n\\r\\nos.path.relpath(path, start=os.curdir) \\r\\nReturn a relative filepath to path either from the current directory or from an optional start directory. This is a path computation: the filesystem is not accessed to confirm the existence or nature of path or start.\\r\\n\\r\\nstart defaults to os.curdir.\\r\\n\\r\\nAvailability: Unix, Windows.\\r\\n\\r\\nos.path.samefile(path1, path2) \\r\\nReturn True if both pathname arguments refer to the same file or directory. This is determined by the device number and i-node number and raises an exception if an os.stat() call on either pathname fails.\\r\\n\\r\\nAvailability: Unix, Windows.\\r\\n\\r\\nChanged in version 3.2: Added Windows support.\\r\\n\\r\\nChanged in version 3.4: Windows now uses the same implementation as all other platforms.\\r\\n\\r\\nos.path.sameopenfile(fp1, fp2) \\r\\nReturn True if the file descriptors fp1 and fp2 refer to the same file.\\r\\n\\r\\nAvailability: Unix, Windows.\\r\\n\\r\\nChanged in version 3.2: Added Windows support.\\r\\n\\r\\nos.path.samestat(stat1, stat2) \\r\\nReturn True if the stat tuples stat1 and stat2 refer to the same file. These structures may have been returned by os.fstat(), os.lstat(), or os.stat(). This function implements the underlying comparison used by samefile() and sameopenfile().\\r\\n\\r\\nAvailability: Unix, Windows.\\r\\n\\r\\nChanged in version 3.4: Added Windows support.\\r\\n\\r\\nos.path.split(path) \\r\\nSplit the pathname path into a pair, (head, tail) where tail is the last pathname component and head is everything leading up to that. The tail part will never contain a slash; if path ends in a slash, tail will be empty. If there is no slash in path, head will be empty. If path is empty, both head and tail are empty. Trailing slashes are stripped from head unless it is the root (one or more slashes only). In all cases, join(head, tail) returns a path to the same location as path (but the strings may differ). Also see the functions dirname() and basename().\\r\\n\\r\\nos.path.splitdrive(path) \\r\\nSplit the pathname path into a pair (drive, tail) where drive is either a mount point or the empty string. On systems which do not use drive specifications, drive will always be the empty string. In all cases, drive + tail will be the same as path.\\r\\n\\r\\nOn Windows, splits a pathname into drive/UNC sharepoint and relative path.\\r\\n\\r\\nIf the path contains a drive letter, drive will contain everything up to and including the colon. e.g. splitdrive(\"c:/dir\") returns (\"c:\", \"/dir\")\\r\\n\\r\\nIf the path contains a UNC path, drive will contain the host name and share, up to but not including the fourth separator. e.g. splitdrive(\"//host/computer/dir\") returns (\"//host/computer\", \"/dir\")\\r\\n\\r\\nos.path.splitext(path) \\r\\nSplit the pathname path into a pair (root, ext) such that root + ext == path, and ext is empty or begins with a period and contains at most one period. Leading periods on the basename are ignored; splitext(\\'.cshrc\\') returns (\\'.cshrc\\', \\'\\').\\r\\n\\r\\nos.path.splitunc(path) \\r\\nDeprecated since version 3.1: Use splitdrive instead.\\r\\n\\r\\nSplit the pathname path into a pair (unc, rest) so that unc is the UNC mount point (such as r\\'\\\\\\\\host\\\\mount\\'), if present, and rest the rest of the path (such as r\\'\\\\path\\\\file.ext\\'). For paths containing drive letters, unc will always be the empty string.\\r\\n\\r\\nAvailability: Windows.\\r\\n\\r\\nos.path.supports_unicode_filenames \\r\\nTrue if arbitrary Unicode strings can be used as file names (within limitations imposed by the file system).\\r\\nNavigation\\r\\nindex modules | next | previous |  Python \\xc2\\xbb 3.5.3 Documentation \\xc2\\xbb The Python Standard Library \\xc2\\xbb 11. File and Directory Access \\xc2\\xbb \\r\\n\\xc2\\xa9 Copyright 2001-2017, Python Software Foundation. \\r\\nThe Python Software Foundation is a non-profit corporation. Please donate. \\r\\nLast updated on Jan 16, 2017. Found a bug? \\r\\nCreated using Sphinx 1.3.1. '"
      ]
     },
     "execution_count": 175,
     "metadata": {},
     "output_type": "execute_result"
    }
   ],
   "source": [
    "Path('tes').read_bytes()"
   ]
  },
  {
   "cell_type": "code",
   "execution_count": 176,
   "metadata": {},
   "outputs": [
    {
     "data": {
      "text/plain": [
       "'asfasfg'"
      ]
     },
     "execution_count": 176,
     "metadata": {},
     "output_type": "execute_result"
    }
   ],
   "source": [
    "Path('test').read_text()\n"
   ]
  },
  {
   "cell_type": "code",
   "execution_count": null,
   "metadata": {},
   "outputs": [],
   "source": []
  }
 ],
 "metadata": {
  "kernelspec": {
   "display_name": "Python 3",
   "language": "python",
   "name": "python3"
  },
  "language_info": {
   "codemirror_mode": {
    "name": "ipython",
    "version": 3
   },
   "file_extension": ".py",
   "mimetype": "text/x-python",
   "name": "python",
   "nbconvert_exporter": "python",
   "pygments_lexer": "ipython3",
   "version": "3.7.1"
  }
 },
 "nbformat": 4,
 "nbformat_minor": 2
}
