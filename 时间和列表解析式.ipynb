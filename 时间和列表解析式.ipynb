{
 "cells": [
  {
   "cell_type": "code",
   "execution_count": null,
   "metadata": {},
   "outputs": [],
   "source": [
    "# 标准库datetime\n",
    "\n",
    "#datetime模块\n",
    "    #对日期、时间、时间戳的处理\n",
    "    #datetime类\n",
    "        #类方法\n",
    "            #today()返回本地时区当前时间的datetime对象\n",
    "            #now（tz=None）返回当前时间的datetime对象，时间到微秒，如果tz为None，返回和today（）一样\n",
    "            #utcnow（）没有时区的当前时间\n",
    "            #fromtimestamp(timestamp,tz=None)从一个时间戳返回一个datetime对象\n",
    "        #datetime对象\n",
    "            #timestamp（）返回一个到微秒的时间戳。\n",
    "                #时间戳：格林威治时间1970年1月1日0点到现在的秒数"
   ]
  },
  {
   "cell_type": "code",
   "execution_count": 1,
   "metadata": {},
   "outputs": [
    {
     "data": {
      "text/plain": [
       "datetime.datetime(2019, 1, 20, 5, 53, 42, 673533)"
      ]
     },
     "execution_count": 1,
     "metadata": {},
     "output_type": "execute_result"
    }
   ],
   "source": [
    "import datetime\n",
    "\n",
    "datetime.datetime.now()"
   ]
  },
  {
   "cell_type": "code",
   "execution_count": 3,
   "metadata": {},
   "outputs": [
    {
     "data": {
      "text/plain": [
       "datetime.datetime(2019, 1, 20, 5, 54, 14, 814999)"
      ]
     },
     "execution_count": 3,
     "metadata": {},
     "output_type": "execute_result"
    }
   ],
   "source": [
    "datetime.datetime.today()"
   ]
  },
  {
   "cell_type": "code",
   "execution_count": null,
   "metadata": {},
   "outputs": [],
   "source": [
    "#datetime对象\n",
    "    #构造方法 datetime.datetime(2019, 1, 20, 5, 54, 14, 814999)\n",
    "    #year,month,day,hour,minute,second,microsecond,取datetime对象的年月日分秒及微妙\n",
    "    #weekday()返回星期天的天，周一0，周日6\n",
    "    #isoweekday()返回星期的天，周一1,周日7\n",
    "    #date()返回日期date对象\n",
    "    #time()返回时间time对象\n",
    "    #replace() 修改并返回新的时间\n",
    "    #isocalendar()返回一个三元组(年，周数，周的天)"
   ]
  },
  {
   "cell_type": "code",
   "execution_count": 4,
   "metadata": {},
   "outputs": [
    {
     "data": {
      "text/plain": [
       "'2019-01-20'"
      ]
     },
     "execution_count": 4,
     "metadata": {},
     "output_type": "execute_result"
    }
   ],
   "source": [
    "import time\n",
    "time.strftime(\"%F\", time.localtime())"
   ]
  },
  {
   "cell_type": "code",
   "execution_count": 5,
   "metadata": {},
   "outputs": [
    {
     "data": {
      "text/plain": [
       "datetime.datetime(2019, 1, 20, 6, 6, 39, 725307)"
      ]
     },
     "execution_count": 5,
     "metadata": {},
     "output_type": "execute_result"
    }
   ],
   "source": [
    "datetime.datetime.now()"
   ]
  },
  {
   "cell_type": "code",
   "execution_count": 12,
   "metadata": {},
   "outputs": [
    {
     "data": {
      "text/plain": [
       "datetime.datetime"
      ]
     },
     "execution_count": 12,
     "metadata": {},
     "output_type": "execute_result"
    }
   ],
   "source": [
    "type(datetime.datetime.fromtimestamp(1))"
   ]
  },
  {
   "cell_type": "code",
   "execution_count": 19,
   "metadata": {},
   "outputs": [
    {
     "data": {
      "text/plain": [
       "4"
      ]
     },
     "execution_count": 19,
     "metadata": {},
     "output_type": "execute_result"
    }
   ],
   "source": [
    "datetime.datetime.fromtimestamp(1).isoweekday()"
   ]
  },
  {
   "cell_type": "code",
   "execution_count": 16,
   "metadata": {},
   "outputs": [
    {
     "name": "stdout",
     "output_type": "stream",
     "text": [
      "Ipython(求质数算法).ipynb      列表作业讲解.ipynb\r\n",
      "README.md\t\t       字典的增删查改.ipynb\r\n",
      "bytes、bytearray.ipynb\t       字典遍历、缺省字典、有序字典.ipynb\r\n",
      "for if.ipynb\t\t       字符串原理.ipynb\r\n",
      "for.ipynb\t\t       字符串格式化.ipynb\r\n",
      "python封装和解构.ipynb\t       字符串练习.ipynb\r\n",
      "set常用方法及高性能原理.ipynb  排序和冒泡.ipynb\r\n",
      "九九乘法表.ipynb\t       时间和列表解析式.ipynb\r\n",
      "九九乘法表2.ipynb\t       选择排序及二元选择排序优化.ipynb\r\n",
      "切片.ipynb\t\t       随机数和元祖.ipynb\r\n",
      "列表1.ipynb\r\n"
     ]
    }
   ],
   "source": [
    "! ls"
   ]
  },
  {
   "cell_type": "code",
   "execution_count": 17,
   "metadata": {},
   "outputs": [
    {
     "name": "stdout",
     "output_type": "stream",
     "text": [
      "Ipython(求质数算法).ipynb      列表作业讲解.ipynb\r\n",
      "README.md                      字典的增删查改.ipynb\r\n",
      "bytes、bytearray.ipynb         字典遍历、缺省字典、有序字典.ipynb\r\n",
      "for if.ipynb                   字符串原理.ipynb\r\n",
      "for.ipynb                      字符串格式化.ipynb\r\n",
      "python封装和解构.ipynb         字符串练习.ipynb\r\n",
      "set常用方法及高性能原理.ipynb  排序和冒泡.ipynb\r\n",
      "九九乘法表.ipynb               时间和列表解析式.ipynb\r\n",
      "九九乘法表2.ipynb              选择排序及二元选择排序优化.ipynb\r\n",
      "切片.ipynb                     随机数和元祖.ipynb\r\n",
      "列表1.ipynb\r\n"
     ]
    }
   ],
   "source": [
    "ls"
   ]
  },
  {
   "cell_type": "code",
   "execution_count": 20,
   "metadata": {},
   "outputs": [
    {
     "data": {
      "text/plain": [
       "datetime.time(0, 0, 1)"
      ]
     },
     "execution_count": 20,
     "metadata": {},
     "output_type": "execute_result"
    }
   ],
   "source": [
    "datetime.datetime.fromtimestamp(1).time()"
   ]
  },
  {
   "cell_type": "code",
   "execution_count": 22,
   "metadata": {},
   "outputs": [
    {
     "data": {
      "text/plain": [
       "datetime.date(1970, 1, 1)"
      ]
     },
     "execution_count": 22,
     "metadata": {},
     "output_type": "execute_result"
    }
   ],
   "source": [
    "datetime.datetime.fromtimestamp(1).date()"
   ]
  },
  {
   "cell_type": "code",
   "execution_count": 23,
   "metadata": {},
   "outputs": [
    {
     "data": {
      "text/plain": [
       "(1970, 1, 4)"
      ]
     },
     "execution_count": 23,
     "metadata": {},
     "output_type": "execute_result"
    }
   ],
   "source": [
    "datetime.datetime.fromtimestamp(1).isocalendar()"
   ]
  },
  {
   "cell_type": "code",
   "execution_count": 26,
   "metadata": {},
   "outputs": [
    {
     "name": "stdout",
     "output_type": "stream",
     "text": [
      "2006-11-21 16:30:00\n",
      "2006/11/2116::3000\n"
     ]
    }
   ],
   "source": [
    "#日期格式化\n",
    "    #类方法strptime(date_string,fromat),返回datetime对象\n",
    "    #对象方法strftime(format),返回字符串\n",
    "    #字符串fromat函数格式化\n",
    "    \n",
    "import datetime\n",
    "dt=datetime.datetime.strptime(\"21/11/06 16:30\",\"%d/%m/%y %H:%M\") #由时间格式到时间对象\n",
    "print(dt.strftime(\"%Y-%m-%d %H:%M:%S\")) #由时间对象到时间格式\n",
    "print(\"{0:%Y}/{0:%m}/{0:%d}{0:%H}::{0:%M}{0:%S}\".format(dt))"
   ]
  },
  {
   "cell_type": "code",
   "execution_count": 31,
   "metadata": {},
   "outputs": [
    {
     "data": {
      "text/plain": [
       "'2019-01-20'"
      ]
     },
     "execution_count": 31,
     "metadata": {},
     "output_type": "execute_result"
    }
   ],
   "source": [
    "datetime.datetime.now().strftime(\"%Y-%m-%d\")"
   ]
  },
  {
   "cell_type": "code",
   "execution_count": null,
   "metadata": {},
   "outputs": [],
   "source": [
    "\n",
    "#timedelta对象\n",
    "    #datetime2=datetime1 + timedelta\n",
    "    #datetime2=datetime1 - timedelta\n",
    "    #datetime=datetime1 - timedelta2\n",
    "    #构造方法\n",
    "        #datetime.timedelta(days=0,seconds=0,microseconds=0,milliseconds=0,minutes=0,hours=0,weeks=0)\n",
    "        #year=datetime.timedelta(days=365)\n",
    "    #total_seconds()返回时间差的总秒数"
   ]
  },
  {
   "cell_type": "code",
   "execution_count": null,
   "metadata": {},
   "outputs": [],
   "source": []
  },
  {
   "cell_type": "code",
   "execution_count": null,
   "metadata": {},
   "outputs": [],
   "source": []
  },
  {
   "cell_type": "code",
   "execution_count": null,
   "metadata": {},
   "outputs": [],
   "source": []
  },
  {
   "cell_type": "code",
   "execution_count": null,
   "metadata": {},
   "outputs": [],
   "source": []
  },
  {
   "cell_type": "code",
   "execution_count": null,
   "metadata": {},
   "outputs": [],
   "source": []
  }
 ],
 "metadata": {
  "kernelspec": {
   "display_name": "Python 3",
   "language": "python",
   "name": "python3"
  },
  "language_info": {
   "codemirror_mode": {
    "name": "ipython",
    "version": 3
   },
   "file_extension": ".py",
   "mimetype": "text/x-python",
   "name": "python",
   "nbconvert_exporter": "python",
   "pygments_lexer": "ipython3",
   "version": "3.7.1"
  }
 },
 "nbformat": 4,
 "nbformat_minor": 2
}
