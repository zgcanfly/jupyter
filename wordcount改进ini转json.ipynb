{
 "cells": [
  {
   "cell_type": "code",
   "execution_count": null,
   "metadata": {},
   "outputs": [],
   "source": [
    "#对sample文件进行不区分大小写的单词统计\n",
    "    #要求用户可以排除一些单词的统计\n",
    "    #要求全部代码使用函数封装，调用完成"
   ]
  },
  {
   "cell_type": "code",
   "execution_count": 7,
   "metadata": {
    "scrolled": false
   },
   "outputs": [
    {
     "name": "stdout",
     "output_type": "stream",
     "text": [
      "path 138\n",
      "the 136\n",
      "is 60\n",
      "a 59\n",
      "os 49\n",
      "if 43\n",
      "and 40\n",
      "to 34\n",
      "on 33\n",
      "return 30\n"
     ]
    }
   ],
   "source": [
    "filename='sample'\n",
    "CHARS=set(\"\"\",.[]()-+/\\*&%\\r\\n\\t #$@`\"\"\")\n",
    "ignorewords={'of'}\n",
    "def _makekey(key:str,chars=CHARS):\n",
    "    start=0\n",
    "    for i,c in enumerate(key):\n",
    "        if c in chars:\n",
    "            if start ==i:\n",
    "                start=i+1\n",
    "                continue\n",
    "            #ret.append(key[start:i])\n",
    "            yield key[start:i]\n",
    "            start = i+1\n",
    "    else:\n",
    "        if start< len(key):\n",
    "            #ret.append(key[start:])\n",
    "            yield key[start:]\n",
    "    \n",
    "    #return ret\n",
    "\n",
    "# print(makekey('**os'))    \n",
    "\n",
    "# print(makekey('os.path'))   \n",
    "# for i in  makekey('os.path'):\n",
    "#     print(i)\n",
    "def wordcount(filename,encoding='utf8',ignorewords=None)->dict:\n",
    "    \"\"\"\n",
    "        此函数用于单词统计\n",
    "    \n",
    "    \"\"\"\n",
    "    d={}\n",
    "    with open(filename,encoding=encoding) as f:\n",
    "        for line in f:\n",
    "            for word in map(str.lower,_makekey(line)):\n",
    "                if word in ignorewords:\n",
    "                    pass\n",
    "                else:\n",
    "                    d[word]=d.get(word,0)+1\n",
    "                \n",
    "    return d\n",
    "\n",
    "def top(d:dict,n:int=10):\n",
    "    for i,(k,v) in enumerate(sorted(d.items(),key=lambda item:item[1],reverse=True)):\n",
    "        if i>=n:\n",
    "            break\n",
    "        yield k,v  #交付代码不写print 使用yield就可以\n",
    "# def wordcount(file):\n",
    "#     encoding='utf-8'\n",
    "#     d={}\n",
    "#     with open(file,encoding=encoding) as f:\n",
    "#         for line in f:\n",
    "#             words=line.split() #按空格切\n",
    "#             for wordlist in map(makekey,words):\n",
    "#                 for word in  wordlist: #大小写问题\n",
    "#                     d[word]=d.get(word,0)+1\n",
    "#     #top10\n",
    "#     return sorted(d.items(),key=lambda item:item[1],reverse=True) #sort by counts\n",
    "\n",
    "# wordcount('sample')\n",
    "# for k in d:\n",
    "#     if k.find('path') > -1:\n",
    "#         print(k)\n",
    "for k,v in top(wordcount(filename,ignorewords=ignorewords)):\n",
    "    print(k,v)"
   ]
  },
  {
   "cell_type": "code",
   "execution_count": null,
   "metadata": {},
   "outputs": [],
   "source": []
  },
  {
   "cell_type": "code",
   "execution_count": null,
   "metadata": {},
   "outputs": [],
   "source": [
    "#有一个配置文件test.ini如下，将其转化成json格式文件"
   ]
  },
  {
   "cell_type": "code",
   "execution_count": 22,
   "metadata": {},
   "outputs": [
    {
     "name": "stdout",
     "output_type": "stream",
     "text": [
      "{'DEFAULT': {'app_name': 'magedu', 'run_user': 'git', 'run_mode': 'dev'}, 'server': {'app_name': 'magedu', 'run_user': 'git', 'run_mode': 'dev', 'http_addr': '0.0.0.0', 'http_port': '3000', 'a': '[(1, 3, 5)]'}, 'database': {'app_name': 'magedu', 'run_user': 'git', 'run_mode': 'dev', 'db_type': 'mysql', 'host': '127.0.0.1:3306', 'name': 'gogs', 'user': 'gogs', 'passwd': 'gogs'}, 'security': {'app_name': 'magedu', 'run_user': 'git', 'run_mode': 'dev', 'install_lock': 'false', 'secret_key': 'www.magedu.com.(python).GIT:gogs'}}\n"
     ]
    }
   ],
   "source": [
    "from configparser import ConfigParser\n",
    "import json\n",
    "\n",
    "\n",
    "src='app.ini'\n",
    "dst='app.json'\n",
    "\n",
    "cfg=ConfigParser()\n",
    "cfg.read(src)\n",
    "\n",
    "d={} #嵌套结构 from cfg内部的字典\n",
    "\n",
    "\n",
    "for k,v in cfg.items():\n",
    "#     print(k,type(cfg.items(k)))\n",
    "    d[k]=dict(cfg.items(k))\n",
    "\n",
    "with open(dst,'w+') as f:\n",
    "    json.dump(d,f)\n",
    "    \n",
    "    \n",
    "# with open(dst,'r') as f:\n",
    "#     print(json.load(f))"
   ]
  },
  {
   "cell_type": "code",
   "execution_count": null,
   "metadata": {},
   "outputs": [],
   "source": []
  },
  {
   "cell_type": "code",
   "execution_count": null,
   "metadata": {},
   "outputs": [],
   "source": []
  },
  {
   "cell_type": "code",
   "execution_count": null,
   "metadata": {},
   "outputs": [],
   "source": []
  }
 ],
 "metadata": {
  "kernelspec": {
   "display_name": "Python 3",
   "language": "python",
   "name": "python3"
  },
  "language_info": {
   "codemirror_mode": {
    "name": "ipython",
    "version": 3
   },
   "file_extension": ".py",
   "mimetype": "text/x-python",
   "name": "python",
   "nbconvert_exporter": "python",
   "pygments_lexer": "ipython3",
   "version": "3.7.1"
  }
 },
 "nbformat": 4,
 "nbformat_minor": 2
}
