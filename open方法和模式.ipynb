{
 "cells": [
  {
   "cell_type": "code",
   "execution_count": null,
   "metadata": {},
   "outputs": [],
   "source": [
    "#打开操作\n",
    "#open(file,mode='r',buffering=-1,encoding=None,errors=None,newline=None,closefd=True,opener=None)\n",
    "    #open              打开\n",
    "    #read              读取\n",
    "    #write             写入\n",
    "    #close            关闭\n",
    "    #readline         行读取\n",
    "    #readlines        多行读取\n",
    "    #seek             文件指针操作\n",
    "    #tell             指针位置"
   ]
  },
  {
   "cell_type": "code",
   "execution_count": 3,
   "metadata": {},
   "outputs": [
    {
     "name": "stdout",
     "output_type": "stream",
     "text": [
      "abcd\n",
      "\n"
     ]
    }
   ],
   "source": [
    "f=open('test')\n",
    "print(f.read())\n",
    "f.close()"
   ]
  },
  {
   "cell_type": "code",
   "execution_count": 2,
   "metadata": {},
   "outputs": [],
   "source": [
    "!echo \"abcd\" >test"
   ]
  },
  {
   "cell_type": "code",
   "execution_count": 5,
   "metadata": {},
   "outputs": [
    {
     "name": "stdout",
     "output_type": "stream",
     "text": [
      "<_io.TextIOWrapper name='test' mode='r' encoding='UTF-8'>\n",
      "abcd\n",
      "\n"
     ]
    }
   ],
   "source": [
    "f=open('test')\n",
    "print(f)\n",
    "print(f.read())\n",
    "f.close()"
   ]
  },
  {
   "cell_type": "code",
   "execution_count": null,
   "metadata": {},
   "outputs": [],
   "source": [
    "r#缺省值，表示只读打开\n",
    "w#只写打开，不存在则创建,否则重新覆盖\n",
    "x#创建并写入一个新文件\n",
    "a#写入打开，如果文件存在，则追加\n",
    "b#二进制模式\n",
    "t#缺省的，文本模式\n",
    "+#读写打开一个文件，给原来只读，只写方式打开提供缺失的读或者写能力"
   ]
  },
  {
   "cell_type": "code",
   "execution_count": null,
   "metadata": {},
   "outputs": [],
   "source": [
    "+#不能单独使用 只能跟在'a,r,w,x'后面,补充他们的能力"
   ]
  },
  {
   "cell_type": "code",
   "execution_count": null,
   "metadata": {},
   "outputs": [],
   "source": [
    "seek(0,0)  #从开头偏移0\n",
    "seek(0,1)  #从当前位置偏移0  文本模式 只能偏移0\n",
    "seek(0,2)  #从末尾开始偏移0  文本模式 只能偏移0"
   ]
  },
  {
   "cell_type": "code",
   "execution_count": null,
   "metadata": {},
   "outputs": [],
   "source": []
  },
  {
   "cell_type": "code",
   "execution_count": null,
   "metadata": {},
   "outputs": [],
   "source": []
  },
  {
   "cell_type": "code",
   "execution_count": null,
   "metadata": {},
   "outputs": [],
   "source": []
  },
  {
   "cell_type": "code",
   "execution_count": null,
   "metadata": {},
   "outputs": [],
   "source": []
  },
  {
   "cell_type": "code",
   "execution_count": null,
   "metadata": {},
   "outputs": [],
   "source": []
  },
  {
   "cell_type": "code",
   "execution_count": null,
   "metadata": {},
   "outputs": [],
   "source": []
  },
  {
   "cell_type": "code",
   "execution_count": null,
   "metadata": {},
   "outputs": [],
   "source": []
  }
 ],
 "metadata": {
  "kernelspec": {
   "display_name": "Python 3",
   "language": "python",
   "name": "python3"
  },
  "language_info": {
   "codemirror_mode": {
    "name": "ipython",
    "version": 3
   },
   "file_extension": ".py",
   "mimetype": "text/x-python",
   "name": "python",
   "nbconvert_exporter": "python",
   "pygments_lexer": "ipython3",
   "version": "3.7.1"
  }
 },
 "nbformat": 4,
 "nbformat_minor": 2
}
