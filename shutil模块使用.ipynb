{
 "cells": [
  {
   "cell_type": "code",
   "execution_count": 1,
   "metadata": {},
   "outputs": [
    {
     "data": {
      "text/plain": [
       "'posix'"
      ]
     },
     "execution_count": 1,
     "metadata": {},
     "output_type": "execute_result"
    }
   ],
   "source": [
    "import os\n",
    "os.name"
   ]
  },
  {
   "cell_type": "code",
   "execution_count": 2,
   "metadata": {},
   "outputs": [
    {
     "data": {
      "text/plain": [
       "<function posix.uname()>"
      ]
     },
     "execution_count": 2,
     "metadata": {},
     "output_type": "execute_result"
    }
   ],
   "source": [
    "os.uname"
   ]
  },
  {
   "cell_type": "code",
   "execution_count": 3,
   "metadata": {},
   "outputs": [
    {
     "data": {
      "text/plain": [
       "'linux'"
      ]
     },
     "execution_count": 3,
     "metadata": {},
     "output_type": "execute_result"
    }
   ],
   "source": [
    "os.sys.platform"
   ]
  },
  {
   "cell_type": "code",
   "execution_count": 5,
   "metadata": {},
   "outputs": [
    {
     "data": {
      "text/plain": [
       "['for if.ipynb',\n",
       " 'Path对象的操作.ipynb',\n",
       " '字典扁平化和Base64实现.ipynb',\n",
       " '.gitignore',\n",
       " '函数的作用域.ipynb',\n",
       " '字符串格式化.ipynb',\n",
       " 'test.txt',\n",
       " 'c',\n",
       " '树和二叉树原理.ipynb',\n",
       " 'test3',\n",
       " '字符串原理.ipynb',\n",
       " '生成器yield.ipynb',\n",
       " '编码描述符及读写方法.ipynb',\n",
       " 'open方法和模式.ipynb',\n",
       " '内建函数.ipynb',\n",
       " '字符串练习.ipynb',\n",
       " '函数递归原理.ipynb',\n",
       " '.git',\n",
       " '列表1.ipynb',\n",
       " 'python封装和解构.ipynb',\n",
       " 'nonlocal和缺省值.ipynb',\n",
       " '参数回顾，及参数解构.ipynb',\n",
       " '递归习题.ipynb',\n",
       " 'test5',\n",
       " '选择排序及二元选择排序优化.ipynb',\n",
       " 'README.md',\n",
       " 'functools之parial和lru_cache.ipynb',\n",
       " '默认值及可变参数.ipynb',\n",
       " '参数检查的装饰器实现.ipynb',\n",
       " 'os.path和Path初识.ipynb',\n",
       " '九九乘法表2.ipynb',\n",
       " '插入排序.ipynb',\n",
       " 'bytes、bytearray.ipynb',\n",
       " '缓冲区原理.ipynb',\n",
       " '匿名函数lambda.ipynb',\n",
       " 'Ipython(求质数算法).ipynb',\n",
       " '装饰器习题精讲.ipynb',\n",
       " '习题 copy 和wordcount精讲.ipynb',\n",
       " '生成器表达试.ipynb',\n",
       " '可变参数.ipynb',\n",
       " '字典遍历、缺省字典、有序字典.ipynb',\n",
       " '切片.ipynb',\n",
       " '函数的销毁.ipynb',\n",
       " 'shutil模块使用.ipynb',\n",
       " '字典的增删查改.ipynb',\n",
       " '排序和冒泡.ipynb',\n",
       " '函数.ipynb',\n",
       " 'set常用方法及高性能原理.ipynb',\n",
       " '高阶函数、柯里化、装饰器.ipynb',\n",
       " 'global和闭包.ipynb',\n",
       " '随机数和元祖.ipynb',\n",
       " '类文件对象  StringIO和BytesIO.ipynb',\n",
       " 'sample',\n",
       " 'test',\n",
       " 'LEGB函数执行过程.ipynb',\n",
       " '带参装饰器.ipynb',\n",
       " '九九乘法表.ipynb',\n",
       " '函数的返回值.ipynb',\n",
       " '.ipynb_checkpoints',\n",
       " 'random.ipynb',\n",
       " 'for.ipynb',\n",
       " 'functools模块.ipynb',\n",
       " '时间和列表解析式.ipynb',\n",
       " '列表作业讲解.ipynb',\n",
       " '.idea',\n",
       " '类型注解.ipynb',\n",
       " '公共子串解法.ipynb']"
      ]
     },
     "execution_count": 5,
     "metadata": {},
     "output_type": "execute_result"
    }
   ],
   "source": [
    "os.listdir('.')"
   ]
  },
  {
   "cell_type": "code",
   "execution_count": null,
   "metadata": {},
   "outputs": [],
   "source": [
    "os.stat(path,*,dir_fd=None,follow_symlinks=True)\n",
    "#本质上调用linuxe系统的stat"
   ]
  },
  {
   "cell_type": "code",
   "execution_count": null,
   "metadata": {},
   "outputs": [],
   "source": [
    "os.chmod(path,mode,*,dir_fd=None,follow_symlinks=True)\n",
    "os.chmod('test',0o777)"
   ]
  },
  {
   "cell_type": "code",
   "execution_count": 7,
   "metadata": {},
   "outputs": [
    {
     "data": {
      "text/plain": [
       "'0o777'"
      ]
     },
     "execution_count": 7,
     "metadata": {},
     "output_type": "execute_result"
    }
   ],
   "source": [
    "oct(0o777)"
   ]
  },
  {
   "cell_type": "code",
   "execution_count": null,
   "metadata": {},
   "outputs": [],
   "source": [
    "os.chown(path,uid,gid)\n",
    "#改变文件的属主，属组，但需要权限  windows用不了"
   ]
  },
  {
   "cell_type": "code",
   "execution_count": null,
   "metadata": {},
   "outputs": [],
   "source": []
  },
  {
   "cell_type": "code",
   "execution_count": 8,
   "metadata": {},
   "outputs": [],
   "source": [
    "#shutil模块\n",
    "#到目前为止\n",
    "    #文件拷贝：使用打开2个文件对象，源文件读取内容，写入目标文件中来完成拷贝过程，但是这样丢失stat\n",
    "        #数据信息（权限等） 因为根本没有复制这些信息过去\n",
    "    #目录复制怎么办\n",
    "    "
   ]
  },
  {
   "cell_type": "code",
   "execution_count": null,
   "metadata": {},
   "outputs": [],
   "source": [
    "#copyfile"
   ]
  },
  {
   "cell_type": "code",
   "execution_count": 10,
   "metadata": {},
   "outputs": [
    {
     "ename": "AttributeError",
     "evalue": "'str' object has no attribute 'read'",
     "output_type": "error",
     "traceback": [
      "\u001b[0;31m---------------------------------------------------------------------------\u001b[0m",
      "\u001b[0;31mAttributeError\u001b[0m                            Traceback (most recent call last)",
      "\u001b[0;32m<ipython-input-10-4764e2cfcf7a>\u001b[0m in \u001b[0;36m<module>\u001b[0;34m\u001b[0m\n\u001b[1;32m      1\u001b[0m \u001b[0;32mimport\u001b[0m \u001b[0mshutil\u001b[0m\u001b[0;34m\u001b[0m\u001b[0;34m\u001b[0m\u001b[0m\n\u001b[0;32m----> 2\u001b[0;31m \u001b[0mshutil\u001b[0m\u001b[0;34m.\u001b[0m\u001b[0mcopyfileobj\u001b[0m\u001b[0;34m(\u001b[0m\u001b[0;34m'sample'\u001b[0m\u001b[0;34m,\u001b[0m\u001b[0;34m'sample.txt'\u001b[0m\u001b[0;34m)\u001b[0m\u001b[0;34m\u001b[0m\u001b[0;34m\u001b[0m\u001b[0m\n\u001b[0m",
      "\u001b[0;32m/usr/local/lib/python3.7/shutil.py\u001b[0m in \u001b[0;36mcopyfileobj\u001b[0;34m(fsrc, fdst, length)\u001b[0m\n\u001b[1;32m     77\u001b[0m     \u001b[0;34m\"\"\"copy data from file-like object fsrc to file-like object fdst\"\"\"\u001b[0m\u001b[0;34m\u001b[0m\u001b[0;34m\u001b[0m\u001b[0m\n\u001b[1;32m     78\u001b[0m     \u001b[0;32mwhile\u001b[0m \u001b[0;36m1\u001b[0m\u001b[0;34m:\u001b[0m\u001b[0;34m\u001b[0m\u001b[0;34m\u001b[0m\u001b[0m\n\u001b[0;32m---> 79\u001b[0;31m         \u001b[0mbuf\u001b[0m \u001b[0;34m=\u001b[0m \u001b[0mfsrc\u001b[0m\u001b[0;34m.\u001b[0m\u001b[0mread\u001b[0m\u001b[0;34m(\u001b[0m\u001b[0mlength\u001b[0m\u001b[0;34m)\u001b[0m\u001b[0;34m\u001b[0m\u001b[0;34m\u001b[0m\u001b[0m\n\u001b[0m\u001b[1;32m     80\u001b[0m         \u001b[0;32mif\u001b[0m \u001b[0;32mnot\u001b[0m \u001b[0mbuf\u001b[0m\u001b[0;34m:\u001b[0m\u001b[0;34m\u001b[0m\u001b[0;34m\u001b[0m\u001b[0m\n\u001b[1;32m     81\u001b[0m             \u001b[0;32mbreak\u001b[0m\u001b[0;34m\u001b[0m\u001b[0;34m\u001b[0m\u001b[0m\n",
      "\u001b[0;31mAttributeError\u001b[0m: 'str' object has no attribute 'read'"
     ]
    }
   ],
   "source": [
    "import shutil\n",
    "src=open('sample')\n",
    "dst=open('sample.txt')\n",
    "shutil.copyfileobj(sr)"
   ]
  },
  {
   "cell_type": "code",
   "execution_count": 11,
   "metadata": {},
   "outputs": [
    {
     "name": "stdout",
     "output_type": "stream",
     "text": [
      "sample\r\n"
     ]
    }
   ],
   "source": [
    "ls sample*"
   ]
  },
  {
   "cell_type": "code",
   "execution_count": null,
   "metadata": {},
   "outputs": [],
   "source": []
  },
  {
   "cell_type": "code",
   "execution_count": null,
   "metadata": {},
   "outputs": [],
   "source": []
  },
  {
   "cell_type": "code",
   "execution_count": null,
   "metadata": {},
   "outputs": [],
   "source": []
  },
  {
   "cell_type": "code",
   "execution_count": null,
   "metadata": {},
   "outputs": [],
   "source": []
  },
  {
   "cell_type": "code",
   "execution_count": null,
   "metadata": {},
   "outputs": [],
   "source": []
  },
  {
   "cell_type": "code",
   "execution_count": null,
   "metadata": {},
   "outputs": [],
   "source": []
  }
 ],
 "metadata": {
  "kernelspec": {
   "display_name": "Python 3",
   "language": "python",
   "name": "python3"
  },
  "language_info": {
   "codemirror_mode": {
    "name": "ipython",
    "version": 3
   },
   "file_extension": ".py",
   "mimetype": "text/x-python",
   "name": "python",
   "nbconvert_exporter": "python",
   "pygments_lexer": "ipython3",
   "version": "3.7.1"
  }
 },
 "nbformat": 4,
 "nbformat_minor": 2
}
