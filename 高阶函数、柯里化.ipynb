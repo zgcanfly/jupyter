{
 "cells": [
  {
   "cell_type": "code",
   "execution_count": null,
   "metadata": {},
   "outputs": [],
   "source": [
    "#高级函数 --> 计数器\n",
    "def counter(base):\n",
    "    def inc(step=1):\n",
    "        base +=step\n",
    "        return base\n",
    "    return inc\n",
    "#如何优化高阶"
   ]
  },
  {
   "cell_type": "code",
   "execution_count": 1,
   "metadata": {},
   "outputs": [],
   "source": [
    "def counter(base):\n",
    "    def inc(step=1):\n",
    "        nonlocal base\n",
    "        base +=step\n",
    "        return base\n",
    "    return inc #return  函数表示符  就是返回一个函数 就是高阶函数"
   ]
  },
  {
   "cell_type": "code",
   "execution_count": 2,
   "metadata": {},
   "outputs": [],
   "source": [
    "c=counter(10)"
   ]
  },
  {
   "cell_type": "code",
   "execution_count": 3,
   "metadata": {},
   "outputs": [
    {
     "data": {
      "text/plain": [
       "11"
      ]
     },
     "execution_count": 3,
     "metadata": {},
     "output_type": "execute_result"
    }
   ],
   "source": [
    "c()"
   ]
  },
  {
   "cell_type": "code",
   "execution_count": 4,
   "metadata": {},
   "outputs": [
    {
     "data": {
      "text/plain": [
       "12"
      ]
     },
     "execution_count": 4,
     "metadata": {},
     "output_type": "execute_result"
    }
   ],
   "source": [
    "c()"
   ]
  },
  {
   "cell_type": "code",
   "execution_count": 5,
   "metadata": {},
   "outputs": [],
   "source": [
    "f1=counter(5)  #每次函数初始化的变量地址完全不一样 ，所以两个值的地址不一样\n",
    "f2=counter(5)"
   ]
  },
  {
   "cell_type": "code",
   "execution_count": 7,
   "metadata": {},
   "outputs": [
    {
     "data": {
      "text/plain": [
       "False"
      ]
     },
     "execution_count": 7,
     "metadata": {},
     "output_type": "execute_result"
    }
   ],
   "source": [
    "f1==f2"
   ]
  },
  {
   "cell_type": "code",
   "execution_count": 9,
   "metadata": {},
   "outputs": [
    {
     "data": {
      "text/plain": [
       "(6, 6)"
      ]
     },
     "execution_count": 9,
     "metadata": {},
     "output_type": "execute_result"
    }
   ],
   "source": [
    "f1(),f2()"
   ]
  },
  {
   "cell_type": "code",
   "execution_count": 10,
   "metadata": {},
   "outputs": [
    {
     "data": {
      "text/plain": [
       "(139839911407264, 139839911407128)"
      ]
     },
     "execution_count": 10,
     "metadata": {},
     "output_type": "execute_result"
    }
   ],
   "source": [
    "id(f1),id(f2)"
   ]
  },
  {
   "cell_type": "code",
   "execution_count": 11,
   "metadata": {},
   "outputs": [
    {
     "data": {
      "text/plain": [
       "True"
      ]
     },
     "execution_count": 11,
     "metadata": {},
     "output_type": "execute_result"
    }
   ],
   "source": [
    "f1() is f2()"
   ]
  },
  {
   "cell_type": "code",
   "execution_count": null,
   "metadata": {},
   "outputs": [],
   "source": [
    "#自定义sort函数\n",
    "#排序问题"
   ]
  },
  {
   "cell_type": "code",
   "execution_count": 4,
   "metadata": {},
   "outputs": [
    {
     "data": {
      "text/plain": [
       "[7, 5, 4, 3, 2, 1]"
      ]
     },
     "execution_count": 4,
     "metadata": {},
     "output_type": "execute_result"
    }
   ],
   "source": [
    "def sort(iterable,reverse=False,key=None):\n",
    "    ret=[]#未来排好序的列表\n",
    "    for x in iterable: #取出元素\n",
    "        for i,y in enumerate(ret):\n",
    "            if x>y:\n",
    "                ret.insert(i,x)\n",
    "                break\n",
    "        else:\n",
    "            ret.append(x)\n",
    "    return ret\n",
    "\n",
    "\n",
    "sort([1,2,4,7,3,5,6])"
   ]
  },
  {
   "cell_type": "code",
   "execution_count": 2,
   "metadata": {},
   "outputs": [
    {
     "name": "stdout",
     "output_type": "stream",
     "text": [
      "0\n",
      "1\n",
      "2\n",
      "3\n",
      "4\n",
      "else\n"
     ]
    }
   ],
   "source": [
    "for i in range(5):\n",
    "    print(i)\n",
    "    if i>1:\n",
    "        break\n",
    "else:\n",
    "    print('else')"
   ]
  },
  {
   "cell_type": "code",
   "execution_count": 3,
   "metadata": {},
   "outputs": [
    {
     "name": "stdout",
     "output_type": "stream",
     "text": [
      "0\n",
      "1\n",
      "2\n",
      "3\n",
      "4\n",
      "else\n"
     ]
    }
   ],
   "source": [
    "for i in range(5):\n",
    "    print(i)\n",
    "    if i>5:\n",
    "        break\n",
    "else:\n",
    "    print('else')"
   ]
  },
  {
   "cell_type": "code",
   "execution_count": null,
   "metadata": {},
   "outputs": [],
   "source": [
    "def sort(iterable,reverse=False,key=None):\n",
    "    ret=[]#未来排好序的列表\n",
    "    for x in iterable: #取出元素\n",
    "        for i,y in enumerate(ret):\n",
    "            Flag=True if x>y else Flag=False\n",
    "            if Flag:\n",
    "                ret.insert(i,x)\n",
    "                break\n",
    "        else:\n",
    "            ret.append(x)\n",
    "    return ret\n",
    "\n",
    "\n",
    "sort([1,2,4,7,3,5,6])"
   ]
  },
  {
   "cell_type": "code",
   "execution_count": 5,
   "metadata": {},
   "outputs": [
    {
     "data": {
      "text/plain": [
       "[7, 6, 5, 4, 3, 2, 1]"
      ]
     },
     "execution_count": 5,
     "metadata": {},
     "output_type": "execute_result"
    }
   ],
   "source": [
    "def sort(iterable,reverse=False,key=lambda x,y:x>y): #key 函数\n",
    "    ret=[]#未来排好序的列表\n",
    "    for x in iterable: #取出元素\n",
    "        for i,y in enumerate(ret):\n",
    "            #Flag=key(x,y) if x>y else False\n",
    "            if key(x,y):\n",
    "                ret.insert(i,x)\n",
    "                break\n",
    "        else:\n",
    "            ret.append(x)\n",
    "    return ret\n",
    "\n",
    "\n",
    "sort([1,2,4,7,3,5,6])"
   ]
  },
  {
   "cell_type": "code",
   "execution_count": 7,
   "metadata": {},
   "outputs": [
    {
     "data": {
      "text/plain": [
       "[1, 2, 3, 4, 5, 6, 7]"
      ]
     },
     "execution_count": 7,
     "metadata": {},
     "output_type": "execute_result"
    }
   ],
   "source": [
    "def sort(iterable,reverse=False,key=lambda x,y:x<y): #key 函数\n",
    "    ret=[]#未来排好序的列表\n",
    "    for x in iterable: #取出元素\n",
    "        for i,y in enumerate(ret):\n",
    "            #Flag=key(x,y) if x>y else False\n",
    "            if key(x,y):\n",
    "                ret.insert(i,x)\n",
    "                break\n",
    "        else:\n",
    "            ret.append(x)\n",
    "    return ret\n",
    "\n",
    "\n",
    "sort([1,2,4,7,3,5,6])"
   ]
  },
  {
   "cell_type": "code",
   "execution_count": 18,
   "metadata": {},
   "outputs": [
    {
     "name": "stdout",
     "output_type": "stream",
     "text": [
      "False\n"
     ]
    }
   ],
   "source": [
    "print( (lambda x,y:x>y)(3,4))"
   ]
  },
  {
   "cell_type": "code",
   "execution_count": 19,
   "metadata": {},
   "outputs": [],
   "source": [
    "x=(lambda x,y:x>y)"
   ]
  },
  {
   "cell_type": "code",
   "execution_count": 20,
   "metadata": {},
   "outputs": [
    {
     "data": {
      "text/plain": [
       "False"
      ]
     },
     "execution_count": 20,
     "metadata": {},
     "output_type": "execute_result"
    }
   ],
   "source": [
    "x(3,4)"
   ]
  },
  {
   "cell_type": "code",
   "execution_count": 23,
   "metadata": {},
   "outputs": [
    {
     "data": {
      "text/plain": [
       "[7, 6, 5, 4, 3, 2, 1]"
      ]
     },
     "execution_count": 23,
     "metadata": {},
     "output_type": "execute_result"
    }
   ],
   "source": [
    " def sort(iterable,reverse=False,key=lambda x,y:x<y): #key 函数\n",
    "    ret=[]#未来排好序的列表\n",
    "    for x in iterable: #取出元素\n",
    "        for i,y in enumerate(ret):\n",
    "            Flag=key(x,y) if not reverse else not key(x,y)\n",
    "            if Flag:\n",
    "                ret.insert(i,x)\n",
    "                break\n",
    "        else:\n",
    "            ret.append(x)\n",
    "    return ret\n",
    "\n",
    "\n",
    "sort([1,2,4,7,3,5,6],reverse=True)"
   ]
  },
  {
   "cell_type": "code",
   "execution_count": 26,
   "metadata": {},
   "outputs": [
    {
     "name": "stdout",
     "output_type": "stream",
     "text": [
      "0 2\n",
      "1 5\n",
      "2 7\n",
      "3 2\n",
      "4 1\n",
      "5 0\n"
     ]
    }
   ],
   "source": [
    "lst=[2,5,7,2,1,0]\n",
    "for x,i in enumerate(lst):\n",
    "    print(x,i)"
   ]
  },
  {
   "cell_type": "code",
   "execution_count": 27,
   "metadata": {},
   "outputs": [
    {
     "name": "stdout",
     "output_type": "stream",
     "text": [
      "a<b\n"
     ]
    }
   ],
   "source": [
    "a,b=3,4\n",
    "print(\"a>b\") if a>b else print(\"a<b\")"
   ]
  },
  {
   "cell_type": "code",
   "execution_count": null,
   "metadata": {},
   "outputs": [],
   "source": [
    "#filter(function,iterable)\n",
    "    #过滤可迭代对象的元素，返回一个迭代器\n",
    "    #function一个具有一个参数的函数，返回bool\n",
    "    #列如，过滤出数列中能被3整除的数字\n",
    "        list(filter(lambda x:x%3 ==0,[1,9,55,150,-3,78,28,123]))\n",
    "#map(function,*iterables)-->map object\n",
    "    #对多个可迭代对象的元素按照指定的函数进行映射，返回一个迭代器\n",
    "        #list(map(lambda x:2*x+1,range(5)))\n",
    "        #dict(map(lambda x:(x%5,x),range(500)))"
   ]
  },
  {
   "cell_type": "code",
   "execution_count": 29,
   "metadata": {},
   "outputs": [
    {
     "data": {
      "text/plain": [
       "[9, 150, -3, 78, 123]"
      ]
     },
     "execution_count": 29,
     "metadata": {},
     "output_type": "execute_result"
    }
   ],
   "source": [
    "list(filter(lambda x:x%3 ==0,[1,9,55,150,-3,78,28,123]))"
   ]
  },
  {
   "cell_type": "code",
   "execution_count": 30,
   "metadata": {},
   "outputs": [
    {
     "data": {
      "text/plain": [
       "<filter at 0x7f3a10ec29b0>"
      ]
     },
     "execution_count": 30,
     "metadata": {},
     "output_type": "execute_result"
    }
   ],
   "source": [
    "filter(lambda x:x%3 ==0,[1,9,55,150,-3,78,28,123])"
   ]
  },
  {
   "cell_type": "code",
   "execution_count": 31,
   "metadata": {},
   "outputs": [
    {
     "data": {
      "text/plain": [
       "{0, 1, 2, 3, 4}"
      ]
     },
     "execution_count": 31,
     "metadata": {},
     "output_type": "execute_result"
    }
   ],
   "source": [
    "set(range(5))"
   ]
  },
  {
   "cell_type": "code",
   "execution_count": 32,
   "metadata": {},
   "outputs": [
    {
     "data": {
      "text/plain": [
       "0"
      ]
     },
     "execution_count": 32,
     "metadata": {},
     "output_type": "execute_result"
    }
   ],
   "source": [
    "3%3 #整除"
   ]
  },
  {
   "cell_type": "code",
   "execution_count": 33,
   "metadata": {},
   "outputs": [
    {
     "data": {
      "text/plain": [
       "[1, 3, 5, 7, 9]"
      ]
     },
     "execution_count": 33,
     "metadata": {},
     "output_type": "execute_result"
    }
   ],
   "source": [
    "list(map(lambda x:2*x+1,range(5)))"
   ]
  },
  {
   "cell_type": "code",
   "execution_count": 39,
   "metadata": {},
   "outputs": [
    {
     "data": {
      "text/plain": [
       "[1, 2, 3, 4, 5]"
      ]
     },
     "execution_count": 39,
     "metadata": {},
     "output_type": "execute_result"
    }
   ],
   "source": [
    "list(map(lambda x,y=1:x+y,range(5)))"
   ]
  },
  {
   "cell_type": "code",
   "execution_count": 38,
   "metadata": {},
   "outputs": [
    {
     "data": {
      "text/plain": [
       "['0', '1', '2', '3', '4']"
      ]
     },
     "execution_count": 38,
     "metadata": {},
     "output_type": "execute_result"
    }
   ],
   "source": [
    "list(map(lambda x:str(x),range(5)))"
   ]
  },
  {
   "cell_type": "code",
   "execution_count": 41,
   "metadata": {},
   "outputs": [
    {
     "data": {
      "text/plain": [
       "[5, 6, 7, 8, 9]"
      ]
     },
     "execution_count": 41,
     "metadata": {},
     "output_type": "execute_result"
    }
   ],
   "source": [
    "list(map(lambda x:x+5,range(5)))"
   ]
  },
  {
   "cell_type": "code",
   "execution_count": 42,
   "metadata": {},
   "outputs": [
    {
     "name": "stdout",
     "output_type": "stream",
     "text": [
      "5\n",
      "6\n",
      "7\n",
      "8\n",
      "9\n"
     ]
    },
    {
     "data": {
      "text/plain": [
       "[None, None, None, None, None]"
      ]
     },
     "execution_count": 42,
     "metadata": {},
     "output_type": "execute_result"
    }
   ],
   "source": [
    "list(map(lambda x:print(x+5),range(5)))"
   ]
  },
  {
   "cell_type": "code",
   "execution_count": 44,
   "metadata": {},
   "outputs": [
    {
     "data": {
      "text/plain": [
       "['0', '1', '2', '3', '4']"
      ]
     },
     "execution_count": 44,
     "metadata": {},
     "output_type": "execute_result"
    }
   ],
   "source": [
    "list(map(str,range(5))) #不要括号 只给函数标识符"
   ]
  },
  {
   "cell_type": "code",
   "execution_count": 46,
   "metadata": {},
   "outputs": [
    {
     "data": {
      "text/plain": [
       "{0: 495, 1: 496, 2: 497, 3: 498, 4: 499}"
      ]
     },
     "execution_count": 46,
     "metadata": {},
     "output_type": "execute_result"
    }
   ],
   "source": [
    "dict(map(lambda x:(x%5,x),range(500))) #字典不允许重复"
   ]
  },
  {
   "cell_type": "code",
   "execution_count": 47,
   "metadata": {},
   "outputs": [
    {
     "data": {
      "text/plain": [
       "[(0, 0),\n",
       " (1, 1),\n",
       " (2, 2),\n",
       " (3, 3),\n",
       " (4, 4),\n",
       " (0, 5),\n",
       " (1, 6),\n",
       " (2, 7),\n",
       " (3, 8),\n",
       " (4, 9),\n",
       " (0, 10),\n",
       " (1, 11),\n",
       " (2, 12),\n",
       " (3, 13),\n",
       " (4, 14),\n",
       " (0, 15),\n",
       " (1, 16),\n",
       " (2, 17),\n",
       " (3, 18),\n",
       " (4, 19),\n",
       " (0, 20),\n",
       " (1, 21),\n",
       " (2, 22),\n",
       " (3, 23),\n",
       " (4, 24),\n",
       " (0, 25),\n",
       " (1, 26),\n",
       " (2, 27),\n",
       " (3, 28),\n",
       " (4, 29),\n",
       " (0, 30),\n",
       " (1, 31),\n",
       " (2, 32),\n",
       " (3, 33),\n",
       " (4, 34),\n",
       " (0, 35),\n",
       " (1, 36),\n",
       " (2, 37),\n",
       " (3, 38),\n",
       " (4, 39),\n",
       " (0, 40),\n",
       " (1, 41),\n",
       " (2, 42),\n",
       " (3, 43),\n",
       " (4, 44),\n",
       " (0, 45),\n",
       " (1, 46),\n",
       " (2, 47),\n",
       " (3, 48),\n",
       " (4, 49),\n",
       " (0, 50),\n",
       " (1, 51),\n",
       " (2, 52),\n",
       " (3, 53),\n",
       " (4, 54),\n",
       " (0, 55),\n",
       " (1, 56),\n",
       " (2, 57),\n",
       " (3, 58),\n",
       " (4, 59),\n",
       " (0, 60),\n",
       " (1, 61),\n",
       " (2, 62),\n",
       " (3, 63),\n",
       " (4, 64),\n",
       " (0, 65),\n",
       " (1, 66),\n",
       " (2, 67),\n",
       " (3, 68),\n",
       " (4, 69),\n",
       " (0, 70),\n",
       " (1, 71),\n",
       " (2, 72),\n",
       " (3, 73),\n",
       " (4, 74),\n",
       " (0, 75),\n",
       " (1, 76),\n",
       " (2, 77),\n",
       " (3, 78),\n",
       " (4, 79),\n",
       " (0, 80),\n",
       " (1, 81),\n",
       " (2, 82),\n",
       " (3, 83),\n",
       " (4, 84),\n",
       " (0, 85),\n",
       " (1, 86),\n",
       " (2, 87),\n",
       " (3, 88),\n",
       " (4, 89),\n",
       " (0, 90),\n",
       " (1, 91),\n",
       " (2, 92),\n",
       " (3, 93),\n",
       " (4, 94),\n",
       " (0, 95),\n",
       " (1, 96),\n",
       " (2, 97),\n",
       " (3, 98),\n",
       " (4, 99),\n",
       " (0, 100),\n",
       " (1, 101),\n",
       " (2, 102),\n",
       " (3, 103),\n",
       " (4, 104),\n",
       " (0, 105),\n",
       " (1, 106),\n",
       " (2, 107),\n",
       " (3, 108),\n",
       " (4, 109),\n",
       " (0, 110),\n",
       " (1, 111),\n",
       " (2, 112),\n",
       " (3, 113),\n",
       " (4, 114),\n",
       " (0, 115),\n",
       " (1, 116),\n",
       " (2, 117),\n",
       " (3, 118),\n",
       " (4, 119),\n",
       " (0, 120),\n",
       " (1, 121),\n",
       " (2, 122),\n",
       " (3, 123),\n",
       " (4, 124),\n",
       " (0, 125),\n",
       " (1, 126),\n",
       " (2, 127),\n",
       " (3, 128),\n",
       " (4, 129),\n",
       " (0, 130),\n",
       " (1, 131),\n",
       " (2, 132),\n",
       " (3, 133),\n",
       " (4, 134),\n",
       " (0, 135),\n",
       " (1, 136),\n",
       " (2, 137),\n",
       " (3, 138),\n",
       " (4, 139),\n",
       " (0, 140),\n",
       " (1, 141),\n",
       " (2, 142),\n",
       " (3, 143),\n",
       " (4, 144),\n",
       " (0, 145),\n",
       " (1, 146),\n",
       " (2, 147),\n",
       " (3, 148),\n",
       " (4, 149),\n",
       " (0, 150),\n",
       " (1, 151),\n",
       " (2, 152),\n",
       " (3, 153),\n",
       " (4, 154),\n",
       " (0, 155),\n",
       " (1, 156),\n",
       " (2, 157),\n",
       " (3, 158),\n",
       " (4, 159),\n",
       " (0, 160),\n",
       " (1, 161),\n",
       " (2, 162),\n",
       " (3, 163),\n",
       " (4, 164),\n",
       " (0, 165),\n",
       " (1, 166),\n",
       " (2, 167),\n",
       " (3, 168),\n",
       " (4, 169),\n",
       " (0, 170),\n",
       " (1, 171),\n",
       " (2, 172),\n",
       " (3, 173),\n",
       " (4, 174),\n",
       " (0, 175),\n",
       " (1, 176),\n",
       " (2, 177),\n",
       " (3, 178),\n",
       " (4, 179),\n",
       " (0, 180),\n",
       " (1, 181),\n",
       " (2, 182),\n",
       " (3, 183),\n",
       " (4, 184),\n",
       " (0, 185),\n",
       " (1, 186),\n",
       " (2, 187),\n",
       " (3, 188),\n",
       " (4, 189),\n",
       " (0, 190),\n",
       " (1, 191),\n",
       " (2, 192),\n",
       " (3, 193),\n",
       " (4, 194),\n",
       " (0, 195),\n",
       " (1, 196),\n",
       " (2, 197),\n",
       " (3, 198),\n",
       " (4, 199),\n",
       " (0, 200),\n",
       " (1, 201),\n",
       " (2, 202),\n",
       " (3, 203),\n",
       " (4, 204),\n",
       " (0, 205),\n",
       " (1, 206),\n",
       " (2, 207),\n",
       " (3, 208),\n",
       " (4, 209),\n",
       " (0, 210),\n",
       " (1, 211),\n",
       " (2, 212),\n",
       " (3, 213),\n",
       " (4, 214),\n",
       " (0, 215),\n",
       " (1, 216),\n",
       " (2, 217),\n",
       " (3, 218),\n",
       " (4, 219),\n",
       " (0, 220),\n",
       " (1, 221),\n",
       " (2, 222),\n",
       " (3, 223),\n",
       " (4, 224),\n",
       " (0, 225),\n",
       " (1, 226),\n",
       " (2, 227),\n",
       " (3, 228),\n",
       " (4, 229),\n",
       " (0, 230),\n",
       " (1, 231),\n",
       " (2, 232),\n",
       " (3, 233),\n",
       " (4, 234),\n",
       " (0, 235),\n",
       " (1, 236),\n",
       " (2, 237),\n",
       " (3, 238),\n",
       " (4, 239),\n",
       " (0, 240),\n",
       " (1, 241),\n",
       " (2, 242),\n",
       " (3, 243),\n",
       " (4, 244),\n",
       " (0, 245),\n",
       " (1, 246),\n",
       " (2, 247),\n",
       " (3, 248),\n",
       " (4, 249),\n",
       " (0, 250),\n",
       " (1, 251),\n",
       " (2, 252),\n",
       " (3, 253),\n",
       " (4, 254),\n",
       " (0, 255),\n",
       " (1, 256),\n",
       " (2, 257),\n",
       " (3, 258),\n",
       " (4, 259),\n",
       " (0, 260),\n",
       " (1, 261),\n",
       " (2, 262),\n",
       " (3, 263),\n",
       " (4, 264),\n",
       " (0, 265),\n",
       " (1, 266),\n",
       " (2, 267),\n",
       " (3, 268),\n",
       " (4, 269),\n",
       " (0, 270),\n",
       " (1, 271),\n",
       " (2, 272),\n",
       " (3, 273),\n",
       " (4, 274),\n",
       " (0, 275),\n",
       " (1, 276),\n",
       " (2, 277),\n",
       " (3, 278),\n",
       " (4, 279),\n",
       " (0, 280),\n",
       " (1, 281),\n",
       " (2, 282),\n",
       " (3, 283),\n",
       " (4, 284),\n",
       " (0, 285),\n",
       " (1, 286),\n",
       " (2, 287),\n",
       " (3, 288),\n",
       " (4, 289),\n",
       " (0, 290),\n",
       " (1, 291),\n",
       " (2, 292),\n",
       " (3, 293),\n",
       " (4, 294),\n",
       " (0, 295),\n",
       " (1, 296),\n",
       " (2, 297),\n",
       " (3, 298),\n",
       " (4, 299),\n",
       " (0, 300),\n",
       " (1, 301),\n",
       " (2, 302),\n",
       " (3, 303),\n",
       " (4, 304),\n",
       " (0, 305),\n",
       " (1, 306),\n",
       " (2, 307),\n",
       " (3, 308),\n",
       " (4, 309),\n",
       " (0, 310),\n",
       " (1, 311),\n",
       " (2, 312),\n",
       " (3, 313),\n",
       " (4, 314),\n",
       " (0, 315),\n",
       " (1, 316),\n",
       " (2, 317),\n",
       " (3, 318),\n",
       " (4, 319),\n",
       " (0, 320),\n",
       " (1, 321),\n",
       " (2, 322),\n",
       " (3, 323),\n",
       " (4, 324),\n",
       " (0, 325),\n",
       " (1, 326),\n",
       " (2, 327),\n",
       " (3, 328),\n",
       " (4, 329),\n",
       " (0, 330),\n",
       " (1, 331),\n",
       " (2, 332),\n",
       " (3, 333),\n",
       " (4, 334),\n",
       " (0, 335),\n",
       " (1, 336),\n",
       " (2, 337),\n",
       " (3, 338),\n",
       " (4, 339),\n",
       " (0, 340),\n",
       " (1, 341),\n",
       " (2, 342),\n",
       " (3, 343),\n",
       " (4, 344),\n",
       " (0, 345),\n",
       " (1, 346),\n",
       " (2, 347),\n",
       " (3, 348),\n",
       " (4, 349),\n",
       " (0, 350),\n",
       " (1, 351),\n",
       " (2, 352),\n",
       " (3, 353),\n",
       " (4, 354),\n",
       " (0, 355),\n",
       " (1, 356),\n",
       " (2, 357),\n",
       " (3, 358),\n",
       " (4, 359),\n",
       " (0, 360),\n",
       " (1, 361),\n",
       " (2, 362),\n",
       " (3, 363),\n",
       " (4, 364),\n",
       " (0, 365),\n",
       " (1, 366),\n",
       " (2, 367),\n",
       " (3, 368),\n",
       " (4, 369),\n",
       " (0, 370),\n",
       " (1, 371),\n",
       " (2, 372),\n",
       " (3, 373),\n",
       " (4, 374),\n",
       " (0, 375),\n",
       " (1, 376),\n",
       " (2, 377),\n",
       " (3, 378),\n",
       " (4, 379),\n",
       " (0, 380),\n",
       " (1, 381),\n",
       " (2, 382),\n",
       " (3, 383),\n",
       " (4, 384),\n",
       " (0, 385),\n",
       " (1, 386),\n",
       " (2, 387),\n",
       " (3, 388),\n",
       " (4, 389),\n",
       " (0, 390),\n",
       " (1, 391),\n",
       " (2, 392),\n",
       " (3, 393),\n",
       " (4, 394),\n",
       " (0, 395),\n",
       " (1, 396),\n",
       " (2, 397),\n",
       " (3, 398),\n",
       " (4, 399),\n",
       " (0, 400),\n",
       " (1, 401),\n",
       " (2, 402),\n",
       " (3, 403),\n",
       " (4, 404),\n",
       " (0, 405),\n",
       " (1, 406),\n",
       " (2, 407),\n",
       " (3, 408),\n",
       " (4, 409),\n",
       " (0, 410),\n",
       " (1, 411),\n",
       " (2, 412),\n",
       " (3, 413),\n",
       " (4, 414),\n",
       " (0, 415),\n",
       " (1, 416),\n",
       " (2, 417),\n",
       " (3, 418),\n",
       " (4, 419),\n",
       " (0, 420),\n",
       " (1, 421),\n",
       " (2, 422),\n",
       " (3, 423),\n",
       " (4, 424),\n",
       " (0, 425),\n",
       " (1, 426),\n",
       " (2, 427),\n",
       " (3, 428),\n",
       " (4, 429),\n",
       " (0, 430),\n",
       " (1, 431),\n",
       " (2, 432),\n",
       " (3, 433),\n",
       " (4, 434),\n",
       " (0, 435),\n",
       " (1, 436),\n",
       " (2, 437),\n",
       " (3, 438),\n",
       " (4, 439),\n",
       " (0, 440),\n",
       " (1, 441),\n",
       " (2, 442),\n",
       " (3, 443),\n",
       " (4, 444),\n",
       " (0, 445),\n",
       " (1, 446),\n",
       " (2, 447),\n",
       " (3, 448),\n",
       " (4, 449),\n",
       " (0, 450),\n",
       " (1, 451),\n",
       " (2, 452),\n",
       " (3, 453),\n",
       " (4, 454),\n",
       " (0, 455),\n",
       " (1, 456),\n",
       " (2, 457),\n",
       " (3, 458),\n",
       " (4, 459),\n",
       " (0, 460),\n",
       " (1, 461),\n",
       " (2, 462),\n",
       " (3, 463),\n",
       " (4, 464),\n",
       " (0, 465),\n",
       " (1, 466),\n",
       " (2, 467),\n",
       " (3, 468),\n",
       " (4, 469),\n",
       " (0, 470),\n",
       " (1, 471),\n",
       " (2, 472),\n",
       " (3, 473),\n",
       " (4, 474),\n",
       " (0, 475),\n",
       " (1, 476),\n",
       " (2, 477),\n",
       " (3, 478),\n",
       " (4, 479),\n",
       " (0, 480),\n",
       " (1, 481),\n",
       " (2, 482),\n",
       " (3, 483),\n",
       " (4, 484),\n",
       " (0, 485),\n",
       " (1, 486),\n",
       " (2, 487),\n",
       " (3, 488),\n",
       " (4, 489),\n",
       " (0, 490),\n",
       " (1, 491),\n",
       " (2, 492),\n",
       " (3, 493),\n",
       " (4, 494),\n",
       " (0, 495),\n",
       " (1, 496),\n",
       " (2, 497),\n",
       " (3, 498),\n",
       " (4, 499)]"
      ]
     },
     "execution_count": 47,
     "metadata": {},
     "output_type": "execute_result"
    }
   ],
   "source": [
    "list(map(lambda x:(x%5,x),range(500)))"
   ]
  },
  {
   "cell_type": "code",
   "execution_count": 59,
   "metadata": {},
   "outputs": [],
   "source": [
    "#柯里化\n",
    "    #指的是将原来接受两个参数的函数编程新的接受一个参数的函数的过程，新的函数返回一个以原有第二个参数为参数的函数\n",
    "    #z=f(x,y) 转换成z=f(x)(y)的形式\n",
    "    \n",
    "def add(x,y):\n",
    "    return x+y"
   ]
  },
  {
   "cell_type": "code",
   "execution_count": 61,
   "metadata": {},
   "outputs": [],
   "source": [
    "def add(x):\n",
    "    def _add(y):\n",
    "        return x+y\n",
    "    return _add"
   ]
  },
  {
   "cell_type": "code",
   "execution_count": 64,
   "metadata": {},
   "outputs": [],
   "source": [
    "t=add(4)(5)"
   ]
  },
  {
   "cell_type": "code",
   "execution_count": 65,
   "metadata": {},
   "outputs": [
    {
     "data": {
      "text/plain": [
       "9"
      ]
     },
     "execution_count": 65,
     "metadata": {},
     "output_type": "execute_result"
    }
   ],
   "source": [
    "t"
   ]
  },
  {
   "cell_type": "code",
   "execution_count": null,
   "metadata": {},
   "outputs": [],
   "source": [
    "#通过嵌套函数就可以把函数转换成柯里化函数"
   ]
  },
  {
   "cell_type": "code",
   "execution_count": null,
   "metadata": {},
   "outputs": [],
   "source": []
  },
  {
   "cell_type": "code",
   "execution_count": null,
   "metadata": {},
   "outputs": [],
   "source": [
    "#装饰器\n",
    "#"
   ]
  },
  {
   "cell_type": "code",
   "execution_count": 72,
   "metadata": {},
   "outputs": [
    {
     "name": "stdout",
     "output_type": "stream",
     "text": [
      "before\n",
      "end\n",
      "16\n"
     ]
    }
   ],
   "source": [
    "def add(x,y):\n",
    "    return x+y\n",
    "\n",
    "def add1(x,y,*,z=6):\n",
    "    return x+y+z\n",
    "\n",
    "def logger(fn,*args,**kwargs):\n",
    "    print('before')\n",
    "    ret=fn(*args,**kwargs)  #参数需要解构\n",
    "    print('end')\n",
    "    return ret\n",
    "\n",
    "#print(logger(add))\n",
    "r=logger(add1,4,5,z=7)\n",
    "print(r)"
   ]
  },
  {
   "cell_type": "code",
   "execution_count": 73,
   "metadata": {},
   "outputs": [],
   "source": [
    "#柯里化\n",
    "def add(x,y):\n",
    "    return x+y\n",
    "\n",
    "def add1(x,y,*,z=6):\n",
    "    return x+y+z\n",
    "\n",
    "def logger(fn):\n",
    "    def _logger(*args,**kwargs):\n",
    "        print('before')\n",
    "        ret=fn(*args,**kwargs)  #add1 调用\n",
    "        print('end')\n",
    "        return ret\n",
    "    return _logger\n",
    "#print(logger(add))\n",
    "#r=logger(add1,4,5,z=7)\n",
    "#print(r)"
   ]
  },
  {
   "cell_type": "code",
   "execution_count": 75,
   "metadata": {},
   "outputs": [],
   "source": [
    "g=logger(add1) #返回内层函数 _logger"
   ]
  },
  {
   "cell_type": "code",
   "execution_count": 77,
   "metadata": {},
   "outputs": [
    {
     "name": "stdout",
     "output_type": "stream",
     "text": [
      "before\n",
      "end\n",
      "16\n"
     ]
    }
   ],
   "source": [
    "r=g(4,5,z=7)\n",
    "print(r)"
   ]
  },
  {
   "cell_type": "code",
   "execution_count": null,
   "metadata": {},
   "outputs": [],
   "source": []
  },
  {
   "cell_type": "code",
   "execution_count": null,
   "metadata": {},
   "outputs": [],
   "source": []
  },
  {
   "cell_type": "code",
   "execution_count": null,
   "metadata": {},
   "outputs": [],
   "source": []
  },
  {
   "cell_type": "code",
   "execution_count": null,
   "metadata": {},
   "outputs": [],
   "source": []
  },
  {
   "cell_type": "code",
   "execution_count": null,
   "metadata": {},
   "outputs": [],
   "source": []
  },
  {
   "cell_type": "code",
   "execution_count": null,
   "metadata": {},
   "outputs": [],
   "source": []
  }
 ],
 "metadata": {
  "kernelspec": {
   "display_name": "Python 3",
   "language": "python",
   "name": "python3"
  },
  "language_info": {
   "codemirror_mode": {
    "name": "ipython",
    "version": 3
   },
   "file_extension": ".py",
   "mimetype": "text/x-python",
   "name": "python",
   "nbconvert_exporter": "python",
   "pygments_lexer": "ipython3",
   "version": "3.7.1"
  }
 },
 "nbformat": 4,
 "nbformat_minor": 2
}
