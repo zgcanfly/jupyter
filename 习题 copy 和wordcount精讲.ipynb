{
 "cells": [
  {
   "cell_type": "code",
   "execution_count": null,
   "metadata": {},
   "outputs": [],
   "source": [
    "#实现copy 文件功能\n",
    "src='test'\n",
    "dst='test1'\n",
    "\n",
    "def copy(src,dest):\n",
    "    with open(src) as f1:\n",
    "        with open(dst) as f2:\n",
    "            f2.write(f1.read())\n",
    "        "
   ]
  },
  {
   "cell_type": "code",
   "execution_count": null,
   "metadata": {},
   "outputs": [],
   "source": [
    "#统计文章中的单词数 和 每个单词出现的次数"
   ]
  },
  {
   "cell_type": "code",
   "execution_count": 30,
   "metadata": {},
   "outputs": [
    {
     "name": "stdout",
     "output_type": "stream",
     "text": [
      "[('the', 136), ('is', 60), ('a', 54), ('path', 52), ('if', 42), ('and', 39), ('to', 34), ('of', 33), ('on', 32), ('return', 30), ('or', 24), ('in', 22), ('an', 20), ('file', 19), ('this', 17), ('for', 17), ('pathname', 15), ('not', 15), ('true', 15), ('be', 14), ('that', 14), ('path.', 14), ('drive', 14), ('are', 13), ('by', 13), ('as', 12), ('all', 12), ('same', 12), ('returns', 12), ('directory', 11), ('will', 11), ('windows', 10), ('it', 10), ('python', 9), ('version', 9), ('function', 9), ('»', 8), ('unix,', 8), ('paths', 8), ('symbolic', 8), ('windows,', 8), ('number', 8), ('can', 7), ('different', 7), ('from', 7), ('with', 7), ('last', 7), ('time', 7), ('|', 6), ('module', 6), ('see', 6), ('names', 6), ('may', 6), ('unix', 6), ('use', 6), ('does', 6), ('since', 6), ('always', 6), ('empty', 6), ('raise', 6), ('contains', 6), ('availability:', 6), ('path,', 6), ('component', 6), ('point', 6), ('mount', 6), ('windows.', 6), ('either', 5), ('so', 5), ('string', 5), ('also', 5), ('note', 5), ('result', 5), ('name', 5), ('pair', 5), ('returned', 5), ('both', 5), ('absolute', 5), ('empty.', 5), ('changed', 5), ('directory.', 5), ('up', 5), ('value', 5), ('unc', 5), ('into', 5), ('tail', 5), ('previous', 4), ('standard', 4), ('access', 4), ('some', 4), ('functions', 4), ('objects', 4), ('any', 4), ('(see', 4), ('one', 4), ('where', 4), ('relative', 4), ('existing', 4), ('false', 4), ('initial', 4), ('home', 4), ('current', 4), ('oserror', 4), ('exist', 4), ('inaccessible.', 4), ('slashes', 4), ('split', 4), ('head', 4), ('modules', 3), ('(for', 3), ('applications', 3), ('represent', 3), ('strings', 3), ('should', 3), ('bytes', 3), ('only', 3), ('operating', 3), ('systems', 3), ('have', 3), ('there', 3), ('system', 3), ('basename', 3), ('each', 3), ('refers', 3), ('links.', 3), ('~user', 3), ('replaced', 3), ('environment', 3), ('variable', 3), ('used', 3), ('supported', 3), ('giving', 3), ('seconds', 3), ('epoch', 3), ('module).', 3), ('begins', 3), ('file.', 3), ('device', 3), ('letter', 3), ('root', 3), ('3.4:', 3), ('components', 3), ('part', 3), ('normalize', 3), ('converts', 3), ('refer', 3), ('added', 3), ('support.', 3), ('tail)', 3), ('contain', 3), ('string.', 3), ('navigation', 2), ('index', 2), ('next', 2), ('3.5.3', 2), ('documentation', 2), ('library', 2), ('11.', 2), ('os.path', 2), ('—', 2), ('common', 2), ('implements', 2), ('filesystem', 2), ('os', 2), ('bytes.', 2), ('character', 2), ('support', 2), ('arbitrary', 2), ('using', 2), ('unlike', 2), ('do', 2), ('such', 2), ('when', 2), ('these', 2), ('paths.', 2), ('you', 2), ('they', 2), ('most', 2), ('platforms,', 2), ('equivalent', 2), ('element', 2), ('passing', 2), ('split().', 2), (\"('').\", 2), ('longest', 2), ('valid', 2), ('new', 2), ('prefix', 2), ('empty,', 2), ('at', 2), ('>>>', 2), (\"'/usr/local/lib'])\", 2), ('open', 2), ('broken', 2), ('os.stat()', 2), ('now', 2), ('argument', 2), ('~', 2), ('otherwise', 2), ('looked', 2), ('password', 2), ('created', 2), ('unchanged.', 2), ('variables', 2), ('$name', 2), ('references', 2), ('os.stat_float_times()', 2), ('true,', 2), ('floating', 2), ('number.', 2), ('(like', 2), ('pathname.', 2), ('slash,', 2), ('follows', 2), ('links,', 2), ('islink()', 2), ('links', 2), ('been', 2), ('whether', 2), ('i-node', 2), ('points', 2), ('other', 2), ('more', 2), ('separator', 2), ('meaning', 2), ('thrown', 2), ('away', 2), ('letter,', 2), ('forward', 2), ('backward', 2), ('slashes.', 2), ('system).', 2), ('start', 2), ('3.2:', 2), ('everything', 2), ('leading', 2), ('cases,', 2), ('+', 2), ('including', 2), ('e.g.', 2), ('\"/dir\")', 2), ('ext', 2), ('(such', 2), ('rest', 2), ('software', 2), ('11.2.', 1), ('manipulations', 1), ('source', 1), ('code:', 1), ('lib/posixpath.py', 1), ('posix),', 1), ('lib/ntpath.py', 1), ('nt),', 1), ('lib/macpath.py', 1), ('macintosh)', 1), ('--------------------------------------------------------------------------------', 1), ('useful', 1), ('pathnames.', 1), ('read', 1), ('write', 1), ('files', 1), ('open(),', 1), ('accessing', 1), ('module.', 1), ('parameters', 1), ('passed', 1), ('strings,', 1), ('encouraged', 1), ('(unicode)', 1), ('strings.', 1), ('unfortunately,', 1), ('representable', 1), ('need', 1), ('names.', 1), ('vice', 1), ('versa,', 1), ('cannot', 1), ('(in', 1), ('mbcs', 1), ('encoding),', 1), ('hence', 1), ('files.', 1), ('shell,', 1), ('automatic', 1), ('expansions.', 1), ('expanduser()', 1), ('expandvars()', 1), ('invoked', 1), ('explicitly', 1), ('application', 1), ('desires', 1), ('shell-like', 1), ('expansion.', 1), ('glob', 1), ('module.)', 1), ('pathlib', 1), ('offers', 1), ('high-level', 1), ('objects.', 1), ('accept', 1), ('their', 1), ('parameters.', 1), ('object', 1), ('type,', 1), ('returned.', 1), ('conventions,', 1), ('several', 1), ('versions', 1), ('library.', 1), ('suitable', 1), ('running', 1), ('on,', 1), ('therefore', 1), ('usable', 1), ('local', 1), ('however,', 1), ('import', 1), ('individual', 1), ('want', 1), ('manipulate', 1), ('formats.', 1), ('interface:', 1), ('posixpath', 1), ('unix-style', 1), ('ntpath', 1), ('macpath', 1), ('old-style', 1), ('macos', 1), ('os.path.abspath(path)', 1), ('normalized', 1), ('absolutized', 1), ('calling', 1), ('normpath()', 1), ('follows:', 1), ('normpath(join(os.getcwd(),', 1), ('path)).', 1), ('os.path.basename(path)', 1), ('base', 1), ('second', 1), ('program;', 1), (\"'/foo/bar/'\", 1), (\"'bar',\", 1), ('basename()', 1), ('os.path.commonpath(paths)', 1), ('sub-path', 1), ('sequence', 1), ('valueerror', 1), ('pathnames,', 1), ('commonprefix(),', 1), ('3.5.', 1), ('os.path.commonprefix(list)', 1), ('(taken', 1), ('character-by-character)', 1), ('list.', 1), ('list', 1), ('invalid', 1), ('because', 1), ('works', 1), ('time.', 1), ('obtain', 1), ('commonpath().', 1), (\"os.path.commonprefix(['/usr/lib',\", 1), (\"'/usr/l'\", 1), (\"os.path.commonpath(['/usr/lib',\", 1), (\"'/usr'\", 1), ('os.path.dirname(path)', 1), ('first', 1), ('os.path.exists(path)', 1), ('descriptor.', 1), ('permission', 1), ('granted', 1), ('execute', 1), ('requested', 1), ('file,', 1), ('even', 1), ('physically', 1), ('exists.', 1), ('3.3:', 1), ('integer:', 1), ('descriptor,', 1), ('otherwise.', 1), ('os.path.lexists(path)', 1), ('exists()', 1), ('platforms', 1), ('lacking', 1), ('os.lstat().', 1), ('os.path.expanduser(path)', 1), ('user‘s', 1), ('set;', 1), ('user’s', 1), ('through', 1), ('built-in', 1), ('pwd.', 1), ('directly', 1), ('userprofile', 1), ('set,', 1), ('combination', 1), ('homepath', 1), ('homedrive', 1), ('used.', 1), ('handled', 1), ('stripping', 1), ('user', 1), ('derived', 1), ('above.', 1), ('expansion', 1), ('fails', 1), ('begin', 1), ('tilde,', 1), ('os.path.expandvars(path)', 1), ('expanded.', 1), ('substrings', 1), ('form', 1), ('${name}', 1), ('name.', 1), ('malformed', 1), ('non-existing', 1), ('left', 1), ('%name%', 1), ('expansions', 1), ('addition', 1), ('${name}.', 1), ('os.path.getatime(path)', 1), ('os.path.getmtime(path)', 1), ('modification', 1), ('os.path.getctime(path)', 1), ('system’s', 1), ('ctime', 1), ('which,', 1), ('unix)', 1), ('metadata', 1), ('change,', 1), ('and,', 1), ('others', 1), ('windows),', 1), ('creation', 1), ('os.path.getsize(path)', 1), ('size,', 1), ('bytes,', 1), ('os.path.isabs(path)', 1), ('means', 1), ('(back)slash', 1), ('after', 1), ('chopping', 1), ('off', 1), ('potential', 1), ('letter.', 1), ('os.path.isfile(path)', 1), ('regular', 1), ('isfile()', 1), ('os.path.isdir(path)', 1), ('isdir()', 1), ('os.path.islink(path)', 1), ('entry', 1), ('link.', 1), ('runtime.', 1), ('os.path.ismount(path)', 1), ('point:', 1), ('has', 1), ('mounted.', 1), ('posix,', 1), ('checks', 1), ('path‘s', 1), ('parent,', 1), ('path/..,', 1), ('than', 1), ('path/..', 1), ('detect', 1), ('posix', 1), ('variants.', 1), ('share', 1), ('points,', 1), ('getvolumepathname', 1), ('called', 1), ('input', 1), ('detecting', 1), ('non-root', 1), ('os.path.join(path,', 1), ('*paths)', 1), ('join', 1), ('intelligently.', 1), ('concatenation', 1), ('members', 1), ('*paths', 1), ('exactly', 1), ('(os.sep)', 1), ('following', 1), ('non-empty', 1), ('except', 1), ('last,', 1), ('end', 1), ('joining', 1), ('continues', 1), ('component.', 1), ('reset', 1), ('(e.g.,', 1), (\"r'\\\\foo')\", 1), ('encountered.', 1), ('reset.', 1), ('drive,', 1), ('os.path.join(\"c:\",', 1), ('\"foo\")', 1), ('represents', 1), ('c:', 1), ('(c:foo),', 1), ('c:\\\\foo.', 1), ('os.path.normcase(path)', 1), ('case', 1), ('mac', 1), ('x,', 1), ('unchanged;', 1), ('case-insensitive', 1), ('filesystems,', 1), ('lowercase.', 1), ('typeerror', 1), ('type', 1), ('str', 1), ('os.path.normpath(path)', 1), ('collapsing', 1), ('redundant', 1), ('separators', 1), ('up-level', 1), ('a//b,', 1), ('a/b/,', 1), ('a/./b', 1), ('a/foo/../b', 1), ('become', 1), ('a/b.', 1), ('manipulation', 1), ('change', 1), ('case,', 1), ('normcase().', 1), ('os.path.realpath(path)', 1), ('canonical', 1), ('specified', 1), ('filename,', 1), ('eliminating', 1), ('encountered', 1), ('(if', 1), ('os.path.relpath(path,', 1), ('start=os.curdir)', 1), ('filepath', 1), ('optional', 1), ('computation:', 1), ('accessed', 1), ('confirm', 1), ('existence', 1), ('nature', 1), ('start.', 1), ('defaults', 1), ('os.curdir.', 1), ('os.path.samefile(path1,', 1), ('path2)', 1), ('arguments', 1), ('determined', 1), ('raises', 1), ('exception', 1), ('call', 1), ('fails.', 1), ('uses', 1), ('implementation', 1), ('platforms.', 1), ('os.path.sameopenfile(fp1,', 1), ('fp2)', 1), ('descriptors', 1), ('fp1', 1), ('fp2', 1), ('os.path.samestat(stat1,', 1), ('stat2)', 1), ('stat', 1), ('tuples', 1), ('stat1', 1), ('stat2', 1), ('structures', 1), ('os.fstat(),', 1), ('os.lstat(),', 1), ('os.stat().', 1), ('underlying', 1), ('comparison', 1), ('samefile()', 1), ('sameopenfile().', 1), ('os.path.split(path)', 1), ('pair,', 1), ('(head,', 1), ('that.', 1), ('never', 1), ('slash;', 1), ('ends', 1), ('no', 1), ('slash', 1), ('trailing', 1), ('stripped', 1), ('unless', 1), ('(one', 1), ('only).', 1), ('join(head,', 1), ('location', 1), ('(but', 1), ('differ).', 1), ('dirname()', 1), ('basename().', 1), ('os.path.splitdrive(path)', 1), ('(drive,', 1), ('which', 1), ('specifications,', 1), ('splits', 1), ('drive/unc', 1), ('sharepoint', 1), ('colon.', 1), ('splitdrive(\"c:/dir\")', 1), ('(\"c:\",', 1), ('host', 1), ('share,', 1), ('but', 1), ('fourth', 1), ('separator.', 1), ('splitdrive(\"//host/computer/dir\")', 1), ('(\"//host/computer\",', 1), ('os.path.splitext(path)', 1), ('(root,', 1), ('ext)', 1), ('==', 1), ('period', 1), ('period.', 1), ('periods', 1), ('ignored;', 1), (\"splitext('.cshrc')\", 1), (\"('.cshrc',\", 1), (\"'').\", 1), ('os.path.splitunc(path)', 1), ('deprecated', 1), ('3.1:', 1), ('splitdrive', 1), ('instead.', 1), ('(unc,', 1), ('rest)', 1), (\"r'\\\\\\\\host\\\\mount'),\", 1), ('present,', 1), (\"r'\\\\path\\\\file.ext').\", 1), ('containing', 1), ('letters,', 1), ('os.path.supports_unicode_filenames', 1), ('unicode', 1), ('(within', 1), ('limitations', 1), ('imposed', 1), ('©', 1), ('copyright', 1), ('2001-2017,', 1), ('foundation.', 1), ('foundation', 1), ('non-profit', 1), ('corporation.', 1), ('please', 1), ('donate.', 1), ('updated', 1), ('jan', 1), ('16,', 1), ('2017.', 1), ('found', 1), ('bug?', 1), ('sphinx', 1), ('1.3.1.', 1)]\n"
     ]
    }
   ],
   "source": [
    "chars=set(r\"\"\",.[]()-+/\\*&%#$@`\"\"\")\n",
    "\n",
    "def makekey(x):\n",
    "    key=x.lower()\n",
    "    ret = []\n",
    "    for c in key:\n",
    "        if c in chars:\n",
    "            ret.append(' ')\n",
    "        else:\n",
    "            ret.append(c)\n",
    "    return \"\".join(ret).split()\n",
    "    \n",
    "    \n",
    "encoding='utf-8'\n",
    "d={}\n",
    "with open('sample',encoding=encoding) as f:\n",
    "    for line in f:\n",
    "        words=line.split() #按空格切\n",
    "        for word in  map(str.lower,words): #大小写问题\n",
    "            d[word]=d.get(word,0)+1\n",
    "#top10\n",
    "print(sorted(d.items(),key=lambda item:item[1],reverse=True)) #sort by counts\n",
    "\n",
    "# for k in d:\n",
    "#     if k.find('path')\n"
   ]
  },
  {
   "cell_type": "code",
   "execution_count": 17,
   "metadata": {},
   "outputs": [
    {
     "name": "stdout",
     "output_type": "stream",
     "text": [
      "\n"
     ]
    }
   ],
   "source": [
    "print()"
   ]
  },
  {
   "cell_type": "code",
   "execution_count": null,
   "metadata": {},
   "outputs": [],
   "source": []
  },
  {
   "cell_type": "code",
   "execution_count": null,
   "metadata": {},
   "outputs": [],
   "source": []
  },
  {
   "cell_type": "code",
   "execution_count": null,
   "metadata": {},
   "outputs": [],
   "source": []
  },
  {
   "cell_type": "code",
   "execution_count": null,
   "metadata": {},
   "outputs": [],
   "source": []
  },
  {
   "cell_type": "code",
   "execution_count": null,
   "metadata": {},
   "outputs": [],
   "source": []
  },
  {
   "cell_type": "code",
   "execution_count": null,
   "metadata": {},
   "outputs": [],
   "source": []
  },
  {
   "cell_type": "code",
   "execution_count": null,
   "metadata": {},
   "outputs": [],
   "source": []
  },
  {
   "cell_type": "code",
   "execution_count": null,
   "metadata": {},
   "outputs": [],
   "source": []
  },
  {
   "cell_type": "code",
   "execution_count": null,
   "metadata": {},
   "outputs": [],
   "source": []
  },
  {
   "cell_type": "code",
   "execution_count": null,
   "metadata": {},
   "outputs": [],
   "source": []
  },
  {
   "cell_type": "code",
   "execution_count": null,
   "metadata": {},
   "outputs": [],
   "source": []
  },
  {
   "cell_type": "code",
   "execution_count": null,
   "metadata": {},
   "outputs": [],
   "source": []
  },
  {
   "cell_type": "code",
   "execution_count": null,
   "metadata": {},
   "outputs": [],
   "source": []
  },
  {
   "cell_type": "code",
   "execution_count": null,
   "metadata": {},
   "outputs": [],
   "source": []
  }
 ],
 "metadata": {
  "kernelspec": {
   "display_name": "Python 3",
   "language": "python",
   "name": "python3"
  },
  "language_info": {
   "codemirror_mode": {
    "name": "ipython",
    "version": 3
   },
   "file_extension": ".py",
   "mimetype": "text/x-python",
   "name": "python",
   "nbconvert_exporter": "python",
   "pygments_lexer": "ipython3",
   "version": "3.7.1"
  }
 },
 "nbformat": 4,
 "nbformat_minor": 2
}
