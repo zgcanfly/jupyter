{
 "cells": [
  {
   "cell_type": "code",
   "execution_count": null,
   "metadata": {},
   "outputs": [],
   "source": [
    "#对sample文件进行不区分大小写的单词统计\n",
    "    #要求用户可以排除一些单词的统计\n",
    "    #要求全部代码使用函数封装，调用完成"
   ]
  },
  {
   "cell_type": "code",
   "execution_count": 4,
   "metadata": {
    "scrolled": false
   },
   "outputs": [
    {
     "ename": "TypeError",
     "evalue": "argument of type 'NoneType' is not iterable",
     "output_type": "error",
     "traceback": [
      "\u001b[0;31m---------------------------------------------------------------------------\u001b[0m",
      "\u001b[0;31mTypeError\u001b[0m                                 Traceback (most recent call last)",
      "\u001b[0;32m<ipython-input-4-9a4e27bb0052>\u001b[0m in \u001b[0;36m<module>\u001b[0;34m\u001b[0m\n\u001b[1;32m     61\u001b[0m \u001b[0;31m#     if k.find('path') > -1:\u001b[0m\u001b[0;34m\u001b[0m\u001b[0;34m\u001b[0m\u001b[0;34m\u001b[0m\u001b[0m\n\u001b[1;32m     62\u001b[0m \u001b[0;31m#         print(k)\u001b[0m\u001b[0;34m\u001b[0m\u001b[0;34m\u001b[0m\u001b[0;34m\u001b[0m\u001b[0m\n\u001b[0;32m---> 63\u001b[0;31m \u001b[0mtop\u001b[0m\u001b[0;34m(\u001b[0m\u001b[0mwordcount\u001b[0m\u001b[0;34m(\u001b[0m\u001b[0mfilename\u001b[0m\u001b[0;34m)\u001b[0m\u001b[0;34m)\u001b[0m\u001b[0;34m\u001b[0m\u001b[0;34m\u001b[0m\u001b[0m\n\u001b[0m",
      "\u001b[0;32m<ipython-input-4-9a4e27bb0052>\u001b[0m in \u001b[0;36mwordcount\u001b[0;34m(filename, encoding, ignorewords)\u001b[0m\n\u001b[1;32m     33\u001b[0m         \u001b[0;32mfor\u001b[0m \u001b[0mline\u001b[0m \u001b[0;32min\u001b[0m \u001b[0mf\u001b[0m\u001b[0;34m:\u001b[0m\u001b[0;34m\u001b[0m\u001b[0;34m\u001b[0m\u001b[0m\n\u001b[1;32m     34\u001b[0m             \u001b[0;32mfor\u001b[0m \u001b[0mword\u001b[0m \u001b[0;32min\u001b[0m \u001b[0mmap\u001b[0m\u001b[0;34m(\u001b[0m\u001b[0mstr\u001b[0m\u001b[0;34m.\u001b[0m\u001b[0mlower\u001b[0m\u001b[0;34m,\u001b[0m\u001b[0m_makekey\u001b[0m\u001b[0;34m(\u001b[0m\u001b[0mline\u001b[0m\u001b[0;34m)\u001b[0m\u001b[0;34m)\u001b[0m\u001b[0;34m:\u001b[0m\u001b[0;34m\u001b[0m\u001b[0;34m\u001b[0m\u001b[0m\n\u001b[0;32m---> 35\u001b[0;31m                 \u001b[0;32mif\u001b[0m \u001b[0mword\u001b[0m \u001b[0;32min\u001b[0m \u001b[0mignorewords\u001b[0m\u001b[0;34m:\u001b[0m\u001b[0;34m\u001b[0m\u001b[0;34m\u001b[0m\u001b[0m\n\u001b[0m\u001b[1;32m     36\u001b[0m                     \u001b[0;32mpass\u001b[0m\u001b[0;34m\u001b[0m\u001b[0;34m\u001b[0m\u001b[0m\n\u001b[1;32m     37\u001b[0m                 \u001b[0;32melse\u001b[0m\u001b[0;34m:\u001b[0m\u001b[0;34m\u001b[0m\u001b[0;34m\u001b[0m\u001b[0m\n",
      "\u001b[0;31mTypeError\u001b[0m: argument of type 'NoneType' is not iterable"
     ]
    }
   ],
   "source": [
    "filename='sample'\n",
    "CHARS=set(\"\"\",.[]()-+/\\*&%\\r\\n\\t #$@`\"\"\")\n",
    "ignorewords={}\n",
    "def _makekey(key:str,chars=CHARS):\n",
    "    start=0\n",
    "    for i,c in enumerate(key):\n",
    "        if c in chars:\n",
    "            if start ==i:\n",
    "                start=i+1\n",
    "                continue\n",
    "            #ret.append(key[start:i])\n",
    "            yield key[start:i]\n",
    "            start = i+1\n",
    "    else:\n",
    "        if start< len(key):\n",
    "            #ret.append(key[start:])\n",
    "            yield key[start:]\n",
    "    \n",
    "    #return ret\n",
    "\n",
    "# print(makekey('**os'))    \n",
    "\n",
    "# print(makekey('os.path'))   \n",
    "# for i in  makekey('os.path'):\n",
    "#     print(i)\n",
    "def wordcount(filename,encoding='utf8',ignorewords=None)->dict:\n",
    "    \"\"\"\n",
    "        此函数用于单词统计\n",
    "    \n",
    "    \"\"\"\n",
    "    d={}\n",
    "    with open(filename,encoding=encoding) as f:\n",
    "        for line in f:\n",
    "            for word in map(str.lower,_makekey(line)):\n",
    "                if word in ignorewords:\n",
    "                    pass\n",
    "                else:\n",
    "                    d[word]=d.get(word,0)+1\n",
    "                \n",
    "    return d\n",
    "\n",
    "def top(d:dict,n:int=10):\n",
    "    for i,(k,v) in enumerate(sorted(d.items(),key=lambda item:item[1],reverse=True)):\n",
    "        if i>=n:\n",
    "            break\n",
    "        print(k,v)\n",
    "# def wordcount(file):\n",
    "#     encoding='utf-8'\n",
    "#     d={}\n",
    "#     with open(file,encoding=encoding) as f:\n",
    "#         for line in f:\n",
    "#             words=line.split() #按空格切\n",
    "#             for wordlist in map(makekey,words):\n",
    "#                 for word in  wordlist: #大小写问题\n",
    "#                     d[word]=d.get(word,0)+1\n",
    "#     #top10\n",
    "#     return sorted(d.items(),key=lambda item:item[1],reverse=True) #sort by counts\n",
    "\n",
    "# wordcount('sample')\n",
    "# for k in d:\n",
    "#     if k.find('path') > -1:\n",
    "#         print(k)\n",
    "top(wordcount(filename))"
   ]
  },
  {
   "cell_type": "code",
   "execution_count": null,
   "metadata": {},
   "outputs": [],
   "source": []
  },
  {
   "cell_type": "code",
   "execution_count": null,
   "metadata": {},
   "outputs": [],
   "source": [
    "#有一个配置文件test.ini如下，将其转化成json格式文件"
   ]
  },
  {
   "cell_type": "code",
   "execution_count": null,
   "metadata": {},
   "outputs": [],
   "source": []
  },
  {
   "cell_type": "code",
   "execution_count": null,
   "metadata": {},
   "outputs": [],
   "source": []
  },
  {
   "cell_type": "code",
   "execution_count": null,
   "metadata": {},
   "outputs": [],
   "source": []
  },
  {
   "cell_type": "code",
   "execution_count": null,
   "metadata": {},
   "outputs": [],
   "source": []
  }
 ],
 "metadata": {
  "kernelspec": {
   "display_name": "Python 3",
   "language": "python",
   "name": "python3"
  },
  "language_info": {
   "codemirror_mode": {
    "name": "ipython",
    "version": 3
   },
   "file_extension": ".py",
   "mimetype": "text/x-python",
   "name": "python",
   "nbconvert_exporter": "python",
   "pygments_lexer": "ipython3",
   "version": "3.7.1"
  }
 },
 "nbformat": 4,
 "nbformat_minor": 2
}
