{
 "cells": [
  {
   "cell_type": "code",
   "execution_count": 1,
   "metadata": {},
   "outputs": [],
   "source": [
    "\n",
    "    #字符串的格式化·1是一种拼接字符串输出样试的手段，更灵活方便\n",
    "        #join拼接只能使用分隔符\n",
    "        #+ 拼接字符串还算方便，但是非字符串需要先转换为字符串才能拼接\n",
    "#在2.5版本之前 只能使用print style 风格的print输出\n",
    "    #print-style formatting 来自于C语言的print函数\n",
    "    #格式要求\n",
    "        #占位符：使用%和格式字符组成，列如 %s、%d等\n",
    "            #s调用str() r会调用repr() 所有对象都可以被这两个转换、\n",
    "        #占位符中还可以插入修饰字符，列如%03d表示打印3个位置 ，不够前面补零\n",
    "        #format % values, 格式字符串和被格式的值之间使用%分割\n",
    "        #values只能是一个对象，或是一个和格式字符串占位符数目相等的元祖，或者一个字典"
   ]
  },
  {
   "cell_type": "code",
   "execution_count": null,
   "metadata": {},
   "outputs": [],
   "source": []
  },
  {
   "cell_type": "code",
   "execution_count": null,
   "metadata": {},
   "outputs": [],
   "source": []
  },
  {
   "cell_type": "code",
   "execution_count": null,
   "metadata": {},
   "outputs": [],
   "source": []
  },
  {
   "cell_type": "code",
   "execution_count": null,
   "metadata": {},
   "outputs": [],
   "source": []
  },
  {
   "cell_type": "code",
   "execution_count": null,
   "metadata": {},
   "outputs": [],
   "source": []
  },
  {
   "cell_type": "code",
   "execution_count": null,
   "metadata": {},
   "outputs": [],
   "source": []
  },
  {
   "cell_type": "code",
   "execution_count": null,
   "metadata": {},
   "outputs": [],
   "source": []
  },
  {
   "cell_type": "code",
   "execution_count": null,
   "metadata": {},
   "outputs": [],
   "source": []
  },
  {
   "cell_type": "code",
   "execution_count": null,
   "metadata": {},
   "outputs": [],
   "source": []
  },
  {
   "cell_type": "code",
   "execution_count": null,
   "metadata": {},
   "outputs": [],
   "source": []
  }
 ],
 "metadata": {
  "kernelspec": {
   "display_name": "Python 3",
   "language": "python",
   "name": "python3"
  },
  "language_info": {
   "codemirror_mode": {
    "name": "ipython",
    "version": 3
   },
   "file_extension": ".py",
   "mimetype": "text/x-python",
   "name": "python",
   "nbconvert_exporter": "python",
   "pygments_lexer": "ipython3",
   "version": "3.7.1"
  }
 },
 "nbformat": 4,
 "nbformat_minor": 2
}
