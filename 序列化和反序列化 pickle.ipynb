{
 "cells": [
  {
   "cell_type": "code",
   "execution_count": 3,
   "metadata": {},
   "outputs": [
    {
     "name": "stdout",
     "output_type": "stream",
     "text": [
      "b'\\x80\\x03c__main__\\nAAA\\nq\\x00)\\x81q\\x01}q\\x02X\\x03\\x00\\x00\\x00tttq\\x03X\\x03\\x00\\x00\\x00abcq\\x04sb.'\n"
     ]
    }
   ],
   "source": [
    "import pickle\n",
    "\n",
    "class AAA:\n",
    "    def __init__(self):\n",
    "        self.ttt='abc'\n",
    "    def show(self):\n",
    "        print('abc')\n",
    "a1=AAA()        \n",
    "filename='test.dump'\n",
    "\n",
    "with open(filename,'wb') as f:\n",
    "    n=pickle.dumps(a1)\n",
    "    print(n)\n",
    "#将类序列化为字节流"
   ]
  },
  {
   "cell_type": "code",
   "execution_count": 4,
   "metadata": {},
   "outputs": [],
   "source": [
    "import pickle\n",
    "\n",
    "class AAA:\n",
    "    def __init__(self):\n",
    "        self.ttt='abc'\n",
    "    def show(self):\n",
    "        print('abc')\n",
    "a1='AAA()     '  \n",
    "b='abc'\n",
    "filename='test.dump'\n",
    "\n",
    "with open(filename,'wb') as f:\n",
    "    pickle.dump(b,f)\n",
    "#将内存中的数据序列化至文件内    "
   ]
  },
  {
   "cell_type": "code",
   "execution_count": 5,
   "metadata": {},
   "outputs": [
    {
     "name": "stdout",
     "output_type": "stream",
     "text": [
      "�\u0003X\u0003\u0000\u0000\u0000abcq\u0000."
     ]
    }
   ],
   "source": [
    "cat test.dump"
   ]
  },
  {
   "cell_type": "code",
   "execution_count": 7,
   "metadata": {},
   "outputs": [
    {
     "name": "stdout",
     "output_type": "stream",
     "text": [
      "abc\n"
     ]
    }
   ],
   "source": [
    "\n",
    "with open(filename,'rb') as f:\n",
    "    n=pickle.load(f)\n",
    "    print(n)\n",
    "#将文件中的对象"
   ]
  },
  {
   "cell_type": "code",
   "execution_count": null,
   "metadata": {},
   "outputs": [],
   "source": []
  },
  {
   "cell_type": "code",
   "execution_count": null,
   "metadata": {},
   "outputs": [],
   "source": []
  },
  {
   "cell_type": "code",
   "execution_count": null,
   "metadata": {},
   "outputs": [],
   "source": []
  },
  {
   "cell_type": "code",
   "execution_count": null,
   "metadata": {},
   "outputs": [],
   "source": []
  }
 ],
 "metadata": {
  "kernelspec": {
   "display_name": "Python 3",
   "language": "python",
   "name": "python3"
  },
  "language_info": {
   "codemirror_mode": {
    "name": "ipython",
    "version": 3
   },
   "file_extension": ".py",
   "mimetype": "text/x-python",
   "name": "python",
   "nbconvert_exporter": "python",
   "pygments_lexer": "ipython3",
   "version": "3.7.1"
  }
 },
 "nbformat": 4,
 "nbformat_minor": 2
}
