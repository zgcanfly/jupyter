{
 "cells": [
  {
   "cell_type": "code",
   "execution_count": null,
   "metadata": {},
   "outputs": [],
   "source": [
    "#生成器generator\n",
    "    #生成器指的是生成器对象，可以由生成器表达式得到，也可以使用yield关键字得到一个生成器\n",
    "        #函数，调用这个函数得到一个生成器对象\n",
    "    #函数体重包含yield语句的函数，返回生成器对象\n",
    "    #生成器对象，是一个可迭代对象，是一个迭代器\n",
    "    #生成器对象，是延迟计算，惰性求值"
   ]
  },
  {
   "cell_type": "code",
   "execution_count": 15,
   "metadata": {},
   "outputs": [
    {
     "name": "stdout",
     "output_type": "stream",
     "text": [
      "<class 'function'>\n"
     ]
    }
   ],
   "source": [
    "def inc():\n",
    "    for i in range(5):\n",
    "        yield i\n",
    "print(type(inc))"
   ]
  },
  {
   "cell_type": "code",
   "execution_count": 3,
   "metadata": {},
   "outputs": [
    {
     "name": "stdout",
     "output_type": "stream",
     "text": [
      "<class 'generator'>\n"
     ]
    }
   ],
   "source": [
    "print(type(inc()))"
   ]
  },
  {
   "cell_type": "code",
   "execution_count": 12,
   "metadata": {},
   "outputs": [
    {
     "name": "stdout",
     "output_type": "stream",
     "text": [
      "<class 'generator'>\n"
     ]
    }
   ],
   "source": [
    "x=inc()\n",
    "print(type(x))"
   ]
  },
  {
   "cell_type": "code",
   "execution_count": 8,
   "metadata": {},
   "outputs": [
    {
     "name": "stdout",
     "output_type": "stream",
     "text": [
      "3\n"
     ]
    }
   ],
   "source": [
    "print(next(x))"
   ]
  },
  {
   "cell_type": "code",
   "execution_count": 13,
   "metadata": {},
   "outputs": [
    {
     "name": "stdout",
     "output_type": "stream",
     "text": [
      "0 *\n",
      "1 *\n",
      "2 *\n",
      "3 *\n",
      "4 *\n"
     ]
    }
   ],
   "source": [
    "for m in x:\n",
    "    print(m,'*')"
   ]
  },
  {
   "cell_type": "code",
   "execution_count": 14,
   "metadata": {},
   "outputs": [],
   "source": [
    "for m in x:\n",
    "    print(m,'**')"
   ]
  },
  {
   "cell_type": "code",
   "execution_count": 16,
   "metadata": {},
   "outputs": [
    {
     "name": "stdout",
     "output_type": "stream",
     "text": [
      "0\n",
      "1\n",
      "2\n",
      "3\n",
      "4\n"
     ]
    }
   ],
   "source": [
    "for m in inc():\n",
    "    print(m)"
   ]
  },
  {
   "cell_type": "code",
   "execution_count": 17,
   "metadata": {},
   "outputs": [],
   "source": [
    "y=(i for i in range(5))"
   ]
  },
  {
   "cell_type": "code",
   "execution_count": 18,
   "metadata": {},
   "outputs": [
    {
     "data": {
      "text/plain": [
       "generator"
      ]
     },
     "execution_count": 18,
     "metadata": {},
     "output_type": "execute_result"
    }
   ],
   "source": [
    "type(y)"
   ]
  },
  {
   "cell_type": "code",
   "execution_count": null,
   "metadata": {},
   "outputs": [],
   "source": [
    "#生成器函数等价于生成器表达式，只不过生成器函数可以更加复杂"
   ]
  },
  {
   "cell_type": "code",
   "execution_count": 25,
   "metadata": {},
   "outputs": [],
   "source": [
    "def gen():\n",
    "    print(\"node 1\")\n",
    "    yield 1\n",
    "    print(\"node 2\")\n",
    "    yield 2\n",
    "    print(\"node 3\")\n",
    "    return 3\n"
   ]
  },
  {
   "cell_type": "code",
   "execution_count": 29,
   "metadata": {},
   "outputs": [
    {
     "name": "stdout",
     "output_type": "stream",
     "text": [
      "node 1\n"
     ]
    },
    {
     "data": {
      "text/plain": [
       "1"
      ]
     },
     "execution_count": 29,
     "metadata": {},
     "output_type": "execute_result"
    }
   ],
   "source": [
    "next(gen())"
   ]
  },
  {
   "cell_type": "code",
   "execution_count": 21,
   "metadata": {},
   "outputs": [
    {
     "name": "stdout",
     "output_type": "stream",
     "text": [
      "node 1\n"
     ]
    },
    {
     "data": {
      "text/plain": [
       "1"
      ]
     },
     "execution_count": 21,
     "metadata": {},
     "output_type": "execute_result"
    }
   ],
   "source": [
    "g=gen()\n",
    "next(g)"
   ]
  },
  {
   "cell_type": "code",
   "execution_count": 22,
   "metadata": {},
   "outputs": [
    {
     "name": "stdout",
     "output_type": "stream",
     "text": [
      "node 2\n"
     ]
    },
    {
     "data": {
      "text/plain": [
       "2"
      ]
     },
     "execution_count": 22,
     "metadata": {},
     "output_type": "execute_result"
    }
   ],
   "source": [
    "next(g)"
   ]
  },
  {
   "cell_type": "code",
   "execution_count": 24,
   "metadata": {},
   "outputs": [
    {
     "data": {
      "text/plain": [
       "'end'"
      ]
     },
     "execution_count": 24,
     "metadata": {},
     "output_type": "execute_result"
    }
   ],
   "source": [
    "next(g,\"end\")"
   ]
  },
  {
   "cell_type": "code",
   "execution_count": null,
   "metadata": {},
   "outputs": [],
   "source": [
    "#生成器函数\n",
    "    #包含yield语句的生成器函数生成 生成器对象的时候，生成器函数的函数体不会立即执行\n",
    "    #next(generator)会从函数的当前位置向后执行到之后碰到的第一个yield语句，会弹出值，并暂停函数执行\n",
    "    #再次调用next函数，和上一条一样的处理\n",
    "    #没有多余的yield语句能被执行，继续调用next函数，会抛出StopIteration异常"
   ]
  },
  {
   "cell_type": "code",
   "execution_count": 2,
   "metadata": {},
   "outputs": [
    {
     "name": "stdout",
     "output_type": "stream",
     "text": [
      "1\n"
     ]
    }
   ],
   "source": [
    "def counter():\n",
    "    i=0\n",
    "    while True:\n",
    "        i +=1\n",
    "        yield i\n",
    "        \n",
    "def inc(c):\n",
    "    return next(c)\n",
    "\n",
    "c=counter()\n",
    "print(inc(c))"
   ]
  },
  {
   "cell_type": "code",
   "execution_count": 3,
   "metadata": {},
   "outputs": [
    {
     "name": "stdout",
     "output_type": "stream",
     "text": [
      "2\n"
     ]
    }
   ],
   "source": [
    "print(inc(c))"
   ]
  },
  {
   "cell_type": "code",
   "execution_count": 4,
   "metadata": {},
   "outputs": [
    {
     "name": "stdout",
     "output_type": "stream",
     "text": [
      "1\n",
      "1\n",
      "1\n"
     ]
    }
   ],
   "source": [
    "def counter():\n",
    "    i=0\n",
    "    while True:\n",
    "        i +=1\n",
    "        yield i\n",
    "        \n",
    "def inc(c):\n",
    "    c=counter()\n",
    "    return next(c)\n",
    "\n",
    "\n",
    "print(inc(c))\n",
    "print(inc(c))\n",
    "print(inc(c))"
   ]
  },
  {
   "cell_type": "code",
   "execution_count": 8,
   "metadata": {},
   "outputs": [
    {
     "name": "stdout",
     "output_type": "stream",
     "text": [
      "1\n",
      "2\n"
     ]
    }
   ],
   "source": [
    "#计数器\n",
    "def inc():\n",
    "    def counter():\n",
    "        i=0\n",
    "        while True:\n",
    "            i +=1\n",
    "            yield i\n",
    "    c= counter()\n",
    "    return  lambda:next(c) #单行的函数建议使用lambda\n",
    "foo =inc()\n",
    "print(foo())\n",
    "print(foo())"
   ]
  },
  {
   "cell_type": "code",
   "execution_count": 9,
   "metadata": {},
   "outputs": [
    {
     "name": "stdout",
     "output_type": "stream",
     "text": [
      "1\n",
      "2\n"
     ]
    }
   ],
   "source": [
    "#相当于上面的函数 有闭包\n",
    "def inc():\n",
    "    def counter():\n",
    "        i=0\n",
    "        while True:\n",
    "            i +=1\n",
    "            yield i\n",
    "            \n",
    "    c= counter()\n",
    "    \n",
    "    def _inc():\n",
    "        return next(c)\n",
    "    return _inc\n",
    "\n",
    "foo =inc()\n",
    "\n",
    "print(foo())\n",
    "print(foo())"
   ]
  },
  {
   "cell_type": "code",
   "execution_count": 10,
   "metadata": {},
   "outputs": [
    {
     "name": "stdout",
     "output_type": "stream",
     "text": [
      "573147844013817084101\n"
     ]
    }
   ],
   "source": [
    "#处理递归问题\n",
    "def fib():\n",
    "    x =0\n",
    "    y=1\n",
    "    while True:\n",
    "        yield  y\n",
    "        x,y =y,x+y                               \n",
    "        \n",
    "foo=fib()\n",
    "\n",
    "for _  in range(100):\n",
    "    next(foo)\n",
    "print(next(foo))"
   ]
  },
  {
   "cell_type": "code",
   "execution_count": 13,
   "metadata": {},
   "outputs": [
    {
     "name": "stdout",
     "output_type": "stream",
     "text": [
      "0 1 1 2 3 5 "
     ]
    }
   ],
   "source": [
    "pre=0\n",
    "cur=1\n",
    "print(pre,cur,end=' ')\n",
    "\n",
    "def fib(n,pre=0,cur=1):\n",
    "    pre,cur=cur,pre+cur\n",
    "    print(cur,end=' ')\n",
    "    if n==2:\n",
    "        return\n",
    "    fib(n-1,pre,cur)\n",
    "\n",
    "fib(5)"
   ]
  },
  {
   "cell_type": "code",
   "execution_count": null,
   "metadata": {},
   "outputs": [],
   "source": []
  },
  {
   "cell_type": "code",
   "execution_count": null,
   "metadata": {},
   "outputs": [],
   "source": [
    "#协程coroutine\n",
    "    #生成器的高级用法\n",
    "    #比进程、县城轻量级\n",
    "    #是在用户空间调度函数的一种实现\n",
    "    #python3 asyncio就是协程实现、已经加入标准库\n",
    "    #python3.5使用async、await关键字直接原生支持协程\n",
    "    #协程调度器实现思路\n",
    "        #有两个生成器A、B\n",
    "        #next（A）后、A执行到了yield语句暂停、然后去执行next(B)、B执行到yield后再次调用next（A）周而复始，就实现了调度的效果\n",
    "        #可以引入调度的策略来实现切换的方式\n",
    "    #协程是一种非抢占式调度"
   ]
  },
  {
   "cell_type": "code",
   "execution_count": 1,
   "metadata": {},
   "outputs": [
    {
     "name": "stdout",
     "output_type": "stream",
     "text": [
      "0\n",
      "1\n",
      "2\n"
     ]
    }
   ],
   "source": [
    "#yield from \n",
    "#举例\n",
    "def inc():\n",
    "    for x in range(100):\n",
    "        yield x\n",
    "        \n",
    "foo = inc()\n",
    "print(next(foo))\n",
    "print(next(foo))\n",
    "print(next(foo))"
   ]
  },
  {
   "cell_type": "code",
   "execution_count": 2,
   "metadata": {},
   "outputs": [
    {
     "name": "stdout",
     "output_type": "stream",
     "text": [
      "0\n",
      "1\n",
      "2\n"
     ]
    }
   ],
   "source": [
    "#等价于下面的代码\n",
    "def inc():\n",
    "    yield from range(100)  #提供的一种简写方式\n",
    "\n",
    "foo =  inc()\n",
    "\n",
    "print(next(foo))\n",
    "print(next(foo))\n",
    "print(next(foo))"
   ]
  },
  {
   "cell_type": "code",
   "execution_count": 4,
   "metadata": {},
   "outputs": [
    {
     "name": "stdout",
     "output_type": "stream",
     "text": [
      "0\n",
      "1\n",
      "2\n"
     ]
    }
   ],
   "source": [
    "#yield from 是python3.3出现的新的语法\n",
    "#yield from iterable 是 for item in iterable: yield item形式的语法糖\n",
    "    #从可迭代对象中一个个拿元素\n",
    "def counter(n): #生成器、迭代器\n",
    "    for x in range(n):\n",
    "        yield x\n",
    "def inc(n):\n",
    "    yield from counter(n)\n",
    "\n",
    "foo=inc(10)\n",
    "print(next(foo))\n",
    "print(next(foo))\n",
    "print(next(foo))"
   ]
  },
  {
   "cell_type": "code",
   "execution_count": null,
   "metadata": {},
   "outputs": [],
   "source": []
  },
  {
   "cell_type": "code",
   "execution_count": null,
   "metadata": {},
   "outputs": [],
   "source": [
    "#作业                 把一个字典扁平化\n",
    "    #原字典{'a':{'b':1,'c':2},'d':{'e':3,'f':{'g':4}}}"
   ]
  },
  {
   "cell_type": "code",
   "execution_count": null,
   "metadata": {},
   "outputs": [],
   "source": []
  },
  {
   "cell_type": "code",
   "execution_count": null,
   "metadata": {},
   "outputs": [],
   "source": [
    "#自我实现Base64编码\n",
    "    #要求自己shi xian"
   ]
  }
 ],
 "metadata": {
  "kernelspec": {
   "display_name": "Python 3",
   "language": "python",
   "name": "python3"
  },
  "language_info": {
   "codemirror_mode": {
    "name": "ipython",
    "version": 3
   },
   "file_extension": ".py",
   "mimetype": "text/x-python",
   "name": "python",
   "nbconvert_exporter": "python",
   "pygments_lexer": "ipython3",
   "version": "3.7.1"
  }
 },
 "nbformat": 4,
 "nbformat_minor": 2
}
