{
 "cells": [
  {
   "cell_type": "code",
   "execution_count": null,
   "metadata": {},
   "outputs": [],
   "source": []
  },
  {
   "cell_type": "code",
   "execution_count": 2,
   "metadata": {},
   "outputs": [
    {
     "name": "stdout",
     "output_type": "stream",
     "text": [
      ">>python\n",
      "I’m python\n",
      ">>ls\n",
      "I'm ls\n",
      ">>a\n",
      "未知命令\n",
      ">>b\n",
      "未知命令\n",
      ">>quit\n"
     ]
    }
   ],
   "source": [
    "cmds={}\n",
    "def reg(c):\n",
    "    def _reg(fn):\n",
    "        cmds[c]=fn\n",
    "        return fn\n",
    "    return _reg\n",
    "\n",
    "def dispatcher():\n",
    "    def default_func():\n",
    "        print('未知命令')\n",
    "    while True:\n",
    "        cmd= input('>>').strip()\n",
    "        if cmd=='quit':\n",
    "            break\n",
    "        cmds.get(cmd,default_func)()\n",
    "        \n",
    "@reg('ls') #ls=reg('ls')(ls)\n",
    "def ls():\n",
    "    print(\"I'm ls\")\n",
    "     \n",
    "@reg('python')\n",
    "def python():\n",
    "    print('I’m python')\n",
    "    \n",
    "dispatcher()"
   ]
  },
  {
   "cell_type": "code",
   "execution_count": 3,
   "metadata": {},
   "outputs": [
    {
     "name": "stdout",
     "output_type": "stream",
     "text": [
      ">>ls\n",
      "I'm ls\n",
      ">>quit\n"
     ]
    }
   ],
   "source": [
    "def cmd_dispatcher():\n",
    "    cmds={}\n",
    "    def reg(c):\n",
    "        def _reg(fn):\n",
    "            cmds[c]=fn\n",
    "            return fn\n",
    "        return _reg\n",
    "\n",
    "    def disp():\n",
    "        def default_func():\n",
    "            print('未知命令')\n",
    "        while True:\n",
    "            cmd= input('>>').strip()\n",
    "            if cmd=='quit':\n",
    "                break\n",
    "            cmds.get(cmd,default_func)()\n",
    "    return reg,disp\n",
    "\n",
    "reg,dispatcher=cmd_dispatcher()\n",
    "\n",
    "@reg('ls') #ls=reg('ls')(ls)\n",
    "def ls():\n",
    "    print(\"I'm ls\")\n",
    "     \n",
    "@reg('python')\n",
    "def python():\n",
    "    print('I’m python')\n",
    "    \n",
    "dispatcher()"
   ]
  },
  {
   "cell_type": "code",
   "execution_count": null,
   "metadata": {},
   "outputs": [],
   "source": []
  },
  {
   "cell_type": "code",
   "execution_count": null,
   "metadata": {},
   "outputs": [],
   "source": []
  },
  {
   "cell_type": "code",
   "execution_count": null,
   "metadata": {},
   "outputs": [],
   "source": []
  },
  {
   "cell_type": "code",
   "execution_count": null,
   "metadata": {},
   "outputs": [],
   "source": []
  },
  {
   "cell_type": "code",
   "execution_count": null,
   "metadata": {},
   "outputs": [],
   "source": []
  }
 ],
 "metadata": {
  "kernelspec": {
   "display_name": "Python 3",
   "language": "python",
   "name": "python3"
  },
  "language_info": {
   "codemirror_mode": {
    "name": "ipython",
    "version": 3
   },
   "file_extension": ".py",
   "mimetype": "text/x-python",
   "name": "python",
   "nbconvert_exporter": "python",
   "pygments_lexer": "ipython3",
   "version": "3.7.1"
  }
 },
 "nbformat": 4,
 "nbformat_minor": 2
}
