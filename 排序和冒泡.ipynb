{
 "cells": [
  {
   "cell_type": "code",
   "execution_count": 9,
   "metadata": {},
   "outputs": [
    {
     "name": "stdout",
     "output_type": "stream",
     "text": [
      "Please input a number: 1\n",
      "Please input a number: 3\n",
      "Please input a number: 2\n",
      "[1, 2, 3]\n"
     ]
    }
   ],
   "source": [
    "#排序法则\n",
    "#一、\n",
    "\n",
    "list=[]\n",
    "for i in range(3):\n",
    "    num=int(input('Please input a number: '))\n",
    "    list.append(num)\n",
    "list.sort()  #使用自身的sort排序\n",
    "\n",
    "print(list)\n",
    "    "
   ]
  },
  {
   "cell_type": "code",
   "execution_count": 18,
   "metadata": {},
   "outputs": [
    {
     "name": "stdout",
     "output_type": "stream",
     "text": [
      "Please input a number: 1\n",
      "Please input a number: 5\n",
      "Please input a number: 2\n",
      "[1, 2, 5]\n"
     ]
    }
   ],
   "source": [
    "#二、\n",
    "list=[]\n",
    "nlist=[]\n",
    "for i in range(3):\n",
    "    num=int(input('Please input a number: '))\n",
    "    list.append(num)\n",
    "while list:\n",
    "    nnum=min(list)  #使用最小函数取值赋给新列表\n",
    "\n",
    "    nlist.append(nnum)\n",
    "    list.remove(nnum)\n",
    "print(nlist)\n",
    "    "
   ]
  },
  {
   "cell_type": "code",
   "execution_count": 17,
   "metadata": {},
   "outputs": [
    {
     "name": "stdout",
     "output_type": "stream",
     "text": [
      "[0, 1, 2, 3]\n"
     ]
    }
   ],
   "source": [
    "#冒泡排序\n",
    "\n",
    "lst = [1,3,2,0]\n",
    "length = len(lst)\n",
    "\n",
    "for i in range(length):\n",
    "    for j in range(length -1 -i):\n",
    "        if lst[j]> lst[j+1]:\n",
    "#老方法\n",
    "#            tmp=lst[j]\n",
    "#            lst[j+1]=tmp\n",
    "#python换位方法\n",
    "            lst[j],lst[j+1]=lst[j+1],lst[j]\n",
    "    \n",
    "print(lst)"
   ]
  },
  {
   "cell_type": "code",
   "execution_count": 21,
   "metadata": {},
   "outputs": [
    {
     "name": "stdout",
     "output_type": "stream",
     "text": [
      "[1, 2, 3, 4, 5, 6, 7, 9, 8]\n",
      "[1, 2, 3, 4, 5, 6, 7, 8, 9] 1 15\n"
     ]
    }
   ],
   "source": [
    "num_list=[\n",
    "    [1,9,8,5,6,7,4,3,2],\n",
    "    [1,2,3,4,5,6,7,8,9],\n",
    "    [1,2,3,4,5,6,7,9,8]\n",
    "]\n",
    "nums = num_list[2]\n",
    "print(nums)\n",
    "length=len(nums)\n",
    "count_swap=0\n",
    "count=0\n",
    "\n",
    "for i in range(length):\n",
    "    flag = False\n",
    "    for j in range(length-i-1):\n",
    "        count +=1 #总共交换多少次\n",
    "        if nums[j] > nums[j+1]:\n",
    "            nums[j],nums[j+1]=nums[j+1],nums[j]\n",
    "            flag = True\n",
    "            count_swap +=1 #flag为True的次数\n",
    "    if not flag:\n",
    "        break\n",
    "print(nums,count_swap,count)"
   ]
  },
  {
   "cell_type": "code",
   "execution_count": 22,
   "metadata": {},
   "outputs": [
    {
     "name": "stdout",
     "output_type": "stream",
     "text": [
      "[[1, 2, 3, 4, 5, 6, 7, 8, 9], [1, 2, 3, 4, 5, 6, 7, 8, 9], [1, 9, 8, 5, 6, 7, 4, 3, 2]]\n"
     ]
    }
   ],
   "source": [
    "num_list.sort()\n",
    "print(num_list)"
   ]
  },
  {
   "cell_type": "code",
   "execution_count": 23,
   "metadata": {},
   "outputs": [
    {
     "data": {
      "text/plain": [
       "type"
      ]
     },
     "execution_count": 23,
     "metadata": {},
     "output_type": "execute_result"
    }
   ],
   "source": [
    "type(str)"
   ]
  },
  {
   "cell_type": "code",
   "execution_count": null,
   "metadata": {},
   "outputs": [],
   "source": [
    "#冒泡排序总结 \n",
    "\n",
    "#冒泡法需要数据一轮轮比较\n",
    "#可以设定一个标记判断此轮是否有数据交换发生，如果没有发生交换，可以结束排序，如果发生交换，，继续下一轮排序\n",
    "#最差的排序情况是，初始顺序与目标完全相反，遍历次数1,....,n-1之和n(n-1)2\n",
    "#最好的排序情况是，初始顺序与目标顺序完全相同，遍历次数n-1\n",
    "#时间复杂度O(n2)\n"
   ]
  },
  {
   "cell_type": "code",
   "execution_count": null,
   "metadata": {},
   "outputs": [],
   "source": []
  },
  {
   "cell_type": "code",
   "execution_count": null,
   "metadata": {},
   "outputs": [],
   "source": []
  }
 ],
 "metadata": {
  "kernelspec": {
   "display_name": "Python 3",
   "language": "python",
   "name": "python3"
  },
  "language_info": {
   "codemirror_mode": {
    "name": "ipython",
    "version": 3
   },
   "file_extension": ".py",
   "mimetype": "text/x-python",
   "name": "python",
   "nbconvert_exporter": "python",
   "pygments_lexer": "ipython3",
   "version": "3.7.1"
  }
 },
 "nbformat": 4,
 "nbformat_minor": 2
}
