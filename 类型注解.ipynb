{
 "cells": [
  {
   "cell_type": "code",
   "execution_count": null,
   "metadata": {},
   "outputs": [],
   "source": [
    "#增加文档Documention String\n",
    "    #这只是一个惯例，不是强制标准，不能要求程序员已定位函数提供说明文档\n",
    "    #函数定义更新了，文档未必同步更新"
   ]
  },
  {
   "cell_type": "code",
   "execution_count": 1,
   "metadata": {},
   "outputs": [
    {
     "name": "stdout",
     "output_type": "stream",
     "text": [
      "Help on function add in module __main__:\n",
      "\n",
      "add(x, y)\n",
      "    :param x:int\n",
      "    :param y:int\n",
      "    :return:int\n",
      "\n",
      "None\n"
     ]
    }
   ],
   "source": [
    "def add(x,y):\n",
    "    \"\"\"\n",
    "    :param x:int\n",
    "    :param y:int\n",
    "    :return:int\n",
    "    \"\"\"\n",
    "    return x+y\n",
    "print(help(add))"
   ]
  },
  {
   "cell_type": "code",
   "execution_count": null,
   "metadata": {},
   "outputs": [],
   "source": [
    "#函数注解\n",
    "    #python3.5引入\n",
    "    #对函数的参数类型注解\n",
    "    #对函数的返回值类型注解\n",
    "    #只对函数参数做一个铺助的说明，并不对函数参数进行类型检查\n",
    "    #提供给第三方工具，做代码分析，发现隐藏bug\n",
    "    #函数注解的信息，保存在__annotations__属性中\n",
    "#变量注解\n",
    "    #python3.6引入\n",
    "    i:int =3"
   ]
  },
  {
   "cell_type": "code",
   "execution_count": 3,
   "metadata": {},
   "outputs": [],
   "source": [
    "#inspect 模块\n",
    "#signature(callable),获取签名(函数签名包含了一个函数的信息，包含函数名，他的参数类型，它所在的类和名称空间及其信息)\n",
    "\n",
    "import inspect\n",
    "def add(x:int,y:int,*args,**kwargs) -> int: #可变参数 不建议加 int 因为可以收集不同类型参数\n",
    "    return x+y\n",
    "sig=inspect.signature(add)"
   ]
  },
  {
   "cell_type": "code",
   "execution_count": 4,
   "metadata": {},
   "outputs": [
    {
     "data": {
      "text/plain": [
       "<Signature (x: int, y: int, *args, **kwargs) -> int>"
      ]
     },
     "execution_count": 4,
     "metadata": {},
     "output_type": "execute_result"
    }
   ],
   "source": [
    "sig #函数签名"
   ]
  },
  {
   "cell_type": "code",
   "execution_count": 5,
   "metadata": {},
   "outputs": [
    {
     "data": {
      "text/plain": [
       "mappingproxy({'x': <Parameter \"x: int\">,\n",
       "              'y': <Parameter \"y: int\">,\n",
       "              'args': <Parameter \"*args\">,\n",
       "              'kwargs': <Parameter \"**kwargs\">})"
      ]
     },
     "execution_count": 5,
     "metadata": {},
     "output_type": "execute_result"
    }
   ],
   "source": [
    "sig.parameters #提取参数"
   ]
  },
  {
   "cell_type": "code",
   "execution_count": 6,
   "metadata": {},
   "outputs": [
    {
     "data": {
      "text/plain": [
       "mappingproxy"
      ]
     },
     "execution_count": 6,
     "metadata": {},
     "output_type": "execute_result"
    }
   ],
   "source": [
    "type(sig.parameters) #映射代理"
   ]
  },
  {
   "cell_type": "code",
   "execution_count": 7,
   "metadata": {},
   "outputs": [],
   "source": [
    "params=sig.parameters"
   ]
  },
  {
   "cell_type": "code",
   "execution_count": 10,
   "metadata": {},
   "outputs": [
    {
     "data": {
      "text/plain": [
       "int"
      ]
     },
     "execution_count": 10,
     "metadata": {},
     "output_type": "execute_result"
    }
   ],
   "source": [
    "params['x'].annotation"
   ]
  },
  {
   "cell_type": "code",
   "execution_count": 11,
   "metadata": {},
   "outputs": [
    {
     "data": {
      "text/plain": [
       "inspect._empty"
      ]
     },
     "execution_count": 11,
     "metadata": {},
     "output_type": "execute_result"
    }
   ],
   "source": [
    "params['args'].annotation"
   ]
  },
  {
   "cell_type": "code",
   "execution_count": null,
   "metadata": {},
   "outputs": [],
   "source": [
    "params['args'].annotation #不能加*号 *号只是表示有特殊意义"
   ]
  },
  {
   "cell_type": "code",
   "execution_count": 12,
   "metadata": {},
   "outputs": [],
   "source": [
    "#Parameter对象\n",
    "    #保存在元组中，是只读的\n",
    "    #name 参数的名字\n",
    "    #annotation 参数的注解 可能没有定义\n",
    "    #default 参数的缺省值，可能没有定义\n",
    "    #empty 特殊的类 用来标记default属性或者注释annotation属性的空值\n",
    "    #kind 实参如何绑定到形参，就是形参的类型\n",
    "        #POSITIONAL_ONLY 值必须是位置参数提供\n",
    "        #POSITIONAL_OR_KEYWORD 值可以作为关键字或者位置参数提供\n",
    "        #VAR_POSITIONAL 可变位置参数 对应*args\n",
    "        #KEYWORD_OLY keyword-only参数，对应*或者args之后的出现的非可变关键字参数\n",
    "        #VAR_KEYWORD 可变关键字参数，对应**kwargs.\n",
    "        \n",
    "        "
   ]
  },
  {
   "cell_type": "code",
   "execution_count": 3,
   "metadata": {},
   "outputs": [
    {
     "name": "stdout",
     "output_type": "stream",
     "text": [
      "<class 'int'>\n",
      "{'x': <class 'int'>, 'y': <class 'int'>, 'return': <class 'int'>}\n"
     ]
    }
   ],
   "source": [
    "def add(x:int,y:int)->int:\n",
    "    return x+y\n",
    "\n",
    "print(add.__annotations__['x'])\n",
    "print(add.__annotations__)"
   ]
  },
  {
   "cell_type": "code",
   "execution_count": null,
   "metadata": {},
   "outputs": [],
   "source": []
  },
  {
   "cell_type": "code",
   "execution_count": null,
   "metadata": {},
   "outputs": [],
   "source": []
  },
  {
   "cell_type": "code",
   "execution_count": null,
   "metadata": {},
   "outputs": [],
   "source": []
  },
  {
   "cell_type": "code",
   "execution_count": null,
   "metadata": {},
   "outputs": [],
   "source": []
  }
 ],
 "metadata": {
  "kernelspec": {
   "display_name": "Python 3",
   "language": "python",
   "name": "python3"
  },
  "language_info": {
   "codemirror_mode": {
    "name": "ipython",
    "version": 3
   },
   "file_extension": ".py",
   "mimetype": "text/x-python",
   "name": "python",
   "nbconvert_exporter": "python",
   "pygments_lexer": "ipython3",
   "version": "3.7.1"
  }
 },
 "nbformat": 4,
 "nbformat_minor": 2
}
