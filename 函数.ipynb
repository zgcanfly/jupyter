{
 "cells": [
  {
   "cell_type": "code",
   "execution_count": null,
   "metadata": {},
   "outputs": [],
   "source": [
    "#python 的函数没有return语句，隐试会返回一个None值\n",
    "#定义中的参数列表成为形式参数，只是一种符号表达，简称形参\n",
    "\n",
    "#调用\n",
    "    #调用时写的参数是实际参数，是实实在在传入的值，简称实参"
   ]
  },
  {
   "cell_type": "code",
   "execution_count": 1,
   "metadata": {},
   "outputs": [
    {
     "name": "stdout",
     "output_type": "stream",
     "text": [
      "9\n"
     ]
    }
   ],
   "source": [
    "def add(x,y):\n",
    "    result=x+y\n",
    "    return result\n",
    "\n",
    "out=add(4,5)\n",
    "print(out)"
   ]
  },
  {
   "cell_type": "code",
   "execution_count": null,
   "metadata": {},
   "outputs": [],
   "source": [
    "#定义需要在调用前，也就是说调用时，已经被定义过了，否则抛NameError异常\n",
    "#函数是可调用的对象，callable()\n"
   ]
  },
  {
   "cell_type": "code",
   "execution_count": null,
   "metadata": {},
   "outputs": [],
   "source": [
    "#函数参数\n",
    "    #参数调用时传入的参数需要和定义的个数相匹配(可变参数列外)\\\n",
    "    #位置参数\n",
    "        #def f(x,y,z)调用使用f(1,2,3)\n",
    "        #按照参数定义顺序传入实参\n",
    "    #关键字参数\n",
    "        #def d(x,y,z)调用使用f(x=1,y=3,z=5)\n",
    "        #使用形参的名字来出入实参的方式，如果使用形参名字，那么传参顺序就可和定义顺序不同\n",
    "    #传参\n",
    "        #f(z=None,y=10,x=[1])\n",
    "        #f(1,),z=6,y=4.1\n",
    "        #f(y=5,z=6,2)#\n",
    "        #要求位置参数必须在关键字参数之前传入，位置参数是按位置 "
   ]
  },
  {
   "cell_type": "code",
   "execution_count": null,
   "metadata": {},
   "outputs": [],
   "source": []
  },
  {
   "cell_type": "code",
   "execution_count": null,
   "metadata": {},
   "outputs": [],
   "source": []
  },
  {
   "cell_type": "code",
   "execution_count": null,
   "metadata": {},
   "outputs": [],
   "source": []
  },
  {
   "cell_type": "code",
   "execution_count": null,
   "metadata": {},
   "outputs": [],
   "source": []
  },
  {
   "cell_type": "code",
   "execution_count": null,
   "metadata": {},
   "outputs": [],
   "source": []
  },
  {
   "cell_type": "code",
   "execution_count": null,
   "metadata": {},
   "outputs": [],
   "source": []
  },
  {
   "cell_type": "code",
   "execution_count": null,
   "metadata": {},
   "outputs": [],
   "source": []
  },
  {
   "cell_type": "code",
   "execution_count": null,
   "metadata": {},
   "outputs": [],
   "source": []
  },
  {
   "cell_type": "code",
   "execution_count": null,
   "metadata": {},
   "outputs": [],
   "source": []
  },
  {
   "cell_type": "code",
   "execution_count": null,
   "metadata": {},
   "outputs": [],
   "source": []
  },
  {
   "cell_type": "code",
   "execution_count": null,
   "metadata": {},
   "outputs": [],
   "source": []
  }
 ],
 "metadata": {
  "kernelspec": {
   "display_name": "Python 3",
   "language": "python",
   "name": "python3"
  },
  "language_info": {
   "codemirror_mode": {
    "name": "ipython",
    "version": 3
   },
   "file_extension": ".py",
   "mimetype": "text/x-python",
   "name": "python",
   "nbconvert_exporter": "python",
   "pygments_lexer": "ipython3",
   "version": "3.7.1"
  }
 },
 "nbformat": 4,
 "nbformat_minor": 2
}
