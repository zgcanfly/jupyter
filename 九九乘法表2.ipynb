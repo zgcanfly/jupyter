{
 "cells": [
  {
   "cell_type": "code",
   "execution_count": null,
   "metadata": {},
   "outputs": [
    {
     "name": "stdout",
     "output_type": "stream",
     "text": [
      "please input a number2\n",
      "max: 2\n",
      "please input a number3\n",
      "max: 3\n",
      "please input a number4\n",
      "max: 4\n",
      "please input a number2\n",
      "max: 4\n",
      "please input a number5\n",
      "max: 5\n"
     ]
    }
   ],
   "source": [
    "#求最大数\n",
    "max=0\n",
    "Contunin=True\n",
    "while Contunin:\n",
    "    a=int(input(\"please input a number\"))\n",
    "    if a>max:\n",
    "        max=a\n",
    "    print(\"max:\",max)"
   ]
  },
  {
   "cell_type": "code",
   "execution_count": 15,
   "metadata": {},
   "outputs": [
    {
     "name": "stdout",
     "output_type": "stream",
     "text": [
      "1x1=1 \n",
      "1x2=2 2x2=4 \n",
      "1x3=3 2x3=6 3x3=9 \n",
      "1x4=4 2x4=8 3x4=12 4x4=16 \n",
      "1x5=5 2x5=10 3x5=15 4x5=20 5x5=25 \n",
      "1x6=6 2x6=12 3x6=18 4x6=24 5x6=30 6x6=36 \n",
      "1x7=7 2x7=14 3x7=21 4x7=28 5x7=35 6x7=42 7x7=49 \n",
      "1x8=8 2x8=16 3x8=24 4x8=32 5x8=40 6x8=48 7x8=56 8x8=64 \n",
      "1x9=9 2x9=18 3x9=27 4x9=36 5x9=45 6x9=54 7x9=63 8x9=72 9x9=81 \n"
     ]
    }
   ],
   "source": [
    "# 99乘法表\n",
    "for i in range(1,10):\n",
    "    s=\"\"\n",
    "    for j in range(1,10):\n",
    "        if j< i+1:\n",
    "            s += str(j)+'x'+str(i)+'='+str(i*j)+' '\n",
    "    print(s)"
   ]
  },
  {
   "cell_type": "code",
   "execution_count": 16,
   "metadata": {},
   "outputs": [
    {
     "name": "stdout",
     "output_type": "stream",
     "text": [
      "Help on built-in function print in module builtins:\n",
      "\n",
      "print(...)\n",
      "    print(value, ..., sep=' ', end='\\n', file=sys.stdout, flush=False)\n",
      "    \n",
      "    Prints the values to a stream, or to sys.stdout by default.\n",
      "    Optional keyword arguments:\n",
      "    file:  a file-like object (stream); defaults to the current sys.stdout.\n",
      "    sep:   string inserted between values, default a space.\n",
      "    end:   string appended after the last value, default a newline.\n",
      "    flush: whether to forcibly flush the stream.\n",
      "\n"
     ]
    }
   ],
   "source": [
    "help(print)"
   ]
  },
  {
   "cell_type": "code",
   "execution_count": 23,
   "metadata": {},
   "outputs": [
    {
     "name": "stdout",
     "output_type": "stream",
     "text": [
      "12\n",
      "1@2\n",
      "1 2-------\n"
     ]
    }
   ],
   "source": [
    "#加sep 可以将，换成想要的分隔符\n",
    "print(1,2,sep='')\n",
    "print(1,2,sep='@')\n",
    "#end为空不换行\n",
    "print(1,2,end='')\n",
    "print(\"-------\")"
   ]
  },
  {
   "cell_type": "code",
   "execution_count": 25,
   "metadata": {},
   "outputs": [
    {
     "name": "stdout",
     "output_type": "stream",
     "text": [
      "1x1=1\t\n",
      "1x2=2\t2x2=4\t\n",
      "1x3=3\t2x3=6\t3x3=9\t\n",
      "1x4=4\t2x4=8\t3x4=12\t4x4=16\t\n",
      "1x5=5\t2x5=10\t3x5=15\t4x5=20\t5x5=25\t\n",
      "1x6=6\t2x6=12\t3x6=18\t4x6=24\t5x6=30\t6x6=36\t\n",
      "1x7=7\t2x7=14\t3x7=21\t4x7=28\t5x7=35\t6x7=42\t7x7=49\t\n",
      "1x8=8\t2x8=16\t3x8=24\t4x8=32\t5x8=40\t6x8=48\t7x8=56\t8x8=64\t\n",
      "1x9=9\t2x9=18\t3x9=27\t4x9=36\t5x9=45\t6x9=54\t7x9=63\t8x9=72\t9x9=81\t\n"
     ]
    }
   ],
   "source": [
    "#简化版99乘法表\n",
    "for i in range(1,10):\n",
    "    for j in range(1,i+1):\n",
    "        print(str(j) +'x'+str(i)+'='+str(i*j),end='\\t')\n",
    "    print() #换行"
   ]
  },
  {
   "cell_type": "code",
   "execution_count": 30,
   "metadata": {},
   "outputs": [
    {
     "name": "stdout",
     "output_type": "stream",
     "text": [
      "1 x 1 = 1   \n",
      "1 x 2 = 2   2 x 2 = 4   \n",
      "1 x 3 = 3   2 x 3 = 6   3 x 3 = 9   \n",
      "1 x 4 = 4   2 x 4 = 8   3 x 4 = 12   4 x 4 = 16   \n",
      "1 x 5 = 5   2 x 5 = 10   3 x 5 = 15   4 x 5 = 20   5 x 5 = 25   \n",
      "1 x 6 = 6   2 x 6 = 12   3 x 6 = 18   4 x 6 = 24   5 x 6 = 30   6 x 6 = 36   \n",
      "1 x 7 = 7   2 x 7 = 14   3 x 7 = 21   4 x 7 = 28   5 x 7 = 35   6 x 7 = 42   7 x 7 = 49   \n",
      "1 x 8 = 8   2 x 8 = 16   3 x 8 = 24   4 x 8 = 32   5 x 8 = 40   6 x 8 = 48   7 x 8 = 56   8 x 8 = 64   \n",
      "1 x 9 = 9   2 x 9 = 18   3 x 9 = 27   4 x 9 = 36   5 x 9 = 45   6 x 9 = 54   7 x 9 = 63   8 x 9 = 72   9 x 9 = 81   \n"
     ]
    }
   ],
   "source": [
    "for i in range(1,10):\n",
    "    for j  in range(1,i+1):\n",
    "        print(j,'x',i,'=',i*j,end='   ')\n",
    "    print()"
   ]
  },
  {
   "cell_type": "code",
   "execution_count": null,
   "metadata": {},
   "outputs": [],
   "source": []
  },
  {
   "cell_type": "code",
   "execution_count": 36,
   "metadata": {},
   "outputs": [
    {
     "name": "stdout",
     "output_type": "stream",
     "text": [
      "1x1=1\t\n",
      "1x2=2\t2x2=4\t\n",
      "1x3=3\t2x3=6\t3x3=9\t\n",
      "1x4=4\t2x4=8\t3x4=12\t4x4=16\t\n",
      "1x5=5\t2x5=10\t3x5=15\t4x5=20\t5x5=25\t\n",
      "1x6=6\t2x6=12\t3x6=18\t4x6=24\t5x6=30\t6x6=36\t\n",
      "1x7=7\t2x7=14\t3x7=21\t4x7=28\t5x7=35\t6x7=42\t7x7=49\t\n",
      "1x8=8\t2x8=16\t3x8=24\t4x8=32\t5x8=40\t6x8=48\t7x8=56\t8x8=64\t\n",
      "1x9=9\t2x9=18\t3x9=27\t4x9=36\t5x9=45\t6x9=54\t7x9=63\t8x9=72\t9x9=81\t\n"
     ]
    }
   ],
   "source": [
    "#对齐输出\n",
    "for i in range(1,10):\n",
    "    for j  in range(1,i+1):\n",
    "        print('{}x{}={}\\t'.format(j,i,i*j),end=\"\")\n",
    "    print()"
   ]
  },
  {
   "cell_type": "code",
   "execution_count": 38,
   "metadata": {},
   "outputs": [
    {
     "name": "stdout",
     "output_type": "stream",
     "text": [
      "3 2 1\n"
     ]
    }
   ],
   "source": [
    "print(\"{2} {1} {0}\".format(1,2,3)) # {} 中的数字为索引  "
   ]
  },
  {
   "cell_type": "code",
   "execution_count": 43,
   "metadata": {},
   "outputs": [
    {
     "name": "stdout",
     "output_type": "stream",
     "text": [
      "a=12        \n",
      "a=        12\n",
      "a=         3\n"
     ]
    }
   ],
   "source": [
    "print(\"a={:<10}\".format(12)) #向左看齐\n",
    "print(\"a={:>10}\".format(12)) #向右看齐\n",
    "print(\"a={1:>10}\".format(12,3)) #向右看齐,并添加索引"
   ]
  },
  {
   "cell_type": "code",
   "execution_count": 5,
   "metadata": {},
   "outputs": [
    {
     "name": "stdout",
     "output_type": "stream",
     "text": [
      "1\n",
      "1\n",
      "2\n",
      "3\n",
      "5\n",
      "8\n",
      "13\n",
      "21\n",
      "34\n",
      "55\n",
      "89\n"
     ]
    }
   ],
   "source": [
    "#打印100以内的斐波那契数列\n",
    "\n",
    "a=0\n",
    "b=1\n",
    "c=0\n",
    "while b<100:\n",
    "    print(b)\n",
    "    a, b = b, a+b #a=b,b=a+b  封装解构\n",
    "    \n"
   ]
  },
  {
   "cell_type": "code",
   "execution_count": 10,
   "metadata": {},
   "outputs": [
    {
     "name": "stdout",
     "output_type": "stream",
     "text": [
      "1\n",
      "2\n",
      "3\n",
      "5\n",
      "8\n",
      "13\n",
      "21\n",
      "34\n",
      "55\n"
     ]
    }
   ],
   "source": [
    "f0=0\n",
    "f1=1\n",
    "for n in range(1,10):\n",
    "    fn=f1+f0\n",
    "    print(fn)\n",
    "    f0 =f1\n",
    "    f1=fn\n"
   ]
  },
  {
   "cell_type": "code",
   "execution_count": 9,
   "metadata": {},
   "outputs": [
    {
     "name": "stdout",
     "output_type": "stream",
     "text": [
      "0\n",
      "1\n",
      "1\n",
      "2\n",
      "3\n",
      "5\n",
      "8\n",
      "13\n",
      "21\n",
      "34\n",
      "55\n",
      "89\n"
     ]
    }
   ],
   "source": [
    "print(0)\n",
    "print(1)\n",
    "a=0\n",
    "b=1\n",
    "while True:\n",
    "    c = a + b\n",
    "    if c > 100: break #  末尾只有一句可以这么写 但是书写规范不建议\n",
    "    a = b\n",
    "    b = c \n",
    "    print(c)"
   ]
  },
  {
   "cell_type": "code",
   "execution_count": 18,
   "metadata": {},
   "outputs": [
    {
     "name": "stdout",
     "output_type": "stream",
     "text": [
      "573147844013817084101\n"
     ]
    }
   ],
   "source": [
    "# 求101项\n",
    "a=0\n",
    "b=1\n",
    "for i in range(101):\n",
    "    if i == 100:\n",
    "        print(b)\n",
    "    a,b = b,a+b\n"
   ]
  },
  {
   "cell_type": "code",
   "execution_count": null,
   "metadata": {},
   "outputs": [],
   "source": [
    "#求10万以内的所有素数"
   ]
  },
  {
   "cell_type": "code",
   "execution_count": 33,
   "metadata": {},
   "outputs": [],
   "source": [
    "for i in range(100000):\n",
    "    if i&1:\n",
    "        pass\n",
    "        #print(i)"
   ]
  },
  {
   "cell_type": "code",
   "execution_count": 22,
   "metadata": {},
   "outputs": [
    {
     "name": "stdout",
     "output_type": "stream",
     "text": [
      ">>>:100\n",
      "5 7 9 11 11 13 13 15 17 17 17 19 19 19 21 23 23 23 25 25 25 27 29 29 29 29 31 31 31 31 33 35 35 35 37 37 37 37 37 39 41 41 41 41 41 43 43 43 43 43 45 47 47 47 47 47 49 49 49 49 49 51 53 53 53 53 53 53 55 55 55 57 59 59 59 59 59 59 61 61 61 61 61 61 63 65 65 65 67 67 67 67 67 67 67 69 71 71 71 71 71 71 71 73 73 73 73 73 73 73 75 77 77 77 77 77 79 79 79 79 79 79 79 81 83 83 83 83 83 83 83 83 85 85 85 87 89 89 89 89 89 89 89 89 91 91 91 91 91 93 95 95 95 97 97 97 97 97 97 97 97 99 \n"
     ]
    }
   ],
   "source": [
    "num = int(input('>>>:'))\n",
    "strs=''\n",
    "for i in range(2,num):\n",
    "    for c in range(2,int(i**0.5)+1):\n",
    "        if i%c ==0:\n",
    "            break\n",
    "        else:\n",
    "            strs +=str(i)+ ' '\n",
    "print(strs)"
   ]
  },
  {
   "cell_type": "code",
   "execution_count": 31,
   "metadata": {},
   "outputs": [
    {
     "name": "stdout",
     "output_type": "stream",
     "text": [
      "2018-11-13 15:21:56.986816\n",
      "2018-11-13 15:21:58.990539\n",
      "2.003723\n"
     ]
    }
   ],
   "source": [
    "\n",
    "import datetime,time\n",
    "n = datetime.datetime.now()\n",
    "print(n)\n",
    "time.sleep(2)\n",
    "m = datetime.datetime.now()\n",
    "print(m)\n",
    "date=(m-n).total_seconds()\n",
    "print(date)"
   ]
  },
  {
   "cell_type": "code",
   "execution_count": null,
   "metadata": {},
   "outputs": [],
   "source": []
  }
 ],
 "metadata": {
  "kernelspec": {
   "display_name": "Python 3",
   "language": "python",
   "name": "python3"
  },
  "language_info": {
   "codemirror_mode": {
    "name": "ipython",
    "version": 3
   },
   "file_extension": ".py",
   "mimetype": "text/x-python",
   "name": "python",
   "nbconvert_exporter": "python",
   "pygments_lexer": "ipython3",
   "version": "3.7.1"
  }
 },
 "nbformat": 4,
 "nbformat_minor": 2
}
