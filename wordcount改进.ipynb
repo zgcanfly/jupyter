{
 "cells": [
  {
   "cell_type": "code",
   "execution_count": null,
   "metadata": {},
   "outputs": [],
   "source": [
    "#对sample文件进行不区分大小写的单词统计\n",
    "    #要求用户可以排除一些单词的统计\n",
    "    #要求全部代码使用函数封装，调用完成"
   ]
  },
  {
   "cell_type": "code",
   "execution_count": 7,
   "metadata": {
    "scrolled": false
   },
   "outputs": [
    {
     "name": "stdout",
     "output_type": "stream",
     "text": [
      "path 138\n",
      "the 136\n",
      "is 60\n",
      "a 59\n",
      "os 49\n",
      "if 43\n",
      "and 40\n",
      "to 34\n",
      "on 33\n",
      "return 30\n"
     ]
    }
   ],
   "source": [
    "filename='sample'\n",
    "CHARS=set(\"\"\",.[]()-+/\\*&%\\r\\n\\t #$@`\"\"\")\n",
    "ignorewords={'of'}\n",
    "def _makekey(key:str,chars=CHARS):\n",
    "    start=0\n",
    "    for i,c in enumerate(key):\n",
    "        if c in chars:\n",
    "            if start ==i:\n",
    "                start=i+1\n",
    "                continue\n",
    "            #ret.append(key[start:i])\n",
    "            yield key[start:i]\n",
    "            start = i+1\n",
    "    else:\n",
    "        if start< len(key):\n",
    "            #ret.append(key[start:])\n",
    "            yield key[start:]\n",
    "    \n",
    "    #return ret\n",
    "\n",
    "# print(makekey('**os'))    \n",
    "\n",
    "# print(makekey('os.path'))   \n",
    "# for i in  makekey('os.path'):\n",
    "#     print(i)\n",
    "def wordcount(filename,encoding='utf8',ignorewords=None)->dict:\n",
    "    \"\"\"\n",
    "        此函数用于单词统计\n",
    "    \n",
    "    \"\"\"\n",
    "    d={}\n",
    "    with open(filename,encoding=encoding) as f:\n",
    "        for line in f:\n",
    "            for word in map(str.lower,_makekey(line)):\n",
    "                if word in ignorewords:\n",
    "                    pass\n",
    "                else:\n",
    "                    d[word]=d.get(word,0)+1\n",
    "                \n",
    "    return d\n",
    "\n",
    "def top(d:dict,n:int=10):\n",
    "    for i,(k,v) in enumerate(sorted(d.items(),key=lambda item:item[1],reverse=True)):\n",
    "        if i>=n:\n",
    "            break\n",
    "        yield k,v  #交付代码不写print 使用yield就可以\n",
    "# def wordcount(file):\n",
    "#     encoding='utf-8'\n",
    "#     d={}\n",
    "#     with open(file,encoding=encoding) as f:\n",
    "#         for line in f:\n",
    "#             words=line.split() #按空格切\n",
    "#             for wordlist in map(makekey,words):\n",
    "#                 for word in  wordlist: #大小写问题\n",
    "#                     d[word]=d.get(word,0)+1\n",
    "#     #top10\n",
    "#     return sorted(d.items(),key=lambda item:item[1],reverse=True) #sort by counts\n",
    "\n",
    "# wordcount('sample')\n",
    "# for k in d:\n",
    "#     if k.find('path') > -1:\n",
    "#         print(k)\n",
    "for k,v in top(wordcount(filename,ignorewords=ignorewords)):\n",
    "    print(k,v)"
   ]
  },
  {
   "cell_type": "code",
   "execution_count": null,
   "metadata": {},
   "outputs": [],
   "source": []
  },
  {
   "cell_type": "code",
   "execution_count": null,
   "metadata": {},
   "outputs": [],
   "source": [
    "#有一个配置文件test.ini如下，将其转化成json格式文件"
   ]
  },
  {
   "cell_type": "code",
   "execution_count": 20,
   "metadata": {},
   "outputs": [
    {
     "ename": "UnsupportedOperation",
     "evalue": "not readable",
     "output_type": "error",
     "traceback": [
      "\u001b[0;31m---------------------------------------------------------------------------\u001b[0m",
      "\u001b[0;31mUnsupportedOperation\u001b[0m                      Traceback (most recent call last)",
      "\u001b[0;32m<ipython-input-20-5cb953ea9db4>\u001b[0m in \u001b[0;36m<module>\u001b[0;34m\u001b[0m\n\u001b[1;32m     19\u001b[0m \u001b[0;32mwith\u001b[0m \u001b[0mopen\u001b[0m\u001b[0;34m(\u001b[0m\u001b[0mdst\u001b[0m\u001b[0;34m,\u001b[0m\u001b[0;34m'w'\u001b[0m\u001b[0;34m)\u001b[0m \u001b[0;32mas\u001b[0m \u001b[0mf\u001b[0m\u001b[0;34m:\u001b[0m\u001b[0;34m\u001b[0m\u001b[0;34m\u001b[0m\u001b[0m\n\u001b[1;32m     20\u001b[0m     \u001b[0mjson\u001b[0m\u001b[0;34m.\u001b[0m\u001b[0mdump\u001b[0m\u001b[0;34m(\u001b[0m\u001b[0md\u001b[0m\u001b[0;34m,\u001b[0m\u001b[0mf\u001b[0m\u001b[0;34m)\u001b[0m\u001b[0;34m\u001b[0m\u001b[0;34m\u001b[0m\u001b[0m\n\u001b[0;32m---> 21\u001b[0;31m     \u001b[0mjson\u001b[0m\u001b[0;34m.\u001b[0m\u001b[0mload\u001b[0m\u001b[0;34m(\u001b[0m\u001b[0mf\u001b[0m\u001b[0;34m)\u001b[0m\u001b[0;34m\u001b[0m\u001b[0;34m\u001b[0m\u001b[0m\n\u001b[0m",
      "\u001b[0;32m/usr/local/lib/python3.7/json/__init__.py\u001b[0m in \u001b[0;36mload\u001b[0;34m(fp, cls, object_hook, parse_float, parse_int, parse_constant, object_pairs_hook, **kw)\u001b[0m\n\u001b[1;32m    291\u001b[0m     \u001b[0mkwarg\u001b[0m\u001b[0;34m;\u001b[0m \u001b[0motherwise\u001b[0m\u001b[0;31m \u001b[0m\u001b[0;31m`\u001b[0m\u001b[0;31m`\u001b[0m\u001b[0mJSONDecoder\u001b[0m\u001b[0;31m`\u001b[0m\u001b[0;31m`\u001b[0m \u001b[0;32mis\u001b[0m \u001b[0mused\u001b[0m\u001b[0;34m.\u001b[0m\u001b[0;34m\u001b[0m\u001b[0;34m\u001b[0m\u001b[0m\n\u001b[1;32m    292\u001b[0m     \"\"\"\n\u001b[0;32m--> 293\u001b[0;31m     return loads(fp.read(),\n\u001b[0m\u001b[1;32m    294\u001b[0m         \u001b[0mcls\u001b[0m\u001b[0;34m=\u001b[0m\u001b[0mcls\u001b[0m\u001b[0;34m,\u001b[0m \u001b[0mobject_hook\u001b[0m\u001b[0;34m=\u001b[0m\u001b[0mobject_hook\u001b[0m\u001b[0;34m,\u001b[0m\u001b[0;34m\u001b[0m\u001b[0;34m\u001b[0m\u001b[0m\n\u001b[1;32m    295\u001b[0m         \u001b[0mparse_float\u001b[0m\u001b[0;34m=\u001b[0m\u001b[0mparse_float\u001b[0m\u001b[0;34m,\u001b[0m \u001b[0mparse_int\u001b[0m\u001b[0;34m=\u001b[0m\u001b[0mparse_int\u001b[0m\u001b[0;34m,\u001b[0m\u001b[0;34m\u001b[0m\u001b[0;34m\u001b[0m\u001b[0m\n",
      "\u001b[0;31mUnsupportedOperation\u001b[0m: not readable"
     ]
    }
   ],
   "source": [
    "from configparser import ConfigParser\n",
    "import json\n",
    "\n",
    "\n",
    "src='app.ini'\n",
    "dst='app.json'\n",
    "\n",
    "cfg=ConfigParser()\n",
    "cfg.read(src)\n",
    "\n",
    "d={} #嵌套结构 from cfg内部的字典\n",
    "\n",
    "\n",
    "for k,v in cfg.items():\n",
    "#     print(k,type(cfg.items(k)))\n",
    "    \n",
    "    d[k]=dict(cfg.items(k))\n",
    "\n",
    "with open(dst,'w') as f:\n",
    "    json.dump(d,f)\n",
    "    json.load(f)"
   ]
  },
  {
   "cell_type": "code",
   "execution_count": null,
   "metadata": {},
   "outputs": [],
   "source": []
  },
  {
   "cell_type": "code",
   "execution_count": null,
   "metadata": {},
   "outputs": [],
   "source": []
  },
  {
   "cell_type": "code",
   "execution_count": null,
   "metadata": {},
   "outputs": [],
   "source": []
  }
 ],
 "metadata": {
  "kernelspec": {
   "display_name": "Python 3",
   "language": "python",
   "name": "python3"
  },
  "language_info": {
   "codemirror_mode": {
    "name": "ipython",
    "version": 3
   },
   "file_extension": ".py",
   "mimetype": "text/x-python",
   "name": "python",
   "nbconvert_exporter": "python",
   "pygments_lexer": "ipython3",
   "version": "3.7.1"
  }
 },
 "nbformat": 4,
 "nbformat_minor": 2
}
