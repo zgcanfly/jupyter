{
 "cells": [
  {
   "cell_type": "code",
   "execution_count": 17,
   "metadata": {},
   "outputs": [
    {
     "name": "stdout",
     "output_type": "stream",
     "text": [
      ">>> 234564385689723465825629845628456823456234875\n",
      "数字2 出现了7\n",
      "数字3 出现了5\n",
      "数字4 出现了7\n",
      "数字5 出现了8\n",
      "数字6 出现了7\n",
      "数字7 出现了2\n",
      "数字8 出现了7\n",
      "数字9 出现了2\n"
     ]
    }
   ],
   "source": [
    "#统计输入数字每个数字出现的个数\n",
    "num=str(int(input('>>> '))) #排除0前位\n",
    "counter = [0]*10\n",
    "for x in num:\n",
    "    i = int(x)\n",
    "    counter[i] += 1\n",
    "\n",
    "\n",
    "for i in range(len(counter)):\n",
    "    if not counter[i] == 0:\n",
    "        print(\"数字{} 出现了{}\".format(i,counter[i]))"
   ]
  },
  {
   "cell_type": "code",
   "execution_count": 24,
   "metadata": {},
   "outputs": [
    {
     "name": "stdout",
     "output_type": "stream",
     "text": [
      "range(0, 30)\n",
      "数字0 出现了1\n",
      "数字1 出现了1\n",
      "数字2 出现了1\n",
      "数字3 出现了1\n",
      "数字4 出现了1\n",
      "数字5 出现了1\n",
      "数字6 出现了1\n",
      "数字7 出现了1\n",
      "数字8 出现了1\n",
      "数字9 出现了1\n"
     ]
    }
   ],
   "source": [
    "#统计输入数字每个数字出现的个数\n",
    "num=range(30)\n",
    "print(num)\n",
    "counter = [0]*10\n",
    "for x in range(len(counter)):\n",
    "    i = int(x)\n",
    "    counter[i] += 1\n",
    "\n",
    "\n",
    "for i in range(len(counter)):\n",
    "    if not counter[i] == 0:\n",
    "        print(\"数字{} 出现了{}\".format(i,counter[i]))"
   ]
  },
  {
   "cell_type": "code",
   "execution_count": 30,
   "metadata": {},
   "outputs": [],
   "source": [
    "a=range(0,6)"
   ]
  },
  {
   "cell_type": "code",
   "execution_count": 31,
   "metadata": {},
   "outputs": [
    {
     "data": {
      "text/plain": [
       "range(0, 6)"
      ]
     },
     "execution_count": 31,
     "metadata": {},
     "output_type": "execute_result"
    }
   ],
   "source": [
    "a"
   ]
  },
  {
   "cell_type": "code",
   "execution_count": null,
   "metadata": {},
   "outputs": [],
   "source": []
  },
  {
   "cell_type": "code",
   "execution_count": null,
   "metadata": {},
   "outputs": [],
   "source": []
  },
  {
   "cell_type": "code",
   "execution_count": null,
   "metadata": {},
   "outputs": [],
   "source": []
  },
  {
   "cell_type": "code",
   "execution_count": null,
   "metadata": {},
   "outputs": [],
   "source": []
  }
 ],
 "metadata": {
  "kernelspec": {
   "display_name": "Python 3",
   "language": "python",
   "name": "python3"
  },
  "language_info": {
   "codemirror_mode": {
    "name": "ipython",
    "version": 3
   },
   "file_extension": ".py",
   "mimetype": "text/x-python",
   "name": "python",
   "nbconvert_exporter": "python",
   "pygments_lexer": "ipython3",
   "version": "3.7.1"
  }
 },
 "nbformat": 4,
 "nbformat_minor": 2
}
