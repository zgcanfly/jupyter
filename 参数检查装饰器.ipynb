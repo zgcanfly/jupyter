{
 "cells": [
  {
   "cell_type": "code",
   "execution_count": null,
   "metadata": {},
   "outputs": [],
   "source": [
    "#上节回顾\n",
    "    #inspect模块\n",
    "        #功能\n",
    "            #inspect.isfunction(add) 是否是函数\n",
    "            #inspect.ismethod(add) 是否是类的方法\n",
    "            #inspect.isgenerator(add)  是否是生成器对象\n",
    "            #inspect.isgeneratorfunction(add) 是否是生成器函数\n",
    "            #inspect.ismodule(inspect) 是否是模块\n",
    "            #inspect.isbuiltin(print) 是否是内建模块\n",
    "            #还有很多is函数自己需要去看"
   ]
  },
  {
   "cell_type": "code",
   "execution_count": null,
   "metadata": {},
   "outputs": [],
   "source": [
    "#signature(callable)获取签名(可以拿到函数参数 类型 等)"
   ]
  },
  {
   "cell_type": "code",
   "execution_count": 1,
   "metadata": {},
   "outputs": [
    {
     "name": "stdout",
     "output_type": "stream",
     "text": [
      "(x, y: int = 7, *args, **kargs)\n",
      "OrderedDict([('x', <Parameter \"x\">), ('y', <Parameter \"y: int = 7\">), ('args', <Parameter \"*args\">), ('kargs', <Parameter \"**kargs\">)])\n"
     ]
    }
   ],
   "source": [
    "import inspect\n",
    "def add(x,y:int=7,*args,**kargs):\n",
    "    return x+y\n",
    "\n",
    "sig=inspect.signature(add)\n",
    "print(sig)\n",
    "print(sig.parameters)\n",
    "\n",
    "print(sig.return_a)"
   ]
  },
  {
   "cell_type": "code",
   "execution_count": null,
   "metadata": {},
   "outputs": [],
   "source": []
  },
  {
   "cell_type": "code",
   "execution_count": null,
   "metadata": {},
   "outputs": [],
   "source": []
  },
  {
   "cell_type": "code",
   "execution_count": null,
   "metadata": {},
   "outputs": [],
   "source": []
  },
  {
   "cell_type": "code",
   "execution_count": null,
   "metadata": {},
   "outputs": [],
   "source": []
  },
  {
   "cell_type": "code",
   "execution_count": null,
   "metadata": {},
   "outputs": [],
   "source": []
  },
  {
   "cell_type": "code",
   "execution_count": null,
   "metadata": {},
   "outputs": [],
   "source": []
  },
  {
   "cell_type": "code",
   "execution_count": null,
   "metadata": {},
   "outputs": [],
   "source": []
  },
  {
   "cell_type": "code",
   "execution_count": null,
   "metadata": {},
   "outputs": [],
   "source": []
  },
  {
   "cell_type": "code",
   "execution_count": null,
   "metadata": {},
   "outputs": [],
   "source": []
  },
  {
   "cell_type": "code",
   "execution_count": null,
   "metadata": {},
   "outputs": [],
   "source": []
  },
  {
   "cell_type": "code",
   "execution_count": null,
   "metadata": {},
   "outputs": [],
   "source": []
  },
  {
   "cell_type": "code",
   "execution_count": null,
   "metadata": {},
   "outputs": [],
   "source": []
  }
 ],
 "metadata": {
  "kernelspec": {
   "display_name": "Python 3",
   "language": "python",
   "name": "python3"
  },
  "language_info": {
   "codemirror_mode": {
    "name": "ipython",
    "version": 3
   },
   "file_extension": ".py",
   "mimetype": "text/x-python",
   "name": "python",
   "nbconvert_exporter": "python",
   "pygments_lexer": "ipython3",
   "version": "3.7.1"
  }
 },
 "nbformat": 4,
 "nbformat_minor": 2
}
