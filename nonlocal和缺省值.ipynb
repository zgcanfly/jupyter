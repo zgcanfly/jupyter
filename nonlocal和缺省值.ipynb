{
 "cells": [
  {
   "cell_type": "code",
   "execution_count": null,
   "metadata": {},
   "outputs": [],
   "source": [
    "#nonlocal 关键字\n",
    "    #使用了nonlocal关键字,将变量标记为在上级的局部作用域中定义，但不能是全局作用域中定义\n",
    "    \n",
    "    #count是外层函数的局部变量，被内部函数引用\n",
    "    #内部函数使用nonlocal关键字声明count变量在上一级作用域中\n",
    "    #左边代码可以正常使用，且形成闭包\n",
    "    #右边代码不能正常运行，变量a不能在全局作用域中\n",
    "    "
   ]
  },
  {
   "cell_type": "code",
   "execution_count": 1,
   "metadata": {},
   "outputs": [
    {
     "data": {
      "text/plain": [
       "2"
      ]
     },
     "execution_count": 1,
     "metadata": {},
     "output_type": "execute_result"
    }
   ],
   "source": [
    "def counter():\n",
    "    count=0\n",
    "    def inc():\n",
    "        nonlocal count\n",
    "        count +=1\n",
    "        return count\n",
    "    return inc\n",
    "foo=counter()\n",
    "foo()\n",
    "foo()"
   ]
  },
  {
   "cell_type": "code",
   "execution_count": 2,
   "metadata": {},
   "outputs": [
    {
     "ename": "SyntaxError",
     "evalue": "invalid character in identifier (<ipython-input-2-c290b53663f9>, line 4)",
     "output_type": "error",
     "traceback": [
      "\u001b[0;36m  File \u001b[0;32m\"<ipython-input-2-c290b53663f9>\"\u001b[0;36m, line \u001b[0;32m4\u001b[0m\n\u001b[0;31m    a　+=1\u001b[0m\n\u001b[0m     ^\u001b[0m\n\u001b[0;31mSyntaxError\u001b[0m\u001b[0;31m:\u001b[0m invalid character in identifier\n"
     ]
    }
   ],
   "source": [
    "a=50\n",
    "def counter():\n",
    "    nonlocal a #寻找上一级函数中的局部变量　，但不寻找全局变量因为没有上局局部变量所以报错\n",
    "    a　+=1\n",
    "    print(a)\n",
    "    count = 0\n",
    "    def inc():\n",
    "        nonlocal count\n",
    "        count +=1\n",
    "        return count\n",
    "    return inc\n",
    "foo=counter()\n",
    "foo()\n",
    "foo()"
   ]
  },
  {
   "cell_type": "code",
   "execution_count": 4,
   "metadata": {},
   "outputs": [
    {
     "name": "stdout",
     "output_type": "stream",
     "text": [
      "2\n"
     ]
    }
   ],
   "source": [
    "#默认值的作用域\n",
    "def foo(xy=2):  #xy 仅限于函数中\n",
    "    print(xy)\n",
    "foo()"
   ]
  },
  {
   "cell_type": "code",
   "execution_count": 5,
   "metadata": {},
   "outputs": [
    {
     "ename": "NameError",
     "evalue": "name 'xy' is not defined",
     "output_type": "error",
     "traceback": [
      "\u001b[0;31m---------------------------------------------------------------------------\u001b[0m",
      "\u001b[0;31mNameError\u001b[0m                                 Traceback (most recent call last)",
      "\u001b[0;32m<ipython-input-5-f3603995b6f3>\u001b[0m in \u001b[0;36m<module>\u001b[0;34m\u001b[0m\n\u001b[0;32m----> 1\u001b[0;31m \u001b[0mxy\u001b[0m\u001b[0;34m\u001b[0m\u001b[0;34m\u001b[0m\u001b[0m\n\u001b[0m",
      "\u001b[0;31mNameError\u001b[0m: name 'xy' is not defined"
     ]
    }
   ],
   "source": [
    "xy"
   ]
  },
  {
   "cell_type": "code",
   "execution_count": 7,
   "metadata": {},
   "outputs": [
    {
     "name": "stdout",
     "output_type": "stream",
     "text": [
      "[1]\n",
      "[1, 1]\n"
     ]
    }
   ],
   "source": [
    "#默认值举例\n",
    "def foo(xy=[]):\n",
    "    xy.append(1)\n",
    "    print(xy)\n",
    "foo()\n",
    "foo()"
   ]
  },
  {
   "cell_type": "code",
   "execution_count": 8,
   "metadata": {},
   "outputs": [
    {
     "ename": "NameError",
     "evalue": "name 'xy' is not defined",
     "output_type": "error",
     "traceback": [
      "\u001b[0;31m---------------------------------------------------------------------------\u001b[0m",
      "\u001b[0;31mNameError\u001b[0m                                 Traceback (most recent call last)",
      "\u001b[0;32m<ipython-input-8-32dac76a61fb>\u001b[0m in \u001b[0;36m<module>\u001b[0;34m\u001b[0m\n\u001b[0;32m----> 1\u001b[0;31m \u001b[0mprint\u001b[0m\u001b[0;34m(\u001b[0m\u001b[0mxy\u001b[0m\u001b[0;34m)\u001b[0m\u001b[0;34m\u001b[0m\u001b[0;34m\u001b[0m\u001b[0m\n\u001b[0m",
      "\u001b[0;31mNameError\u001b[0m: name 'xy' is not defined"
     ]
    }
   ],
   "source": [
    "print(xy)"
   ]
  },
  {
   "cell_type": "code",
   "execution_count": null,
   "metadata": {},
   "outputs": [],
   "source": [
    "#为什么第二次调用ｆｏｏ函数打印的是［１，１］？\n",
    "    #因为函数也是对象，ｐｙｔｈｏｎ把函数的默认值放在了属性中，这个属性就伴随着这个函数对象的整个生命周期\n",
    "    #查看foo.__defaults__熟悉"
   ]
  },
  {
   "cell_type": "code",
   "execution_count": 9,
   "metadata": {},
   "outputs": [
    {
     "name": "stdout",
     "output_type": "stream",
     "text": [
      "([1, 1],)\n"
     ]
    }
   ],
   "source": [
    "print(foo.__defaults__)"
   ]
  },
  {
   "cell_type": "code",
   "execution_count": 14,
   "metadata": {},
   "outputs": [
    {
     "name": "stdout",
     "output_type": "stream",
     "text": [
      "[1] 140712524803608\n"
     ]
    }
   ],
   "source": [
    "#引用类型例子\n",
    "\n",
    "def foo(xy=[],u='abc',z=123):\n",
    "    xy.append(1)\n",
    "    return xy\n",
    "\n",
    "print(foo(),id(foo))"
   ]
  },
  {
   "cell_type": "code",
   "execution_count": 15,
   "metadata": {},
   "outputs": [
    {
     "name": "stdout",
     "output_type": "stream",
     "text": [
      "[1, 1] ([1, 1], 'abc', 123)\n"
     ]
    }
   ],
   "source": [
    "print(foo(),foo.__defaults__)"
   ]
  },
  {
   "cell_type": "code",
   "execution_count": null,
   "metadata": {},
   "outputs": [],
   "source": []
  },
  {
   "cell_type": "code",
   "execution_count": 16,
   "metadata": {},
   "outputs": [
    {
     "name": "stdout",
     "output_type": "stream",
     "text": [
      "[1, 1, 1] 140712524803608\n"
     ]
    }
   ],
   "source": [
    "print(foo(),id(foo))"
   ]
  },
  {
   "cell_type": "code",
   "execution_count": 17,
   "metadata": {},
   "outputs": [
    {
     "name": "stdout",
     "output_type": "stream",
     "text": [
      "[1, 1, 1, 1] ([1, 1, 1, 1], 'abc', 123)\n"
     ]
    }
   ],
   "source": [
    "print(foo(),foo.__defaults__)"
   ]
  },
  {
   "cell_type": "code",
   "execution_count": null,
   "metadata": {},
   "outputs": [],
   "source": [
    "#函数地址没有变，就是函数这个对象没有变，调用它，他的属性＿＿defaults__中使用元祖保存　所有默认值\n",
    "#ｘｙ默认值是引用类型，引用类型的元素变动，并不是元祖的变化"
   ]
  },
  {
   "cell_type": "code",
   "execution_count": 18,
   "metadata": {},
   "outputs": [
    {
     "name": "stdout",
     "output_type": "stream",
     "text": [
      "('abc', 123)\n",
      "wang xyz 789\n",
      "('abc', 123)\n"
     ]
    }
   ],
   "source": [
    "#非引用类型例子\n",
    "\n",
    "def foo(w,u='abc',z=123):\n",
    "    u='xyz'\n",
    "    z=789\n",
    "    print(w,u,z)\n",
    "print(foo.__defaults__)\n",
    "foo('wang')\n",
    "print(foo.__defaults__)\n",
    "\n",
    "#属性＿defaults__中使用元祖保存所有默认值，它不会因为在函数体内使用了它而发生改变"
   ]
  },
  {
   "cell_type": "code",
   "execution_count": null,
   "metadata": {},
   "outputs": [],
   "source": [
    "#默认值的作用域\n",
    "    #可变类型默认值．如果使用默认值，就可能修改这个默认值\n",
    "    #有时候这个特性是好的，有时候这种特性是不好的，有副作用\n",
    "    #如果做到按需改变呢？　看下面２种方法"
   ]
  },
  {
   "cell_type": "code",
   "execution_count": 22,
   "metadata": {},
   "outputs": [
    {
     "name": "stdout",
     "output_type": "stream",
     "text": [
      "[1]\n",
      "([], 'abc', 123)\n",
      "[1]\n",
      "([], 'abc', 123)\n",
      "[10, 1]\n",
      "([], 'abc', 123)\n",
      "[10, 5, 1]\n",
      "([], 'abc', 123)\n"
     ]
    }
   ],
   "source": [
    "def foo(xy=[],u='abc',z=123):\n",
    "                                #函数体内，不改变默认值\n",
    "    xy=xy[:] #影子拷贝--浅拷贝　　　　　ｘｙ都是传入参数或者默认参数的副本，如果想修改原参数，无能为力\n",
    "    xy.append(1)  \n",
    "    print(xy)\n",
    "    \n",
    "foo()\n",
    "print(foo.__defaults__)\n",
    "foo()\n",
    "print(foo.__defaults__)\n",
    "foo([10])\n",
    "print(foo.__defaults__)\n",
    "foo([10,5])\n",
    "print(foo.__defaults__)"
   ]
  },
  {
   "cell_type": "code",
   "execution_count": 23,
   "metadata": {},
   "outputs": [
    {
     "name": "stdout",
     "output_type": "stream",
     "text": [
      "[1]\n",
      "([1], 'abc', 123)\n",
      "[1, 1]\n",
      "([1, 1], 'abc', 123)\n",
      "[10, 1]\n",
      "([1, 1], 'abc', 123)\n",
      "[10, 5, 1]\n",
      "([1, 1], 'abc', 123)\n"
     ]
    }
   ],
   "source": [
    "def foo(xy=[],u='abc',z=123):\n",
    "    xy.append(1)  \n",
    "    print(xy)\n",
    "    \n",
    "foo()\n",
    "print(foo.__defaults__)\n",
    "foo()\n",
    "print(foo.__defaults__)\n",
    "foo([10])\n",
    "print(foo.__defaults__)\n",
    "foo([10,5])\n",
    "print(foo.__defaults__)"
   ]
  },
  {
   "cell_type": "code",
   "execution_count": null,
   "metadata": {},
   "outputs": [],
   "source": []
  },
  {
   "cell_type": "code",
   "execution_count": 31,
   "metadata": {},
   "outputs": [
    {
     "name": "stdout",
     "output_type": "stream",
     "text": [
      "[1]\n",
      "1 (None, 'abc', 123)\n",
      "[1]\n",
      "2 (None, 'abc', 123)\n",
      "[10, 1]\n",
      "lst:  [10, 1]\n",
      "3 (None, 'abc', 123)\n",
      "[10, 5, 1]\n",
      "4 (None, 'abc', 123)\n"
     ]
    }
   ],
   "source": [
    "def foo(xy=None,u='abc',z=123):\n",
    "                                #使用不可变类型默认值\n",
    "    if xy is None:\n",
    "        xy=[]                   #如果使用缺省值Ｎｏｎｅ就创建一个列表\n",
    "    xy.append(1)                #如果传入一个列表，就修改这个列表　　　　\n",
    "    print(xy)\n",
    "    \n",
    "foo()\n",
    "print(1,foo.__defaults__)\n",
    "foo()\n",
    "print(2,foo.__defaults__)\n",
    "lst=[10]\n",
    "foo(lst)\n",
    "print(\"lst: \",lst)\n",
    "print(3,foo.__defaults__)\n",
    "foo([10,5])\n",
    "print(4,foo.__defaults__)"
   ]
  },
  {
   "cell_type": "code",
   "execution_count": null,
   "metadata": {},
   "outputs": [],
   "source": [
    "#第一种方法\n",
    "    #使用影子拷贝创建一个新的对象，永远不能改变传入的参数\n",
    "#第二种方法\n",
    "    #通过值的判断 \n",
    "    #\n",
    "    #"
   ]
  },
  {
   "cell_type": "code",
   "execution_count": null,
   "metadata": {},
   "outputs": [],
   "source": []
  },
  {
   "cell_type": "code",
   "execution_count": null,
   "metadata": {},
   "outputs": [],
   "source": []
  },
  {
   "cell_type": "code",
   "execution_count": null,
   "metadata": {},
   "outputs": [],
   "source": []
  },
  {
   "cell_type": "code",
   "execution_count": null,
   "metadata": {},
   "outputs": [],
   "source": []
  },
  {
   "cell_type": "code",
   "execution_count": null,
   "metadata": {},
   "outputs": [],
   "source": []
  }
 ],
 "metadata": {
  "kernelspec": {
   "display_name": "Python 3",
   "language": "python",
   "name": "python3"
  },
  "language_info": {
   "codemirror_mode": {
    "name": "ipython",
    "version": 3
   },
   "file_extension": ".py",
   "mimetype": "text/x-python",
   "name": "python",
   "nbconvert_exporter": "python",
   "pygments_lexer": "ipython3",
   "version": "3.7.1"
  }
 },
 "nbformat": 4,
 "nbformat_minor": 2
}
