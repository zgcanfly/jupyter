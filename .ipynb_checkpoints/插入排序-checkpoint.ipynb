{
 "cells": [
  {
   "cell_type": "code",
   "execution_count": 1,
   "metadata": {},
   "outputs": [
    {
     "name": "stdout",
     "output_type": "stream",
     "text": [
      "[2, 1, 2, 3, 4, 5, 6, 7, 8, 9] 25 8\n"
     ]
    }
   ],
   "source": [
    "#直接插入排序\n",
    "m_list= [1,9,8,5,6,7,4,3,2] \n",
    "#待排序列\n",
    "nums=[0]+m_list\n",
    "#加0 的nums列表\n",
    "sentinel,*origin=nums\n",
    "#设置哨兵和待排区\n",
    "count_swap=0\n",
    "count_iter=0\n",
    "\n",
    "length=len(nums)\n",
    "for i in range(2,length):#从2开始\n",
    "    nums[0] = nums[i] #放置哨兵\n",
    "    j = i -1\n",
    "    count_iter +=1\n",
    "    if nums[j] > nums[0]:\n",
    "        while nums[j] > nums[0]:\n",
    "            nums[j+1]=nums[j]\n",
    "            j -=1\n",
    "            count_swap +=1\n",
    "        nums[j+1]=nums[0]\n",
    "print(nums,count_swap,count_iter)"
   ]
  },
  {
   "cell_type": "code",
   "execution_count": null,
   "metadata": {},
   "outputs": [],
   "source": [
    "#直接插入排序\n",
    "m_list= [1,9,8,5,6,7,4,3,2] \n",
    "#待排序列\n",
    "nums=[0]+m_list\n",
    "#加0 的nums列表\n",
    "sentinel,*origin=nums\n",
    "#设置哨兵和待排区\n",
    "\n",
    "\n",
    "length=len(nums)\n",
    "for i in range(2,length):#从2开始\n",
    "    nums[0] = nums[i] #放置哨兵\n",
    "    j = i -1\n",
    "    if nums[j] > nums[0]:\n",
    "        while nums[j] > nums[0]:\n",
    "            nums[j+1]=nums[j]\n",
    "            j -=1\n",
    "        nums[j+1]=nums[0]\n",
    "print(nums,count_swap,count_iter)"
   ]
  },
  {
   "cell_type": "code",
   "execution_count": null,
   "metadata": {},
   "outputs": [],
   "source": [
    "#后面重新复习"
   ]
  },
  {
   "cell_type": "code",
   "execution_count": null,
   "metadata": {},
   "outputs": [],
   "source": []
  },
  {
   "cell_type": "code",
   "execution_count": null,
   "metadata": {},
   "outputs": [],
   "source": []
  },
  {
   "cell_type": "code",
   "execution_count": null,
   "metadata": {},
   "outputs": [],
   "source": []
  },
  {
   "cell_type": "code",
   "execution_count": null,
   "metadata": {},
   "outputs": [],
   "source": []
  }
 ],
 "metadata": {
  "kernelspec": {
   "display_name": "Python 3",
   "language": "python",
   "name": "python3"
  },
  "language_info": {
   "codemirror_mode": {
    "name": "ipython",
    "version": 3
   },
   "file_extension": ".py",
   "mimetype": "text/x-python",
   "name": "python",
   "nbconvert_exporter": "python",
   "pygments_lexer": "ipython3",
   "version": "3.7.1"
  }
 },
 "nbformat": 4,
 "nbformat_minor": 2
}
