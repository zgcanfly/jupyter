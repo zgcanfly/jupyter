{
 "cells": [
  {
   "cell_type": "code",
   "execution_count": null,
   "metadata": {},
   "outputs": [],
   "source": [
    "#实现copy 文件功能\n",
    "src='test'\n",
    "dst='test1'\n",
    "\n",
    "def copy(src,dest):\n",
    "    with open(src) as f1:\n",
    "        with open(dst) as f2:\n",
    "            f2.write(f1.read())\n",
    "        "
   ]
  },
  {
   "cell_type": "code",
   "execution_count": null,
   "metadata": {},
   "outputs": [],
   "source": [
    "#统计文章中的单词数 和 每个单词出现的次数"
   ]
  },
  {
   "cell_type": "code",
   "execution_count": 33,
   "metadata": {},
   "outputs": [
    {
     "name": "stdout",
     "output_type": "stream",
     "text": [
      "[('path', 138), ('the', 136), ('is', 60), ('a', 59), ('os', 49), ('if', 43), ('and', 40), ('to', 34), ('on', 33), ('of', 33), ('return', 30), ('windows', 25), ('file', 24), ('or', 24), ('in', 24), ('for', 20), ('an', 20), ('pathname', 17), ('this', 17), ('true', 17), ('drive', 17), ('directory', 16), ('unix', 16), ('not', 15), ('that', 15), ('be', 14), ('by', 14), ('empty', 14), ('3', 13), ('are', 13), ('paths', 13), ('as', 12), ('all', 12), ('same', 12), ('returns', 12), ('module', 11), ('will', 11), ('see', 10), (\"'\", 10), ('it', 10), ('number', 10), ('python', 9), ('name', 9), ('version', 9), ('function', 9), ('»', 8), ('string', 8), ('time', 8), ('symbolic', 8), ('last', 8), ('tail', 8), ('can', 7), ('names', 7), ('different', 7), ('split', 7), ('from', 7), ('links', 7), ('with', 7), ('component', 7), ('unc', 7), ('|', 6), ('bytes', 6), ('may', 6), ('use', 6), ('does', 6), ('returned', 6), ('since', 6), ('always', 6), ('basename', 6), ('pair', 6), ('raise', 6), ('contains', 6), ('availability:', 6), ('up', 6), ('point', 6), ('letter', 6), ('mount', 6), ('slashes', 6), ('head', 6), ('either', 5), ('strings', 5), ('so', 5), ('support', 5), ('objects', 5), ('also', 5), ('note', 5), ('result', 5), ('system', 5), ('one', 5), ('join', 5), ('both', 5), ('absolute', 5), ('usr', 5), ('existing', 5), ('changed', 5), ('value', 5), ('root', 5), ('b', 5), ('into', 5), ('previous', 4), ('standard', 4), ('access', 4), ('some', 4), ('functions', 4), ('character', 4), ('any', 4), ('such', 4), ('only', 4), ('platforms', 4), ('where', 4), ('relative', 4), (\"lib'\", 4), ('false', 4), ('stat', 4), ('initial', 4), ('home', 4), ('current', 4), ('used', 4), ('non', 4), ('oserror', 4), ('exist', 4), ('inaccessible', 4), ('slash', 4), ('splitdrive', 4), ('dir\"', 4), ('\"', 4), ('host', 4), ('modules', 3), ('5', 3), ('library', 3), ('11', 3), ('lib', 3), ('py', 3), ('posix', 3), ('open', 3), ('applications', 3), ('represent', 3), ('should', 3), ('like', 3), ('operating', 3), ('systems', 3), ('have', 3), ('there', 3), ('local', 3), ('normpath', 3), ('foo', 3), (\"''\", 3), ('commonpath', 3), ('each', 3), ('commonprefix', 3), ('list', 3), ('exists', 3), ('refers', 3), ('otherwise', 3), ('~user', 3), ('replaced', 3), ('environment', 3), ('variable', 3), ('supported', 3), ('giving', 3), ('seconds', 3), ('epoch', 3), ('begins', 3), ('islink', 3), ('device', 3), ('points', 3), ('4:', 3), ('components', 3), ('separator', 3), ('part', 3), ('e', 3), ('g', 3), (\"r'\", 3), ('normalize', 3), ('case', 3), ('converts', 3), ('start', 3), ('refer', 3), ('added', 3), ('contain', 3), ('ext', 3), ('rest', 3), ('navigation', 2), ('index', 2), ('next', 2), ('documentation', 2), ('—', 2), ('common', 2), ('posixpath', 2), ('ntpath', 2), ('macpath', 2), ('implements', 2), ('pathnames', 2), ('files', 2), ('filesystem', 2), ('parameters', 2), ('unicode', 2), ('arbitrary', 2), ('using', 2), ('unlike', 2), ('shell', 2), ('do', 2), ('expansions', 2), ('expanduser', 2), ('expandvars', 2), ('when', 2), ('expansion', 2), ('level', 2), ('these', 2), ('type', 2), ('you', 2), ('they', 2), ('style', 2), ('most', 2), ('equivalent', 2), ('element', 2), ('passing', 2), ('longest', 2), ('valid', 2), ('new', 2), ('prefix', 2), ('at', 2), ('>>>', 2), ('dirname', 2), ('descriptor', 2), ('broken', 2), ('now', 2), ('lstat', 2), ('argument', 2), ('~', 2), ('looked', 2), ('password', 2), ('created', 2), ('fails', 2), ('unchanged', 2), ('variables', 2), ('{name}', 2), ('references', 2), ('stat_float_times', 2), ('floating', 2), ('which', 2), ('change', 2), ('isfile', 2), ('follows', 2), ('isdir', 2), ('been', 2), ('whether', 2), ('i', 2), ('node', 2), ('share', 2), ('other', 2), ('more', 2), ('meaning', 2), ('thrown', 2), ('away', 2), ('reset', 2), ('encountered', 2), ('\"c:\"', 2), ('c:', 2), ('normcase', 2), ('forward', 2), ('backward', 2), ('curdir', 2), ('samefile', 2), ('2:', 2), ('sameopenfile', 2), ('fp1', 2), ('fp2', 2), ('stat1', 2), ('stat2', 2), ('everything', 2), ('leading', 2), ('cases', 2), ('but', 2), ('including', 2), ('splitext', 2), ('period', 2), (\"cshrc'\", 2), ('2017', 2), ('software', 2), ('foundation', 2), ('1', 2), ('2', 1), ('manipulations', 1), ('source', 1), ('code:', 1), ('nt', 1), ('macintosh', 1), ('useful', 1), ('read', 1), ('write', 1), ('accessing', 1), ('passed', 1), ('encouraged', 1), ('unfortunately', 1), ('representable', 1), ('need', 1), ('vice', 1), ('versa', 1), ('cannot', 1), ('mbcs', 1), ('encoding', 1), ('hence', 1), ('automatic', 1), ('invoked', 1), ('explicitly', 1), ('application', 1), ('desires', 1), ('glob', 1), ('pathlib', 1), ('offers', 1), ('high', 1), ('accept', 1), ('their', 1), ('object', 1), ('conventions', 1), ('several', 1), ('versions', 1), ('suitable', 1), ('running', 1), ('therefore', 1), ('usable', 1), ('however', 1), ('import', 1), ('individual', 1), ('want', 1), ('manipulate', 1), ('formats', 1), ('interface:', 1), ('old', 1), ('macos', 1), ('abspath', 1), ('normalized', 1), ('absolutized', 1), ('calling', 1), ('follows:', 1), ('getcwd', 1), ('base', 1), ('second', 1), ('program;', 1), ('bar', 1), (\"'bar'\", 1), ('sub', 1), ('sequence', 1), ('valueerror', 1), ('taken', 1), ('invalid', 1), ('because', 1), ('works', 1), ('obtain', 1), (\"l'\", 1), (\"usr'\", 1), ('first', 1), ('permission', 1), ('granted', 1), ('execute', 1), ('requested', 1), ('even', 1), ('physically', 1), ('3:', 1), ('integer:', 1), ('lexists', 1), ('lacking', 1), ('user‘s', 1), ('set;', 1), ('user’s', 1), ('through', 1), ('built', 1), ('pwd', 1), ('directly', 1), ('userprofile', 1), ('set', 1), ('combination', 1), ('homepath', 1), ('homedrive', 1), ('handled', 1), ('stripping', 1), ('user', 1), ('derived', 1), ('above', 1), ('begin', 1), ('tilde', 1), ('expanded', 1), ('substrings', 1), ('form', 1), ('malformed', 1), ('left', 1), ('addition', 1), ('getatime', 1), ('getmtime', 1), ('modification', 1), ('getctime', 1), ('system’s', 1), ('ctime', 1), ('metadata', 1), ('others', 1), ('creation', 1), ('getsize', 1), ('size', 1), ('isabs', 1), ('means', 1), ('back', 1), ('after', 1), ('chopping', 1), ('off', 1), ('potential', 1), ('regular', 1), ('entry', 1), ('link', 1), ('runtime', 1), ('ismount', 1), ('point:', 1), ('has', 1), ('mounted', 1), ('checks', 1), ('path‘s', 1), ('parent', 1), ('than', 1), ('detect', 1), ('variants', 1), ('getvolumepathname', 1), ('called', 1), ('input', 1), ('detecting', 1), ('intelligently', 1), ('concatenation', 1), ('members', 1), ('exactly', 1), ('sep', 1), ('following', 1), ('except', 1), ('end', 1), ('joining', 1), ('continues', 1), (\"foo'\", 1), ('\"foo\"', 1), ('represents', 1), ('c:foo', 1), ('mac', 1), ('x', 1), ('unchanged;', 1), ('insensitive', 1), ('filesystems', 1), ('lowercase', 1), ('typeerror', 1), ('str', 1), ('collapsing', 1), ('redundant', 1), ('separators', 1), ('become', 1), ('manipulation', 1), ('realpath', 1), ('canonical', 1), ('specified', 1), ('filename', 1), ('eliminating', 1), ('relpath', 1), ('start=os', 1), ('filepath', 1), ('optional', 1), ('computation:', 1), ('accessed', 1), ('confirm', 1), ('existence', 1), ('nature', 1), ('defaults', 1), ('path1', 1), ('path2', 1), ('arguments', 1), ('determined', 1), ('raises', 1), ('exception', 1), ('call', 1), ('uses', 1), ('implementation', 1), ('descriptors', 1), ('samestat', 1), ('tuples', 1), ('structures', 1), ('fstat', 1), ('underlying', 1), ('comparison', 1), ('never', 1), ('slash;', 1), ('ends', 1), ('no', 1), ('trailing', 1), ('stripped', 1), ('unless', 1), ('location', 1), ('differ', 1), ('specifications', 1), ('splits', 1), ('sharepoint', 1), ('colon', 1), ('\"c:', 1), ('fourth', 1), ('computer', 1), ('computer\"', 1), ('==', 1), ('periods', 1), ('ignored;', 1), ('splitunc', 1), ('deprecated', 1), ('1:', 1), ('instead', 1), (\"mount'\", 1), ('present', 1), (\"ext'\", 1), ('containing', 1), ('letters', 1), ('supports_unicode_filenames', 1), ('within', 1), ('limitations', 1), ('imposed', 1), ('©', 1), ('copyright', 1), ('2001', 1), ('profit', 1), ('corporation', 1), ('please', 1), ('donate', 1), ('updated', 1), ('jan', 1), ('16', 1), ('found', 1), ('bug?', 1), ('sphinx', 1)]\n",
      "path\n",
      "pathname\n",
      "posixpath\n",
      "ntpath\n",
      "macpath\n",
      "pathnames\n",
      "pathlib\n",
      "paths\n",
      "abspath\n",
      "normpath\n",
      "commonpath\n",
      "homepath\n",
      "path‘s\n",
      "getvolumepathname\n",
      "realpath\n",
      "relpath\n",
      "filepath\n",
      "path1\n",
      "path2\n"
     ]
    }
   ],
   "source": [
    "chars=set(r\"\"\",.[]()-+/\\*&%#$@`\"\"\")\n",
    "\n",
    "def makekey(x):\n",
    "    key=x.lower()\n",
    "    ret = []\n",
    "    for c in key:\n",
    "        if c in chars:\n",
    "            ret.append(' ')\n",
    "        else:\n",
    "            ret.append(c)\n",
    "    return \"\".join(ret).split()\n",
    "    \n",
    "    \n",
    "encoding='utf-8'\n",
    "d={}\n",
    "with open('sample',encoding=encoding) as f:\n",
    "    for line in f:\n",
    "        words=line.split() #按空格切\n",
    "        for wordlist in map(makekey,words):\n",
    "            for word in  wordlist: #大小写问题\n",
    "                d[word]=d.get(word,0)+1\n",
    "#top10\n",
    "print(sorted(d.items(),key=lambda item:item[1],reverse=True)) #sort by counts\n",
    "\n",
    "for k in d:\n",
    "    if k.find('path') > -1:\n",
    "        print(k)\n"
   ]
  },
  {
   "cell_type": "code",
   "execution_count": 17,
   "metadata": {
    "scrolled": true
   },
   "outputs": [
    {
     "name": "stdout",
     "output_type": "stream",
     "text": [
      "\n"
     ]
    }
   ],
   "source": [
    "print()"
   ]
  },
  {
   "cell_type": "code",
   "execution_count": 49,
   "metadata": {},
   "outputs": [
    {
     "name": "stdout",
     "output_type": "stream",
     "text": [
      "[('path', 138), ('the', 136), ('is', 60), ('a', 59), ('os', 49), ('if', 43), ('and', 40), ('to', 34), ('on', 33), ('of', 33), ('return', 30), ('windows', 25), ('file', 24), ('or', 24), ('in', 24), ('for', 20), ('an', 20), ('pathname', 17), ('this', 17), ('true', 17), ('drive', 17), ('directory', 16), ('unix', 16), ('not', 15), ('that', 15), ('be', 14), ('by', 14), ('empty', 14), ('3', 13), ('are', 13), ('paths', 13), ('as', 12), ('all', 12), ('same', 12), ('returns', 12), ('module', 11), ('will', 11), ('see', 10), (\"'\", 10), ('it', 10), ('number', 10), ('python', 9), ('name', 9), ('version', 9), ('function', 9), ('»', 8), ('string', 8), ('time', 8), ('symbolic', 8), ('last', 8), ('tail', 8), ('can', 7), ('names', 7), ('different', 7), ('split', 7), ('from', 7), ('links', 7), ('with', 7), ('component', 7), ('unc', 7), ('|', 6), ('bytes', 6), ('may', 6), ('use', 6), ('does', 6), ('returned', 6), ('since', 6), ('always', 6), ('basename', 6), ('pair', 6), ('raise', 6), ('contains', 6), ('availability:', 6), ('up', 6), ('point', 6), ('letter', 6), ('mount', 6), ('slashes', 6), ('head', 6), ('either', 5), ('strings', 5), ('so', 5), ('support', 5), ('objects', 5), ('also', 5), ('note', 5), ('result', 5), ('system', 5), ('one', 5), ('join', 5), ('both', 5), ('absolute', 5), ('usr', 5), ('existing', 5), ('changed', 5), ('value', 5), ('root', 5), ('b', 5), ('into', 5), ('previous', 4), ('standard', 4), ('access', 4), ('some', 4), ('functions', 4), ('character', 4), ('any', 4), ('such', 4), ('only', 4), ('platforms', 4), ('where', 4), ('relative', 4), (\"lib'\", 4), ('false', 4), ('stat', 4), ('initial', 4), ('home', 4), ('current', 4), ('used', 4), ('non', 4), ('oserror', 4), ('exist', 4), ('inaccessible', 4), ('slash', 4), ('splitdrive', 4), ('dir\"', 4), ('\"', 4), ('host', 4), ('modules', 3), ('5', 3), ('library', 3), ('11', 3), ('lib', 3), ('py', 3), ('posix', 3), ('open', 3), ('applications', 3), ('represent', 3), ('should', 3), ('like', 3), ('operating', 3), ('systems', 3), ('have', 3), ('there', 3), ('local', 3), ('normpath', 3), ('foo', 3), (\"''\", 3), ('commonpath', 3), ('each', 3), ('commonprefix', 3), ('list', 3), ('exists', 3), ('refers', 3), ('otherwise', 3), ('~user', 3), ('replaced', 3), ('environment', 3), ('variable', 3), ('supported', 3), ('giving', 3), ('seconds', 3), ('epoch', 3), ('begins', 3), ('islink', 3), ('device', 3), ('points', 3), ('4:', 3), ('components', 3), ('separator', 3), ('part', 3), ('e', 3), ('g', 3), (\"r'\", 3), ('normalize', 3), ('case', 3), ('converts', 3), ('start', 3), ('refer', 3), ('added', 3), ('contain', 3), ('ext', 3), ('rest', 3), ('navigation', 2), ('index', 2), ('next', 2), ('documentation', 2), ('—', 2), ('common', 2), ('posixpath', 2), ('ntpath', 2), ('macpath', 2), ('implements', 2), ('pathnames', 2), ('files', 2), ('filesystem', 2), ('parameters', 2), ('unicode', 2), ('arbitrary', 2), ('using', 2), ('unlike', 2), ('shell', 2), ('do', 2), ('expansions', 2), ('expanduser', 2), ('expandvars', 2), ('when', 2), ('expansion', 2), ('level', 2), ('these', 2), ('type', 2), ('you', 2), ('they', 2), ('style', 2), ('most', 2), ('equivalent', 2), ('element', 2), ('passing', 2), ('longest', 2), ('valid', 2), ('new', 2), ('prefix', 2), ('at', 2), ('>>>', 2), ('dirname', 2), ('descriptor', 2), ('broken', 2), ('now', 2), ('lstat', 2), ('argument', 2), ('~', 2), ('looked', 2), ('password', 2), ('created', 2), ('fails', 2), ('unchanged', 2), ('variables', 2), ('{name}', 2), ('references', 2), ('stat_float_times', 2), ('floating', 2), ('which', 2), ('change', 2), ('isfile', 2), ('follows', 2), ('isdir', 2), ('been', 2), ('whether', 2), ('i', 2), ('node', 2), ('share', 2), ('other', 2), ('more', 2), ('meaning', 2), ('thrown', 2), ('away', 2), ('reset', 2), ('encountered', 2), ('\"c:\"', 2), ('c:', 2), ('normcase', 2), ('forward', 2), ('backward', 2), ('curdir', 2), ('samefile', 2), ('2:', 2), ('sameopenfile', 2), ('fp1', 2), ('fp2', 2), ('stat1', 2), ('stat2', 2), ('everything', 2), ('leading', 2), ('cases', 2), ('but', 2), ('including', 2), ('splitext', 2), ('period', 2), (\"cshrc'\", 2), ('2017', 2), ('software', 2), ('foundation', 2), ('1', 2), ('2', 1), ('manipulations', 1), ('source', 1), ('code:', 1), ('nt', 1), ('macintosh', 1), ('useful', 1), ('read', 1), ('write', 1), ('accessing', 1), ('passed', 1), ('encouraged', 1), ('unfortunately', 1), ('representable', 1), ('need', 1), ('vice', 1), ('versa', 1), ('cannot', 1), ('mbcs', 1), ('encoding', 1), ('hence', 1), ('automatic', 1), ('invoked', 1), ('explicitly', 1), ('application', 1), ('desires', 1), ('glob', 1), ('pathlib', 1), ('offers', 1), ('high', 1), ('accept', 1), ('their', 1), ('object', 1), ('conventions', 1), ('several', 1), ('versions', 1), ('suitable', 1), ('running', 1), ('therefore', 1), ('usable', 1), ('however', 1), ('import', 1), ('individual', 1), ('want', 1), ('manipulate', 1), ('formats', 1), ('interface:', 1), ('old', 1), ('macos', 1), ('abspath', 1), ('normalized', 1), ('absolutized', 1), ('calling', 1), ('follows:', 1), ('getcwd', 1), ('base', 1), ('second', 1), ('program;', 1), ('bar', 1), (\"'bar'\", 1), ('sub', 1), ('sequence', 1), ('valueerror', 1), ('taken', 1), ('invalid', 1), ('because', 1), ('works', 1), ('obtain', 1), (\"l'\", 1), (\"usr'\", 1), ('first', 1), ('permission', 1), ('granted', 1), ('execute', 1), ('requested', 1), ('even', 1), ('physically', 1), ('3:', 1), ('integer:', 1), ('lexists', 1), ('lacking', 1), ('user‘s', 1), ('set;', 1), ('user’s', 1), ('through', 1), ('built', 1), ('pwd', 1), ('directly', 1), ('userprofile', 1), ('set', 1), ('combination', 1), ('homepath', 1), ('homedrive', 1), ('handled', 1), ('stripping', 1), ('user', 1), ('derived', 1), ('above', 1), ('begin', 1), ('tilde', 1), ('expanded', 1), ('substrings', 1), ('form', 1), ('malformed', 1), ('left', 1), ('addition', 1), ('getatime', 1), ('getmtime', 1), ('modification', 1), ('getctime', 1), ('system’s', 1), ('ctime', 1), ('metadata', 1), ('others', 1), ('creation', 1), ('getsize', 1), ('size', 1), ('isabs', 1), ('means', 1), ('back', 1), ('after', 1), ('chopping', 1), ('off', 1), ('potential', 1), ('regular', 1), ('entry', 1), ('link', 1), ('runtime', 1), ('ismount', 1), ('point:', 1), ('has', 1), ('mounted', 1), ('checks', 1), ('path‘s', 1), ('parent', 1), ('than', 1), ('detect', 1), ('variants', 1), ('getvolumepathname', 1), ('called', 1), ('input', 1), ('detecting', 1), ('intelligently', 1), ('concatenation', 1), ('members', 1), ('exactly', 1), ('sep', 1), ('following', 1), ('except', 1), ('end', 1), ('joining', 1), ('continues', 1), (\"foo'\", 1), ('\"foo\"', 1), ('represents', 1), ('c:foo', 1), ('mac', 1), ('x', 1), ('unchanged;', 1), ('insensitive', 1), ('filesystems', 1), ('lowercase', 1), ('typeerror', 1), ('str', 1), ('collapsing', 1), ('redundant', 1), ('separators', 1), ('become', 1), ('manipulation', 1), ('realpath', 1), ('canonical', 1), ('specified', 1), ('filename', 1), ('eliminating', 1), ('relpath', 1), ('start=os', 1), ('filepath', 1), ('optional', 1), ('computation:', 1), ('accessed', 1), ('confirm', 1), ('existence', 1), ('nature', 1), ('defaults', 1), ('path1', 1), ('path2', 1), ('arguments', 1), ('determined', 1), ('raises', 1), ('exception', 1), ('call', 1), ('uses', 1), ('implementation', 1), ('descriptors', 1), ('samestat', 1), ('tuples', 1), ('structures', 1), ('fstat', 1), ('underlying', 1), ('comparison', 1), ('never', 1), ('slash;', 1), ('ends', 1), ('no', 1), ('trailing', 1), ('stripped', 1), ('unless', 1), ('location', 1), ('differ', 1), ('specifications', 1), ('splits', 1), ('sharepoint', 1), ('colon', 1), ('\"c:', 1), ('fourth', 1), ('computer', 1), ('computer\"', 1), ('==', 1), ('periods', 1), ('ignored;', 1), ('splitunc', 1), ('deprecated', 1), ('1:', 1), ('instead', 1), (\"mount'\", 1), ('present', 1), (\"ext'\", 1), ('containing', 1), ('letters', 1), ('supports_unicode_filenames', 1), ('within', 1), ('limitations', 1), ('imposed', 1), ('©', 1), ('copyright', 1), ('2001', 1), ('profit', 1), ('corporation', 1), ('please', 1), ('donate', 1), ('updated', 1), ('jan', 1), ('16', 1), ('found', 1), ('bug?', 1), ('sphinx', 1)]\n"
     ]
    }
   ],
   "source": [
    "chars=set(r\"\"\",.[]()-+/\\*&%#$@`\"\"\")\n",
    "\n",
    "def makekey(x):\n",
    "    key=x.lower()\n",
    "    ret = []\n",
    "    start=0\n",
    "    for i,c in enumerate(key):\n",
    "        if c in chars:\n",
    "            if start ==i:\n",
    "                start=i+1\n",
    "                continue\n",
    "            ret.append(key[start:i])\n",
    "            start = i+1\n",
    "    else:\n",
    "        if start< len(key):\n",
    "            ret.append(key[start:])\n",
    "    \n",
    "    return ret\n",
    "\n",
    "# print(makekey('**os'))    \n",
    "\n",
    "# print(makekey('os.path'))       \n",
    "encoding='utf-8'\n",
    "d={}\n",
    "with open('sample',encoding=encoding) as f:\n",
    "    for line in f:\n",
    "        words=line.split() #按空格切\n",
    "        for wordlist in map(makekey,words):\n",
    "            for word in  wordlist: #大小写问题\n",
    "                d[word]=d.get(word,0)+1\n",
    "#top10\n",
    "print(sorted(d.items(),key=lambda item:item[1],reverse=True)) #sort by counts\n",
    "\n",
    "# for k in d:\n",
    "#     if k.find('path') > -1:\n",
    "#         print(k)\n"
   ]
  },
  {
   "cell_type": "code",
   "execution_count": null,
   "metadata": {},
   "outputs": [],
   "source": []
  },
  {
   "cell_type": "code",
   "execution_count": null,
   "metadata": {},
   "outputs": [],
   "source": []
  },
  {
   "cell_type": "code",
   "execution_count": null,
   "metadata": {},
   "outputs": [],
   "source": []
  },
  {
   "cell_type": "code",
   "execution_count": null,
   "metadata": {},
   "outputs": [],
   "source": []
  },
  {
   "cell_type": "code",
   "execution_count": null,
   "metadata": {},
   "outputs": [],
   "source": []
  },
  {
   "cell_type": "code",
   "execution_count": null,
   "metadata": {},
   "outputs": [],
   "source": []
  },
  {
   "cell_type": "code",
   "execution_count": null,
   "metadata": {},
   "outputs": [],
   "source": []
  },
  {
   "cell_type": "code",
   "execution_count": null,
   "metadata": {},
   "outputs": [],
   "source": []
  },
  {
   "cell_type": "code",
   "execution_count": null,
   "metadata": {},
   "outputs": [],
   "source": []
  },
  {
   "cell_type": "code",
   "execution_count": null,
   "metadata": {},
   "outputs": [],
   "source": []
  },
  {
   "cell_type": "code",
   "execution_count": null,
   "metadata": {},
   "outputs": [],
   "source": []
  },
  {
   "cell_type": "code",
   "execution_count": null,
   "metadata": {},
   "outputs": [],
   "source": []
  },
  {
   "cell_type": "code",
   "execution_count": null,
   "metadata": {},
   "outputs": [],
   "source": []
  }
 ],
 "metadata": {
  "kernelspec": {
   "display_name": "Python 3",
   "language": "python",
   "name": "python3"
  },
  "language_info": {
   "codemirror_mode": {
    "name": "ipython",
    "version": 3
   },
   "file_extension": ".py",
   "mimetype": "text/x-python",
   "name": "python",
   "nbconvert_exporter": "python",
   "pygments_lexer": "ipython3",
   "version": "3.7.1"
  }
 },
 "nbformat": 4,
 "nbformat_minor": 2
}
