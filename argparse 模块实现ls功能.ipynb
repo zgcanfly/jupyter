{
 "cells": [
  {
   "cell_type": "code",
   "execution_count": null,
   "metadata": {},
   "outputs": [],
   "source": [
    "#argparse 函数功能代码"
   ]
  },
  {
   "cell_type": "code",
   "execution_count": null,
   "metadata": {},
   "outputs": [],
   "source": [
    "import argparse\n",
    "\n",
    "parser = argparse.ArgumentParser(prog='ls',add_help=True,description='list directory centents')  #实例化argsparse类\n",
    "\n",
    "parser.add_argument('path',nargs='?',default='.',help='directory')  #添加一个path 参数\n",
    "\n",
    "parser.add_argument('-l',action='store_true',help='use a long listing format')   #添加一个-l 参数\n",
    "\n",
    "parser.add_argument('-a','--all',action='store_true',help='show all files,do not ignore entries starting with')  #添加一个-a 参数\n",
    "\n",
    "args=parser.parse_args() #分析参数、同时传入可迭代的参数\n",
    "print('~~~~~~~',args,'\\n') #打印命名空间中收集的参数\n",
    "\n",
    "parser.print_help() #打印帮助\n",
    "\n"
   ]
  },
  {
   "cell_type": "code",
   "execution_count": null,
   "metadata": {},
   "outputs": [],
   "source": [
    "#业务函数 代码"
   ]
  },
  {
   "cell_type": "code",
   "execution_count": null,
   "metadata": {},
   "outputs": [],
   "source": [
    "import argparse\n",
    "from pathlib import Path\n",
    "\n",
    "parser = argparse.ArgumentParser(prog='ls', add_help=True, description='list directory centents')  # 实例化argsparse类\n",
    "\n",
    "parser.add_argument('path', nargs='?', default='.', help='directory')  # 添加一个path 参数\n",
    "\n",
    "parser.add_argument('-l', action='store_true', help='use a long listing format')  # 添加一个-l 参数\n",
    "\n",
    "parser.add_argument('-a', '--all', action='store_true',\n",
    "                    help='show all files,do not ignore entries starting with')  # 添加一个-a 参数\n",
    "\n",
    "args = parser.parse_args()  # #分析参数、同时传入可迭代的参数\n",
    "print('~~~~~~~', args, '\\n')  # 打印命名空间中收集的参数\n",
    "\n",
    "# parser.print_help() #打印帮助\n",
    "\n",
    "\n",
    "# 业务函数的实现\n",
    "p = Path()\n",
    "\n",
    "\n",
    "def listdir(p: Path, all=False):\n",
    "    \"\"\"\n",
    "        列出所有文件\n",
    "\n",
    "    \"\"\"\n",
    "    for i in p.iterdir():\n",
    "        if not all and i.name.startswith('.'):  # 不显示隐藏文件\n",
    "            continue\n",
    "        yield i.name  # 简单的返回文件名称\n",
    "\n",
    "\n",
    "print(list(listdir(p)))\n",
    "\n",
    "\n"
   ]
  },
  {
   "cell_type": "code",
   "execution_count": null,
   "metadata": {},
   "outputs": [],
   "source": [
    "# 实现功能"
   ]
  },
  {
   "cell_type": "code",
   "execution_count": null,
   "metadata": {},
   "outputs": [],
   "source": []
  },
  {
   "cell_type": "code",
   "execution_count": null,
   "metadata": {},
   "outputs": [],
   "source": []
  },
  {
   "cell_type": "code",
   "execution_count": null,
   "metadata": {},
   "outputs": [],
   "source": []
  },
  {
   "cell_type": "code",
   "execution_count": null,
   "metadata": {},
   "outputs": [],
   "source": []
  },
  {
   "cell_type": "code",
   "execution_count": null,
   "metadata": {},
   "outputs": [],
   "source": []
  },
  {
   "cell_type": "code",
   "execution_count": null,
   "metadata": {},
   "outputs": [],
   "source": []
  },
  {
   "cell_type": "code",
   "execution_count": null,
   "metadata": {},
   "outputs": [],
   "source": []
  },
  {
   "cell_type": "code",
   "execution_count": null,
   "metadata": {},
   "outputs": [],
   "source": []
  },
  {
   "cell_type": "code",
   "execution_count": null,
   "metadata": {},
   "outputs": [],
   "source": []
  },
  {
   "cell_type": "code",
   "execution_count": null,
   "metadata": {},
   "outputs": [],
   "source": []
  },
  {
   "cell_type": "code",
   "execution_count": null,
   "metadata": {},
   "outputs": [],
   "source": []
  }
 ],
 "metadata": {
  "kernelspec": {
   "display_name": "Python 3",
   "language": "python",
   "name": "python3"
  },
  "language_info": {
   "codemirror_mode": {
    "name": "ipython",
    "version": 3
   },
   "file_extension": ".py",
   "mimetype": "text/x-python",
   "name": "python",
   "nbconvert_exporter": "python",
   "pygments_lexer": "ipython3",
   "version": "3.7.1"
  }
 },
 "nbformat": 4,
 "nbformat_minor": 2
}
